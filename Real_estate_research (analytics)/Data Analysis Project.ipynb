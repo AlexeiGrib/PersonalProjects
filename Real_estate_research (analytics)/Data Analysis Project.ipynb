{
 "cells": [
  {
   "cell_type": "markdown",
   "metadata": {},
   "source": [
    "<a id='title'></a> \n",
    "# Описание проекта \"Исследование объявлений о продаже квартир\".\n",
    "\n",
    "Имеются данные сервиса Яндекс.Недвижимость — архив объявлений о продаже квартир в Санкт-Петербурге и соседних населённых пунктов за несколько лет. Нужно научиться определять рыночную стоимость объектов недвижимости. \n",
    "\n",
    "В рамках проекта требуется установить параметры для будущей модели. Это позволит построить автоматизированную систему: она отследит аномалии и мошенническую деятельность. \n",
    "\n",
    "По каждой квартире на продажу доступны два вида данных. Первые вписаны пользователем, вторые — получены автоматически на основе картографических данных. Например, расстояние до центра, аэропорта, ближайшего парка и водоёма. \n",
    "\n",
    "## План работы над проектом.\n",
    "\n",
    "Работу над проектом будем осуществлять в следующем порядке:\n",
    "\n",
    "### Этап 1. Импорт библиотек, считывание и первичный анализ данных:\n",
    "\n",
    "<a href='#1.1'>1.1. Импорт библиотек, считывание и первичный анализ данных.</a> \n",
    "\n",
    "### Этап 2. Предобработка данных:\n",
    "\n",
    "<a href='#2.1'>2.1. Преобразование типов данных.</a> \n",
    "\n",
    "<a href='#2.1.1'>2.1.1. Преобразование поля \"last_price\".</a> \n",
    "\n",
    "<a href='#2.1.2'>2.1.2. Преобразование поля \"first_day_exposition\".</a> \n",
    "\n",
    "<a href='#2.1.3'>2.1.3. Преобразование полей \"floors_total\", \"balcony\", \"parks_around3000\", \"ponds_around3000\", \"days_exposition\", \"airports_nearest\", \"cityCenters_nearest\", \"parks_nearest\", \"ponds_nearest\".</a> \n",
    "\n",
    "<a href='#2.2'>2.2. Обработка аномалий.</a> \n",
    "\n",
    "<a href='#2.2.1'>2.2.1. Обработка аномалий в столбце \"rooms\".</a> \n",
    "\n",
    "<a href='#2.2.2'>2.2.2. Обработка аномалий в столбце \"ceiling_height\".</a> \n",
    "\n",
    "<a href='#2.2.3'>2.2.3. Обработка аномалий в столбце \"balcony\".</a> \n",
    "\n",
    "<a href='#2.3'>2.3. Обработка дубликатов.</a> \n",
    "\n",
    "<a href='#2.4'>2.4. Обработка пропущенных значений.</a> \n",
    "\n",
    "<a href='#2.4.1'>2.4.1. Обработка пропущенных значений в полях \"locality_name\" и \"floors_total\".</a> \n",
    "\n",
    "<a href='#2.4.2'>2.4.2. Обработка пропущенных значений в полях \"living_area\" и \"kitchen_area\".</a> \n",
    "\n",
    "<a href='#2.4.3'>2.4.3. Обработка пропущенных значений в поле \"is_apartment\".</a> \n",
    "\n",
    "<a href='#2.4.4'>2.4.4. Обработка пропущенных значений в поле \"balcony\"..</a> \n",
    "\n",
    "<a href='#2.4.5'>2.4.5. Обработка пропущенных значений в поле \"ceiling_height\".</a> \n",
    "\n",
    "<a href='#2.4.6'>2.4.6. Обработка пропущенных значений в поле \"days_exposition\".</a> \n",
    "\n",
    "<a href='#2.4.7'>2.4.7. Обработка пропущенных значений в полях \"airports_nearest\", \"cityCenters_nearest\", \"parks_nearest\" и \"ponds_nearest\".</a> \n",
    "\n",
    "<a href='#2.4.8'>2.4.8. Обработка пропущенных значений в полях \"parks_around3000\" и \"ponds_around3000\".</a> \n",
    "\n",
    "### Этап 3. Добавление новых признаков:\n",
    "\n",
    "<a href='#3.1'>3.1. Новый признак \"Цена квадратного метра\".</a> \n",
    "\n",
    "<a href='#3.2'>3.2. Новые признаки \"День недели, месяц и год публикации объявления\".</a> \n",
    "\n",
    "<a href='#3.3'>3.3. Новый признак \"Этаж квартиры\".</a>  \n",
    "\n",
    "<a href='#3.4'>3.4. Новые признаки \"Соотношение жилой и общей площади\" и \"Соотношение площади кухни и общей площади\".</a>  \n",
    "\n",
    "<a href='#3.1'>3.1. Новый признак \"Цена квадратного метра\".</a> \n",
    "\n",
    "### Этап 4. Исследовательский анализ данных: \n",
    "\n",
    "<a href='#4.1'>4.1. Изучение параметров: площадь, цена, число комнат, высота потолков.</a> \n",
    "\n",
    "<a href='#4.2'>4.2. Изучение времени продажи квартиры.</a> \n",
    "\n",
    "<a href='#4.3'>4.3. Устранение аномалий.</a> \n",
    "\n",
    "<a href='#4.4'>4.4. Оценка стоимости квартиры.</a> \n",
    "\n",
    "<a href='#4.5'>4.5. Рейтинг населённых пунктов.</a> \n",
    "\n",
    "<a href='#4.6'>4.6. Определение центра области.</a> \n",
    "\n",
    "<a href='#4.7'>4.7. Выделение сегмента цен.</a> "
   ]
  },
  {
   "cell_type": "markdown",
   "metadata": {},
   "source": [
    "<a id='1.1'></a> \n",
    "# Этап 1. Импорт библиотек, считывание и первичный анализ данных.\n",
    "\n",
    "Иморитриуем нужные библиотеки."
   ]
  },
  {
   "cell_type": "code",
   "execution_count": 1,
   "metadata": {},
   "outputs": [],
   "source": [
    "import pandas as pd\n",
    "import warnings\n",
    "warnings.filterwarnings('ignore')"
   ]
  },
  {
   "cell_type": "markdown",
   "metadata": {},
   "source": [
    "Считаем набор данных."
   ]
  },
  {
   "cell_type": "code",
   "execution_count": 1,
   "metadata": {},
   "outputs": [
    {
     "data": {
      "text/html": [
       "<div>\n",
       "<style scoped>\n",
       "    .dataframe tbody tr th:only-of-type {\n",
       "        vertical-align: middle;\n",
       "    }\n",
       "\n",
       "    .dataframe tbody tr th {\n",
       "        vertical-align: top;\n",
       "    }\n",
       "\n",
       "    .dataframe thead th {\n",
       "        text-align: right;\n",
       "    }\n",
       "</style>\n",
       "<table border=\"1\" class=\"dataframe\">\n",
       "  <thead>\n",
       "    <tr style=\"text-align: right;\">\n",
       "      <th></th>\n",
       "      <th>total_images\\tlast_price\\ttotal_area\\tfirst_day_exposition\\trooms\\tceiling_height\\tfloors_total\\tliving_area\\tfloor\\tis_apartment\\tstudio\\topen_plan\\tkitchen_area\\tbalcony\\tlocality_name\\tairports_nearest\\tcityCenters_nearest\\tparks_around3000\\tparks_nearest\\tponds_around3000\\tponds_nearest\\tdays_exposition</th>\n",
       "    </tr>\n",
       "  </thead>\n",
       "  <tbody>\n",
       "    <tr>\n",
       "      <td>0</td>\n",
       "      <td>20\\t13000000.0\\t108.0\\t2019-03-07T00:00:00\\t3\\...</td>\n",
       "    </tr>\n",
       "    <tr>\n",
       "      <td>1</td>\n",
       "      <td>7\\t3350000.0\\t40.4\\t2018-12-04T00:00:00\\t1\\t\\t...</td>\n",
       "    </tr>\n",
       "    <tr>\n",
       "      <td>2</td>\n",
       "      <td>10\\t5196000.0\\t56.0\\t2015-08-20T00:00:00\\t2\\t\\...</td>\n",
       "    </tr>\n",
       "    <tr>\n",
       "      <td>3</td>\n",
       "      <td>0\\t64900000.0\\t159.0\\t2015-07-24T00:00:00\\t3\\t...</td>\n",
       "    </tr>\n",
       "    <tr>\n",
       "      <td>4</td>\n",
       "      <td>2\\t10000000.0\\t100.0\\t2018-06-19T00:00:00\\t2\\t...</td>\n",
       "    </tr>\n",
       "    <tr>\n",
       "      <td>5</td>\n",
       "      <td>10\\t2890000.0\\t30.4\\t2018-09-10T00:00:00\\t1\\t\\...</td>\n",
       "    </tr>\n",
       "    <tr>\n",
       "      <td>6</td>\n",
       "      <td>6\\t3700000.0\\t37.3\\t2017-11-02T00:00:00\\t1\\t\\t...</td>\n",
       "    </tr>\n",
       "    <tr>\n",
       "      <td>7</td>\n",
       "      <td>5\\t7915000.0\\t71.6\\t2019-04-18T00:00:00\\t2\\t\\t...</td>\n",
       "    </tr>\n",
       "    <tr>\n",
       "      <td>8</td>\n",
       "      <td>20\\t2900000.0\\t33.16\\t2018-05-23T00:00:00\\t1\\t...</td>\n",
       "    </tr>\n",
       "    <tr>\n",
       "      <td>9</td>\n",
       "      <td>18\\t5400000.0\\t61.0\\t2017-02-26T00:00:00\\t3\\t2...</td>\n",
       "    </tr>\n",
       "  </tbody>\n",
       "</table>\n",
       "</div>"
      ],
      "text/plain": [
       "  total_images\\tlast_price\\ttotal_area\\tfirst_day_exposition\\trooms\\tceiling_height\\tfloors_total\\tliving_area\\tfloor\\tis_apartment\\tstudio\\topen_plan\\tkitchen_area\\tbalcony\\tlocality_name\\tairports_nearest\\tcityCenters_nearest\\tparks_around3000\\tparks_nearest\\tponds_around3000\\tponds_nearest\\tdays_exposition\n",
       "0  20\\t13000000.0\\t108.0\\t2019-03-07T00:00:00\\t3\\...                                                                                                                                                                                                                                                                  \n",
       "1  7\\t3350000.0\\t40.4\\t2018-12-04T00:00:00\\t1\\t\\t...                                                                                                                                                                                                                                                                  \n",
       "2  10\\t5196000.0\\t56.0\\t2015-08-20T00:00:00\\t2\\t\\...                                                                                                                                                                                                                                                                  \n",
       "3  0\\t64900000.0\\t159.0\\t2015-07-24T00:00:00\\t3\\t...                                                                                                                                                                                                                                                                  \n",
       "4  2\\t10000000.0\\t100.0\\t2018-06-19T00:00:00\\t2\\t...                                                                                                                                                                                                                                                                  \n",
       "5  10\\t2890000.0\\t30.4\\t2018-09-10T00:00:00\\t1\\t\\...                                                                                                                                                                                                                                                                  \n",
       "6  6\\t3700000.0\\t37.3\\t2017-11-02T00:00:00\\t1\\t\\t...                                                                                                                                                                                                                                                                  \n",
       "7  5\\t7915000.0\\t71.6\\t2019-04-18T00:00:00\\t2\\t\\t...                                                                                                                                                                                                                                                                  \n",
       "8  20\\t2900000.0\\t33.16\\t2018-05-23T00:00:00\\t1\\t...                                                                                                                                                                                                                                                                  \n",
       "9  18\\t5400000.0\\t61.0\\t2017-02-26T00:00:00\\t3\\t2...                                                                                                                                                                                                                                                                  "
      ]
     },
     "execution_count": 1,
     "metadata": {},
     "output_type": "execute_result"
    }
   ],
   "source": [
    "df = pd.read_csv('real_estate_data.csv')\n",
    "df.head(10)"
   ]
  },
  {
   "cell_type": "markdown",
   "metadata": {},
   "source": [
    "Видим, что с данными что-то не так. Вероятно, в ходе некачественной выгрузки данных из системы они \"склеились\" в единую строку и в текущем виде не представляю никакой ценности для анализа. \n",
    "\n",
    "Чтобы иметь возможнность работать с данными, необходимо разделить \"склеенные\" данные на столбцы. \n",
    "\n",
    "При этом визуально видим, что в качестве разделителя данных по столбцам используется символ табуляции \"\\t\", который и необходимо передать в качестве аргумента параметру sep."
   ]
  },
  {
   "cell_type": "code",
   "execution_count": 2,
   "metadata": {},
   "outputs": [
    {
     "data": {
      "text/html": [
       "<div>\n",
       "<style scoped>\n",
       "    .dataframe tbody tr th:only-of-type {\n",
       "        vertical-align: middle;\n",
       "    }\n",
       "\n",
       "    .dataframe tbody tr th {\n",
       "        vertical-align: top;\n",
       "    }\n",
       "\n",
       "    .dataframe thead th {\n",
       "        text-align: right;\n",
       "    }\n",
       "</style>\n",
       "<table border=\"1\" class=\"dataframe\">\n",
       "  <thead>\n",
       "    <tr style=\"text-align: right;\">\n",
       "      <th></th>\n",
       "      <th>total_images</th>\n",
       "      <th>last_price</th>\n",
       "      <th>total_area</th>\n",
       "      <th>first_day_exposition</th>\n",
       "      <th>rooms</th>\n",
       "      <th>ceiling_height</th>\n",
       "      <th>floors_total</th>\n",
       "      <th>living_area</th>\n",
       "      <th>floor</th>\n",
       "      <th>is_apartment</th>\n",
       "      <th>...</th>\n",
       "      <th>kitchen_area</th>\n",
       "      <th>balcony</th>\n",
       "      <th>locality_name</th>\n",
       "      <th>airports_nearest</th>\n",
       "      <th>cityCenters_nearest</th>\n",
       "      <th>parks_around3000</th>\n",
       "      <th>parks_nearest</th>\n",
       "      <th>ponds_around3000</th>\n",
       "      <th>ponds_nearest</th>\n",
       "      <th>days_exposition</th>\n",
       "    </tr>\n",
       "  </thead>\n",
       "  <tbody>\n",
       "    <tr>\n",
       "      <td>0</td>\n",
       "      <td>20</td>\n",
       "      <td>13000000.0</td>\n",
       "      <td>108.00</td>\n",
       "      <td>2019-03-07T00:00:00</td>\n",
       "      <td>3</td>\n",
       "      <td>2.70</td>\n",
       "      <td>16.0</td>\n",
       "      <td>51.00</td>\n",
       "      <td>8</td>\n",
       "      <td>NaN</td>\n",
       "      <td>...</td>\n",
       "      <td>25.00</td>\n",
       "      <td>NaN</td>\n",
       "      <td>Санкт-Петербург</td>\n",
       "      <td>18863.0</td>\n",
       "      <td>16028.0</td>\n",
       "      <td>1.0</td>\n",
       "      <td>482.0</td>\n",
       "      <td>2.0</td>\n",
       "      <td>755.0</td>\n",
       "      <td>NaN</td>\n",
       "    </tr>\n",
       "    <tr>\n",
       "      <td>1</td>\n",
       "      <td>7</td>\n",
       "      <td>3350000.0</td>\n",
       "      <td>40.40</td>\n",
       "      <td>2018-12-04T00:00:00</td>\n",
       "      <td>1</td>\n",
       "      <td>NaN</td>\n",
       "      <td>11.0</td>\n",
       "      <td>18.60</td>\n",
       "      <td>1</td>\n",
       "      <td>NaN</td>\n",
       "      <td>...</td>\n",
       "      <td>11.00</td>\n",
       "      <td>2.0</td>\n",
       "      <td>посёлок Шушары</td>\n",
       "      <td>12817.0</td>\n",
       "      <td>18603.0</td>\n",
       "      <td>0.0</td>\n",
       "      <td>NaN</td>\n",
       "      <td>0.0</td>\n",
       "      <td>NaN</td>\n",
       "      <td>81.0</td>\n",
       "    </tr>\n",
       "    <tr>\n",
       "      <td>2</td>\n",
       "      <td>10</td>\n",
       "      <td>5196000.0</td>\n",
       "      <td>56.00</td>\n",
       "      <td>2015-08-20T00:00:00</td>\n",
       "      <td>2</td>\n",
       "      <td>NaN</td>\n",
       "      <td>5.0</td>\n",
       "      <td>34.30</td>\n",
       "      <td>4</td>\n",
       "      <td>NaN</td>\n",
       "      <td>...</td>\n",
       "      <td>8.30</td>\n",
       "      <td>0.0</td>\n",
       "      <td>Санкт-Петербург</td>\n",
       "      <td>21741.0</td>\n",
       "      <td>13933.0</td>\n",
       "      <td>1.0</td>\n",
       "      <td>90.0</td>\n",
       "      <td>2.0</td>\n",
       "      <td>574.0</td>\n",
       "      <td>558.0</td>\n",
       "    </tr>\n",
       "    <tr>\n",
       "      <td>3</td>\n",
       "      <td>0</td>\n",
       "      <td>64900000.0</td>\n",
       "      <td>159.00</td>\n",
       "      <td>2015-07-24T00:00:00</td>\n",
       "      <td>3</td>\n",
       "      <td>NaN</td>\n",
       "      <td>14.0</td>\n",
       "      <td>NaN</td>\n",
       "      <td>9</td>\n",
       "      <td>NaN</td>\n",
       "      <td>...</td>\n",
       "      <td>NaN</td>\n",
       "      <td>0.0</td>\n",
       "      <td>Санкт-Петербург</td>\n",
       "      <td>28098.0</td>\n",
       "      <td>6800.0</td>\n",
       "      <td>2.0</td>\n",
       "      <td>84.0</td>\n",
       "      <td>3.0</td>\n",
       "      <td>234.0</td>\n",
       "      <td>424.0</td>\n",
       "    </tr>\n",
       "    <tr>\n",
       "      <td>4</td>\n",
       "      <td>2</td>\n",
       "      <td>10000000.0</td>\n",
       "      <td>100.00</td>\n",
       "      <td>2018-06-19T00:00:00</td>\n",
       "      <td>2</td>\n",
       "      <td>3.03</td>\n",
       "      <td>14.0</td>\n",
       "      <td>32.00</td>\n",
       "      <td>13</td>\n",
       "      <td>NaN</td>\n",
       "      <td>...</td>\n",
       "      <td>41.00</td>\n",
       "      <td>NaN</td>\n",
       "      <td>Санкт-Петербург</td>\n",
       "      <td>31856.0</td>\n",
       "      <td>8098.0</td>\n",
       "      <td>2.0</td>\n",
       "      <td>112.0</td>\n",
       "      <td>1.0</td>\n",
       "      <td>48.0</td>\n",
       "      <td>121.0</td>\n",
       "    </tr>\n",
       "    <tr>\n",
       "      <td>5</td>\n",
       "      <td>10</td>\n",
       "      <td>2890000.0</td>\n",
       "      <td>30.40</td>\n",
       "      <td>2018-09-10T00:00:00</td>\n",
       "      <td>1</td>\n",
       "      <td>NaN</td>\n",
       "      <td>12.0</td>\n",
       "      <td>14.40</td>\n",
       "      <td>5</td>\n",
       "      <td>NaN</td>\n",
       "      <td>...</td>\n",
       "      <td>9.10</td>\n",
       "      <td>NaN</td>\n",
       "      <td>городской посёлок Янино-1</td>\n",
       "      <td>NaN</td>\n",
       "      <td>NaN</td>\n",
       "      <td>NaN</td>\n",
       "      <td>NaN</td>\n",
       "      <td>NaN</td>\n",
       "      <td>NaN</td>\n",
       "      <td>55.0</td>\n",
       "    </tr>\n",
       "    <tr>\n",
       "      <td>6</td>\n",
       "      <td>6</td>\n",
       "      <td>3700000.0</td>\n",
       "      <td>37.30</td>\n",
       "      <td>2017-11-02T00:00:00</td>\n",
       "      <td>1</td>\n",
       "      <td>NaN</td>\n",
       "      <td>26.0</td>\n",
       "      <td>10.60</td>\n",
       "      <td>6</td>\n",
       "      <td>NaN</td>\n",
       "      <td>...</td>\n",
       "      <td>14.40</td>\n",
       "      <td>1.0</td>\n",
       "      <td>посёлок Парголово</td>\n",
       "      <td>52996.0</td>\n",
       "      <td>19143.0</td>\n",
       "      <td>0.0</td>\n",
       "      <td>NaN</td>\n",
       "      <td>0.0</td>\n",
       "      <td>NaN</td>\n",
       "      <td>155.0</td>\n",
       "    </tr>\n",
       "    <tr>\n",
       "      <td>7</td>\n",
       "      <td>5</td>\n",
       "      <td>7915000.0</td>\n",
       "      <td>71.60</td>\n",
       "      <td>2019-04-18T00:00:00</td>\n",
       "      <td>2</td>\n",
       "      <td>NaN</td>\n",
       "      <td>24.0</td>\n",
       "      <td>NaN</td>\n",
       "      <td>22</td>\n",
       "      <td>NaN</td>\n",
       "      <td>...</td>\n",
       "      <td>18.90</td>\n",
       "      <td>2.0</td>\n",
       "      <td>Санкт-Петербург</td>\n",
       "      <td>23982.0</td>\n",
       "      <td>11634.0</td>\n",
       "      <td>0.0</td>\n",
       "      <td>NaN</td>\n",
       "      <td>0.0</td>\n",
       "      <td>NaN</td>\n",
       "      <td>NaN</td>\n",
       "    </tr>\n",
       "    <tr>\n",
       "      <td>8</td>\n",
       "      <td>20</td>\n",
       "      <td>2900000.0</td>\n",
       "      <td>33.16</td>\n",
       "      <td>2018-05-23T00:00:00</td>\n",
       "      <td>1</td>\n",
       "      <td>NaN</td>\n",
       "      <td>27.0</td>\n",
       "      <td>15.43</td>\n",
       "      <td>26</td>\n",
       "      <td>NaN</td>\n",
       "      <td>...</td>\n",
       "      <td>8.81</td>\n",
       "      <td>NaN</td>\n",
       "      <td>посёлок Мурино</td>\n",
       "      <td>NaN</td>\n",
       "      <td>NaN</td>\n",
       "      <td>NaN</td>\n",
       "      <td>NaN</td>\n",
       "      <td>NaN</td>\n",
       "      <td>NaN</td>\n",
       "      <td>189.0</td>\n",
       "    </tr>\n",
       "    <tr>\n",
       "      <td>9</td>\n",
       "      <td>18</td>\n",
       "      <td>5400000.0</td>\n",
       "      <td>61.00</td>\n",
       "      <td>2017-02-26T00:00:00</td>\n",
       "      <td>3</td>\n",
       "      <td>2.50</td>\n",
       "      <td>9.0</td>\n",
       "      <td>43.60</td>\n",
       "      <td>7</td>\n",
       "      <td>NaN</td>\n",
       "      <td>...</td>\n",
       "      <td>6.50</td>\n",
       "      <td>2.0</td>\n",
       "      <td>Санкт-Петербург</td>\n",
       "      <td>50898.0</td>\n",
       "      <td>15008.0</td>\n",
       "      <td>0.0</td>\n",
       "      <td>NaN</td>\n",
       "      <td>0.0</td>\n",
       "      <td>NaN</td>\n",
       "      <td>289.0</td>\n",
       "    </tr>\n",
       "  </tbody>\n",
       "</table>\n",
       "<p>10 rows × 22 columns</p>\n",
       "</div>"
      ],
      "text/plain": [
       "   total_images  last_price  total_area first_day_exposition  rooms  \\\n",
       "0            20  13000000.0      108.00  2019-03-07T00:00:00      3   \n",
       "1             7   3350000.0       40.40  2018-12-04T00:00:00      1   \n",
       "2            10   5196000.0       56.00  2015-08-20T00:00:00      2   \n",
       "3             0  64900000.0      159.00  2015-07-24T00:00:00      3   \n",
       "4             2  10000000.0      100.00  2018-06-19T00:00:00      2   \n",
       "5            10   2890000.0       30.40  2018-09-10T00:00:00      1   \n",
       "6             6   3700000.0       37.30  2017-11-02T00:00:00      1   \n",
       "7             5   7915000.0       71.60  2019-04-18T00:00:00      2   \n",
       "8            20   2900000.0       33.16  2018-05-23T00:00:00      1   \n",
       "9            18   5400000.0       61.00  2017-02-26T00:00:00      3   \n",
       "\n",
       "   ceiling_height  floors_total  living_area  floor is_apartment  ...  \\\n",
       "0            2.70          16.0        51.00      8          NaN  ...   \n",
       "1             NaN          11.0        18.60      1          NaN  ...   \n",
       "2             NaN           5.0        34.30      4          NaN  ...   \n",
       "3             NaN          14.0          NaN      9          NaN  ...   \n",
       "4            3.03          14.0        32.00     13          NaN  ...   \n",
       "5             NaN          12.0        14.40      5          NaN  ...   \n",
       "6             NaN          26.0        10.60      6          NaN  ...   \n",
       "7             NaN          24.0          NaN     22          NaN  ...   \n",
       "8             NaN          27.0        15.43     26          NaN  ...   \n",
       "9            2.50           9.0        43.60      7          NaN  ...   \n",
       "\n",
       "   kitchen_area  balcony              locality_name  airports_nearest  \\\n",
       "0         25.00      NaN            Санкт-Петербург           18863.0   \n",
       "1         11.00      2.0             посёлок Шушары           12817.0   \n",
       "2          8.30      0.0            Санкт-Петербург           21741.0   \n",
       "3           NaN      0.0            Санкт-Петербург           28098.0   \n",
       "4         41.00      NaN            Санкт-Петербург           31856.0   \n",
       "5          9.10      NaN  городской посёлок Янино-1               NaN   \n",
       "6         14.40      1.0          посёлок Парголово           52996.0   \n",
       "7         18.90      2.0            Санкт-Петербург           23982.0   \n",
       "8          8.81      NaN             посёлок Мурино               NaN   \n",
       "9          6.50      2.0            Санкт-Петербург           50898.0   \n",
       "\n",
       "  cityCenters_nearest  parks_around3000  parks_nearest  ponds_around3000  \\\n",
       "0             16028.0               1.0          482.0               2.0   \n",
       "1             18603.0               0.0            NaN               0.0   \n",
       "2             13933.0               1.0           90.0               2.0   \n",
       "3              6800.0               2.0           84.0               3.0   \n",
       "4              8098.0               2.0          112.0               1.0   \n",
       "5                 NaN               NaN            NaN               NaN   \n",
       "6             19143.0               0.0            NaN               0.0   \n",
       "7             11634.0               0.0            NaN               0.0   \n",
       "8                 NaN               NaN            NaN               NaN   \n",
       "9             15008.0               0.0            NaN               0.0   \n",
       "\n",
       "   ponds_nearest  days_exposition  \n",
       "0          755.0              NaN  \n",
       "1            NaN             81.0  \n",
       "2          574.0            558.0  \n",
       "3          234.0            424.0  \n",
       "4           48.0            121.0  \n",
       "5            NaN             55.0  \n",
       "6            NaN            155.0  \n",
       "7            NaN              NaN  \n",
       "8            NaN            189.0  \n",
       "9            NaN            289.0  \n",
       "\n",
       "[10 rows x 22 columns]"
      ]
     },
     "execution_count": 2,
     "metadata": {},
     "output_type": "execute_result"
    }
   ],
   "source": [
    "df = pd.read_csv('real_estate_data.csv', sep='\\t', decimal='.')\n",
    "df.head(10)"
   ]
  },
  {
   "cell_type": "markdown",
   "metadata": {},
   "source": [
    "Оценим размер набора данных."
   ]
  },
  {
   "cell_type": "code",
   "execution_count": 3,
   "metadata": {},
   "outputs": [
    {
     "data": {
      "text/plain": [
       "(23699, 22)"
      ]
     },
     "execution_count": 3,
     "metadata": {},
     "output_type": "execute_result"
    }
   ],
   "source": [
    "df.shape"
   ]
  },
  {
   "cell_type": "markdown",
   "metadata": {},
   "source": [
    "Изучим общую информацию о данных."
   ]
  },
  {
   "cell_type": "code",
   "execution_count": 4,
   "metadata": {},
   "outputs": [
    {
     "name": "stdout",
     "output_type": "stream",
     "text": [
      "<class 'pandas.core.frame.DataFrame'>\n",
      "RangeIndex: 23699 entries, 0 to 23698\n",
      "Data columns (total 22 columns):\n",
      "total_images            23699 non-null int64\n",
      "last_price              23699 non-null float64\n",
      "total_area              23699 non-null float64\n",
      "first_day_exposition    23699 non-null object\n",
      "rooms                   23699 non-null int64\n",
      "ceiling_height          14504 non-null float64\n",
      "floors_total            23613 non-null float64\n",
      "living_area             21796 non-null float64\n",
      "floor                   23699 non-null int64\n",
      "is_apartment            2775 non-null object\n",
      "studio                  23699 non-null bool\n",
      "open_plan               23699 non-null bool\n",
      "kitchen_area            21421 non-null float64\n",
      "balcony                 12180 non-null float64\n",
      "locality_name           23650 non-null object\n",
      "airports_nearest        18157 non-null float64\n",
      "cityCenters_nearest     18180 non-null float64\n",
      "parks_around3000        18181 non-null float64\n",
      "parks_nearest           8079 non-null float64\n",
      "ponds_around3000        18181 non-null float64\n",
      "ponds_nearest           9110 non-null float64\n",
      "days_exposition         20518 non-null float64\n",
      "dtypes: bool(2), float64(14), int64(3), object(3)\n",
      "memory usage: 3.7+ MB\n"
     ]
    }
   ],
   "source": [
    "df.info()"
   ]
  },
  {
   "cell_type": "markdown",
   "metadata": {},
   "source": [
    "Посмотрим на уникальные значения в каждом столбце набора данных."
   ]
  },
  {
   "cell_type": "code",
   "execution_count": 6,
   "metadata": {
    "scrolled": true
   },
   "outputs": [
    {
     "name": "stdout",
     "output_type": "stream",
     "text": [
      "total_images\n",
      "10    1798\n",
      "9     1725\n",
      "20    1694\n",
      "8     1585\n",
      "7     1521\n",
      "6     1482\n",
      "11    1362\n",
      "5     1301\n",
      "12    1225\n",
      "0     1059\n",
      "13    1015\n",
      "14     986\n",
      "4      986\n",
      "15     948\n",
      "1      872\n",
      "3      769\n",
      "16     761\n",
      "17     650\n",
      "18     642\n",
      "2      640\n",
      "19     603\n",
      "23      16\n",
      "21      12\n",
      "24       8\n",
      "22       8\n",
      "26       5\n",
      "28       4\n",
      "32       4\n",
      "50       3\n",
      "29       3\n",
      "31       2\n",
      "35       2\n",
      "30       2\n",
      "27       2\n",
      "37       1\n",
      "39       1\n",
      "25       1\n",
      "42       1\n",
      "Name: total_images, dtype: int64\n",
      "----------------------------------------------------------------------\n",
      "\n",
      "last_price\n",
      "4500000.0     342\n",
      "3500000.0     291\n",
      "4000000.0     260\n",
      "4300000.0     260\n",
      "4200000.0     259\n",
      "             ... \n",
      "4412094.0       1\n",
      "6416000.0       1\n",
      "4581000.0       1\n",
      "34551000.0      1\n",
      "6029433.0       1\n",
      "Name: last_price, Length: 2978, dtype: int64\n",
      "----------------------------------------------------------------------\n",
      "\n",
      "total_area\n",
      "45.00     419\n",
      "42.00     383\n",
      "60.00     347\n",
      "31.00     346\n",
      "44.00     345\n",
      "         ... \n",
      "45.85       1\n",
      "44.18       1\n",
      "59.83       1\n",
      "127.20      1\n",
      "23.55       1\n",
      "Name: total_area, Length: 2182, dtype: int64\n",
      "----------------------------------------------------------------------\n",
      "\n",
      "first_day_exposition\n",
      "2018-02-01T00:00:00    368\n",
      "2017-11-10T00:00:00    240\n",
      "2017-10-13T00:00:00    124\n",
      "2017-09-27T00:00:00    111\n",
      "2018-03-26T00:00:00     97\n",
      "                      ... \n",
      "2016-09-03T00:00:00      1\n",
      "2015-07-26T00:00:00      1\n",
      "2017-02-23T00:00:00      1\n",
      "2016-08-18T00:00:00      1\n",
      "2016-09-25T00:00:00      1\n",
      "Name: first_day_exposition, Length: 1491, dtype: int64\n",
      "----------------------------------------------------------------------\n",
      "\n",
      "rooms\n",
      "1     8047\n",
      "2     7940\n",
      "3     5814\n",
      "4     1180\n",
      "5      326\n",
      "0      197\n",
      "6      105\n",
      "7       59\n",
      "8       12\n",
      "9        8\n",
      "10       3\n",
      "14       2\n",
      "11       2\n",
      "19       1\n",
      "12       1\n",
      "16       1\n",
      "15       1\n",
      "Name: rooms, dtype: int64\n",
      "----------------------------------------------------------------------\n",
      "\n",
      "ceiling_height\n",
      "2.50      3515\n",
      "2.60      1646\n",
      "2.70      1574\n",
      "3.00      1112\n",
      "2.80       993\n",
      "          ... \n",
      "27.50        1\n",
      "5.00         1\n",
      "3.59         1\n",
      "4.80         1\n",
      "100.00       1\n",
      "Name: ceiling_height, Length: 183, dtype: int64\n",
      "----------------------------------------------------------------------\n",
      "\n",
      "floors_total\n",
      "5.0     5788\n",
      "9.0     3761\n",
      "16.0    1376\n",
      "12.0    1362\n",
      "4.0     1200\n",
      "10.0    1174\n",
      "25.0    1075\n",
      "6.0      914\n",
      "17.0     833\n",
      "3.0      668\n",
      "7.0      592\n",
      "14.0     553\n",
      "18.0     505\n",
      "24.0     469\n",
      "8.0      390\n",
      "2.0      383\n",
      "15.0     365\n",
      "23.0     352\n",
      "19.0     339\n",
      "22.0     286\n",
      "20.0     271\n",
      "13.0     229\n",
      "11.0     203\n",
      "27.0     164\n",
      "21.0     158\n",
      "26.0     124\n",
      "1.0       25\n",
      "35.0      24\n",
      "28.0      21\n",
      "36.0       3\n",
      "29.0       1\n",
      "60.0       1\n",
      "33.0       1\n",
      "52.0       1\n",
      "37.0       1\n",
      "34.0       1\n",
      "Name: floors_total, dtype: int64\n",
      "----------------------------------------------------------------------\n",
      "\n",
      "living_area\n",
      "18.00    882\n",
      "17.00    675\n",
      "30.00    598\n",
      "16.00    486\n",
      "20.00    481\n",
      "        ... \n",
      "20.03      1\n",
      "10.55      1\n",
      "24.83      1\n",
      "20.97      1\n",
      "15.55      1\n",
      "Name: living_area, Length: 1782, dtype: int64\n",
      "----------------------------------------------------------------------\n",
      "\n",
      "floor\n",
      "2     3368\n",
      "3     3073\n",
      "1     2917\n",
      "4     2804\n",
      "5     2621\n",
      "6     1305\n",
      "7     1218\n",
      "8     1083\n",
      "9     1051\n",
      "10     687\n",
      "12     526\n",
      "11     523\n",
      "13     379\n",
      "15     343\n",
      "14     337\n",
      "16     315\n",
      "17     227\n",
      "18     178\n",
      "19     147\n",
      "21     125\n",
      "22     113\n",
      "20     110\n",
      "23     100\n",
      "24      63\n",
      "25      46\n",
      "26      24\n",
      "27      10\n",
      "28       1\n",
      "33       1\n",
      "29       1\n",
      "30       1\n",
      "32       1\n",
      "31       1\n",
      "Name: floor, dtype: int64\n",
      "----------------------------------------------------------------------\n",
      "\n",
      "is_apartment\n",
      "False    2725\n",
      "True       50\n",
      "Name: is_apartment, dtype: int64\n",
      "----------------------------------------------------------------------\n",
      "\n",
      "studio\n",
      "False    23550\n",
      "True       149\n",
      "Name: studio, dtype: int64\n",
      "----------------------------------------------------------------------\n",
      "\n",
      "open_plan\n",
      "False    23632\n",
      "True        67\n",
      "Name: open_plan, dtype: int64\n",
      "----------------------------------------------------------------------\n",
      "\n",
      "kitchen_area\n",
      "6.00     1300\n",
      "10.00    1262\n",
      "8.00     1110\n",
      "9.00     1101\n",
      "7.00     1062\n",
      "         ... \n",
      "18.07       1\n",
      "28.20       1\n",
      "37.90       1\n",
      "9.51        1\n",
      "35.40       1\n",
      "Name: kitchen_area, Length: 971, dtype: int64\n",
      "----------------------------------------------------------------------\n",
      "\n",
      "balcony\n",
      "1.0    4195\n",
      "0.0    3758\n",
      "2.0    3659\n",
      "5.0     304\n",
      "4.0     183\n",
      "3.0      81\n",
      "Name: balcony, dtype: int64\n",
      "----------------------------------------------------------------------\n",
      "\n",
      "locality_name\n",
      "Санкт-Петербург     15721\n",
      "посёлок Мурино        522\n",
      "посёлок Шушары        440\n",
      "Всеволожск            398\n",
      "Пушкин                369\n",
      "                    ...  \n",
      "деревня Реброво         1\n",
      "посёлок Плоское         1\n",
      "поселок Пчевжа          1\n",
      "село Шум                1\n",
      "деревня Пельгора        1\n",
      "Name: locality_name, Length: 364, dtype: int64\n",
      "----------------------------------------------------------------------\n",
      "\n",
      "airports_nearest\n",
      "37434.0    61\n",
      "21928.0    32\n",
      "39946.0    30\n",
      "44870.0    30\n",
      "37407.0    27\n",
      "           ..\n",
      "25122.0     1\n",
      "26768.0     1\n",
      "22248.0     1\n",
      "20475.0     1\n",
      "14579.0     1\n",
      "Name: airports_nearest, Length: 8275, dtype: int64\n",
      "----------------------------------------------------------------------\n",
      "\n",
      "cityCenters_nearest\n",
      "8460.0     61\n",
      "20802.0    32\n",
      "10720.0    30\n",
      "8434.0     27\n",
      "20444.0    27\n",
      "           ..\n",
      "13104.0     1\n",
      "11280.0     1\n",
      "27218.0     1\n",
      "10501.0     1\n",
      "208.0       1\n",
      "Name: cityCenters_nearest, Length: 7642, dtype: int64\n",
      "----------------------------------------------------------------------\n",
      "\n",
      "parks_around3000\n",
      "0.0    10106\n",
      "1.0     5681\n",
      "2.0     1747\n",
      "3.0      647\n",
      "Name: parks_around3000, dtype: int64\n",
      "----------------------------------------------------------------------\n",
      "\n",
      "parks_nearest\n",
      "441.0     67\n",
      "173.0     41\n",
      "392.0     41\n",
      "456.0     40\n",
      "471.0     32\n",
      "          ..\n",
      "863.0      1\n",
      "2880.0     1\n",
      "969.0      1\n",
      "1011.0     1\n",
      "775.0      1\n",
      "Name: parks_nearest, Length: 995, dtype: int64\n",
      "----------------------------------------------------------------------\n",
      "\n",
      "ponds_around3000\n",
      "0.0    9071\n",
      "1.0    5717\n",
      "2.0    1892\n",
      "3.0    1501\n",
      "Name: ponds_around3000, dtype: int64\n",
      "----------------------------------------------------------------------\n",
      "\n",
      "ponds_nearest\n",
      "427.0     70\n",
      "454.0     41\n",
      "153.0     40\n",
      "433.0     39\n",
      "564.0     37\n",
      "          ..\n",
      "742.0      1\n",
      "1019.0     1\n",
      "948.0      1\n",
      "1275.0     1\n",
      "193.0      1\n",
      "Name: ponds_nearest, Length: 1096, dtype: int64\n",
      "----------------------------------------------------------------------\n",
      "\n",
      "days_exposition\n",
      "45.0      880\n",
      "60.0      538\n",
      "7.0       234\n",
      "30.0      208\n",
      "90.0      204\n",
      "         ... \n",
      "1110.0      1\n",
      "1049.0      1\n",
      "951.0       1\n",
      "693.0       1\n",
      "773.0       1\n",
      "Name: days_exposition, Length: 1141, dtype: int64\n",
      "----------------------------------------------------------------------\n",
      "\n"
     ]
    }
   ],
   "source": [
    "for column in list(df.columns):\n",
    "    print(column)\n",
    "    print(df[column].value_counts())\n",
    "    print('----------------------------------------------------------------------')\n",
    "    print()"
   ]
  },
  {
   "cell_type": "markdown",
   "metadata": {},
   "source": [
    "Посмотрим, есть ли пропуски в наборе данных."
   ]
  },
  {
   "cell_type": "code",
   "execution_count": 7,
   "metadata": {},
   "outputs": [
    {
     "data": {
      "text/plain": [
       "total_images                0\n",
       "last_price                  0\n",
       "total_area                  0\n",
       "first_day_exposition        0\n",
       "rooms                       0\n",
       "ceiling_height           9195\n",
       "floors_total               86\n",
       "living_area              1903\n",
       "floor                       0\n",
       "is_apartment            20924\n",
       "studio                      0\n",
       "open_plan                   0\n",
       "kitchen_area             2278\n",
       "balcony                 11519\n",
       "locality_name              49\n",
       "airports_nearest         5542\n",
       "cityCenters_nearest      5519\n",
       "parks_around3000         5518\n",
       "parks_nearest           15620\n",
       "ponds_around3000         5518\n",
       "ponds_nearest           14589\n",
       "days_exposition          3181\n",
       "dtype: int64"
      ]
     },
     "execution_count": 7,
     "metadata": {},
     "output_type": "execute_result"
    }
   ],
   "source": [
    "df.isna().sum()"
   ]
  },
  {
   "cell_type": "markdown",
   "metadata": {},
   "source": [
    "# Вывод по этапу 1."
   ]
  },
  {
   "cell_type": "markdown",
   "metadata": {},
   "source": [
    "Изучаемый набор данных состоит из 22 колонок.  \n",
    "\n",
    "Метод shape шепчет, что максимальное количество записей в поле составляет 23699, однако метод info показывает, что количество записей от поля к полю изменяется: где-то пропущена лишь часть данных, а в каких-то полях основная часть содержимого - пропуски. Их природу попытаемся выяснить несколько позже. \n",
    "\n",
    "Типы данных в изучаемом наборе данных:\n",
    "\n",
    "дробные числа (с плавающей точкой) - 14 колонок;\n",
    "целые числа - 3 колонки;\n",
    "категориальные поля - 3 колонки;\n",
    "логические поля (булев тип данных) - 2 колонки. \n",
    "\n",
    "Конструкция values_count вкупе с циклом позволяет предварительно проанализировать поля набора данных на наличие каких-либо аномальных значений, при этом избавляет от необходимости прописывать отдельные строки кода для каждого поля набора данных.\n",
    "\n",
    "В наборе данных содержится большое количество пропусков, которые необходимо будет обработать.\n",
    "\n",
    "Предварительно - \"исходя из моего ощущения цифрового анализа\" - можно отметить следующие необычные вещи в данных, на которые следовало бы обратить внимание в ходе дальшейшего анализа:\n",
    "\n",
    "1. Данные в поле last_price приведены в рублях. Для помещений с небольшой стоимостью это выглядит нормально, но для лакшери апартаментов цифра смотрится крайне вырвиглазно. Целесообразно будет свести эту колонку, например, в тысячи или миллионы. Так как преобразование линейное, на зависимости между данными это не повлияет, а визуально или графически информацию будет воспринмать проще.\n",
    "\n",
    "\n",
    "2. Данные в поле first_day_exposition приведены в не очень удобном для восприятия (и, потенциально, для дальшейнего анализа) формате. Для удобства стоит перевести тип данных в этом поле в дату в формате \"ДД.ММ.ГГГГ ЧЧ:ММ:СС\".\n",
    "\n",
    "\n",
    "3. Данные поля rooms выглядят довольно странно: несложно представить жилое помещение с 3-4 комнатами, если очень напрячь фантазию, абстрагироваться от здравого смысла и представить, что там живёт цыганский табор с отдельной комнатой под стойла - 5-6. Количество комнат от 7 и выше, а уж тем паче - 19 (это максимальное количество комнат в наборе данных) - что-то за гранью фантастики. Возможно, стоит проанализировать какие-то зависимости между этими данными и привести их в порядок, если адекватные зависимости выявлены не будут. При этом в поле также есть значение, равное нулю, однако в контексте жилой недвижимости будет считать, что это просто квартира-студия, в которой и комнат-то нет. Или это одна большая комната.\n",
    "\n",
    "\n",
    "4. Данные поля ceiling_height также кажутся доволно странными. В рамках экспермиента была сделала сортировка поля ceiling_height со значением \"больше 5\", чтобы узнать наиболее подозрительные данные в поле. Это позволило прийти к следующему выводу: значения до 5 метров (на мой взгляд, в целом довольно адекватная цифра) занимают основную долю данных в этом поле. После же 5 метров начинается нечто невообразимое: тут есть высота потолков и в 10 метров, что больше характерно для промышленного ангара, чем для некоммерческой жилплощади в Питере, и даже 100 метров, а это уже почти небоскрёб (отмечу, что всего таких аномальных потоков с высотой более 5 метров у нас 36, а это менее 1% от количества записей в целом). С другой стороны, есть и совсем крохотные потолки едва ли выше 2 метров. Будем исходить из допущения, что нормальной будем считать квартиру, где высота потолка находится в диапазоне от 3 до 5 метров включительно.\n",
    "\n",
    "\n",
    "5. Поле balcony содержит весьма разношёрстную информацию: там есть и нулевые значения, есть пропущенные значения, а есть значения 3, 4, 5. Это кажется что-то непонятным, от чего следует избавиться, так как квартир с таким количеством балконов немного.\n",
    "\n",
    "<a href='#title'>К оглавлению.</a> "
   ]
  },
  {
   "cell_type": "markdown",
   "metadata": {},
   "source": [
    "# Этап 2. Предобработка данных"
   ]
  },
  {
   "cell_type": "markdown",
   "metadata": {},
   "source": [
    "Определим для себя следующую последовательность в преобработке данных:\n",
    "\n",
    "1. Преобразование типов данных.\n",
    "\n",
    "2. Работа с аномалиями.\n",
    "\n",
    "3. Работа с дубликатами.\n",
    "\n",
    "4. Работа с пропущенными значениями."
   ]
  },
  {
   "cell_type": "markdown",
   "metadata": {},
   "source": [
    "<a id='2.1'></a> \n",
    "## Этап 2.1. Преобразование типов данных.\n",
    "\n",
    "Первым шагом в предобработке данных является преобразование типов данных.\n",
    "\n",
    "В рамках этого шага преобразуем данные в полях:\n",
    "- last_price;\n",
    "- first_day_exposition;\n",
    "- floors_total; \n",
    "- balcony; \n",
    "- parks_around3000; \n",
    "- ponds_around3000; \n",
    "- days_exposition; \n",
    "- airports_nearest; \n",
    "- cityCenters_nearest; \n",
    "- parks_nearest; \n",
    "- ponds_nearest."
   ]
  },
  {
   "cell_type": "markdown",
   "metadata": {},
   "source": [
    "<a id='2.1.1'></a> \n",
    "### Этап 2.1.1. Преобразование поля \"last_price\".\n",
    "\n",
    "Начнём с поля last_price. Напомним, что ранее пришли к выводу о целесообразности его сведения к значениям, измеряющимся в тысячах или  миллионах.\n",
    "\n",
    "Чтобы определиться, к какой размерности сводить данные, посмотрим на максимальное, минимальное и медианное значения в этом поле."
   ]
  },
  {
   "cell_type": "code",
   "execution_count": 8,
   "metadata": {},
   "outputs": [
    {
     "name": "stdout",
     "output_type": "stream",
     "text": [
      "763000000.0\n",
      "12190.0\n",
      "4650000.0\n"
     ]
    }
   ],
   "source": [
    "print(df['last_price'].max())\n",
    "print(df['last_price'].min())\n",
    "print(df['last_price'].median())"
   ]
  },
  {
   "cell_type": "markdown",
   "metadata": {},
   "source": [
    "Видим, что максимальное значение исчисляется 763 миллионами, минимальное - 12 тысячами, медиана же уютно расположилась в районе 4,65 миллионов. Узнаем, сколько в поле значений меньше миллиона."
   ]
  },
  {
   "cell_type": "code",
   "execution_count": 9,
   "metadata": {},
   "outputs": [
    {
     "data": {
      "text/plain": [
       "225"
      ]
     },
     "execution_count": 9,
     "metadata": {},
     "output_type": "execute_result"
    }
   ],
   "source": [
    "df.query('last_price < 1000000')['last_price'].count()"
   ]
  },
  {
   "cell_type": "markdown",
   "metadata": {},
   "source": [
    "Видим, что их всего лишь 225. Не так много. Поэтому условимся, что данные сводим всё-таки к миллионам. При этом округлим значение до 2 знаков после запятой.\n",
    "\n",
    "Проверим значения поля до преобразования."
   ]
  },
  {
   "cell_type": "code",
   "execution_count": 10,
   "metadata": {},
   "outputs": [
    {
     "data": {
      "text/plain": [
       "0    13000000.0\n",
       "1     3350000.0\n",
       "2     5196000.0\n",
       "3    64900000.0\n",
       "4    10000000.0\n",
       "5     2890000.0\n",
       "6     3700000.0\n",
       "7     7915000.0\n",
       "8     2900000.0\n",
       "9     5400000.0\n",
       "Name: last_price, dtype: float64"
      ]
     },
     "execution_count": 10,
     "metadata": {},
     "output_type": "execute_result"
    }
   ],
   "source": [
    "df['last_price'].head(10)"
   ]
  },
  {
   "cell_type": "markdown",
   "metadata": {},
   "source": [
    "Выполним само преобразование"
   ]
  },
  {
   "cell_type": "code",
   "execution_count": 11,
   "metadata": {},
   "outputs": [],
   "source": [
    "df['last_price'] = round((df['last_price'] / 1000000), 2)"
   ]
  },
  {
   "cell_type": "markdown",
   "metadata": {},
   "source": [
    "Проверим значения поля после преобразования."
   ]
  },
  {
   "cell_type": "code",
   "execution_count": 12,
   "metadata": {},
   "outputs": [
    {
     "data": {
      "text/plain": [
       "0    13.00\n",
       "1     3.35\n",
       "2     5.20\n",
       "3    64.90\n",
       "4    10.00\n",
       "5     2.89\n",
       "6     3.70\n",
       "7     7.92\n",
       "8     2.90\n",
       "9     5.40\n",
       "Name: last_price, dtype: float64"
      ]
     },
     "execution_count": 12,
     "metadata": {},
     "output_type": "execute_result"
    }
   ],
   "source": [
    "df['last_price'].head(10)"
   ]
  },
  {
   "cell_type": "markdown",
   "metadata": {},
   "source": [
    "Теперь всё выглядит красиво. Ставим галочку, хвалим себя, кушаем сахарок и едем дальше.\n",
    "\n",
    "<a href='#title'>К оглавлению.</a> "
   ]
  },
  {
   "cell_type": "markdown",
   "metadata": {},
   "source": [
    "<a id='2.1.2'></a> \n",
    "### Этап 2.1.2. Преобразование поля \"first_day_exposition\".\n",
    "\n",
    "\n",
    "А дальше у нас преобразование поля first_day_exposition. Напомним, что логичным будет привести значения поля к формату \"ДД.ММ.ГГГГ ЧЧ:ММ:СС\".\n",
    "\n",
    "Так займёмся же этим!\n",
    "\n",
    "Сначала посмотрим на поле до преобразования."
   ]
  },
  {
   "cell_type": "code",
   "execution_count": 13,
   "metadata": {},
   "outputs": [
    {
     "data": {
      "text/plain": [
       "0    2019-03-07T00:00:00\n",
       "1    2018-12-04T00:00:00\n",
       "2    2015-08-20T00:00:00\n",
       "3    2015-07-24T00:00:00\n",
       "4    2018-06-19T00:00:00\n",
       "5    2018-09-10T00:00:00\n",
       "6    2017-11-02T00:00:00\n",
       "7    2019-04-18T00:00:00\n",
       "8    2018-05-23T00:00:00\n",
       "9    2017-02-26T00:00:00\n",
       "Name: first_day_exposition, dtype: object"
      ]
     },
     "execution_count": 13,
     "metadata": {},
     "output_type": "execute_result"
    }
   ],
   "source": [
    "df['first_day_exposition'].head(10)"
   ]
  },
  {
   "cell_type": "markdown",
   "metadata": {},
   "source": [
    "Для преобразования воспользуемся методом to_datetime, применим его к полю first_day_exposition."
   ]
  },
  {
   "cell_type": "code",
   "execution_count": 14,
   "metadata": {},
   "outputs": [],
   "source": [
    "df['first_day_exposition'] = pd.to_datetime(df['first_day_exposition'], format = '%Y.%m.%dT%H:%M:%S')"
   ]
  },
  {
   "cell_type": "markdown",
   "metadata": {},
   "source": [
    "Сначала посмотрим на поле после преобразования."
   ]
  },
  {
   "cell_type": "code",
   "execution_count": 15,
   "metadata": {},
   "outputs": [
    {
     "data": {
      "text/plain": [
       "0   2019-03-07\n",
       "1   2018-12-04\n",
       "2   2015-08-20\n",
       "3   2015-07-24\n",
       "4   2018-06-19\n",
       "5   2018-09-10\n",
       "6   2017-11-02\n",
       "7   2019-04-18\n",
       "8   2018-05-23\n",
       "9   2017-02-26\n",
       "Name: first_day_exposition, dtype: datetime64[ns]"
      ]
     },
     "execution_count": 15,
     "metadata": {},
     "output_type": "execute_result"
    }
   ],
   "source": [
    "df['first_day_exposition'].head(10)"
   ]
  },
  {
   "cell_type": "markdown",
   "metadata": {},
   "source": [
    "Теперь всё красиво. Отмечу, что метод to_datetime преобразовал данные в поле в формат datetime, в этом формате они сохранены после преобразования. Вместе с тем в наборе данных мы видим данные в формате date, но лишь потому, что время в было в формате 00:00:00, поэтому оно отсеклось.\n",
    "\n",
    "<a href='#title'>К оглавлению.</a> "
   ]
  },
  {
   "cell_type": "markdown",
   "metadata": {},
   "source": [
    "<a id='2.1.3'></a> \n",
    "### Этап 2.1.3. Преобразование полей \"floors_total\", \"balcony\", \"parks_around3000\", \"ponds_around3000\", \"days_exposition\", \"airports_nearest\", \"cityCenters_nearest\", \"parks_nearest\", \"ponds_nearest\".\n",
    "\n",
    "Указанные выше поля являются типом данных float, хотя из соображений семантики более приемлемый для них тип данных - int. К примеру, не может быть 2.3 балкона, но может быть 2 балкона. Кроме того, поля, описывающие расстояние от квартиры до какого-либо объекта, указанные на текущий момент в метрах, переведём в километры с округлением до целого значения.\n",
    "\n",
    "Вместе с тем на текущий момент реализация этого направления преобразования невозможна, так как в этих полях содержатся пропущенные значения, которые нельзя преобразовать в int, поэтому преобразование этих полей в тип int, также переход от метров к километрам выполним после обработки пропущенных значений.\n",
    "\n",
    "<a href='#title'>К оглавлению.</a> "
   ]
  },
  {
   "cell_type": "markdown",
   "metadata": {},
   "source": [
    "<a id='2.2'></a> \n",
    "## Этап 2.2. Обработка аномалий.\n",
    "\n",
    "Следующий этап в предварительной обработке данных - обработка аномалий.\n",
    "\n",
    "Напомним, что аномальные значения были выявлены в следующих полях:\n",
    "\n",
    "- rooms;\n",
    "\n",
    "- ceiling_height;\n",
    "\n",
    "- balcony."
   ]
  },
  {
   "cell_type": "markdown",
   "metadata": {},
   "source": [
    "<a id='2.2.1'></a> \n",
    "### Этап 2.2.1. Обработка аномалий в столбце \"rooms\".\n",
    "\n",
    "Рассмотрим комнаты. Напомню, что ранее отмечалось аномальное количество комнат, которое порою превышает даже 10. \n",
    "\n",
    "Для начала обратимся к гистограмме и посмотрим, как распределены данные в этом аномальном поле. Количество корзин определяем методом перебора."
   ]
  },
  {
   "cell_type": "code",
   "execution_count": 16,
   "metadata": {},
   "outputs": [
    {
     "data": {
      "text/plain": [
       "<matplotlib.axes._subplots.AxesSubplot at 0x7fa2b5ddd8d0>"
      ]
     },
     "execution_count": 16,
     "metadata": {},
     "output_type": "execute_result"
    },
    {
     "data": {
      "image/png": "[encoded data removed]",
      "text/plain": [
       "<Figure size 432x288 with 1 Axes>"
      ]
     },
     "metadata": {
      "needs_background": "light"
     },
     "output_type": "display_data"
    }
   ],
   "source": [
    "df['rooms'].plot(title = 'Распределение количества квартир в зависимости от количества комнат', \n",
    "                                          kind = 'hist', bins = 20, legend = True, grid = True, range = (0, 19))"
   ]
  },
  {
   "cell_type": "markdown",
   "metadata": {},
   "source": [
    "После серии испытаний оптимальное количество корзин определилось как 20. На графике видим, что основная масса квартир - это квартиры, в которых количество комнат варьируется от 1 до 3. После этого количества комнат распределение квартир устремляется вниз, а после 6 комнат синие полосочки уже сложно отделять от оси графика.\n",
    "\n",
    "Гистограмма подверждает изначальное предположение о том, что нормальным количеством комнат можно считать 5. От остальных целесообразно избавиться, так как их не очень-то и много. Однако чтобы наверняка удостовериться в незначительной концентрацией квартир с количеством комнат, превыщающих 6, посчитаем их количество."
   ]
  },
  {
   "cell_type": "code",
   "execution_count": 17,
   "metadata": {},
   "outputs": [
    {
     "data": {
      "text/plain": [
       "195"
      ]
     },
     "execution_count": 17,
     "metadata": {},
     "output_type": "execute_result"
    }
   ],
   "source": [
    "df.query('rooms > 5')['rooms'].count()"
   ]
  },
  {
   "cell_type": "markdown",
   "metadata": {},
   "source": [
    "Видим, что таких квартир всего 195, что значительно ниже 1% от общего количества записей. \n",
    "\n",
    "Отмечу, что в условие отбора также добавляю параметр .isna(), чтобы не отсечь пропущенные значения, работать с которыми мы будем несколько позднее."
   ]
  },
  {
   "cell_type": "code",
   "execution_count": 18,
   "metadata": {},
   "outputs": [],
   "source": [
    "df = df.query('rooms <= 5 or rooms.isna()')"
   ]
  },
  {
   "cell_type": "markdown",
   "metadata": {},
   "source": [
    "Посмотрим, как изменилось распределение квартир. Отмечу, что так как у нас убрался хвост из аномального количества квартир, для получения более наглядного представления о распределении квартир в зависимости от количества комнат количество корзин можно уменьшить."
   ]
  },
  {
   "cell_type": "code",
   "execution_count": 19,
   "metadata": {},
   "outputs": [
    {
     "data": {
      "text/plain": [
       "<matplotlib.axes._subplots.AxesSubplot at 0x7fa2b039cc90>"
      ]
     },
     "execution_count": 19,
     "metadata": {},
     "output_type": "execute_result"
    },
    {
     "data": {
      "image/png": "[encoded data removed]",
      "text/plain": [
       "<Figure size 432x288 with 1 Axes>"
      ]
     },
     "metadata": {
      "needs_background": "light"
     },
     "output_type": "display_data"
    }
   ],
   "source": [
    "df['rooms'].plot(title='Распределение количества квартир в зависимости от количества комнат', \n",
    "                                          kind='hist', bins=6, legend=True, grid=True, range=(0, 6))"
   ]
  },
  {
   "cell_type": "markdown",
   "metadata": {},
   "source": [
    "Отмечу, что распределение квартир в зависимости от количества комнат после удаления аномальных значений (да и до удаления тоже) похоже на распределение Пуассона.\n",
    "\n",
    "<a href='#title'>К оглавлению.</a> "
   ]
  },
  {
   "cell_type": "markdown",
   "metadata": {},
   "source": [
    "<a id='2.2.2'></a> \n",
    "### Этап 2.2.2. Обработка аномалий в столбце \"ceiling_height\".\n",
    "\n",
    "Теперь проанализируем поле ceiling_height. \n",
    "\n",
    "Напомню, что ранее удалось сформировать гипотезу о том, что значения от 3 до 5 включительно являются нормальными, а всё, что свыше 5 и меньше 3, кажется мусором и может быть удалено из набора данных. \n",
    "\n",
    "Напомню также, что в поле ceiling_height присутствуют пропущенные значения, поэтому для построения гистограммы выберем только те записи, в которых есть данные.\n",
    "\n",
    "Посмотрим на распределение квартир в зависимости от высоты потолка."
   ]
  },
  {
   "cell_type": "code",
   "execution_count": 20,
   "metadata": {},
   "outputs": [
    {
     "data": {
      "text/plain": [
       "<matplotlib.axes._subplots.AxesSubplot at 0x7fa2b013a8d0>"
      ]
     },
     "execution_count": 20,
     "metadata": {},
     "output_type": "execute_result"
    },
    {
     "data": {
      "image/png": "[encoded data removed]",
      "text/plain": [
       "<Figure size 432x288 with 1 Axes>"
      ]
     },
     "metadata": {
      "needs_background": "light"
     },
     "output_type": "display_data"
    }
   ],
   "source": [
    "df.plot(title='Распределение количества квартир в зависимости от высоты потолка', \n",
    "                                          y='ceiling_height', kind='hist', bins=5, legend=True, grid=True)"
   ]
  },
  {
   "cell_type": "markdown",
   "metadata": {},
   "source": [
    "Как и в прошлый раз, количество корзин было подобрано эмпирически. \n",
    "\n",
    "Видим, что основная часть квартир сконцентрирована в диапазоне высоты потолка от 1 до 20 метров, а всё, что выше 20 метров, сконцентрировано в крайне незначительном количестве. \n",
    "\n",
    "О каком-то распределении говорить пока сложно, так как основная масса квартир сконцентрирована в одной группе - от 0 до 20.\n",
    "\n",
    "Посчитаем, сколько записей в поле ceiling_height приходится на аномальные значения."
   ]
  },
  {
   "cell_type": "code",
   "execution_count": 21,
   "metadata": {},
   "outputs": [
    {
     "name": "stdout",
     "output_type": "stream",
     "text": [
      "12934\n",
      "14365\n",
      "14365\n",
      "35\n"
     ]
    }
   ],
   "source": [
    "print(df.query('ceiling_height <= 3')['ceiling_height'].count())\n",
    "print(df.query('ceiling_height > 3 or ceiling_height <= 4')['ceiling_height'].count())\n",
    "print(df.query('ceiling_height > 4 or ceiling_height <= 5')['ceiling_height'].count())\n",
    "print(df.query('ceiling_height > 5')['ceiling_height'].count())"
   ]
  },
  {
   "cell_type": "markdown",
   "metadata": {},
   "source": [
    "Видим, что квартир, где высота потолка больше 5 метров, относительно немного, поэтому их можно безболезненно убрать. \n",
    "\n",
    "С другой стороны, квартиры, где высота потолка меньше 3 метров, формируют значительную часть набора данных, и их удаление пагубно скажется на всей дальшейшей работе. \n",
    "\n",
    "Поэтому удалим только те записи о квартирах, где высота потолка больше 5 метров. \n",
    "\n",
    "Также добавим isna(), чтобы в наборе данных после удаления лишнего остались пропущенные значения, которые обработаем  позднее."
   ]
  },
  {
   "cell_type": "code",
   "execution_count": 22,
   "metadata": {},
   "outputs": [],
   "source": [
    "df = df.query('ceiling_height <= 5 or ceiling_height.isna()')"
   ]
  },
  {
   "cell_type": "markdown",
   "metadata": {},
   "source": [
    "Посмотрим, как изменилось распределение квартир в зависимости от высоты потолка."
   ]
  },
  {
   "cell_type": "code",
   "execution_count": 23,
   "metadata": {},
   "outputs": [
    {
     "data": {
      "text/plain": [
       "<matplotlib.axes._subplots.AxesSubplot at 0x7fa2b00e7910>"
      ]
     },
     "execution_count": 23,
     "metadata": {},
     "output_type": "execute_result"
    },
    {
     "data": {
      "image/png": "[encoded data removed]",
      "text/plain": [
       "<Figure size 432x288 with 1 Axes>"
      ]
     },
     "metadata": {
      "needs_background": "light"
     },
     "output_type": "display_data"
    }
   ],
   "source": [
    "df.plot(title='Распределение количества квартир в зависимости от высоты потолка', \n",
    "                                          y='ceiling_height', kind='hist', bins=5, legend=True, grid=True, range=(0, 5))"
   ]
  },
  {
   "cell_type": "markdown",
   "metadata": {},
   "source": [
    "Видим, что наиболее часто встречаются квартиры, где высота потолка лежит в диапазоне от где-то 2 до 3 метров. \n",
    "\n",
    "Для протокола отмечу, что пару раз я посмотрел на свой потолок и измерил его высоту в человеко-метрах, и мой потолок явно выше 3 метров, но данных, где высота потолка меньше 3 меров, много, и их удаление заставит наш DF изрядно похудеть. Поэтому делать этого мы не будем. Однако навязчивый вопрос о том, как же живут люди в квартире, где высота потока составляет 2 метра, никак не покидает меня. А Вас? \n",
    "\n",
    "Как бы там ни было, но пустить транспорт по маршруту \"Санкт-Петербург - Средиземье\" всё же советовал бы.\n",
    "\n",
    "<a href='#title'>К оглавлению.</a> "
   ]
  },
  {
   "cell_type": "markdown",
   "metadata": {},
   "source": [
    "<a id='2.2.3'></a> \n",
    "### Этап 2.2.3. Обработка аномалий в столбце \"balcony\".\n",
    "\n",
    "Следующее поле - balcony. Напомню, что в этом поле есть пропущенные значения, нулевые значения, а также аномальные значения в виде 3, 4 и 5.\n",
    "\n",
    "Посмотрим, как распределены квартиры в зависимости от количества балконов."
   ]
  },
  {
   "cell_type": "code",
   "execution_count": 24,
   "metadata": {},
   "outputs": [
    {
     "data": {
      "text/plain": [
       "<matplotlib.axes._subplots.AxesSubplot at 0x7fa2ad23ec90>"
      ]
     },
     "execution_count": 24,
     "metadata": {},
     "output_type": "execute_result"
    },
    {
     "data": {
      "image/png": "[encoded data removed]",
      "text/plain": [
       "<Figure size 432x288 with 1 Axes>"
      ]
     },
     "metadata": {
      "needs_background": "light"
     },
     "output_type": "display_data"
    }
   ],
   "source": [
    "df.plot(y='balcony', title='Распределение квартир в зависимости от количества балконов', \n",
    "                                   kind='hist', grid=True, bins=5)"
   ]
  },
  {
   "cell_type": "markdown",
   "metadata": {},
   "source": [
    "Видим, что преобладают квартиры с 1 и 2 балконами, а также без балконов. Квартиры с количеством балконов от 3 до 5 находится в хвосте, который благополучно можно отсечь.\n",
    "\n",
    "Также добавим isna(), чтобы в наборе данных после удаления лишнего остались пропущенные значения, которые обработаем  позднее."
   ]
  },
  {
   "cell_type": "code",
   "execution_count": 25,
   "metadata": {},
   "outputs": [],
   "source": [
    "df = df.query('balcony <= 2 or balcony.isna()')"
   ]
  },
  {
   "cell_type": "markdown",
   "metadata": {},
   "source": [
    "Посмотрим, как изменилось распределение квартир."
   ]
  },
  {
   "cell_type": "code",
   "execution_count": 26,
   "metadata": {},
   "outputs": [
    {
     "data": {
      "text/plain": [
       "<matplotlib.axes._subplots.AxesSubplot at 0x7fa2ad1debd0>"
      ]
     },
     "execution_count": 26,
     "metadata": {},
     "output_type": "execute_result"
    },
    {
     "data": {
      "image/png": "[encoded data removed]",
      "text/plain": [
       "<Figure size 432x288 with 1 Axes>"
      ]
     },
     "metadata": {
      "needs_background": "light"
     },
     "output_type": "display_data"
    }
   ],
   "source": [
    "df.query('balcony.notnull()').plot(y='balcony', title='Распределение квартир в зависимости от количества балконов', \n",
    "                                   kind='hist', grid=True, bins=3, range=(0, 2))"
   ]
  },
  {
   "cell_type": "markdown",
   "metadata": {},
   "source": [
    "Видим, что мы отсекли аномальный хвост, и теперь у нас есть записи только о тех квартирах, где есть 1 или 2 балкона, или же его нет вовсе.\n",
    "\n",
    "Распределение квартир в зависимости от количества балконов похоже на нормальное.\n",
    "\n",
    "<a href='#title'>К оглавлению.</a> "
   ]
  },
  {
   "cell_type": "markdown",
   "metadata": {},
   "source": [
    "<a id='2.3'></a> \n",
    "## Этап 2.3. Обработка дубликатов.\n",
    "\n",
    "Теперь, когда с артефактами покончено, приступим к работе с дубликатами. Для начала посмотрим, сколько их у нас всего."
   ]
  },
  {
   "cell_type": "code",
   "execution_count": 27,
   "metadata": {},
   "outputs": [
    {
     "data": {
      "text/plain": [
       "0"
      ]
     },
     "execution_count": 27,
     "metadata": {},
     "output_type": "execute_result"
    }
   ],
   "source": [
    "df.duplicated().sum()"
   ]
  },
  {
   "cell_type": "markdown",
   "metadata": {},
   "source": [
    "Оказывается, у нас нет дубликатов. Кто бы мог подумать? Самое время занести шоколадку архитектору хранилища или инженеру данных, который готовил выгрузку. Блестящая работа.\n",
    "\n",
    "Раз дубликатов нет, переходим к следующему этапу - обработка пропусков.\n",
    "\n",
    "<a href='#title'>К оглавлению.</a> "
   ]
  },
  {
   "cell_type": "markdown",
   "metadata": {},
   "source": [
    "<a id='2.4'></a> \n",
    "## Этап 2.4. Обработка пропущенных значений.\n",
    "\n",
    "Прежде чем начинать работу с пропусками в наборе данных, посмотрим на их общее количество."
   ]
  },
  {
   "cell_type": "code",
   "execution_count": 28,
   "metadata": {},
   "outputs": [
    {
     "data": {
      "text/plain": [
       "total_images                0\n",
       "last_price                  0\n",
       "total_area                  0\n",
       "first_day_exposition        0\n",
       "rooms                       0\n",
       "ceiling_height           9017\n",
       "floors_total               85\n",
       "living_area              1855\n",
       "floor                       0\n",
       "is_apartment            20268\n",
       "studio                      0\n",
       "open_plan                   0\n",
       "kitchen_area             2235\n",
       "balcony                 11388\n",
       "locality_name              48\n",
       "airports_nearest         5408\n",
       "cityCenters_nearest      5386\n",
       "parks_around3000         5385\n",
       "parks_nearest           15191\n",
       "ponds_around3000         5385\n",
       "ponds_nearest           14153\n",
       "days_exposition          3010\n",
       "dtype: int64"
      ]
     },
     "execution_count": 28,
     "metadata": {},
     "output_type": "execute_result"
    }
   ],
   "source": [
    "df.isna().sum()"
   ]
  },
  {
   "cell_type": "markdown",
   "metadata": {},
   "source": [
    "Наверное, всегда можно сказать \"могло быть и хуже\". Лучше тоже могло быть. Но нужно уметь радоваться мелочам."
   ]
  },
  {
   "cell_type": "markdown",
   "metadata": {},
   "source": [
    "<a id='2.4.1'></a> \n",
    "### Этап 2.4.1. Обработка пропущенных значений в полях \"locality_name\" и \"floors_total\".\n",
    "\n",
    "Начнём с самого простого - полей locality_name и floors_total. Всего 48 и 85 пропусков соответственно. Чтобы не вносить ошибки в набор данных своими рассуждениями, их можно просто удалить без существенных потерь для набора данных."
   ]
  },
  {
   "cell_type": "code",
   "execution_count": 29,
   "metadata": {},
   "outputs": [],
   "source": [
    "df.dropna(subset=['locality_name', 'floors_total'], inplace=True)"
   ]
  },
  {
   "cell_type": "markdown",
   "metadata": {},
   "source": [
    "Проверяем, всё ли корректно сработало."
   ]
  },
  {
   "cell_type": "code",
   "execution_count": 30,
   "metadata": {},
   "outputs": [
    {
     "data": {
      "text/plain": [
       "locality_name    0\n",
       "floors_total     0\n",
       "dtype: int64"
      ]
     },
     "execution_count": 30,
     "metadata": {},
     "output_type": "execute_result"
    }
   ],
   "source": [
    "df[['locality_name', 'floors_total']].isna().sum()"
   ]
  },
  {
   "cell_type": "markdown",
   "metadata": {},
   "source": [
    "Отлично! Пропусков в поле locality_name и floors_total больше нет.\n",
    "\n",
    "<a href='#title'>К оглавлению.</a> "
   ]
  },
  {
   "cell_type": "markdown",
   "metadata": {},
   "source": [
    "<a id='2.4.2'></a> \n",
    "### Этап 2.4.2. Обработка пропущенных значений в полях \"living_area\" и \"kitchen_area\".\n",
    "\n",
    "Объективно сложно предположить, почему в наборе данных отсутствуют данные в этих полях. Можно предположить, что данные не были внесены по вине случайности или рассеянности продавца квартиры. \n",
    "\n",
    "Гипотетически можно категоризировать стоимость квартиры по группам, найти для каждой группы медианное значения полей living_area и kitchen_area и заменить пропущенные значения этих полей на соответствующие медианные значения, однако доля пропущенных данных в этих полях составляет около 3% от общей величины набора данных, поэтому просто удалим их."
   ]
  },
  {
   "cell_type": "code",
   "execution_count": 31,
   "metadata": {},
   "outputs": [],
   "source": [
    "df.dropna(subset = ['living_area', 'kitchen_area'], inplace = True)"
   ]
  },
  {
   "cell_type": "markdown",
   "metadata": {},
   "source": [
    "Проверяем."
   ]
  },
  {
   "cell_type": "code",
   "execution_count": 32,
   "metadata": {},
   "outputs": [
    {
     "data": {
      "text/plain": [
       "living_area     0\n",
       "kitchen_area    0\n",
       "dtype: int64"
      ]
     },
     "execution_count": 32,
     "metadata": {},
     "output_type": "execute_result"
    }
   ],
   "source": [
    "df[['living_area', 'kitchen_area']].isna().sum()"
   ]
  },
  {
   "cell_type": "markdown",
   "metadata": {},
   "source": [
    "Видим, что мы успешно избавились от проущенных значений в полях living_area и kitchen_area. Количество пропусков в остальных полях слишком велико, чтобы их просто удалить, поэтому и обработке пропущенных значений в этих полях попытаемся подойти более глубоко и более осмысленно.\n",
    "\n",
    "<a href='#title'>К оглавлению.</a> "
   ]
  },
  {
   "cell_type": "markdown",
   "metadata": {},
   "source": [
    "<a id='2.4.3'></a> \n",
    "### Этап 2.4.3. Обработка пропущенных значений в поле \"is_apartment\".\n",
    "\n",
    "Рассмотрим поле is_apartment. Напомню, что это поле является булевым. То есть если квартира является апартаментами, в поле находится значение True, если квартира не является апартаментами - False.\n",
    "\n",
    "Можно предположить, что раз это поле не заполнено, то квартира не является апартаментами, так как люди могут не вносить в объявление те особенности квартиры, которые этой квартире не присущи.\n",
    "\n",
    "Следуюя этой логике, заменим все отсутствующие значения на False, что будет означать следующее: \"если данные о принадлежности квартиры к классу апартаментов не были заполнены, эти квартиры априори не являются апартаментами\".\n",
    "\n",
    "Так как тип данных в поле is_apartment булевой, пропущенные значения можно заменять сразу на False."
   ]
  },
  {
   "cell_type": "code",
   "execution_count": 33,
   "metadata": {},
   "outputs": [],
   "source": [
    "df['is_apartment'] = df['is_apartment'].fillna(False)"
   ]
  },
  {
   "cell_type": "markdown",
   "metadata": {},
   "source": [
    "Проверим факт заполнения пропущенных значений и тип данных в поле is_apartment после замены пропущенных значений."
   ]
  },
  {
   "cell_type": "code",
   "execution_count": 34,
   "metadata": {},
   "outputs": [
    {
     "data": {
      "text/plain": [
       "0"
      ]
     },
     "execution_count": 34,
     "metadata": {},
     "output_type": "execute_result"
    }
   ],
   "source": [
    "df['is_apartment'].isna().sum()"
   ]
  },
  {
   "cell_type": "code",
   "execution_count": 35,
   "metadata": {},
   "outputs": [
    {
     "data": {
      "text/plain": [
       "False    20162\n",
       "True        26\n",
       "Name: is_apartment, dtype: int64"
      ]
     },
     "execution_count": 35,
     "metadata": {},
     "output_type": "execute_result"
    }
   ],
   "source": [
    "df['is_apartment'].value_counts()"
   ]
  },
  {
   "cell_type": "markdown",
   "metadata": {},
   "source": [
    "Видим, что замена пропущенных значений осуществлена корректно: в поле is_apartment нет иных значений, кроме True и False, в том числе и пропущенных значений.\n",
    "\n",
    "<a href='#title'>К оглавлению.</a> "
   ]
  },
  {
   "cell_type": "markdown",
   "metadata": {},
   "source": [
    "<a id='2.4.4'></a> \n",
    "### Этап 2.4.4. Обработка пропущенных значений в поле \"balcony\".\n",
    "\n",
    "Рассмотрим поле balcony. \n",
    "\n",
    "Пропущенные значения в этом поле будем заменять по той же логике, которую использовали при замене пропущенных значений в поле is_apartment: если информация в поле balcony отсутствует, значит, балкона в квартире нет, поэтому информация о нём в объявлении не была заполнена изначально."
   ]
  },
  {
   "cell_type": "code",
   "execution_count": 36,
   "metadata": {},
   "outputs": [],
   "source": [
    "df['balcony'] = df['balcony'].fillna(0)"
   ]
  },
  {
   "cell_type": "markdown",
   "metadata": {},
   "source": [
    "Проверим, корректно ли осуществлена замена."
   ]
  },
  {
   "cell_type": "code",
   "execution_count": 37,
   "metadata": {},
   "outputs": [
    {
     "data": {
      "text/plain": [
       "0"
      ]
     },
     "execution_count": 37,
     "metadata": {},
     "output_type": "execute_result"
    }
   ],
   "source": [
    "df['balcony'].isna().sum()"
   ]
  },
  {
   "cell_type": "markdown",
   "metadata": {},
   "source": [
    "Видим, что пропуски в поле balcony были заменены успешно. \n",
    "\n",
    "Вместе с тем справедливо отметить, что такая замена изменила распределение квартир в зависимости от количества балконов в них. Проверим с помощью гистограммы."
   ]
  },
  {
   "cell_type": "code",
   "execution_count": 38,
   "metadata": {},
   "outputs": [
    {
     "data": {
      "text/plain": [
       "<matplotlib.axes._subplots.AxesSubplot at 0x7fa2ad438490>"
      ]
     },
     "execution_count": 38,
     "metadata": {},
     "output_type": "execute_result"
    },
    {
     "data": {
      "image/png": "[encoded data removed]",
      "text/plain": [
       "<Figure size 432x288 with 1 Axes>"
      ]
     },
     "metadata": {
      "needs_background": "light"
     },
     "output_type": "display_data"
    }
   ],
   "source": [
    "df.plot(y='balcony', title='Распределение квартир в зависимости от количества балконов', \n",
    "                                   kind='hist', grid=True, bins=5, range=(0, 5))"
   ]
  },
  {
   "cell_type": "markdown",
   "metadata": {},
   "source": [
    "Видим значительное смещение распределения квартир в сторону тех квартир, у которых нет балконов, что неудивительно, ведь мы только что добавили в категорию \"0\" 9637 значений, которые ранее просто отсутствовали.\n",
    "\n",
    "Распределение квартир в зависимости от количества балконов всё так же напоминает распределие Пуассона.\n",
    "\n",
    "<a href='#title'>К оглавлению.</a> "
   ]
  },
  {
   "cell_type": "markdown",
   "metadata": {},
   "source": [
    "<a id='2.4.5'></a> \n",
    "### Этап 2.4.5. Обработка пропущенных значений в поле \"ceiling_height\".\n",
    "\n",
    "Рассмотрим поле ceiling_height. Учитывая тот факт, что ранее мы избавились от аномальных значений в этом поле, которые могли бы сместить показатели центра распределения выборки, пропущенные значения в этом поле заменим на медианное значение высоты потолка.\n",
    "\n",
    "Отмечу, что более справедливой была бы логика замены пропущенных значений на медианное значение высоты потолка в зависимости от типа дома, в котором находится квартира (панелька, сталинка, хрущёвка и др.), однако такая информация отсутствует. \n",
    "\n",
    "Применительно к имеющемуся набору данных также имеет место гипотеза о связи высоты потолка и количества этажей, но мне кажется это малоправдоподобным на практике, поэтому такую гипотезу рассматривать не будем и остановися на медианном значении. "
   ]
  },
  {
   "cell_type": "code",
   "execution_count": 39,
   "metadata": {},
   "outputs": [],
   "source": [
    "df['ceiling_height'] = df['ceiling_height'].fillna(df['ceiling_height'].median())"
   ]
  },
  {
   "cell_type": "markdown",
   "metadata": {},
   "source": [
    "Проверяем."
   ]
  },
  {
   "cell_type": "code",
   "execution_count": 40,
   "metadata": {},
   "outputs": [
    {
     "data": {
      "text/plain": [
       "0"
      ]
     },
     "execution_count": 40,
     "metadata": {},
     "output_type": "execute_result"
    }
   ],
   "source": [
    "df['ceiling_height'].isna().sum()"
   ]
  },
  {
   "cell_type": "markdown",
   "metadata": {},
   "source": [
    "Видим, что пропуски в поле ceiling_height успешно обработаны. Посмотрим на распределение квартир в зависимости от высоты потолка после обработки пропущенных значений."
   ]
  },
  {
   "cell_type": "code",
   "execution_count": 41,
   "metadata": {},
   "outputs": [
    {
     "data": {
      "text/plain": [
       "<matplotlib.axes._subplots.AxesSubplot at 0x7fa2ad3b0550>"
      ]
     },
     "execution_count": 41,
     "metadata": {},
     "output_type": "execute_result"
    },
    {
     "data": {
      "image/png": "[encoded data removed]",
      "text/plain": [
       "<Figure size 432x288 with 1 Axes>"
      ]
     },
     "metadata": {
      "needs_background": "light"
     },
     "output_type": "display_data"
    }
   ],
   "source": [
    "df.plot(title='Распределение количества квартир в зависимости от высоты потолка', \n",
    "                           y='ceiling_height', kind='hist', bins=5, legend=True, grid=True, range=(0, 5))"
   ]
  },
  {
   "cell_type": "markdown",
   "metadata": {},
   "source": [
    "Видим, что распределение не изменилось, так как большая часть квартир в нашем наборе данных имеет высоту потолка, равную двум метрам. Такое же распределение мы видели на гистограмме и до обработки пропущенных значений.\n",
    "\n",
    "<a href='#title'>К оглавлению.</a> "
   ]
  },
  {
   "cell_type": "markdown",
   "metadata": {},
   "source": [
    "<a id='2.4.6'></a> \n",
    "### Этап 2.4.6. Обработка пропущенных значений в поле \"days_exposition\".\n",
    "\n",
    "Рассмотрим поле days_exposition. Пропущенные значения в этом поле обработаем аналогично предыдущему полю: учитывая природу данных в этом поле - количество дней с момента публикации до снятия объявления - и отсутствие каких-либо признаков, которые могли бы привести к более объективной логике заполнения пропущенных значений (например, имея дату публикации объявления и дату снятия объявления с площадки, можно было бы более уверенно говорить о том, как лучше заполнить пропуски), заполним отсутствующие значения медианным значением количества дней с момента публикации до снятия объявления.\n",
    "\n",
    "Перед обработкой пропущенных значений в этом поле проверим распределение квартир в зависимости от количества дней с даты подачи объявления и до его снятия."
   ]
  },
  {
   "cell_type": "code",
   "execution_count": 42,
   "metadata": {},
   "outputs": [
    {
     "data": {
      "text/plain": [
       "<matplotlib.axes._subplots.AxesSubplot at 0x7fa2ad348590>"
      ]
     },
     "execution_count": 42,
     "metadata": {},
     "output_type": "execute_result"
    },
    {
     "data": {
      "image/png": "[encoded data removed]",
      "text/plain": [
       "<Figure size 432x288 with 1 Axes>"
      ]
     },
     "metadata": {
      "needs_background": "light"
     },
     "output_type": "display_data"
    }
   ],
   "source": [
    "df.plot(y='days_exposition', title='Распределение квартир \\\n",
    "                                    в зависимости от длительности объявления', kind='hist', grid=True, bins=10)"
   ]
  },
  {
   "cell_type": "markdown",
   "metadata": {},
   "source": [
    "Распределение квартир похоже на распределение Пуассона. \n",
    "\n",
    "Видим, что основная масса квартир в зависимости от длительности объявления ссоредоточена в диапазоне от 0 до 900. После 900 начинается длинный хвост с, по всей видимости, не очень интересными объявлениями, авторы которых долго не теряли надежду. \n",
    "\n",
    "Вместе с тем такое тоже имеет место быть и может быть объяснено отсутствием спроса на жильё такого типа или с такими условиями,  которые были указаны в объявлении, а, может, не устроила цена, поэтому объявление было активным очень долго.\n",
    "\n",
    "В силу этого отсекать длинный хвост мы не будем.\n",
    "\n",
    "Вместо этого проанализируем влияние этого хвоста на показатели центра распределения, посчитав среднее и медианное значение дней и сравнив его между собой."
   ]
  },
  {
   "cell_type": "code",
   "execution_count": 43,
   "metadata": {},
   "outputs": [
    {
     "name": "stdout",
     "output_type": "stream",
     "text": [
      "184.76893114904342\n",
      "101.0\n"
     ]
    }
   ],
   "source": [
    "print(df['days_exposition'].mean())\n",
    "print(df['days_exposition'].median())"
   ]
  },
  {
   "cell_type": "markdown",
   "metadata": {},
   "source": [
    "Видим, что средняя и медианная длительность объявления отличается на примерно 84 дня, что может быть связано как раз с наличием длинного хвоста с малым количеством объявлений, которые очень долго были активы на платформе. \n",
    "\n",
    "Поэтому для обработки пропущенных значений будем использовать медианное значение, чтобы нивелировать влияние этого хвоста."
   ]
  },
  {
   "cell_type": "code",
   "execution_count": 44,
   "metadata": {},
   "outputs": [],
   "source": [
    "df['days_exposition'] = df['days_exposition'].fillna(df['days_exposition'].median())"
   ]
  },
  {
   "cell_type": "markdown",
   "metadata": {},
   "source": [
    "Посмотрим, как изменилось распределение квартир в зависимости от длительности объявления после обработки пропущенных значений. Условие о ненулевых значениях уже можно не применять, так как такие значения были заменены на медианное значение длительности объявления."
   ]
  },
  {
   "cell_type": "code",
   "execution_count": 45,
   "metadata": {},
   "outputs": [
    {
     "data": {
      "text/plain": [
       "<matplotlib.axes._subplots.AxesSubplot at 0x7fa2ad2d11d0>"
      ]
     },
     "execution_count": 45,
     "metadata": {},
     "output_type": "execute_result"
    },
    {
     "data": {
      "image/png": "[encoded data removed]",
      "text/plain": [
       "<Figure size 432x288 with 1 Axes>"
      ]
     },
     "metadata": {
      "needs_background": "light"
     },
     "output_type": "display_data"
    }
   ],
   "source": [
    "df.plot(y='days_exposition', title='Распределение квартир в зависимости от длительности объявления', kind='hist',\n",
    "       grid=True, bins=10)"
   ]
  },
  {
   "cell_type": "markdown",
   "metadata": {},
   "source": [
    "Видим, что после обработки пропущенных значений, которые мы заменили на медианную длительность объявления, распределение квартир не изменилось."
   ]
  },
  {
   "cell_type": "code",
   "execution_count": 46,
   "metadata": {},
   "outputs": [
    {
     "data": {
      "text/plain": [
       "0"
      ]
     },
     "execution_count": 46,
     "metadata": {},
     "output_type": "execute_result"
    }
   ],
   "source": [
    "df['days_exposition'].isna().sum()"
   ]
  },
  {
   "cell_type": "markdown",
   "metadata": {},
   "source": [
    "Оставшиеся поля можно объединить в две большие группы: поля, которые описывают расстрояние от дома, в котором находится квартира, до какого-либо объекта и количество каких-либо объектов на расстроянии 3 км от дома, в котором находится квартира.\n",
    "\n",
    "<a href='#title'>К оглавлению.</a> "
   ]
  },
  {
   "cell_type": "markdown",
   "metadata": {},
   "source": [
    "<a id='2.4.7'></a> \n",
    "### Этап 2.4.7. Обработка пропущенных значений в полях \"airports_nearest\", \"cityCenters_nearest\", \"parks_nearest\" и \"ponds_nearest\".\n",
    "\n",
    "Для обработи пропущенных значений в этих полях изначально предполагалось применить следующую логику:\n",
    "\n",
    "1. Формируем промежуточные наборы данных, в каждом из которых оставим поле locality_name и каждое из исследуемых полей, в которых будем обрабатывать пропуски.\n",
    "\n",
    "2. В промежуточном наборе данных оценим медианное расстрояние до объета в зависимости от населённого пункта.\n",
    "\n",
    "3. Заменим пропущенные значения в изначальном наборе данных на медианное расстрояние до объекта в зависимости от населённого пункта.\n",
    "\n",
    "В ходе эксперминета выяснилось, что такая логика не сработает: в теории, чтобы описанная цепочка действий сработала, нужно, чтобы для каждого уникального населённого пункта были описаны эти расстрояния. \n",
    "\n",
    "На практике оказалось, что в наборе данных есть населённые пункты, для которых не указано расстояние ни до одного из объектов."
   ]
  },
  {
   "cell_type": "code",
   "execution_count": 47,
   "metadata": {},
   "outputs": [
    {
     "name": "stdout",
     "output_type": "stream",
     "text": [
      "Количество уникальных населённых пунктов: 342\n"
     ]
    }
   ],
   "source": [
    "print('Количество уникальных населённых пунктов:', df['locality_name'].nunique())"
   ]
  },
  {
   "cell_type": "code",
   "execution_count": 48,
   "metadata": {},
   "outputs": [
    {
     "name": "stdout",
     "output_type": "stream",
     "text": [
      "Количество уникальных населённых пунктов, для которых известно расстояние до аэропорта: 24\n"
     ]
    }
   ],
   "source": [
    "print('Количество уникальных населённых пунктов, для которых известно расстояние до аэропорта:', \n",
    "      df[df['airports_nearest'].notnull()]['locality_name'].nunique())"
   ]
  },
  {
   "cell_type": "code",
   "execution_count": 49,
   "metadata": {},
   "outputs": [
    {
     "name": "stdout",
     "output_type": "stream",
     "text": [
      "Количество уникальных населённых пунктов, для которых известно расстояние до центра города: 24\n"
     ]
    }
   ],
   "source": [
    "print('Количество уникальных населённых пунктов, для которых известно расстояние до центра города:', \n",
    "      df[df['cityCenters_nearest'].notnull()]['locality_name'].nunique())"
   ]
  },
  {
   "cell_type": "code",
   "execution_count": 50,
   "metadata": {},
   "outputs": [
    {
     "name": "stdout",
     "output_type": "stream",
     "text": [
      "Количество уникальных населённых пунктов, для которых известно расстояние до парка: 12\n"
     ]
    }
   ],
   "source": [
    "print('Количество уникальных населённых пунктов, для которых известно расстояние до парка:', \n",
    "      df[df['parks_nearest'].notnull()]['locality_name'].nunique())"
   ]
  },
  {
   "cell_type": "code",
   "execution_count": 51,
   "metadata": {},
   "outputs": [
    {
     "name": "stdout",
     "output_type": "stream",
     "text": [
      "Количество уникальных населённых пунктов, для которых известно расстояние до бассейна: 17\n"
     ]
    }
   ],
   "source": [
    "print('Количество уникальных населённых пунктов, для которых известно расстояние до бассейна:', \n",
    "      df[df['ponds_nearest'].notnull()]['locality_name'].nunique())"
   ]
  },
  {
   "cell_type": "markdown",
   "metadata": {},
   "source": [
    "Таким образом можно сделать вывод о том, что в изначальном наборе данных до применения фильтра имеем 342 уникальных населённых пункта, в которых находятся квартиры. \n",
    "\n",
    "Чтобы реализовать описанную логику работы с пропусками в исследуемых полях, необходимо рассчитать мединное значения расстрояния от квартиры до объектов для каждого уникального населённого пункта. При этом если даже для одного населённого пункта в поле с расстоянием не будет данных, описанная логика работать не будет.\n",
    "\n",
    "Изучив количество населённых пунктов в зависимости от расстояния до каждого объекта при условии, что поле с расстоянием не имеет пропущенных значений, приходим к выводу, что для поля airports_nearest можем рассчитать медианное расстояние только для 24 населённых пунктов, для поля cityCenters_nearest - для 24 населённых пунктов, для поля parks_nearest - для 12 населённых пунктов, для поля ponds_nearest - для 17 населённых пунктов. \n",
    "\n",
    "Для остальных населённых пунктов для этих полей медианное расстрояние рассчитать невозможно, так как есть населённые пункты, для которых расстояние до объекта не указано.\n",
    "\n",
    "Следовательно, какого-то объективного способа заполнить пропущенные значения в этих полях нет. В таком случае условимся, что пропущенные значения в этих полях мы заменим на 0 типа float, а для себя обозначим, что если в поле с расстоянием указано 0, то квартира находится недалеко от объекта."
   ]
  },
  {
   "cell_type": "code",
   "execution_count": 52,
   "metadata": {},
   "outputs": [],
   "source": [
    "df['airports_nearest'] = df['airports_nearest'].fillna(0)\n",
    "df['cityCenters_nearest'] = df['cityCenters_nearest'].fillna(0)\n",
    "df['parks_nearest'] = df['parks_nearest'].fillna(0)\n",
    "df['ponds_nearest'] = df['ponds_nearest'].fillna(0)"
   ]
  },
  {
   "cell_type": "markdown",
   "metadata": {},
   "source": [
    "Проверим, корректно ли осуществлена замена."
   ]
  },
  {
   "cell_type": "code",
   "execution_count": 53,
   "metadata": {},
   "outputs": [
    {
     "data": {
      "text/plain": [
       "airports_nearest       0\n",
       "cityCenters_nearest    0\n",
       "parks_nearest          0\n",
       "ponds_nearest          0\n",
       "dtype: int64"
      ]
     },
     "execution_count": 53,
     "metadata": {},
     "output_type": "execute_result"
    }
   ],
   "source": [
    "df[['airports_nearest', 'cityCenters_nearest', 'parks_nearest', 'ponds_nearest']].isna().sum()"
   ]
  },
  {
   "cell_type": "code",
   "execution_count": 54,
   "metadata": {},
   "outputs": [
    {
     "name": "stdout",
     "output_type": "stream",
     "text": [
      "<class 'pandas.core.frame.DataFrame'>\n",
      "Int64Index: 20188 entries, 0 to 23698\n",
      "Data columns (total 4 columns):\n",
      "airports_nearest       20188 non-null float64\n",
      "cityCenters_nearest    20188 non-null float64\n",
      "parks_nearest          20188 non-null float64\n",
      "ponds_nearest          20188 non-null float64\n",
      "dtypes: float64(4)\n",
      "memory usage: 788.6 KB\n"
     ]
    }
   ],
   "source": [
    "df[['airports_nearest', 'cityCenters_nearest', 'parks_nearest', 'ponds_nearest']].info()"
   ]
  },
  {
   "cell_type": "markdown",
   "metadata": {},
   "source": [
    "Видим, что замена осуществлена корректно, при этом тип данных в этих полях после обработки пропущенных значений - float.\n",
    "\n",
    "<a href='#title'>К оглавлению.</a> "
   ]
  },
  {
   "cell_type": "markdown",
   "metadata": {},
   "source": [
    "<a id='2.4.8'></a> \n",
    "### Этап 2.4.8. Обработка пропущенных значений в полях \"parks_around3000\" и \"ponds_around3000\".\n",
    "\n",
    "Оставшиеся два поля - parks_around3000 и ponds_around3000 - описывают количество парков и бассейнов в радиусе 3 км от квартиры. Так как это поле очевидно связано с населённым пунктом, попытаемся применить описанную выше логику, которую возможно было бы применить для группы полей, в которой описывалось растояние от квартиры до объекта.\n",
    "\n",
    "Напомню, что в наборе данных содержится 342 населённых пункта."
   ]
  },
  {
   "cell_type": "code",
   "execution_count": 55,
   "metadata": {},
   "outputs": [
    {
     "name": "stdout",
     "output_type": "stream",
     "text": [
      "Количество уникальных населённых пунктов, для которых известно количество парков в радиусе 3000 м.: 24\n"
     ]
    }
   ],
   "source": [
    "print('Количество уникальных населённых пунктов, для которых известно количество парков в радиусе 3000 м.:', \n",
    "      df[df['parks_around3000'].notnull()]['locality_name'].nunique())"
   ]
  },
  {
   "cell_type": "code",
   "execution_count": 56,
   "metadata": {},
   "outputs": [
    {
     "name": "stdout",
     "output_type": "stream",
     "text": [
      "Количество уникальных населённых пунктов, для которых известно количество бассейнов в радиусе 3000 м.: 24\n"
     ]
    }
   ],
   "source": [
    "print('Количество уникальных населённых пунктов, для которых известно количество бассейнов в радиусе 3000 м.:', \n",
    "      df[df['ponds_around3000'].notnull()]['locality_name'].nunique())"
   ]
  },
  {
   "cell_type": "markdown",
   "metadata": {},
   "source": [
    "Видим, что только для 24 населённых пунктах из 342 мы можем определить медианное количество объектов в радиусе 3 км. Поэтому осуществим замену пропущенных значений в этих полях на медианные значения количества объектов в радиусе 3 км, расссчитанных на всём наботе данных."
   ]
  },
  {
   "cell_type": "code",
   "execution_count": 57,
   "metadata": {},
   "outputs": [
    {
     "data": {
      "text/plain": [
       "0.0"
      ]
     },
     "execution_count": 57,
     "metadata": {},
     "output_type": "execute_result"
    }
   ],
   "source": [
    "df['parks_around3000'].median()"
   ]
  },
  {
   "cell_type": "code",
   "execution_count": 58,
   "metadata": {},
   "outputs": [
    {
     "data": {
      "text/plain": [
       "0.0"
      ]
     },
     "execution_count": 58,
     "metadata": {},
     "output_type": "execute_result"
    }
   ],
   "source": [
    "df['ponds_around3000'].median()"
   ]
  },
  {
   "cell_type": "markdown",
   "metadata": {},
   "source": [
    "Медианное количество объектов, равное нулю для обоих случаев, несколько настораживает, поэтому построим гистограмму распределения квартир в зависимости от количества каждого объекта."
   ]
  },
  {
   "cell_type": "code",
   "execution_count": 59,
   "metadata": {},
   "outputs": [
    {
     "data": {
      "image/png": "[encoded data removed]",
      "text/plain": [
       "<Figure size 432x288 with 1 Axes>"
      ]
     },
     "metadata": {
      "needs_background": "light"
     },
     "output_type": "display_data"
    },
    {
     "data": {
      "image/png": "[encoded data removed]",
      "text/plain": [
       "<Figure size 432x288 with 1 Axes>"
      ]
     },
     "metadata": {
      "needs_background": "light"
     },
     "output_type": "display_data"
    }
   ],
   "source": [
    "for col in df[['parks_around3000', 'ponds_around3000']]:\n",
    "    df.plot(y=col, title=col, kind='hist', grid=True, bins=3)"
   ]
  },
  {
   "cell_type": "markdown",
   "metadata": {},
   "source": [
    "Видим, что распределение квартир в зависимости от количества объектов в радиусе 3 км. не отличается от объекта к объекту, при этом основная доля квартир сконцентрирована в корзине с квартирами, у которых нет ни одного объекта в радиусе 3 км.\n",
    "\n",
    "Следовательно, пропущенные значения в полях parks_around3000 и ponds_around3000 можно заменять на медианное количество таких объектов."
   ]
  },
  {
   "cell_type": "code",
   "execution_count": 60,
   "metadata": {},
   "outputs": [],
   "source": [
    "df['parks_around3000'] = df['parks_around3000'].fillna(df['parks_around3000'].median())\n",
    "df['ponds_around3000'] = df['ponds_around3000'].fillna(df['ponds_around3000'].median())"
   ]
  },
  {
   "cell_type": "markdown",
   "metadata": {},
   "source": [
    "Проверим, корректно ли осуществлена замена и изменилось ли распределение квартир в зависимости от количества объектов в радиусе 3 км."
   ]
  },
  {
   "cell_type": "code",
   "execution_count": 61,
   "metadata": {},
   "outputs": [
    {
     "data": {
      "text/plain": [
       "parks_around3000    0\n",
       "ponds_around3000    0\n",
       "dtype: int64"
      ]
     },
     "execution_count": 61,
     "metadata": {},
     "output_type": "execute_result"
    }
   ],
   "source": [
    "df[['parks_around3000', 'ponds_around3000']].isna().sum()"
   ]
  },
  {
   "cell_type": "code",
   "execution_count": 62,
   "metadata": {},
   "outputs": [
    {
     "data": {
      "image/png": "[encoded data removed]",
      "text/plain": [
       "<Figure size 432x288 with 1 Axes>"
      ]
     },
     "metadata": {
      "needs_background": "light"
     },
     "output_type": "display_data"
    },
    {
     "data": {
      "image/png": "[encoded data removed]",
      "text/plain": [
       "<Figure size 432x288 with 1 Axes>"
      ]
     },
     "metadata": {
      "needs_background": "light"
     },
     "output_type": "display_data"
    }
   ],
   "source": [
    "for col in df[['parks_around3000', 'ponds_around3000']]:\n",
    "    df.plot(y=col, title=col, kind='hist', grid=True, bins=3)"
   ]
  },
  {
   "cell_type": "markdown",
   "metadata": {},
   "source": [
    "Видим, что пропущенные значения были успешно заменены медианными, а закономерность в распределении примерно сохранилась, с той лишь разницей, что теперь в наборе данных больше значений в корзине, в которой у квартир в 3 км нет ни бассейна, ни парка."
   ]
  },
  {
   "cell_type": "markdown",
   "metadata": {},
   "source": [
    "Так как обработка пропущенных значений завершена, можем выполнить преобразование указанных полей, о котором говорили ранее."
   ]
  },
  {
   "cell_type": "code",
   "execution_count": 63,
   "metadata": {},
   "outputs": [],
   "source": [
    "df[['floors_total', 'balcony', 'parks_around3000', 'ponds_around3000', 'days_exposition']] = df[['floors_total', 'balcony', 'parks_around3000', \n",
    "'ponds_around3000', 'days_exposition']].astype('int')"
   ]
  },
  {
   "cell_type": "code",
   "execution_count": 64,
   "metadata": {},
   "outputs": [],
   "source": [
    "df[['airports_nearest', 'cityCenters_nearest', 'parks_nearest', 'ponds_nearest']] = \\\n",
    "(df[['airports_nearest', 'cityCenters_nearest', 'parks_nearest', 'ponds_nearest']] / 1000).astype('int')"
   ]
  },
  {
   "cell_type": "markdown",
   "metadata": {},
   "source": [
    "<a href='#title'>К оглавлению.</a> "
   ]
  },
  {
   "cell_type": "markdown",
   "metadata": {},
   "source": [
    "# Вывод по этапу 2.\n",
    "\n",
    "На данном этапе мы занимались предварительной обработкой данных.\n",
    "\n",
    "Напомню, что для обработки данных условились принять следующую последовательность действий:\n",
    "\n",
    "1. Преобразование типов данных.\n",
    "\n",
    "2. Работа с аномалиями.\n",
    "\n",
    "3. Работа с дубликатами.\n",
    "\n",
    "4. Работа с пропущенными значениями.\n",
    "\n",
    "**В ходе преобразования типов данных были совершены следующие преобразования:**\n",
    "\n",
    "1. Данные поля last_price были переведы из рублей в миллионы рублей.\n",
    "\n",
    "\n",
    "2. Данные поля first_day_exposition были преобразованы из str в datetime.\n",
    "\n",
    "\n",
    "3. Данные полей floors_total, balcony, parks_around3000, ponds_around3000, days_exposition преобразованы из float в int.\n",
    "\n",
    "\n",
    "4. Данные полей airports_nearest, cityCenters_nearest, parks_nearest, ponds_nearest переведены из метров в километры с округлением до целого значения.\n",
    "\n",
    "**В ходе работы с артефактами были идентифицированы и обработаны аномалии в следующих полях:** \n",
    "\n",
    "1. rooms: проблема - аномально высокое количество комнат в квартире, порою превышающее 10 единиц, решение - удаление из набора данных записей о квартирах, у которых более 5 комнат.\n",
    "\n",
    "\n",
    "2. ceiling_height: проблема - аномально высокое значение высоты потолка, превышающее порою 5 метров, решение - удаление из набора данных записей о квартирах, у которых высота потолка превышает 5 метров.\n",
    "\n",
    "\n",
    "3. balcony: проблема - аномально высокое количество балконов, равное 3, 4 или 5 единицам, решение - удаление из набора данных записей о квартирах, у которых количество балконов превышает 2.\n",
    "\n",
    "**Дубликаты в наборе данных обнаружены не были.**\n",
    "\n",
    "**В ходе работы с пропущенными значениями были идентифицированы и обработаны пропуски в следующих полях:**\n",
    "\n",
    "1. Поля locality_name и floors_total, логика обработки пропусков - удаление из набора данных записей о квартирах, для которых значения полей locality_name и floors_total пропущены ввиду их незначительного количества в масштабах набора данных.\n",
    "\n",
    "\n",
    "2. Поля living_area и kitchen_area, логика обработки пропусков - удаление из набора данных записей о квартирах, для которых значения полей living_area и kitchen_area пропущены ввиду их незначительного количества в масштабах набора данных.\n",
    "\n",
    "\n",
    "3. Поле is_apartment, логика обработки пропусков - замена пропущенных значений на False, исходя из допущения, что если данные о принадлежности квартиры к классу апартаментов не были заполнены, эти квартиры априори не являются апартаментами.\n",
    "\n",
    "\n",
    "4. Поле balcony, логика обработки пропусков - замена пропущенных значений на 0, исходя из допущения, что если информация в поле balcony отсутствует, значит, балкона в квартире нет, поэтому информация о нём в объявлении не была заполнена изначально.\n",
    "\n",
    "\n",
    "5. Поле ceiling_height, логика обработки пропусков - замена пропущенных значений на медианную высоту полотков, рассчитанную на всём наборе данных, исходя из допущения, что для более практичной логики обработки пропущенных значений в этом поле набора данных не содержит необходимых данных.\n",
    "\n",
    "\n",
    "6. Поле days_exposition, логика обработки пропусков - замена пропущенных значений на медианное количество дней с момента публикации до снятия объявления, рассчитанное на всём наборе данных, исходя из допущения, что для более практичной логики обработки пропущенных значений в этом поле набора данных не содержит необходимых данных.\n",
    "\n",
    "\n",
    "7. Поля airports_nearest, cityCenters_nearest, parks_nearest и ponds_nearest, логика обработки пропусков - замена пропущенных значений на 0 ввиду того, что предложенный способ обработки пропущенных значений нереализуем на данных имеющегося набора данных.\n",
    "\n",
    "\n",
    "8. Поля parks_around3000 и ponds_around3000, логика обработки пропусков - замена пропущенных значений на 0 ввиду того, что предложенный способ обработки пропущенных значений нереализуем на данных имеющегося набора данных.\n",
    "\n",
    "<a href='#title'>К оглавлению.</a> "
   ]
  },
  {
   "cell_type": "markdown",
   "metadata": {},
   "source": [
    "# Этап 3. Добавление новых признаков.\n",
    "\n",
    "На данном этапе добавим в набор данных новые признаки."
   ]
  },
  {
   "cell_type": "markdown",
   "metadata": {},
   "source": [
    "<a id='3.1'></a> \n",
    "## Этап 3.1. Новый признак \"Цена квадратного метра\".\n",
    "\n",
    "Добавим в набор данных поле price_per_square_meter, используя следующую логику расчёта: значение поля last_price (стоимость квартиры на момент снятия объявления) делим на значение поля total_area (суммарная площадь квартиры в кв.м.), получая стоимость одного кв.м. квартиры на момент снятия объявления. Отмечу, что в данном поле цена за 1 кв.м. квартиры будет укзана в миллионах рублей с округлением до 2 знаков после запятой."
   ]
  },
  {
   "cell_type": "code",
   "execution_count": 65,
   "metadata": {},
   "outputs": [],
   "source": [
    "df['price_per_square_meter'] = round(df['last_price'] / df['total_area'], 2)"
   ]
  },
  {
   "cell_type": "markdown",
   "metadata": {},
   "source": [
    "Проверим, произошёл ли расчёт нового показателя."
   ]
  },
  {
   "cell_type": "code",
   "execution_count": 66,
   "metadata": {},
   "outputs": [
    {
     "data": {
      "text/html": [
       "<div>\n",
       "<style scoped>\n",
       "    .dataframe tbody tr th:only-of-type {\n",
       "        vertical-align: middle;\n",
       "    }\n",
       "\n",
       "    .dataframe tbody tr th {\n",
       "        vertical-align: top;\n",
       "    }\n",
       "\n",
       "    .dataframe thead th {\n",
       "        text-align: right;\n",
       "    }\n",
       "</style>\n",
       "<table border=\"1\" class=\"dataframe\">\n",
       "  <thead>\n",
       "    <tr style=\"text-align: right;\">\n",
       "      <th></th>\n",
       "      <th>total_area</th>\n",
       "      <th>last_price</th>\n",
       "      <th>price_per_square_meter</th>\n",
       "    </tr>\n",
       "  </thead>\n",
       "  <tbody>\n",
       "    <tr>\n",
       "      <td>0</td>\n",
       "      <td>108.00</td>\n",
       "      <td>13.00</td>\n",
       "      <td>0.12</td>\n",
       "    </tr>\n",
       "    <tr>\n",
       "      <td>1</td>\n",
       "      <td>40.40</td>\n",
       "      <td>3.35</td>\n",
       "      <td>0.08</td>\n",
       "    </tr>\n",
       "    <tr>\n",
       "      <td>2</td>\n",
       "      <td>56.00</td>\n",
       "      <td>5.20</td>\n",
       "      <td>0.09</td>\n",
       "    </tr>\n",
       "    <tr>\n",
       "      <td>4</td>\n",
       "      <td>100.00</td>\n",
       "      <td>10.00</td>\n",
       "      <td>0.10</td>\n",
       "    </tr>\n",
       "    <tr>\n",
       "      <td>5</td>\n",
       "      <td>30.40</td>\n",
       "      <td>2.89</td>\n",
       "      <td>0.10</td>\n",
       "    </tr>\n",
       "    <tr>\n",
       "      <td>6</td>\n",
       "      <td>37.30</td>\n",
       "      <td>3.70</td>\n",
       "      <td>0.10</td>\n",
       "    </tr>\n",
       "    <tr>\n",
       "      <td>8</td>\n",
       "      <td>33.16</td>\n",
       "      <td>2.90</td>\n",
       "      <td>0.09</td>\n",
       "    </tr>\n",
       "    <tr>\n",
       "      <td>9</td>\n",
       "      <td>61.00</td>\n",
       "      <td>5.40</td>\n",
       "      <td>0.09</td>\n",
       "    </tr>\n",
       "    <tr>\n",
       "      <td>10</td>\n",
       "      <td>39.60</td>\n",
       "      <td>5.05</td>\n",
       "      <td>0.13</td>\n",
       "    </tr>\n",
       "    <tr>\n",
       "      <td>11</td>\n",
       "      <td>44.00</td>\n",
       "      <td>3.30</td>\n",
       "      <td>0.08</td>\n",
       "    </tr>\n",
       "  </tbody>\n",
       "</table>\n",
       "</div>"
      ],
      "text/plain": [
       "    total_area  last_price  price_per_square_meter\n",
       "0       108.00       13.00                    0.12\n",
       "1        40.40        3.35                    0.08\n",
       "2        56.00        5.20                    0.09\n",
       "4       100.00       10.00                    0.10\n",
       "5        30.40        2.89                    0.10\n",
       "6        37.30        3.70                    0.10\n",
       "8        33.16        2.90                    0.09\n",
       "9        61.00        5.40                    0.09\n",
       "10       39.60        5.05                    0.13\n",
       "11       44.00        3.30                    0.08"
      ]
     },
     "execution_count": 66,
     "metadata": {},
     "output_type": "execute_result"
    }
   ],
   "source": [
    "df[['total_area', 'last_price', 'price_per_square_meter']].head(10)"
   ]
  },
  {
   "cell_type": "markdown",
   "metadata": {},
   "source": [
    "Видим, что в наборе данных появилось поле price_per_square_meter. Следовательно, расчёт показателя осуществлён.\n",
    "\n",
    "<a href='#title'>К оглавлению.</a> "
   ]
  },
  {
   "cell_type": "markdown",
   "metadata": {},
   "source": [
    "<a id='3.2'></a> \n",
    "## Этап 3.2. Новые признаки \"День недели, месяц и год публикации объявления\".\n",
    "\n",
    "За основу для расчёта необходимых показателей будем использовать поле first_day_exposition, извлекая из него соответственно день, месяц и год, помещая эти значения в новые поля набора данных."
   ]
  },
  {
   "cell_type": "code",
   "execution_count": 67,
   "metadata": {},
   "outputs": [],
   "source": [
    "df['day_exposition'] = df['first_day_exposition'].dt.day\n",
    "df['month_exposition'] = df['first_day_exposition'].dt.month\n",
    "df['year_exposition'] = df['first_day_exposition'].dt.year"
   ]
  },
  {
   "cell_type": "markdown",
   "metadata": {},
   "source": [
    "Проверим, произошёл ли расчёт новых показателей."
   ]
  },
  {
   "cell_type": "code",
   "execution_count": 68,
   "metadata": {},
   "outputs": [
    {
     "data": {
      "text/html": [
       "<div>\n",
       "<style scoped>\n",
       "    .dataframe tbody tr th:only-of-type {\n",
       "        vertical-align: middle;\n",
       "    }\n",
       "\n",
       "    .dataframe tbody tr th {\n",
       "        vertical-align: top;\n",
       "    }\n",
       "\n",
       "    .dataframe thead th {\n",
       "        text-align: right;\n",
       "    }\n",
       "</style>\n",
       "<table border=\"1\" class=\"dataframe\">\n",
       "  <thead>\n",
       "    <tr style=\"text-align: right;\">\n",
       "      <th></th>\n",
       "      <th>first_day_exposition</th>\n",
       "      <th>day_exposition</th>\n",
       "      <th>month_exposition</th>\n",
       "      <th>year_exposition</th>\n",
       "    </tr>\n",
       "  </thead>\n",
       "  <tbody>\n",
       "    <tr>\n",
       "      <td>0</td>\n",
       "      <td>2019-03-07</td>\n",
       "      <td>7</td>\n",
       "      <td>3</td>\n",
       "      <td>2019</td>\n",
       "    </tr>\n",
       "    <tr>\n",
       "      <td>1</td>\n",
       "      <td>2018-12-04</td>\n",
       "      <td>4</td>\n",
       "      <td>12</td>\n",
       "      <td>2018</td>\n",
       "    </tr>\n",
       "    <tr>\n",
       "      <td>2</td>\n",
       "      <td>2015-08-20</td>\n",
       "      <td>20</td>\n",
       "      <td>8</td>\n",
       "      <td>2015</td>\n",
       "    </tr>\n",
       "    <tr>\n",
       "      <td>4</td>\n",
       "      <td>2018-06-19</td>\n",
       "      <td>19</td>\n",
       "      <td>6</td>\n",
       "      <td>2018</td>\n",
       "    </tr>\n",
       "    <tr>\n",
       "      <td>5</td>\n",
       "      <td>2018-09-10</td>\n",
       "      <td>10</td>\n",
       "      <td>9</td>\n",
       "      <td>2018</td>\n",
       "    </tr>\n",
       "  </tbody>\n",
       "</table>\n",
       "</div>"
      ],
      "text/plain": [
       "  first_day_exposition  day_exposition  month_exposition  year_exposition\n",
       "0           2019-03-07               7                 3             2019\n",
       "1           2018-12-04               4                12             2018\n",
       "2           2015-08-20              20                 8             2015\n",
       "4           2018-06-19              19                 6             2018\n",
       "5           2018-09-10              10                 9             2018"
      ]
     },
     "execution_count": 68,
     "metadata": {},
     "output_type": "execute_result"
    }
   ],
   "source": [
    "df[['first_day_exposition', 'day_exposition', 'month_exposition', 'year_exposition']].head(5)"
   ]
  },
  {
   "cell_type": "markdown",
   "metadata": {},
   "source": [
    "Видим, что в наборе данных появились поля day_exposition, month_exposition и year_exposition. Следовательно, расчёт показателей осуществлён, визуально подтверждается корректность расчёта.\n",
    "\n",
    "<a href='#title'>К оглавлению.</a> "
   ]
  },
  {
   "cell_type": "markdown",
   "metadata": {},
   "source": [
    "<a id='3.3'></a> \n",
    "## Этап 3.3. Новый признак \"Этаж квартиры\".\n",
    "\n",
    "Для расчёта этого показателя понадобятся знчения из двух полей: значения поля floor описывает этаж, на котором находится квартира, значения поля floors_total описывает общее количество этажей в доме.\n",
    "\n",
    "Для расчёта показателя напишем функцию, которая будет работать по следующей логике:\n",
    "\n",
    "1. Если значение поля floor совпадает со значением поля floor_total, функция вернёт значение \"последний\".\n",
    "\n",
    "2. Если поле flor равно 1, функция вернёт значение \"первый\".\n",
    "\n",
    "3. Если поле flor равно 1, при этом поле flor_total также равно 1, функция возвращает значение \"один этаж\" (немного не по условию, но мне кажется, это логичнее, чем говорить о том, что этаж первый или последний).\n",
    "\n",
    "4. В остальных случаях функция вернёт значение \"другой\".\n",
    "\n",
    "На вход функция принимает строку, из которой извлекает необходимые поля."
   ]
  },
  {
   "cell_type": "code",
   "execution_count": 69,
   "metadata": {},
   "outputs": [],
   "source": [
    "def floor_apartment(row):\n",
    "    floor = row['floor']\n",
    "    floors_total = row['floors_total']\n",
    "    if floor == floors_total:\n",
    "        if floor == 1 and floors_total == 1:\n",
    "            return 'Один этаж'\n",
    "        else:\n",
    "            return 'Последний'\n",
    "    elif floor == 1:\n",
    "        return 'Первый'\n",
    "    else:\n",
    "        return 'Другой'"
   ]
  },
  {
   "cell_type": "markdown",
   "metadata": {},
   "source": [
    "Проверим работу функции. Для этого создадим несколько строк."
   ]
  },
  {
   "cell_type": "code",
   "execution_count": 71,
   "metadata": {},
   "outputs": [
    {
     "name": "stdout",
     "output_type": "stream",
     "text": [
      "Последний\n",
      "Первый\n",
      "Другой\n",
      "Один этаж\n",
      "Другой\n"
     ]
    }
   ],
   "source": [
    "row_values_1 = [5, 5]\n",
    "row_values_2 = [1, 5]\n",
    "row_values_3 = [2, 4]\n",
    "row_values_4 = [1, 1]\n",
    "row_values_5 = [3, 8]\n",
    "row_columns = ['floor', 'floors_total']\n",
    "row_1 = pd.Series(data = row_values_1, index = row_columns)\n",
    "row_2 = pd.Series(data = row_values_2, index = row_columns)\n",
    "row_3 = pd.Series(data = row_values_3, index = row_columns)\n",
    "row_4 = pd.Series(data = row_values_4, index = row_columns)\n",
    "row_5 = pd.Series(data = row_values_5, index = row_columns)\n",
    "print(floor_apartment(row_1))\n",
    "print(floor_apartment(row_2))\n",
    "print(floor_apartment(row_3))\n",
    "print(floor_apartment(row_4))\n",
    "print(floor_apartment(row_5))"
   ]
  },
  {
   "cell_type": "markdown",
   "metadata": {},
   "source": [
    "Видим, что функция работает корректно на тестовых данных. Реализуем расчёт показателя на данных из набора данных."
   ]
  },
  {
   "cell_type": "code",
   "execution_count": 72,
   "metadata": {},
   "outputs": [],
   "source": [
    "df['floor_apartment'] = df.apply(floor_apartment, axis = 1)"
   ]
  },
  {
   "cell_type": "markdown",
   "metadata": {},
   "source": [
    "Проверим, корректно ли работает функция на данных из набора данных. Для этого выведем новое поле, а также поля, участвовавшие в расчёте нового поля, и визуально оценим корректность работы функции."
   ]
  },
  {
   "cell_type": "code",
   "execution_count": 73,
   "metadata": {},
   "outputs": [
    {
     "data": {
      "text/html": [
       "<div>\n",
       "<style scoped>\n",
       "    .dataframe tbody tr th:only-of-type {\n",
       "        vertical-align: middle;\n",
       "    }\n",
       "\n",
       "    .dataframe tbody tr th {\n",
       "        vertical-align: top;\n",
       "    }\n",
       "\n",
       "    .dataframe thead th {\n",
       "        text-align: right;\n",
       "    }\n",
       "</style>\n",
       "<table border=\"1\" class=\"dataframe\">\n",
       "  <thead>\n",
       "    <tr style=\"text-align: right;\">\n",
       "      <th></th>\n",
       "      <th>floor</th>\n",
       "      <th>floors_total</th>\n",
       "      <th>floor_apartment</th>\n",
       "    </tr>\n",
       "  </thead>\n",
       "  <tbody>\n",
       "    <tr>\n",
       "      <td>0</td>\n",
       "      <td>8</td>\n",
       "      <td>16</td>\n",
       "      <td>Другой</td>\n",
       "    </tr>\n",
       "    <tr>\n",
       "      <td>1</td>\n",
       "      <td>1</td>\n",
       "      <td>11</td>\n",
       "      <td>Первый</td>\n",
       "    </tr>\n",
       "    <tr>\n",
       "      <td>2</td>\n",
       "      <td>4</td>\n",
       "      <td>5</td>\n",
       "      <td>Другой</td>\n",
       "    </tr>\n",
       "    <tr>\n",
       "      <td>4</td>\n",
       "      <td>13</td>\n",
       "      <td>14</td>\n",
       "      <td>Другой</td>\n",
       "    </tr>\n",
       "    <tr>\n",
       "      <td>5</td>\n",
       "      <td>5</td>\n",
       "      <td>12</td>\n",
       "      <td>Другой</td>\n",
       "    </tr>\n",
       "    <tr>\n",
       "      <td>6</td>\n",
       "      <td>6</td>\n",
       "      <td>26</td>\n",
       "      <td>Другой</td>\n",
       "    </tr>\n",
       "    <tr>\n",
       "      <td>8</td>\n",
       "      <td>26</td>\n",
       "      <td>27</td>\n",
       "      <td>Другой</td>\n",
       "    </tr>\n",
       "    <tr>\n",
       "      <td>9</td>\n",
       "      <td>7</td>\n",
       "      <td>9</td>\n",
       "      <td>Другой</td>\n",
       "    </tr>\n",
       "    <tr>\n",
       "      <td>10</td>\n",
       "      <td>3</td>\n",
       "      <td>12</td>\n",
       "      <td>Другой</td>\n",
       "    </tr>\n",
       "    <tr>\n",
       "      <td>11</td>\n",
       "      <td>4</td>\n",
       "      <td>5</td>\n",
       "      <td>Другой</td>\n",
       "    </tr>\n",
       "    <tr>\n",
       "      <td>12</td>\n",
       "      <td>5</td>\n",
       "      <td>5</td>\n",
       "      <td>Последний</td>\n",
       "    </tr>\n",
       "    <tr>\n",
       "      <td>13</td>\n",
       "      <td>5</td>\n",
       "      <td>5</td>\n",
       "      <td>Последний</td>\n",
       "    </tr>\n",
       "    <tr>\n",
       "      <td>14</td>\n",
       "      <td>1</td>\n",
       "      <td>6</td>\n",
       "      <td>Первый</td>\n",
       "    </tr>\n",
       "    <tr>\n",
       "      <td>15</td>\n",
       "      <td>5</td>\n",
       "      <td>14</td>\n",
       "      <td>Другой</td>\n",
       "    </tr>\n",
       "    <tr>\n",
       "      <td>16</td>\n",
       "      <td>1</td>\n",
       "      <td>5</td>\n",
       "      <td>Первый</td>\n",
       "    </tr>\n",
       "    <tr>\n",
       "      <td>17</td>\n",
       "      <td>7</td>\n",
       "      <td>17</td>\n",
       "      <td>Другой</td>\n",
       "    </tr>\n",
       "    <tr>\n",
       "      <td>18</td>\n",
       "      <td>2</td>\n",
       "      <td>5</td>\n",
       "      <td>Другой</td>\n",
       "    </tr>\n",
       "    <tr>\n",
       "      <td>19</td>\n",
       "      <td>8</td>\n",
       "      <td>16</td>\n",
       "      <td>Другой</td>\n",
       "    </tr>\n",
       "    <tr>\n",
       "      <td>20</td>\n",
       "      <td>11</td>\n",
       "      <td>27</td>\n",
       "      <td>Другой</td>\n",
       "    </tr>\n",
       "    <tr>\n",
       "      <td>21</td>\n",
       "      <td>2</td>\n",
       "      <td>5</td>\n",
       "      <td>Другой</td>\n",
       "    </tr>\n",
       "  </tbody>\n",
       "</table>\n",
       "</div>"
      ],
      "text/plain": [
       "    floor  floors_total floor_apartment\n",
       "0       8            16          Другой\n",
       "1       1            11          Первый\n",
       "2       4             5          Другой\n",
       "4      13            14          Другой\n",
       "5       5            12          Другой\n",
       "6       6            26          Другой\n",
       "8      26            27          Другой\n",
       "9       7             9          Другой\n",
       "10      3            12          Другой\n",
       "11      4             5          Другой\n",
       "12      5             5       Последний\n",
       "13      5             5       Последний\n",
       "14      1             6          Первый\n",
       "15      5            14          Другой\n",
       "16      1             5          Первый\n",
       "17      7            17          Другой\n",
       "18      2             5          Другой\n",
       "19      8            16          Другой\n",
       "20     11            27          Другой\n",
       "21      2             5          Другой"
      ]
     },
     "execution_count": 73,
     "metadata": {},
     "output_type": "execute_result"
    }
   ],
   "source": [
    "df[['floor', 'floors_total', 'floor_apartment']].head(20)"
   ]
  },
  {
   "cell_type": "markdown",
   "metadata": {},
   "source": [
    "Видим, что функция корректно работает на данных из набора данных, что также подтверждается визуальным анализом результата работы функции."
   ]
  },
  {
   "cell_type": "code",
   "execution_count": 74,
   "metadata": {},
   "outputs": [
    {
     "data": {
      "text/plain": [
       "Другой       14798\n",
       "Последний     2873\n",
       "Первый        2498\n",
       "Один этаж       19\n",
       "Name: floor_apartment, dtype: int64"
      ]
     },
     "execution_count": 74,
     "metadata": {},
     "output_type": "execute_result"
    }
   ],
   "source": [
    "df['floor_apartment'].value_counts()"
   ]
  },
  {
   "cell_type": "markdown",
   "metadata": {},
   "source": [
    "<a href='#title'>К оглавлению.</a> "
   ]
  },
  {
   "cell_type": "markdown",
   "metadata": {},
   "source": [
    "<a id='3.4'></a> \n",
    "## Этап 3.4. Новые признаки \"Соотношение жилой и общей площади\" и \"Соотношение площади кухни и общей площади\".\n",
    "\n",
    "Для реализации показателей создаём 2 новых поля в наборе данных, куда помещаем соотношение жилой и общей площади, а также соотношение площади кухни и общей площади. При этом значение новых показателей округлим до 2 знаков после запятой."
   ]
  },
  {
   "cell_type": "code",
   "execution_count": 75,
   "metadata": {},
   "outputs": [],
   "source": [
    "df['living_area_to_total_area'] = round((df['living_area'] / df['total_area']), 2)\n",
    "df['kitchen_area_to_total_area'] = round((df['kitchen_area'] / df['total_area']), 2)"
   ]
  },
  {
   "cell_type": "markdown",
   "metadata": {},
   "source": [
    "Проверим, корректно ли рассчитались значения показателей."
   ]
  },
  {
   "cell_type": "code",
   "execution_count": 76,
   "metadata": {},
   "outputs": [
    {
     "data": {
      "text/html": [
       "<div>\n",
       "<style scoped>\n",
       "    .dataframe tbody tr th:only-of-type {\n",
       "        vertical-align: middle;\n",
       "    }\n",
       "\n",
       "    .dataframe tbody tr th {\n",
       "        vertical-align: top;\n",
       "    }\n",
       "\n",
       "    .dataframe thead th {\n",
       "        text-align: right;\n",
       "    }\n",
       "</style>\n",
       "<table border=\"1\" class=\"dataframe\">\n",
       "  <thead>\n",
       "    <tr style=\"text-align: right;\">\n",
       "      <th></th>\n",
       "      <th>living_area</th>\n",
       "      <th>total_area</th>\n",
       "      <th>living_area_to_total_area</th>\n",
       "      <th>kitchen_area</th>\n",
       "      <th>total_area</th>\n",
       "      <th>kitchen_area_to_total_area</th>\n",
       "    </tr>\n",
       "  </thead>\n",
       "  <tbody>\n",
       "    <tr>\n",
       "      <td>0</td>\n",
       "      <td>51.0</td>\n",
       "      <td>108.0</td>\n",
       "      <td>0.47</td>\n",
       "      <td>25.0</td>\n",
       "      <td>108.0</td>\n",
       "      <td>0.23</td>\n",
       "    </tr>\n",
       "    <tr>\n",
       "      <td>1</td>\n",
       "      <td>18.6</td>\n",
       "      <td>40.4</td>\n",
       "      <td>0.46</td>\n",
       "      <td>11.0</td>\n",
       "      <td>40.4</td>\n",
       "      <td>0.27</td>\n",
       "    </tr>\n",
       "    <tr>\n",
       "      <td>2</td>\n",
       "      <td>34.3</td>\n",
       "      <td>56.0</td>\n",
       "      <td>0.61</td>\n",
       "      <td>8.3</td>\n",
       "      <td>56.0</td>\n",
       "      <td>0.15</td>\n",
       "    </tr>\n",
       "    <tr>\n",
       "      <td>4</td>\n",
       "      <td>32.0</td>\n",
       "      <td>100.0</td>\n",
       "      <td>0.32</td>\n",
       "      <td>41.0</td>\n",
       "      <td>100.0</td>\n",
       "      <td>0.41</td>\n",
       "    </tr>\n",
       "    <tr>\n",
       "      <td>5</td>\n",
       "      <td>14.4</td>\n",
       "      <td>30.4</td>\n",
       "      <td>0.47</td>\n",
       "      <td>9.1</td>\n",
       "      <td>30.4</td>\n",
       "      <td>0.30</td>\n",
       "    </tr>\n",
       "  </tbody>\n",
       "</table>\n",
       "</div>"
      ],
      "text/plain": [
       "   living_area  total_area  living_area_to_total_area  kitchen_area  \\\n",
       "0         51.0       108.0                       0.47          25.0   \n",
       "1         18.6        40.4                       0.46          11.0   \n",
       "2         34.3        56.0                       0.61           8.3   \n",
       "4         32.0       100.0                       0.32          41.0   \n",
       "5         14.4        30.4                       0.47           9.1   \n",
       "\n",
       "   total_area  kitchen_area_to_total_area  \n",
       "0       108.0                        0.23  \n",
       "1        40.4                        0.27  \n",
       "2        56.0                        0.15  \n",
       "4       100.0                        0.41  \n",
       "5        30.4                        0.30  "
      ]
     },
     "execution_count": 76,
     "metadata": {},
     "output_type": "execute_result"
    }
   ],
   "source": [
    "df[['living_area', 'total_area', 'living_area_to_total_area', 'kitchen_area', 'total_area', \n",
    "'kitchen_area_to_total_area', ]].head()"
   ]
  },
  {
   "cell_type": "markdown",
   "metadata": {},
   "source": [
    "Визуально угадывается корректность рассчитанных показателей, которая была подтверждена ручным пересчётом показателей на калькуляторе.\n",
    "\n",
    "<a href='#title'>К оглавлению.</a> "
   ]
  },
  {
   "cell_type": "markdown",
   "metadata": {},
   "source": [
    "# Вывод по этапу 3.\n",
    "\n",
    "На данном этапе происходил расчёт новых показателей с их добавлением в набор данных. Были рассчитаны и добавлены следующие показатели:\n",
    "\n",
    "1. Цена квадратного метра.\n",
    "\n",
    "2. День недели публикации объявления.\n",
    "\n",
    "3. Месяц публикации объявления.\n",
    "\n",
    "4. Год публикации объявления.\n",
    "\n",
    "5. Этаж квартиры.\n",
    "\n",
    "6. Соотношение жилой и общей площади.\n",
    "\n",
    "7. Соотношение площади кухни и общей площади.\n",
    "\n",
    "Цена квадратного метра была рассчитана как отношение общей площади к квартире к стоимости квартиры на момент снятия объявления.\n",
    "\n",
    "День недели, месяц и год публикации объявления были извлечены из поля first_day_exposition с помощью метода dt с передачей ему нужного параметра.\n",
    "\n",
    "Для расчёта этажа квартиры была реализована функция, выполняющая следующие действия:\n",
    "\n",
    "- если значение поля floor совпадает со значением поля floor_total, функция вернёт значение \"последний\";\n",
    "\n",
    "- если поле flor равно 1, функция вернёт значение \"первый\";\n",
    "\n",
    "- если поле flor равно 1, при этом поле flor_total также равно 1, функция возвращает значение \"один этаж\" (немного не по условию, но мне кажется, это логичнее, чем говорить о том, что этаж первый или последний);\n",
    "\n",
    "- в остальных случаях функция вернёт значение \"другой\".\n",
    "\n",
    "Соотношение жилой и общей площади, а также соотношение площади кухни и общей площади были рассчитаны по логике, недвусмысленно указанной в названии этих показателей.\n",
    "\n",
    "<a href='#title'>К оглавлению.</a> "
   ]
  },
  {
   "cell_type": "markdown",
   "metadata": {},
   "source": [
    "# Этап 4. Исследовательский анализ данных."
   ]
  },
  {
   "cell_type": "markdown",
   "metadata": {},
   "source": [
    "На данном этапе требуется провести исследовательский анализ данных по заданным проектом направлениям. "
   ]
  },
  {
   "cell_type": "markdown",
   "metadata": {},
   "source": [
    "<a id='4.1'></a> \n",
    "## Этап 4.1. Изучение параметров: площадь, цена, число комнат, высота потолков.\n",
    "\n",
    "Так как в условии явно не сказано, о какой площади идёт речь, изучим все показатели прощади: total_area, kitchen_area и living_area.\n",
    "\n",
    "Для начала изучим общие описательные статистики по этим полям."
   ]
  },
  {
   "cell_type": "code",
   "execution_count": 77,
   "metadata": {},
   "outputs": [
    {
     "data": {
      "text/html": [
       "<div>\n",
       "<style scoped>\n",
       "    .dataframe tbody tr th:only-of-type {\n",
       "        vertical-align: middle;\n",
       "    }\n",
       "\n",
       "    .dataframe tbody tr th {\n",
       "        vertical-align: top;\n",
       "    }\n",
       "\n",
       "    .dataframe thead th {\n",
       "        text-align: right;\n",
       "    }\n",
       "</style>\n",
       "<table border=\"1\" class=\"dataframe\">\n",
       "  <thead>\n",
       "    <tr style=\"text-align: right;\">\n",
       "      <th></th>\n",
       "      <th>total_area</th>\n",
       "      <th>kitchen_area</th>\n",
       "      <th>living_area</th>\n",
       "      <th>last_price</th>\n",
       "      <th>rooms</th>\n",
       "      <th>ceiling_height</th>\n",
       "    </tr>\n",
       "  </thead>\n",
       "  <tbody>\n",
       "    <tr>\n",
       "      <td>count</td>\n",
       "      <td>20188.00</td>\n",
       "      <td>20188.00</td>\n",
       "      <td>20188.00</td>\n",
       "      <td>20188.00</td>\n",
       "      <td>20188.00</td>\n",
       "      <td>20188.00</td>\n",
       "    </tr>\n",
       "    <tr>\n",
       "      <td>mean</td>\n",
       "      <td>58.50</td>\n",
       "      <td>10.34</td>\n",
       "      <td>33.35</td>\n",
       "      <td>6.15</td>\n",
       "      <td>2.04</td>\n",
       "      <td>2.69</td>\n",
       "    </tr>\n",
       "    <tr>\n",
       "      <td>std</td>\n",
       "      <td>28.64</td>\n",
       "      <td>5.52</td>\n",
       "      <td>18.34</td>\n",
       "      <td>7.46</td>\n",
       "      <td>0.95</td>\n",
       "      <td>0.21</td>\n",
       "    </tr>\n",
       "    <tr>\n",
       "      <td>min</td>\n",
       "      <td>14.00</td>\n",
       "      <td>1.30</td>\n",
       "      <td>2.00</td>\n",
       "      <td>0.01</td>\n",
       "      <td>1.00</td>\n",
       "      <td>1.00</td>\n",
       "    </tr>\n",
       "    <tr>\n",
       "      <td>25%</td>\n",
       "      <td>40.00</td>\n",
       "      <td>7.00</td>\n",
       "      <td>18.60</td>\n",
       "      <td>3.47</td>\n",
       "      <td>1.00</td>\n",
       "      <td>2.60</td>\n",
       "    </tr>\n",
       "    <tr>\n",
       "      <td>50%</td>\n",
       "      <td>51.40</td>\n",
       "      <td>9.00</td>\n",
       "      <td>30.00</td>\n",
       "      <td>4.60</td>\n",
       "      <td>2.00</td>\n",
       "      <td>2.65</td>\n",
       "    </tr>\n",
       "    <tr>\n",
       "      <td>75%</td>\n",
       "      <td>68.00</td>\n",
       "      <td>11.70</td>\n",
       "      <td>42.00</td>\n",
       "      <td>6.60</td>\n",
       "      <td>3.00</td>\n",
       "      <td>2.70</td>\n",
       "    </tr>\n",
       "    <tr>\n",
       "      <td>max</td>\n",
       "      <td>507.00</td>\n",
       "      <td>100.70</td>\n",
       "      <td>301.50</td>\n",
       "      <td>330.00</td>\n",
       "      <td>5.00</td>\n",
       "      <td>4.90</td>\n",
       "    </tr>\n",
       "  </tbody>\n",
       "</table>\n",
       "</div>"
      ],
      "text/plain": [
       "       total_area  kitchen_area  living_area  last_price     rooms  \\\n",
       "count    20188.00      20188.00     20188.00    20188.00  20188.00   \n",
       "mean        58.50         10.34        33.35        6.15      2.04   \n",
       "std         28.64          5.52        18.34        7.46      0.95   \n",
       "min         14.00          1.30         2.00        0.01      1.00   \n",
       "25%         40.00          7.00        18.60        3.47      1.00   \n",
       "50%         51.40          9.00        30.00        4.60      2.00   \n",
       "75%         68.00         11.70        42.00        6.60      3.00   \n",
       "max        507.00        100.70       301.50      330.00      5.00   \n",
       "\n",
       "       ceiling_height  \n",
       "count        20188.00  \n",
       "mean             2.69  \n",
       "std              0.21  \n",
       "min              1.00  \n",
       "25%              2.60  \n",
       "50%              2.65  \n",
       "75%              2.70  \n",
       "max              4.90  "
      ]
     },
     "execution_count": 77,
     "metadata": {},
     "output_type": "execute_result"
    }
   ],
   "source": [
    "round((df[['total_area', 'kitchen_area', 'living_area', 'last_price', 'rooms', 'ceiling_height']].describe()), 2)"
   ]
  },
  {
   "cell_type": "markdown",
   "metadata": {},
   "source": [
    "Видим, что количество записей в полях одинаковое, чего и следовало ожидать, ведь мы провели большую работу по устранению атрефактов и обработке пропущенных значений. Также имеем набор статистических метрик для каждого из полей, смысл которых недвусмысленно проистекает из их названия, поэтому подробно останавливаться на них не будем.\n",
    "\n",
    "Посмотрим, как распределены значения этих полей."
   ]
  },
  {
   "cell_type": "code",
   "execution_count": 78,
   "metadata": {},
   "outputs": [
    {
     "data": {
      "image/png": "[encoded data removed]",
      "text/plain": [
       "<Figure size 432x288 with 1 Axes>"
      ]
     },
     "metadata": {
      "needs_background": "light"
     },
     "output_type": "display_data"
    },
    {
     "data": {
      "image/png": "[encoded data removed]",
      "text/plain": [
       "<Figure size 432x288 with 1 Axes>"
      ]
     },
     "metadata": {
      "needs_background": "light"
     },
     "output_type": "display_data"
    },
    {
     "data": {
      "image/png": "[encoded data removed]",
      "text/plain": [
       "<Figure size 432x288 with 1 Axes>"
      ]
     },
     "metadata": {
      "needs_background": "light"
     },
     "output_type": "display_data"
    },
    {
     "data": {
      "image/png": "[encoded data removed]",
      "text/plain": [
       "<Figure size 432x288 with 1 Axes>"
      ]
     },
     "metadata": {
      "needs_background": "light"
     },
     "output_type": "display_data"
    },
    {
     "data": {
      "image/png": "[encoded data removed]",
      "text/plain": [
       "<Figure size 432x288 with 1 Axes>"
      ]
     },
     "metadata": {
      "needs_background": "light"
     },
     "output_type": "display_data"
    },
    {
     "data": {
      "image/png": "[encoded data removed]",
      "text/plain": [
       "<Figure size 432x288 with 1 Axes>"
      ]
     },
     "metadata": {
      "needs_background": "light"
     },
     "output_type": "display_data"
    }
   ],
   "source": [
    "for col in df[['total_area', 'kitchen_area', 'living_area', 'last_price', 'rooms', 'ceiling_height']]:\n",
    "    df.plot(y=col, title=col, kind='hist', grid=True, bins=50)"
   ]
  },
  {
   "cell_type": "markdown",
   "metadata": {},
   "source": [
    "В основном все значения исследуемых полей, кроме условно-категориального поля room, сосредоточены в левой части гистограммы с длинным низким хвостом высоких значений в правой части гистограммы. Распределение в этих полях напоминает распределение Пуассона.\n",
    "\n",
    "Из гистограмм можно заключить, что в основной массе преобладают объявления с квартирами, если позволите, \"средней руки\": для них характерна общая площадь до 100 кв.м., площадь кухни - где-то до 15-16 кв.м. жилая площадь - где-то до 50 кв.м. Наиболее частая цена на такие квартиры лежит в диапазоне до 20-25 млн. руб., а высота потолка в таких квартирах - от 2.5 до 3 м. Чаще всего встречаются квартиры с количеством комнат от 1 до 3, реже встречаются четырёхкомнатные квартиры, а квартиры с пятью комнатами можно по пальцам руки посчитать.\n",
    "\n",
    "<a href='#title'>К оглавлению.</a> "
   ]
  },
  {
   "cell_type": "markdown",
   "metadata": {},
   "source": [
    "<a id='4.2'></a> \n",
    "## Этап 4.2. Задание \"Изучите время продажи квартиры. Постройте гистограмму. Посчитайте среднее и медиану. Опишите, сколько обычно занимает продажа. Когда можно считать, что продажи прошли очень быстро, а когда необычно долго?\""
   ]
  },
  {
   "cell_type": "markdown",
   "metadata": {},
   "source": [
    "Для выполнения задания изучим поле days_exposition. Напомню, что в нём описана информация о том, сколько дней было размещено объявление (от публикации до снятия).\n",
    "\n",
    "Посмотрим на описательную статистику для этого поля."
   ]
  },
  {
   "cell_type": "code",
   "execution_count": 79,
   "metadata": {},
   "outputs": [
    {
     "data": {
      "text/html": [
       "<div>\n",
       "<style scoped>\n",
       "    .dataframe tbody tr th:only-of-type {\n",
       "        vertical-align: middle;\n",
       "    }\n",
       "\n",
       "    .dataframe tbody tr th {\n",
       "        vertical-align: top;\n",
       "    }\n",
       "\n",
       "    .dataframe thead th {\n",
       "        text-align: right;\n",
       "    }\n",
       "</style>\n",
       "<table border=\"1\" class=\"dataframe\">\n",
       "  <thead>\n",
       "    <tr style=\"text-align: right;\">\n",
       "      <th></th>\n",
       "      <th>days_exposition</th>\n",
       "    </tr>\n",
       "  </thead>\n",
       "  <tbody>\n",
       "    <tr>\n",
       "      <td>count</td>\n",
       "      <td>20188.00</td>\n",
       "    </tr>\n",
       "    <tr>\n",
       "      <td>mean</td>\n",
       "      <td>173.44</td>\n",
       "    </tr>\n",
       "    <tr>\n",
       "      <td>std</td>\n",
       "      <td>207.98</td>\n",
       "    </tr>\n",
       "    <tr>\n",
       "      <td>min</td>\n",
       "      <td>1.00</td>\n",
       "    </tr>\n",
       "    <tr>\n",
       "      <td>25%</td>\n",
       "      <td>48.00</td>\n",
       "    </tr>\n",
       "    <tr>\n",
       "      <td>50%</td>\n",
       "      <td>101.00</td>\n",
       "    </tr>\n",
       "    <tr>\n",
       "      <td>75%</td>\n",
       "      <td>204.00</td>\n",
       "    </tr>\n",
       "    <tr>\n",
       "      <td>max</td>\n",
       "      <td>1572.00</td>\n",
       "    </tr>\n",
       "  </tbody>\n",
       "</table>\n",
       "</div>"
      ],
      "text/plain": [
       "       days_exposition\n",
       "count         20188.00\n",
       "mean            173.44\n",
       "std             207.98\n",
       "min               1.00\n",
       "25%              48.00\n",
       "50%             101.00\n",
       "75%             204.00\n",
       "max            1572.00"
      ]
     },
     "execution_count": 79,
     "metadata": {},
     "output_type": "execute_result"
    }
   ],
   "source": [
    "round((df[['days_exposition']].describe()), 2)"
   ]
  },
  {
   "cell_type": "markdown",
   "metadata": {},
   "source": [
    "Видим, что в поле находится 20188 записей,  в среднем каждое объявление находится на платформе 173 дня, при этом для поля характерна высокое стандартное отклонение, что говорит о большом отклонении длительности нахождения объявлений на платформе некоторых объявлений от средней длительности. \n",
    "\n",
    "Наиболее удачными можно считать объявления, которые были размещены на платформе всего лишь 1 день. Хорошая, видимо, квартира. Напротив, наименее привлекательное объявление находилось на платформе 1572 дня, а это, на минутку, 4 года и ещё треть пятого. Видимо, владелец никогда не сдаётся, что не может не радовать, но и предмет объявления тоже нужно оценивать адекватно.\n",
    "\n",
    "Медианная длительность нахождения объявления на платформе - 101 день. Это значение делит нашу выборку на \"до 101 дня\" и \"после 101 дня\" нахождения объявления на платформе.\n",
    "\n",
    "Четверть объявлений из выборки находились на платформе не более 48 дней (1 квартиль), 3/4 объявлений из выборки находились на платформе не более 204 дней.\n",
    "\n",
    "Построим гистограмму распределения объявлений в зависимости от количества дней их нахождения на плафторме."
   ]
  },
  {
   "cell_type": "code",
   "execution_count": 80,
   "metadata": {},
   "outputs": [
    {
     "data": {
      "text/plain": [
       "<matplotlib.axes._subplots.AxesSubplot at 0x7fa2acb60810>"
      ]
     },
     "execution_count": 80,
     "metadata": {},
     "output_type": "execute_result"
    },
    {
     "data": {
      "image/png": "[encoded data removed]",
      "text/plain": [
       "<Figure size 432x288 with 1 Axes>"
      ]
     },
     "metadata": {
      "needs_background": "light"
     },
     "output_type": "display_data"
    }
   ],
   "source": [
    "df.plot(y='days_exposition', title='Распределение квартир в зависимости от количества дней их нахождения на плафторме', \n",
    "       kind='hist', grid=True, bins=50)"
   ]
  },
  {
   "cell_type": "markdown",
   "metadata": {},
   "source": [
    "Объявления по признаку количества дней нахождения на платформе имеют распределение Пуассона: видим скполение основной массы объявлений в левой части гисторграммы и длинный хвост в правой части гистограммы, описывающий распределение тех квартир, объявления о которых находились на платформе очень долго.\n",
    "\n",
    "В ответе на вопрос, какой срок нахождения объявления на платформе считать хорошим, а какой - плохим, может помочь ящик с усами."
   ]
  },
  {
   "cell_type": "code",
   "execution_count": 81,
   "metadata": {},
   "outputs": [
    {
     "data": {
      "text/plain": [
       "<matplotlib.axes._subplots.AxesSubplot at 0x7fa2aca3cc90>"
      ]
     },
     "execution_count": 81,
     "metadata": {},
     "output_type": "execute_result"
    },
    {
     "data": {
      "image/png": "[encoded data removed]",
      "text/plain": [
       "<Figure size 432x288 with 1 Axes>"
      ]
     },
     "metadata": {
      "needs_background": "light"
     },
     "output_type": "display_data"
    }
   ],
   "source": [
    "df.boxplot(column='days_exposition')"
   ]
  },
  {
   "cell_type": "markdown",
   "metadata": {},
   "source": [
    "Мало что понятно: видим большое количество выборосов, которые сливаются в единую жирную линию. \n",
    "\n",
    "Чтобы привести ящик с усами к более удобному для восприятия виду, ограничим диапазон значений по оси Y. \n",
    "\n",
    "Минимальное значение установим на уровне 0, так как у нас нет объявлений с отрицательным количеством дней нахождения на платформе, а вот с верхней границей поэкспериментируем для подбора лучшего параметра."
   ]
  },
  {
   "cell_type": "code",
   "execution_count": 82,
   "metadata": {},
   "outputs": [
    {
     "data": {
      "text/plain": [
       "(0, 500)"
      ]
     },
     "execution_count": 82,
     "metadata": {},
     "output_type": "execute_result"
    },
    {
     "data": {
      "image/png": "[encoded data removed]",
      "text/plain": [
       "<Figure size 432x288 with 1 Axes>"
      ]
     },
     "metadata": {
      "needs_background": "light"
     },
     "output_type": "display_data"
    }
   ],
   "source": [
    "import matplotlib.pyplot as plt\n",
    "df.boxplot(column='days_exposition')\n",
    "plt.ylim(0, 500)"
   ]
  },
  {
   "cell_type": "markdown",
   "metadata": {},
   "source": [
    "Выглядит приятнее, не правда ли?\n",
    "\n",
    "Таким образом, в ответе на вопрос о том, при какой длительности нахождения объявления на плафторме можно считать, что продажа прошла быстро, а при какой длительности можно говорить о медленной продаже, ящик с усами нам подсказывает:\n",
    "\n",
    "1. Если объявление находится на платформе не более 48 дней, квартира продаётся очень быстро. Блиц - скорость без границ!\n",
    "\n",
    "\n",
    "2. Если объявление находится на платформе не более 101 дня, можно говорить о том, что квартира продаётся не очень быстро, но всё ещё нормально без аномально высоких сроков.\n",
    "\n",
    "\n",
    "3. Если объявление находится на платформе не более 204 дней, можно говорить о том, что квартира продаётся медленно, но не аномально медленно. \n",
    "\n",
    "\n",
    "4. Количество нахождения объявления на платформе не более около 420 дней говорит о том, что квартира продаётся очень медленно, но пока что клиент ещё не входит в зону аномальных объявлений с аномально большим количеством дней находления их на платформе. Вместе с тем практика, когда квартира продатёся ~1 год, кажется нормальной, если переносить этот вывод на реальный рынок недвижимости.\n",
    "\n",
    "\n",
    "5. Если объявление находится на платформе более 420 дней, оно сваливается в категорию аномальных, а рассчитывать на его продажу в принципе не приходится.\n",
    "\n",
    "<a href='#title'>К оглавлению.</a> "
   ]
  },
  {
   "cell_type": "markdown",
   "metadata": {},
   "source": [
    "<a id='4.3'></a> \n",
    "## Этап 4.3. Задание \"Уберите редкие и выбивающиеся значения. Опишите, какие особенности обнаружили\"\n",
    "\n",
    "Это задание было выполнено в рамках шага 2.1., когда мы работали с артефактами, в том числе было приведено описание логики, по которой происходила обработка таких значений, а также предположения о их пририоде и адекватности.\n",
    "\n",
    "В рамках данного шага построим ящики с усами для тех же полей, в которых были идентифицированы аномальные значения. Напомню, что это поля rooms, ceiling_height и balcony.\n",
    "\n",
    "Предварительно аномальные значения в этих полях мы уже обработали. Проверим, как распределяются значения этих полей в ящике с усами."
   ]
  },
  {
   "cell_type": "code",
   "execution_count": 83,
   "metadata": {},
   "outputs": [
    {
     "data": {
      "image/png": "[encoded data removed]",
      "text/plain": [
       "<Figure size 432x288 with 1 Axes>"
      ]
     },
     "metadata": {
      "needs_background": "light"
     },
     "output_type": "display_data"
    },
    {
     "data": {
      "image/png": "[encoded data removed]",
      "text/plain": [
       "<Figure size 432x288 with 1 Axes>"
      ]
     },
     "metadata": {
      "needs_background": "light"
     },
     "output_type": "display_data"
    },
    {
     "data": {
      "image/png": "[encoded data removed]",
      "text/plain": [
       "<Figure size 432x288 with 1 Axes>"
      ]
     },
     "metadata": {
      "needs_background": "light"
     },
     "output_type": "display_data"
    }
   ],
   "source": [
    "for col in df[['rooms', 'ceiling_height', 'balcony']]:\n",
    "    df.boxplot(column=col)\n",
    "    plt.show()"
   ]
  },
  {
   "cell_type": "markdown",
   "metadata": {},
   "source": [
    "Видим, что мы довольно успешно обработали артефакты в полях balcony и rooms, так как в них нет выбросов. \n",
    "\n",
    "А вот с полем ceiling_height всё не так однозначно, так как оно изобилует выбросами. Рассмотрим его более подробно, при этом изменим масштаб графика, чтобы лучше воспринимать информацию"
   ]
  },
  {
   "cell_type": "code",
   "execution_count": 84,
   "metadata": {},
   "outputs": [
    {
     "data": {
      "text/plain": [
       "(1, 3.5)"
      ]
     },
     "execution_count": 84,
     "metadata": {},
     "output_type": "execute_result"
    },
    {
     "data": {
      "image/png": "[encoded data removed]",
      "text/plain": [
       "<Figure size 432x288 with 1 Axes>"
      ]
     },
     "metadata": {
      "needs_background": "light"
     },
     "output_type": "display_data"
    }
   ],
   "source": [
    "df.boxplot(column='ceiling_height')\n",
    "plt.ylim(1, 3.5)"
   ]
  },
  {
   "cell_type": "markdown",
   "metadata": {},
   "source": [
    "Выбросами в данном поле считается высота потолка меньшая, чем 2,4 метра, и большая, чем 2.8 метров. Об аномальности значений этого поля мы уже говорили ранее: потолки высотой до 3 метров не очень лаконично вписываются в картину мира среднестатистического человека, однако квартир с такой высотой потолка большинство, и удалять их из набора данных не следует, так как набор данных потеряет в информативности.\n",
    "\n",
    "О наличии выбросов в других полях однозначно сказать сложно: к примеру, большое значения поля total_area, kitchen_area или living_area вполне может иметь место быть, так как на платформе могут быть размещены объявления о продаже очень больших квартир. Отсюда проистекает наличие в наборе данных объявлений с условно-аномальной стоимостью: чем больше количество кв.м., тем выше стоимость квартиры. Поэтому и в поле last_price однозначно определить выбросы - задача проблематичная. \n",
    "\n",
    "В целом, как мне кажется, выбивающиеся и аномальные значения в наборе данных уже были отсечены на этапе работы с артефактами, а дальнейшие сокращения данных в рамках имеющегося набора данных представляются маловозможными и, возможно, нецелесообразными в рамках этого проекта.\n",
    "\n",
    "<a href='#title'>К оглавлению.</a> "
   ]
  },
  {
   "cell_type": "markdown",
   "metadata": {},
   "source": [
    "<a id='4.4'></a> \n",
    "## Этап 4.4. Задание \"Какие факторы больше всего влияют на стоимость квартиры? Изучите, зависит ли цена от квадратного метра, числа комнат, этажа (первого или последнего), удалённости от центра. Также изучите зависимость от даты размещения: дня недели, месяца и года\""
   ]
  },
  {
   "cell_type": "markdown",
   "metadata": {},
   "source": [
    "Для изучения зависимости обратимся к коэффициенту корреляции, который покажет тесноту линейной зависимости между полями.\n",
    "\n",
    "Также отмечу, что для оценки зависимости стоимости квартиры от категории этажа нам нужно перевести эти категории (которые сейчас у нас с типом данных str) в индексы с типом данных int.\n",
    "\n",
    "Для этого реализуем соответствующую функцию."
   ]
  },
  {
   "cell_type": "code",
   "execution_count": 85,
   "metadata": {},
   "outputs": [],
   "source": [
    "def floor_apartment_index(floor_apartment):\n",
    "    if floor_apartment == 'Первый':\n",
    "        return 1\n",
    "    elif floor_apartment == \"Последний\":\n",
    "        return 2\n",
    "    elif floor_apartment == 'Один этаж':\n",
    "        return 3\n",
    "    elif floor_apartment == 'Другой':\n",
    "        return 4"
   ]
  },
  {
   "cell_type": "markdown",
   "metadata": {},
   "source": [
    "Проверим работу функции на тестовых данных."
   ]
  },
  {
   "cell_type": "code",
   "execution_count": 86,
   "metadata": {},
   "outputs": [
    {
     "name": "stdout",
     "output_type": "stream",
     "text": [
      "1\n",
      "2\n",
      "3\n",
      "4\n"
     ]
    }
   ],
   "source": [
    "print(floor_apartment_index('Первый'))\n",
    "print(floor_apartment_index('Последний'))\n",
    "print(floor_apartment_index('Один этаж'))\n",
    "print(floor_apartment_index('Другой'))"
   ]
  },
  {
   "cell_type": "markdown",
   "metadata": {},
   "source": [
    "Функция корректно работает на тестовых данных. Применим функцию к набору данных, результаты работы функции поместим в поле floor_apartment_index."
   ]
  },
  {
   "cell_type": "code",
   "execution_count": 87,
   "metadata": {},
   "outputs": [],
   "source": [
    "df['floor_apartment_index'] = df['floor_apartment'].apply(floor_apartment_index)"
   ]
  },
  {
   "cell_type": "markdown",
   "metadata": {},
   "source": [
    "Проверим работу функции."
   ]
  },
  {
   "cell_type": "code",
   "execution_count": 88,
   "metadata": {},
   "outputs": [
    {
     "data": {
      "text/html": [
       "<div>\n",
       "<style scoped>\n",
       "    .dataframe tbody tr th:only-of-type {\n",
       "        vertical-align: middle;\n",
       "    }\n",
       "\n",
       "    .dataframe tbody tr th {\n",
       "        vertical-align: top;\n",
       "    }\n",
       "\n",
       "    .dataframe thead th {\n",
       "        text-align: right;\n",
       "    }\n",
       "</style>\n",
       "<table border=\"1\" class=\"dataframe\">\n",
       "  <thead>\n",
       "    <tr style=\"text-align: right;\">\n",
       "      <th></th>\n",
       "      <th>floor_apartment</th>\n",
       "      <th>floor_apartment_index</th>\n",
       "    </tr>\n",
       "  </thead>\n",
       "  <tbody>\n",
       "    <tr>\n",
       "      <td>0</td>\n",
       "      <td>Другой</td>\n",
       "      <td>4</td>\n",
       "    </tr>\n",
       "    <tr>\n",
       "      <td>1</td>\n",
       "      <td>Первый</td>\n",
       "      <td>1</td>\n",
       "    </tr>\n",
       "    <tr>\n",
       "      <td>2</td>\n",
       "      <td>Другой</td>\n",
       "      <td>4</td>\n",
       "    </tr>\n",
       "    <tr>\n",
       "      <td>4</td>\n",
       "      <td>Другой</td>\n",
       "      <td>4</td>\n",
       "    </tr>\n",
       "    <tr>\n",
       "      <td>5</td>\n",
       "      <td>Другой</td>\n",
       "      <td>4</td>\n",
       "    </tr>\n",
       "    <tr>\n",
       "      <td>6</td>\n",
       "      <td>Другой</td>\n",
       "      <td>4</td>\n",
       "    </tr>\n",
       "    <tr>\n",
       "      <td>8</td>\n",
       "      <td>Другой</td>\n",
       "      <td>4</td>\n",
       "    </tr>\n",
       "    <tr>\n",
       "      <td>9</td>\n",
       "      <td>Другой</td>\n",
       "      <td>4</td>\n",
       "    </tr>\n",
       "    <tr>\n",
       "      <td>10</td>\n",
       "      <td>Другой</td>\n",
       "      <td>4</td>\n",
       "    </tr>\n",
       "    <tr>\n",
       "      <td>11</td>\n",
       "      <td>Другой</td>\n",
       "      <td>4</td>\n",
       "    </tr>\n",
       "  </tbody>\n",
       "</table>\n",
       "</div>"
      ],
      "text/plain": [
       "   floor_apartment  floor_apartment_index\n",
       "0           Другой                      4\n",
       "1           Первый                      1\n",
       "2           Другой                      4\n",
       "4           Другой                      4\n",
       "5           Другой                      4\n",
       "6           Другой                      4\n",
       "8           Другой                      4\n",
       "9           Другой                      4\n",
       "10          Другой                      4\n",
       "11          Другой                      4"
      ]
     },
     "execution_count": 88,
     "metadata": {},
     "output_type": "execute_result"
    }
   ],
   "source": [
    "df[['floor_apartment', 'floor_apartment_index']].head(10)"
   ]
  },
  {
   "cell_type": "markdown",
   "metadata": {},
   "source": [
    "Видим, что функция работает корректно. Теперь можно оценивать коэффициент корреляции. Напомню, что по условию задачи необходимо оценивать объявления о тех квартирах, которые находятся либо на первом, либо на последнем этаже. Для выполнения этого условия сделаем срез данных."
   ]
  },
  {
   "cell_type": "code",
   "execution_count": 89,
   "metadata": {},
   "outputs": [
    {
     "data": {
      "text/html": [
       "<div>\n",
       "<style scoped>\n",
       "    .dataframe tbody tr th:only-of-type {\n",
       "        vertical-align: middle;\n",
       "    }\n",
       "\n",
       "    .dataframe tbody tr th {\n",
       "        vertical-align: top;\n",
       "    }\n",
       "\n",
       "    .dataframe thead th {\n",
       "        text-align: right;\n",
       "    }\n",
       "</style>\n",
       "<table border=\"1\" class=\"dataframe\">\n",
       "  <thead>\n",
       "    <tr style=\"text-align: right;\">\n",
       "      <th></th>\n",
       "      <th>last_price</th>\n",
       "      <th>total_area</th>\n",
       "      <th>rooms</th>\n",
       "      <th>floor_apartment_index</th>\n",
       "      <th>cityCenters_nearest</th>\n",
       "    </tr>\n",
       "  </thead>\n",
       "  <tbody>\n",
       "    <tr>\n",
       "      <td>last_price</td>\n",
       "      <td>1.0</td>\n",
       "      <td>0.66</td>\n",
       "      <td>0.34</td>\n",
       "      <td>0.1</td>\n",
       "      <td>-0.01</td>\n",
       "    </tr>\n",
       "  </tbody>\n",
       "</table>\n",
       "</div>"
      ],
      "text/plain": [
       "            last_price  total_area  rooms  floor_apartment_index  \\\n",
       "last_price         1.0        0.66   0.34                    0.1   \n",
       "\n",
       "            cityCenters_nearest  \n",
       "last_price                -0.01  "
      ]
     },
     "execution_count": 89,
     "metadata": {},
     "output_type": "execute_result"
    }
   ],
   "source": [
    "round((df[['last_price', 'total_area', 'rooms', 'floor_apartment_index', 'cityCenters_nearest']].query('floor_apartment_index == \\\n",
    "1 or floor_apartment_index == 2').corr().head(1)), 2)"
   ]
  },
  {
   "cell_type": "markdown",
   "metadata": {},
   "source": [
    "Так как значения коэффициента корреляции между изучаемыми признаками, кроме признака cityCenters_nearest, всегда больше нуля, можно говорить о том, что линейная зависимость - какой бы сильной она ни была - имеет прямую направленность, т.е. по мере росто какого-либо из признаков будет расти и цена квартиры. В случае с признаком cityCenters_nearest имеет место обратная зависимость, т.е. по мере приближения квартиры к центру стоимость...падает? Но об этом позже.\n",
    "\n",
    "В своей практике я применяю следующую систему критериев оценки силы линейной зависимости:\n",
    "\n",
    "- линейная зависимость сильная, если значение коэффициента корреляции лежит в пределах от ±0.70 до ±1.00;\n",
    "\n",
    "- линейная зависимость средняя, если значение коэффициента корреляции лежит в пределах от ±0.30 до 0.69;\n",
    "\n",
    "- линейная зависимость слабая, если значение коэффициента корреляции лежит в пределах от 0.00 до 0.29.\n",
    "\n",
    "Полученные нами значения коэффициента корреляции предлагаю интерпретировать таким же образом.\n",
    "\n",
    "Так, зависимость между:\n",
    "\n",
    "- ценой квартиры и площадью квартиры - средняя прямая; \n",
    "\n",
    "- ценой квартиры и количеством комнат - средняя прямая; \n",
    "\n",
    "- ценой квартиры и индексом этажности - низкая прямая;\n",
    "\n",
    "- ценой квартиры и удалённостью от центра - низкая обратная.\n",
    "\n",
    "Отмечу также, что коэффициент корреляции не позволяет доподлинно утверждать о наличии или отсутствии зависимости между изучаемыми показателями, а лишь показывает наличие или отсутствие связи между показателями, а также тесноту этой связи, в рамках изучаемой выборки.\n",
    "\n",
    "Так, коэффициент корреляции указал на среднюю зависимость между ценой квартиры и её площадью. Действительно, на практике принято указывать стоимть квартиры, которая в свою очередь складывается стоимости 1 кв.м. в этой квартире, умноженной на количество кв.м. в квартире. Поэтому коэффициент корреляции подтверждает гипотезу о том, что стоимость квартиры зависит от площади квартиры.\n",
    "\n",
    "Коэффициент корреляции также указывает на наличие средней зависимости между ценой квартиры и количеством комнат, однако несмотря на то, что оба поля - площадь и количество комнат - попали в категорию \"средняя зависимость\", зависимость между ценой и количеством комнат куда ниже, чем между ценой и площадью. На практике количество комнат играет не самую значимую роль при ценообразовании, так как количество комнат зависит от ряда других факторов, таких как планировка, тип дома, год его постройки и др. Поэтому всё же большее влияние на цену квартиры оказывает именно её площадь. Однако можно проследить тесную зависимость между количеством комнат и площадью, поэтому можно говорить о том, что площадь и количество комант между собой неразрывно связаны. Подтвердим гипотезу."
   ]
  },
  {
   "cell_type": "code",
   "execution_count": 90,
   "metadata": {},
   "outputs": [
    {
     "name": "stdout",
     "output_type": "stream",
     "text": [
      "0.75\n"
     ]
    }
   ],
   "source": [
    "print(round((df['total_area'].corr(df['rooms'])), 2))"
   ]
  },
  {
   "cell_type": "markdown",
   "metadata": {},
   "source": [
    "Наблюдаем сильную линейную зависимость между площадью и количеством комнат. Проверим зависимость и с помощью графика."
   ]
  },
  {
   "cell_type": "code",
   "execution_count": 91,
   "metadata": {},
   "outputs": [
    {
     "data": {
      "text/plain": [
       "<matplotlib.axes._subplots.AxesSubplot at 0x7fa2b0c7ea50>"
      ]
     },
     "execution_count": 91,
     "metadata": {},
     "output_type": "execute_result"
    },
    {
     "data": {
      "image/png": "[encoded data removed]",
      "text/plain": [
       "<Figure size 720x360 with 1 Axes>"
      ]
     },
     "metadata": {
      "needs_background": "light"
     },
     "output_type": "display_data"
    }
   ],
   "source": [
    "df.pivot_table(index='rooms', values='total_area', aggfunc='mean').plot(y='total_area', kind='bar', \n",
    "                                                                              figsize=(10, 5))"
   ]
  },
  {
   "cell_type": "markdown",
   "metadata": {},
   "source": [
    "Видим, что чем больше комант в квартире, тем выше её стоимость. Это подтверждает выдвинутую ранее гипотезу. Следовательно, цена квартиры связана с количеством комнат ковсвенно через площадь квартиры.\n",
    "\n",
    "Корреляция между ценой квартиры и индексом этажности довольно слабая, однако это подтверждено лишь значением коэффициента корреляции. На практике цена квартиры также зависит от этажности: цены на квартиры на 1-2 этажах будут ниже, чем цены на квартиры на 3-6 этажах. В свою очередь цены на квартиры на 3-6 этажах будут ниже, чем цены на квартиры на 7 и выше этажах. Это связано с тем, что на первых этажах есть неудобства в виде шума от людей на улице и машин на дорогах, а также от жильцов, которые, к примеру, пользуются лифтом. Этажи 3-6 негласно называют \"золотой серединой\", этот сегмент для жильца со средним бюджетом. Чем выше этаж, тем дороже квартира. Это объясняется некоторыми привелегиями, доступным жильцам на этих этажах. К примеру, им доступен более роскошный вид из окна, а также меньше шума над головой.\n",
    "\n",
    "Корреляция между ценой квартиры и расстоянием до центра поражает - слабая отрицательная. Однако не стоит принимать за чистую монету и это значение корреляции. На практике бывает и так, что близкая к центру, но с худшими условиями квартиры и (или) дома, неблагоприятным районом, соседями с претензией на статус \"социально неблагополучный\" и отходоперерабатывающим или промышленным производством за углом будет стоить меньше, чем удалённая от центра, но вполне себе фешенебельная лакшери квартирка-студия с приятными соседями, хорошей экологией с зоной для выгула собакенов.\n",
    "\n",
    "Так, в случаях с полями floor_apartment_index и cityCenters_nearest можем говорить об отсутствии именно линейной зависимости. Меж тем эмпирическую зависимость мы выявили в ходе рассуждений, поэтому можно утверждать, что между ценой квартиры и полями floor_apartment_index и cityCenters_nearest зависимость всё же существует, но она более сложная и не может быть оценена с помощью коэффициента корреляции, который оценивает только линейную зависимость.\n",
    "\n",
    "Проанализируем зависимость цены квартиры от признаков, с которыми у цены квартиры нет очевидной линейной зависимости.\n",
    "\n",
    "Сначала проанализируем признак cityCenters_nearest. \n",
    "\n",
    "Для этого создадим сводную таблицу, в которой сгруппируем данные по расстоянию до центра и для каждого расстояния рассчитаем среднее значение. На основе полученной таблицы построим график. "
   ]
  },
  {
   "cell_type": "code",
   "execution_count": 92,
   "metadata": {},
   "outputs": [
    {
     "data": {
      "text/plain": [
       "<matplotlib.axes._subplots.AxesSubplot at 0x7fa2acce4350>"
      ]
     },
     "execution_count": 92,
     "metadata": {},
     "output_type": "execute_result"
    },
    {
     "data": {
      "image/png": "[encoded data removed]",
      "text/plain": [
       "<Figure size 1440x360 with 1 Axes>"
      ]
     },
     "metadata": {
      "needs_background": "light"
     },
     "output_type": "display_data"
    }
   ],
   "source": [
    "df.pivot_table(index='cityCenters_nearest', values='last_price', aggfunc='mean').plot(y='last_price', \n",
    "kind='bar', figsize=(20, 5))"
   ]
  },
  {
   "cell_type": "markdown",
   "metadata": {},
   "source": [
    "Из графика видим, что средняя цена квартир, которые находятся на расстоянии менее 1 км до центра (в данном случае расстояние равно 0, так как мы свели расстояния в метрах к километрам с последующим округлением до целого значения), что подтвержает ранее выдвинутую гипотезу. На это уже указывает тот факт, что средняя цена за квартиру, находящуюся в 3 км. от центра, ниже, чем на квартиры, находящиеся в 4-7 км. от центра. После 8 км. и дальше цены постепенно снижаются, иногда возникают незначительные всплески. Вместе с тем нельзя сказать о наличии тенденции к снижению стоимости квартир по мере удаления их от центра.\n",
    "\n",
    "Аналогичную операцию проделаем и для поля floor_apartment_index. При этом всё так же исследуем только объявления о тех квартирах, которые расположены на первом или последнем этаже."
   ]
  },
  {
   "cell_type": "code",
   "execution_count": 93,
   "metadata": {},
   "outputs": [
    {
     "data": {
      "text/plain": [
       "<matplotlib.axes._subplots.AxesSubplot at 0x7fa2ad006a10>"
      ]
     },
     "execution_count": 93,
     "metadata": {},
     "output_type": "execute_result"
    },
    {
     "data": {
      "image/png": "[encoded data removed]",
      "text/plain": [
       "<Figure size 432x288 with 1 Axes>"
      ]
     },
     "metadata": {
      "needs_background": "light"
     },
     "output_type": "display_data"
    }
   ],
   "source": [
    "df.query('floor_apartment_index == 1 or floor_apartment_index == 2').pivot_table(index='floor_apartment_index', \n",
    "values='last_price', aggfunc='mean').plot(y='last_price', kind='bar')"
   ]
  },
  {
   "cell_type": "markdown",
   "metadata": {},
   "source": [
    "Данный график подтверждает гипотезу о том, что цена на квартиру, расположенную на последнем этаже дома, выше, чем цена на квартиру, расположенную на первом этаже дома. \n",
    "\n",
    "Чтобы получить более полную картину, исследуем цены на квартиры независимо от индекса этажности."
   ]
  },
  {
   "cell_type": "code",
   "execution_count": 94,
   "metadata": {},
   "outputs": [
    {
     "data": {
      "text/plain": [
       "<matplotlib.axes._subplots.AxesSubplot at 0x7fa2ace39850>"
      ]
     },
     "execution_count": 94,
     "metadata": {},
     "output_type": "execute_result"
    },
    {
     "data": {
      "image/png": "[encoded data removed]",
      "text/plain": [
       "<Figure size 432x288 with 1 Axes>"
      ]
     },
     "metadata": {
      "needs_background": "light"
     },
     "output_type": "display_data"
    }
   ],
   "source": [
    "df.pivot_table(index='floor_apartment_index', values='last_price', aggfunc='mean').plot(y='last_price', kind='bar')"
   ]
  },
  {
   "cell_type": "markdown",
   "metadata": {},
   "source": [
    "Второй график также подтвержает гипотезу о том, что квартира, расположенная на этаже, отличном от первого и последнего, стоит выше, чем квартира на первом этаже. Вместе с тем есть также и квартиры, для которых первый этаж является и последним. Предположу, что речь может идти о частных домах типа котеджа, где этажей в принципе нет, или же о жилых одноэтажных застройках (я такую один раз даже видел).\n",
    "\n",
    "Далее исследуем зависимость цены квартиры от даты размещения: дня, месяца и года. Для начала также воспользуемся коэффициентом корреляции."
   ]
  },
  {
   "cell_type": "code",
   "execution_count": 95,
   "metadata": {},
   "outputs": [
    {
     "data": {
      "text/html": [
       "<div>\n",
       "<style scoped>\n",
       "    .dataframe tbody tr th:only-of-type {\n",
       "        vertical-align: middle;\n",
       "    }\n",
       "\n",
       "    .dataframe tbody tr th {\n",
       "        vertical-align: top;\n",
       "    }\n",
       "\n",
       "    .dataframe thead th {\n",
       "        text-align: right;\n",
       "    }\n",
       "</style>\n",
       "<table border=\"1\" class=\"dataframe\">\n",
       "  <thead>\n",
       "    <tr style=\"text-align: right;\">\n",
       "      <th></th>\n",
       "      <th>last_price</th>\n",
       "      <th>day_exposition</th>\n",
       "      <th>month_exposition</th>\n",
       "      <th>year_exposition</th>\n",
       "    </tr>\n",
       "  </thead>\n",
       "  <tbody>\n",
       "    <tr>\n",
       "      <td>last_price</td>\n",
       "      <td>1.0</td>\n",
       "      <td>0.0</td>\n",
       "      <td>-0.0</td>\n",
       "      <td>-0.05</td>\n",
       "    </tr>\n",
       "  </tbody>\n",
       "</table>\n",
       "</div>"
      ],
      "text/plain": [
       "            last_price  day_exposition  month_exposition  year_exposition\n",
       "last_price         1.0             0.0              -0.0            -0.05"
      ]
     },
     "execution_count": 95,
     "metadata": {},
     "output_type": "execute_result"
    }
   ],
   "source": [
    "round((df[['last_price', 'day_exposition', 'month_exposition', 'year_exposition']].corr().head(1)), 2)"
   ]
  },
  {
   "cell_type": "markdown",
   "metadata": {},
   "source": [
    "Видим, что значения коэффициента корреляции не указывают на наличие какой-либо зависимости от даты размещения объявления. Вместе с тем эмпирически эту зависимость можно идентифицировать: так, например, в продаже квартир не последнее место занимает фактор сезонности: спрос на квартиры может быть выше, скажем, летом, когда люди более склонны к активому поведению, и меньше зимой, когда холод и морозы не очень располагают к поиску новых квартир и вытекающему из этого переезду. Также могут иметь место экономические и политические факторы: к примеру, если экономика экспортоориентировання на какой-то сезонный товар, в этот сезон в стране будет больше валюты, следовательно и спрос и цены на жильё будут выше, а в несезонные периоды - меньше.\n",
    "\n",
    "Чтобы исследовать зависимость более подробно, обратимся к столбчатой диаграмме. Для этого сгруппируем наши объявления по дням, месяцам и годам, для каждого параметра рассчитаем среднюю стоимость квартиры и выведем это на график. \n",
    "\n",
    "Чтобы не рисовать отдельно 3 графика, воспользуемся циклом."
   ]
  },
  {
   "cell_type": "code",
   "execution_count": 96,
   "metadata": {},
   "outputs": [
    {
     "data": {
      "image/png": "[encoded data removed]",
      "text/plain": [
       "<Figure size 1440x360 with 1 Axes>"
      ]
     },
     "metadata": {
      "needs_background": "light"
     },
     "output_type": "display_data"
    },
    {
     "data": {
      "image/png": "[encoded data removed]",
      "text/plain": [
       "<Figure size 1440x360 with 1 Axes>"
      ]
     },
     "metadata": {
      "needs_background": "light"
     },
     "output_type": "display_data"
    },
    {
     "data": {
      "image/png": "[encoded data removed]",
      "text/plain": [
       "<Figure size 1440x360 with 1 Axes>"
      ]
     },
     "metadata": {
      "needs_background": "light"
     },
     "output_type": "display_data"
    }
   ],
   "source": [
    "for col in ['day_exposition', 'month_exposition', 'year_exposition']:\n",
    "    df.pivot_table(index=col, values='last_price', aggfunc='mean').plot(y='last_price', kind='bar', figsize = (20, 5))"
   ]
  },
  {
   "cell_type": "markdown",
   "metadata": {},
   "source": [
    "Попытаемся интерпретировать информацию из графиков:\n",
    "\n",
    "1. Зависимость цены от дня размещения объявления, скорее, забавная, нежели научная: цены кажутся ниже, если объявления размещены в выходной день - видим небольшие падения цен 6-7, 13-14, 20-21 и 27-28. Однако это кажется в большей степени совпадением, так как в масштабе дней коньюнктура рынка может меняться только под воздействием шоков, что в нашем случае не является справедливым: данные ведут себя относительно спокойно.\n",
    "\n",
    "\n",
    "2. Зависимость цены от месяца размещения также не прослеживается: данные ведут себя спокойно, график не демонстрирует значительных колебаний цен.\n",
    "\n",
    "\n",
    "3. Ситуация с годами интереснее: видим, что в каждом году, кроме 2019, цены на квартиры ниже предыдущего года, хотя стоит отметить, что темпы падения цен от года к году снижается. В целом это можно объяснить наличием в выборке объявлений в регионах, в которых могут проживать люди с меньшим заработкам, чем в крупных городах вроде Питера или Москвы. Соответственно, по закону рынка квартира должна стоить столько, сколько за неё готовы отдать, и если ценник на квартиру неподъёмно высок для региона, он будет спускаться вниз до тех пор, пока людям это не станет по карману. Вместе с тем снижение цен, как сейчас любят говорить экономисты, можно также объяснить падением покупательской способности населения на фоне затяжного финансово-экономического кризиса, который хоть и отрицается официально, но всё же буйствует в некоторых регионах.\n",
    "\n",
    "<a href='#title'>К оглавлению.</a> "
   ]
  },
  {
   "cell_type": "markdown",
   "metadata": {},
   "source": [
    "<a id='4.5'></a> \n",
    "## Этап 4.5. Задание \"Выберите 10 населённых пунктов с наибольшим числом объявлений. Посчитайте среднюю цену квадратного метра в этих населённых пунктах. Выделите населённые пункты с самой высокой и низкой стоимостью жилья\""
   ]
  },
  {
   "cell_type": "markdown",
   "metadata": {},
   "source": [
    "В поиске 10 населённых пунктов с наибольшим числом объявлений нам поможет сводная таблица."
   ]
  },
  {
   "cell_type": "code",
   "execution_count": 97,
   "metadata": {},
   "outputs": [
    {
     "data": {
      "text/html": [
       "<div>\n",
       "<style scoped>\n",
       "    .dataframe tbody tr th:only-of-type {\n",
       "        vertical-align: middle;\n",
       "    }\n",
       "\n",
       "    .dataframe tbody tr th {\n",
       "        vertical-align: top;\n",
       "    }\n",
       "\n",
       "    .dataframe thead th {\n",
       "        text-align: right;\n",
       "    }\n",
       "</style>\n",
       "<table border=\"1\" class=\"dataframe\">\n",
       "  <thead>\n",
       "    <tr style=\"text-align: right;\">\n",
       "      <th></th>\n",
       "      <th>count</th>\n",
       "      <th>mean</th>\n",
       "    </tr>\n",
       "    <tr>\n",
       "      <th>locality_name</th>\n",
       "      <th></th>\n",
       "      <th></th>\n",
       "    </tr>\n",
       "  </thead>\n",
       "  <tbody>\n",
       "    <tr>\n",
       "      <td>Санкт-Петербург</td>\n",
       "      <td>13507</td>\n",
       "      <td>0.113192</td>\n",
       "    </tr>\n",
       "    <tr>\n",
       "      <td>посёлок Мурино</td>\n",
       "      <td>390</td>\n",
       "      <td>0.085846</td>\n",
       "    </tr>\n",
       "    <tr>\n",
       "      <td>посёлок Шушары</td>\n",
       "      <td>382</td>\n",
       "      <td>0.078743</td>\n",
       "    </tr>\n",
       "    <tr>\n",
       "      <td>Всеволожск</td>\n",
       "      <td>343</td>\n",
       "      <td>0.069359</td>\n",
       "    </tr>\n",
       "    <tr>\n",
       "      <td>Пушкин</td>\n",
       "      <td>323</td>\n",
       "      <td>0.102972</td>\n",
       "    </tr>\n",
       "    <tr>\n",
       "      <td>Колпино</td>\n",
       "      <td>310</td>\n",
       "      <td>0.074903</td>\n",
       "    </tr>\n",
       "    <tr>\n",
       "      <td>посёлок Парголово</td>\n",
       "      <td>288</td>\n",
       "      <td>0.091111</td>\n",
       "    </tr>\n",
       "    <tr>\n",
       "      <td>Гатчина</td>\n",
       "      <td>280</td>\n",
       "      <td>0.068750</td>\n",
       "    </tr>\n",
       "    <tr>\n",
       "      <td>деревня Кудрово</td>\n",
       "      <td>221</td>\n",
       "      <td>0.092443</td>\n",
       "    </tr>\n",
       "    <tr>\n",
       "      <td>Выборг</td>\n",
       "      <td>188</td>\n",
       "      <td>0.058404</td>\n",
       "    </tr>\n",
       "  </tbody>\n",
       "</table>\n",
       "</div>"
      ],
      "text/plain": [
       "                   count      mean\n",
       "locality_name                     \n",
       "Санкт-Петербург    13507  0.113192\n",
       "посёлок Мурино       390  0.085846\n",
       "посёлок Шушары       382  0.078743\n",
       "Всеволожск           343  0.069359\n",
       "Пушкин               323  0.102972\n",
       "Колпино              310  0.074903\n",
       "посёлок Парголово    288  0.091111\n",
       "Гатчина              280  0.068750\n",
       "деревня Кудрово      221  0.092443\n",
       "Выборг               188  0.058404"
      ]
     },
     "execution_count": 97,
     "metadata": {},
     "output_type": "execute_result"
    }
   ],
   "source": [
    "df_4_5 = df.pivot_table(index = 'locality_name', values = 'price_per_square_meter', aggfunc = ['count', 'mean'])\n",
    "df_4_5.columns = ['count', 'mean']\n",
    "df_4_5.sort_values('count', ascending = False).head(10)"
   ]
  },
  {
   "cell_type": "markdown",
   "metadata": {},
   "source": [
    "В данной таблице представлены топ-10 населённых пунктов по количеству объявлений о продаже квартир. Ожидаемо, что лидером оказался Санкт-Петербург - в крупных населённых пунктах чаще совершаются сделки купли-продажи недвижимости, так как люди чаще переезжают, при этом переезд может быть как внутри населённого пукнта, так и эмиграция/иммиграция."
   ]
  },
  {
   "cell_type": "code",
   "execution_count": 98,
   "metadata": {},
   "outputs": [
    {
     "data": {
      "text/html": [
       "<div>\n",
       "<style scoped>\n",
       "    .dataframe tbody tr th:only-of-type {\n",
       "        vertical-align: middle;\n",
       "    }\n",
       "\n",
       "    .dataframe tbody tr th {\n",
       "        vertical-align: top;\n",
       "    }\n",
       "\n",
       "    .dataframe thead th {\n",
       "        text-align: right;\n",
       "    }\n",
       "</style>\n",
       "<table border=\"1\" class=\"dataframe\">\n",
       "  <thead>\n",
       "    <tr style=\"text-align: right;\">\n",
       "      <th></th>\n",
       "      <th>count</th>\n",
       "      <th>mean</th>\n",
       "    </tr>\n",
       "    <tr>\n",
       "      <th>locality_name</th>\n",
       "      <th></th>\n",
       "      <th></th>\n",
       "    </tr>\n",
       "  </thead>\n",
       "  <tbody>\n",
       "    <tr>\n",
       "      <td>Санкт-Петербург</td>\n",
       "      <td>13507</td>\n",
       "      <td>0.113192</td>\n",
       "    </tr>\n",
       "  </tbody>\n",
       "</table>\n",
       "</div>"
      ],
      "text/plain": [
       "                 count      mean\n",
       "locality_name                   \n",
       "Санкт-Петербург  13507  0.113192"
      ]
     },
     "execution_count": 98,
     "metadata": {},
     "output_type": "execute_result"
    }
   ],
   "source": [
    "df_4_5.sort_values('mean', ascending = False).head(1)"
   ]
  },
  {
   "cell_type": "markdown",
   "metadata": {},
   "source": [
    "Ожидаемо, что наиболее высокая стоимость 1 кв.м. характерна для Санкт-Петербурга, так как он, наравне с Москвой, считается наиболе дорогостоящим для проживания регионом. Стоимость 1 кв.м. в Санкт-Петербурге в среднем достигает около 114 тыс. рублей. А кто-то столько в месяц не получает. Эх.\n",
    "\n",
    "Справедливости ради отмечу, что стоимость может оправдана тамошней атмосферой и изобилием объектов культурного наследия. А разводные мосты, белые ночи...Питер one love, в общем."
   ]
  },
  {
   "cell_type": "code",
   "execution_count": 99,
   "metadata": {},
   "outputs": [
    {
     "data": {
      "text/html": [
       "<div>\n",
       "<style scoped>\n",
       "    .dataframe tbody tr th:only-of-type {\n",
       "        vertical-align: middle;\n",
       "    }\n",
       "\n",
       "    .dataframe tbody tr th {\n",
       "        vertical-align: top;\n",
       "    }\n",
       "\n",
       "    .dataframe thead th {\n",
       "        text-align: right;\n",
       "    }\n",
       "</style>\n",
       "<table border=\"1\" class=\"dataframe\">\n",
       "  <thead>\n",
       "    <tr style=\"text-align: right;\">\n",
       "      <th></th>\n",
       "      <th>count</th>\n",
       "      <th>mean</th>\n",
       "    </tr>\n",
       "    <tr>\n",
       "      <th>locality_name</th>\n",
       "      <th></th>\n",
       "      <th></th>\n",
       "    </tr>\n",
       "  </thead>\n",
       "  <tbody>\n",
       "    <tr>\n",
       "      <td>деревня Ям-Тесово</td>\n",
       "      <td>1</td>\n",
       "      <td>0.01</td>\n",
       "    </tr>\n",
       "  </tbody>\n",
       "</table>\n",
       "</div>"
      ],
      "text/plain": [
       "                   count  mean\n",
       "locality_name                 \n",
       "деревня Ям-Тесово      1  0.01"
      ]
     },
     "execution_count": 99,
     "metadata": {},
     "output_type": "execute_result"
    }
   ],
   "source": [
    "df_4_5.sort_values('mean', ascending = True).head(1)"
   ]
  },
  {
   "cell_type": "markdown",
   "metadata": {},
   "source": [
    "Напротив, деревня Ям-Тесово приветливо встречает потенциальных покупателей со средней стоимостью 1 кв.м. в 10 тыс. рублей. Чтобы накопить на квартиру в Ям-Тесово, придётся изрядно постараться, конечно, но выглядит более осуществимо, чем недвижимость в Санкт-Петербурге.\n",
    "\n",
    "<a href='#title'>К оглавлению.</a> "
   ]
  },
  {
   "cell_type": "markdown",
   "metadata": {},
   "source": [
    "<a id='4.6'></a> \n",
    "## Этап 4.6. Задание \"Изучите предложения квартир: для каждой квартиры есть информация о расстоянии до центра. Выделите квартиры в Санкт-Петербурге ('locality_name'). Ваша задача — выяснить, какая область входит в центр. Создайте столбец с расстоянием до центра в километрах: округлите до целых значений. После этого посчитайте среднюю цену для каждого километра. Постройте график: он должен показывать, как цена зависит от удалённости от центра. Определите границу, где график сильно меняется — это и будет центральная зона\""
   ]
  },
  {
   "cell_type": "markdown",
   "metadata": {},
   "source": [
    "Отмечу, что мы уже преобразовали поле cityCenters_nearest, сведя данные из метров в километры, на шаге 2.4.\n",
    "Для выполнения задания сформируем новый набор данных, используя срез данных."
   ]
  },
  {
   "cell_type": "code",
   "execution_count": 100,
   "metadata": {},
   "outputs": [],
   "source": [
    "df_4_6 = df.query('locality_name == \"Санкт-Петербург\"')"
   ]
  },
  {
   "cell_type": "markdown",
   "metadata": {},
   "source": [
    "Для подсчтёта средней цены для квартиры для каждого километра от центра воспользуемся сводной таблицей. Сгруппируем данные по километрам от центра, в качестве значения укажем поле last_price, агрегирующей функцией укажем mean."
   ]
  },
  {
   "cell_type": "code",
   "execution_count": 101,
   "metadata": {},
   "outputs": [
    {
     "data": {
      "text/html": [
       "<div>\n",
       "<style scoped>\n",
       "    .dataframe tbody tr th:only-of-type {\n",
       "        vertical-align: middle;\n",
       "    }\n",
       "\n",
       "    .dataframe tbody tr th {\n",
       "        vertical-align: top;\n",
       "    }\n",
       "\n",
       "    .dataframe thead th {\n",
       "        text-align: right;\n",
       "    }\n",
       "</style>\n",
       "<table border=\"1\" class=\"dataframe\">\n",
       "  <thead>\n",
       "    <tr style=\"text-align: right;\">\n",
       "      <th></th>\n",
       "      <th>last_price</th>\n",
       "    </tr>\n",
       "    <tr>\n",
       "      <th>cityCenters_nearest</th>\n",
       "      <th></th>\n",
       "    </tr>\n",
       "  </thead>\n",
       "  <tbody>\n",
       "    <tr>\n",
       "      <td>0</td>\n",
       "      <td>19.868829</td>\n",
       "    </tr>\n",
       "    <tr>\n",
       "      <td>1</td>\n",
       "      <td>17.365795</td>\n",
       "    </tr>\n",
       "    <tr>\n",
       "      <td>2</td>\n",
       "      <td>14.304563</td>\n",
       "    </tr>\n",
       "    <tr>\n",
       "      <td>3</td>\n",
       "      <td>10.741704</td>\n",
       "    </tr>\n",
       "    <tr>\n",
       "      <td>4</td>\n",
       "      <td>11.990561</td>\n",
       "    </tr>\n",
       "    <tr>\n",
       "      <td>5</td>\n",
       "      <td>13.188019</td>\n",
       "    </tr>\n",
       "    <tr>\n",
       "      <td>6</td>\n",
       "      <td>11.745550</td>\n",
       "    </tr>\n",
       "    <tr>\n",
       "      <td>7</td>\n",
       "      <td>11.718747</td>\n",
       "    </tr>\n",
       "    <tr>\n",
       "      <td>8</td>\n",
       "      <td>8.343490</td>\n",
       "    </tr>\n",
       "    <tr>\n",
       "      <td>9</td>\n",
       "      <td>6.248746</td>\n",
       "    </tr>\n",
       "    <tr>\n",
       "      <td>10</td>\n",
       "      <td>6.196709</td>\n",
       "    </tr>\n",
       "    <tr>\n",
       "      <td>11</td>\n",
       "      <td>5.845178</td>\n",
       "    </tr>\n",
       "    <tr>\n",
       "      <td>12</td>\n",
       "      <td>5.873493</td>\n",
       "    </tr>\n",
       "    <tr>\n",
       "      <td>13</td>\n",
       "      <td>5.919895</td>\n",
       "    </tr>\n",
       "    <tr>\n",
       "      <td>14</td>\n",
       "      <td>5.610715</td>\n",
       "    </tr>\n",
       "    <tr>\n",
       "      <td>15</td>\n",
       "      <td>5.537631</td>\n",
       "    </tr>\n",
       "    <tr>\n",
       "      <td>16</td>\n",
       "      <td>5.384369</td>\n",
       "    </tr>\n",
       "    <tr>\n",
       "      <td>17</td>\n",
       "      <td>4.923557</td>\n",
       "    </tr>\n",
       "    <tr>\n",
       "      <td>18</td>\n",
       "      <td>5.255629</td>\n",
       "    </tr>\n",
       "    <tr>\n",
       "      <td>19</td>\n",
       "      <td>4.787403</td>\n",
       "    </tr>\n",
       "    <tr>\n",
       "      <td>20</td>\n",
       "      <td>6.221833</td>\n",
       "    </tr>\n",
       "    <tr>\n",
       "      <td>21</td>\n",
       "      <td>4.996051</td>\n",
       "    </tr>\n",
       "    <tr>\n",
       "      <td>22</td>\n",
       "      <td>5.149735</td>\n",
       "    </tr>\n",
       "    <tr>\n",
       "      <td>23</td>\n",
       "      <td>4.242963</td>\n",
       "    </tr>\n",
       "    <tr>\n",
       "      <td>24</td>\n",
       "      <td>3.883684</td>\n",
       "    </tr>\n",
       "    <tr>\n",
       "      <td>25</td>\n",
       "      <td>4.101351</td>\n",
       "    </tr>\n",
       "    <tr>\n",
       "      <td>26</td>\n",
       "      <td>3.576667</td>\n",
       "    </tr>\n",
       "    <tr>\n",
       "      <td>27</td>\n",
       "      <td>8.300000</td>\n",
       "    </tr>\n",
       "    <tr>\n",
       "      <td>28</td>\n",
       "      <td>4.910000</td>\n",
       "    </tr>\n",
       "    <tr>\n",
       "      <td>29</td>\n",
       "      <td>4.525000</td>\n",
       "    </tr>\n",
       "  </tbody>\n",
       "</table>\n",
       "</div>"
      ],
      "text/plain": [
       "                     last_price\n",
       "cityCenters_nearest            \n",
       "0                     19.868829\n",
       "1                     17.365795\n",
       "2                     14.304563\n",
       "3                     10.741704\n",
       "4                     11.990561\n",
       "5                     13.188019\n",
       "6                     11.745550\n",
       "7                     11.718747\n",
       "8                      8.343490\n",
       "9                      6.248746\n",
       "10                     6.196709\n",
       "11                     5.845178\n",
       "12                     5.873493\n",
       "13                     5.919895\n",
       "14                     5.610715\n",
       "15                     5.537631\n",
       "16                     5.384369\n",
       "17                     4.923557\n",
       "18                     5.255629\n",
       "19                     4.787403\n",
       "20                     6.221833\n",
       "21                     4.996051\n",
       "22                     5.149735\n",
       "23                     4.242963\n",
       "24                     3.883684\n",
       "25                     4.101351\n",
       "26                     3.576667\n",
       "27                     8.300000\n",
       "28                     4.910000\n",
       "29                     4.525000"
      ]
     },
     "execution_count": 101,
     "metadata": {},
     "output_type": "execute_result"
    }
   ],
   "source": [
    "df_4_6.pivot_table(index = 'cityCenters_nearest', values = 'last_price', aggfunc = 'mean')"
   ]
  },
  {
   "cell_type": "markdown",
   "metadata": {},
   "source": [
    "Видим, что все километры были сгруппированы в группы от 0 до 29. Следовательно, на расстоянии более чем 29 км. от центра квартиры не продаются, а ближе всего к центру квартиры, собранные в группу, где расстояние до центра составляет 0 км., т.е. меньше одного километра.\n",
    "\n",
    "Построим график на основе этих данных и посмотрим на изменение цен на квартиры в зависимости от их удалённость от центра."
   ]
  },
  {
   "cell_type": "code",
   "execution_count": 102,
   "metadata": {},
   "outputs": [
    {
     "data": {
      "text/plain": [
       "<matplotlib.axes._subplots.AxesSubplot at 0x7fa2acba0bd0>"
      ]
     },
     "execution_count": 102,
     "metadata": {},
     "output_type": "execute_result"
    },
    {
     "data": {
      "image/png": "[encoded data removed]",
      "text/plain": [
       "<Figure size 720x360 with 1 Axes>"
      ]
     },
     "metadata": {
      "needs_background": "light"
     },
     "output_type": "display_data"
    }
   ],
   "source": [
    "df_4_6.pivot_table(index='cityCenters_nearest', values='last_price', aggfunc='mean').plot(y='last_price',\n",
    "kind='bar', figsize=(10,5))"
   ]
  },
  {
   "cell_type": "markdown",
   "metadata": {},
   "source": [
    "Инетрпретируя график, можно сделать как минимум 2 вывода о том, где всё-таки начинается центральная зона в Санкт-Петербурге:\n",
    "\n",
    "1. На 3 км. цена на квартиры значительно падает. Можно сделать вывод о том, что центральной зоной считается зона в 2 км. от центра города включительно.\n",
    "\n",
    "\n",
    "2. Если предположить, что падение цен на квартиры в 3 км. от центра вызвано лишь тем, что в данную группу попали квартиры низкого качества и что для их продажи продавец сознательно поставил цену ниже более качественных соседей, а также принять во внимание, что, во-первых, после 3 км. цены на растут вплоть до 5 км. от центра, во-вторых, второе снижение цен наблюдается только на 8 км., можно заключить о том, что в центральную зону входят квартиры на расстоянии не более 8 км., так как на 9 км. и далее снижение цены более существенное, чем можно было наблюдать ранее.\n",
    "\n",
    "Второй вариант в масштабах Санкт-Петербурга выглядит более убедительным, его предлагаю использовать как рабочий.\n",
    "\n",
    "<a href='#title'>К оглавлению.</a> "
   ]
  },
  {
   "cell_type": "markdown",
   "metadata": {},
   "source": [
    "<a id='4.7'></a> \n",
    "## Этап 4.7. Задание \"Выделите сегмент квартир в центре. Проанализируйте эту территорию и изучите следующие параметры: площадь, цена, число комнат, высота потолков. Также выделите факторы, которые влияют на стоимость квартиры (число комнат, этаж, удалённость от центра, дата размещения объявления). Сделайте выводы. Отличаются ли они от общих выводов по всему городу\""
   ]
  },
  {
   "cell_type": "markdown",
   "metadata": {},
   "source": [
    "Для выполнения задания сформируем 2 среза данных:\n",
    "\n",
    "1. В первом срезе будут данные об объявлениях по продаже квартир в центре Санкт-Петербурга (т.е. с расстоянием до центра не более 8 км.).\n",
    "\n",
    "2. Во втором срезе будут данные об объявлениях по продаже квартир вне центра Санкт-Петербурга.    "
   ]
  },
  {
   "cell_type": "code",
   "execution_count": 103,
   "metadata": {},
   "outputs": [],
   "source": [
    "df_4_7_center = df.query('locality_name == \"Санкт-Петербург\" and cityCenters_nearest <= 8')\n",
    "df_4_7_not_center = df.query('locality_name == \"Санкт-Петербург\" and cityCenters_nearest > 8')"
   ]
  },
  {
   "cell_type": "markdown",
   "metadata": {},
   "source": [
    "Изучим квартиры в центральном районе по следующим полям: total_area, last_price, rooms, ceiling_height. Для этого построим гистограмму распределения для каждого параметра, используя цикл."
   ]
  },
  {
   "cell_type": "code",
   "execution_count": 104,
   "metadata": {},
   "outputs": [
    {
     "data": {
      "image/png": "[encoded data removed]",
      "text/plain": [
       "<Figure size 720x360 with 1 Axes>"
      ]
     },
     "metadata": {
      "needs_background": "light"
     },
     "output_type": "display_data"
    },
    {
     "data": {
      "image/png": "[encoded data removed]",
      "text/plain": [
       "<Figure size 720x360 with 1 Axes>"
      ]
     },
     "metadata": {
      "needs_background": "light"
     },
     "output_type": "display_data"
    },
    {
     "data": {
      "image/png": "[encoded data removed]",
      "text/plain": [
       "<Figure size 720x360 with 1 Axes>"
      ]
     },
     "metadata": {
      "needs_background": "light"
     },
     "output_type": "display_data"
    },
    {
     "data": {
      "image/png": "[encoded data removed]",
      "text/plain": [
       "<Figure size 720x360 with 1 Axes>"
      ]
     },
     "metadata": {
      "needs_background": "light"
     },
     "output_type": "display_data"
    }
   ],
   "source": [
    "for col in df_4_7_center:\n",
    "    if col in ['total_area', 'last_price', 'rooms', 'ceiling_height']:\n",
    "        df_4_7_center.plot(y = col, kind = 'hist', grid = True, figsize = (10,5), \n",
    "                           bins = 50, title = col, range = (df[col].min(), df[col].max()))\n",
    "    else:\n",
    "        continue"
   ]
  },
  {
   "cell_type": "markdown",
   "metadata": {},
   "source": [
    "Дадим интерпретацию информации из графиков:\n",
    "\n",
    "1. Поле last_price: основная ценовая категория квартир в центре Санкт-Петербурга - квартиры до 50 млн. рублей. Из них основная часть сосредоточена в ценовом диапазоне от 15 до 25-30 млн. рублей. После отметки в 50 млн. имеем длинный правый хвост из малого количества дорогих квартир. \n",
    "\n",
    "2. Поле total_area: основная часть квартир - до 200 кв.м., после этой отметки имеем длинный правый хвост из редковстречающихся огромных квартир площадью более 200 кв.м. Наиболее часто встрачаемая площадь квартир - где-то от 25 до 75 кв.м.\n",
    "\n",
    "3. Поле rooms: чаще всего встречаются двух- и трёхкомнатные квартиры. Чуть менее часто - однушки. Ещё менее часто встречаются квартиры, в которых больше 3 комнат, если конкретно - 4 и 5, при этом четырёхкомнатные квартиры встречаются чаще пятикомнатных.\n",
    "\n",
    "4. Поле ceiling_height: чаще всего встречаются квартиры, где высота потолка составляет около 2.7 м., реже - около 3 м.\n",
    "\n",
    "Изучим влияние на цену квартиры таких факторов, как day_exposition, month_exposition, year_exposition, rooms, floor_apartment_index, cityCenters_nearest.\n",
    "\n",
    "Для этого составим сводную таблицу для каждого из влияющих параметров, в которой сгруппируем данные по каждому из параметров, в качестве параметра передадим last_price, в качестве агрегирующей функции - mean. Следом на основе каждой сводной таблицы построим столбчатую диаграмму. Для выполнения всего этого счастья используем цикл."
   ]
  },
  {
   "cell_type": "code",
   "execution_count": 105,
   "metadata": {},
   "outputs": [
    {
     "data": {
      "image/png": "[encoded data removed]",
      "text/plain": [
       "<Figure size 1440x360 with 1 Axes>"
      ]
     },
     "metadata": {
      "needs_background": "light"
     },
     "output_type": "display_data"
    },
    {
     "data": {
      "image/png": "[encoded data removed]",
      "text/plain": [
       "<Figure size 1440x360 with 1 Axes>"
      ]
     },
     "metadata": {
      "needs_background": "light"
     },
     "output_type": "display_data"
    },
    {
     "data": {
      "image/png": "[encoded data removed]",
      "text/plain": [
       "<Figure size 1440x360 with 1 Axes>"
      ]
     },
     "metadata": {
      "needs_background": "light"
     },
     "output_type": "display_data"
    },
    {
     "data": {
      "image/png": "[encoded data removed]",
      "text/plain": [
       "<Figure size 1440x360 with 1 Axes>"
      ]
     },
     "metadata": {
      "needs_background": "light"
     },
     "output_type": "display_data"
    },
    {
     "data": {
      "image/png": "[encoded data removed]",
      "text/plain": [
       "<Figure size 1440x360 with 1 Axes>"
      ]
     },
     "metadata": {
      "needs_background": "light"
     },
     "output_type": "display_data"
    },
    {
     "data": {
      "image/png": "[encoded data removed]",
      "text/plain": [
       "<Figure size 1440x360 with 1 Axes>"
      ]
     },
     "metadata": {
      "needs_background": "light"
     },
     "output_type": "display_data"
    }
   ],
   "source": [
    "for col in df_4_7_center:\n",
    "    if col in ['day_exposition', 'month_exposition', 'year_exposition', 'rooms', 'floor_apartment_index', \n",
    "'cityCenters_nearest']:\n",
    "        df_4_7_center.sort_values(col).pivot_table(index = col, values = 'last_price', aggfunc = 'mean').plot(y = 'last_price', \n",
    "kind = 'bar', figsize = (20, 5), title = col)"
   ]
  },
  {
   "cell_type": "markdown",
   "metadata": {},
   "source": [
    "Попытаемся интерпретировать информацию из графиков:\n",
    "\n",
    "1. Поле rooms: ранее мы уже убедились в том, что для всего набора днных цена на квартиру связана с количеством комнат косвенно через площадь. Здесь мы убеждаемся в наличии ещё и прямой зависимости: чем больше комнат в квартире, тем она дороже. Хотя это также может быть объяснено за счёт роста площади квартиры по мере роста комнат.\n",
    "\n",
    "\n",
    "2. Поле cityCenters_nearest: видим, что наиболее дорогие квартиры - те, у которых расстояние до центра не превышает 3 км. При этом чем меньше расстояние, тем выше цена. После 3 км. идёт колебание в ценах, но цена, помимо расстояния до центра, зависит и от влияния других параметров.\n",
    "\n",
    "\n",
    "3. Поле floor_apartment_index: цена на квартиры на первом этаже ниже, чем цена на квартиры на более высоких этажах. В свою очередь цена этих квартир ниже, чем цена на квартиры на последнем этаже. Как писалось ранее, такая динамика может быть объяснена такими параметрами, как комфорт, шум, вид из окна и т.д. Отмечу, что в центральном райное нет квартир, где 1 этаж является последним, что ранее мы классифицировали как частный дом или одноэтажную жилую застройку.\n",
    "\n",
    "\n",
    "4. Поля day_exposition, month_exposition', year_exposition: зависимость цены квартиры от этих полей для квартир Санкт-Петербурга в центре перекликается в зависиомостью цены на квартиры от этих параметров, которые мы выявили для всех объявлений:\n",
    "\n",
    "\n",
    "- зависимость цены от дня размещения объявления, скорее, забавная, нежели научная: цены кажутся ниже, если объявления размещены в выходной день;\n",
    "\n",
    "\n",
    "- зависимость цены от месяца размещения также не прослеживается: данные ведут себя спокойно, график не демонстрирует значительных колебаний цен;\n",
    "\n",
    "\n",
    "- ситуация с годами интереснее: видим, что в каждом году, кроме 2019, цены на квартиры ниже предыдущего года, хотя стоит отметить, что темпы падения цен от года к году снижается. \n",
    "\n",
    "Проанализируем зависимость цен на квартиры по тем же параметрам, только теперь за центральным районом Санкт-Петербурга."
   ]
  },
  {
   "cell_type": "code",
   "execution_count": 106,
   "metadata": {},
   "outputs": [
    {
     "data": {
      "image/png": "[encoded data removed]",
      "text/plain": [
       "<Figure size 1440x360 with 1 Axes>"
      ]
     },
     "metadata": {
      "needs_background": "light"
     },
     "output_type": "display_data"
    },
    {
     "data": {
      "image/png": "[encoded data removed]",
      "text/plain": [
       "<Figure size 1440x360 with 1 Axes>"
      ]
     },
     "metadata": {
      "needs_background": "light"
     },
     "output_type": "display_data"
    },
    {
     "data": {
      "image/png": "[encoded data removed]",
      "text/plain": [
       "<Figure size 1440x360 with 1 Axes>"
      ]
     },
     "metadata": {
      "needs_background": "light"
     },
     "output_type": "display_data"
    },
    {
     "data": {
      "image/png": "[encoded data removed]",
      "text/plain": [
       "<Figure size 1440x360 with 1 Axes>"
      ]
     },
     "metadata": {
      "needs_background": "light"
     },
     "output_type": "display_data"
    },
    {
     "data": {
      "image/png": "[encoded data removed]",
      "text/plain": [
       "<Figure size 1440x360 with 1 Axes>"
      ]
     },
     "metadata": {
      "needs_background": "light"
     },
     "output_type": "display_data"
    },
    {
     "data": {
      "image/png": "[encoded data removed]",
      "text/plain": [
       "<Figure size 1440x360 with 1 Axes>"
      ]
     },
     "metadata": {
      "needs_background": "light"
     },
     "output_type": "display_data"
    }
   ],
   "source": [
    "for col in df_4_7_not_center:\n",
    "    if col in ['day_exposition', 'month_exposition', 'year_exposition', 'rooms', 'floor_apartment_index', \n",
    "'cityCenters_nearest']:\n",
    "        df_4_7_not_center.sort_values(col).pivot_table(index=col, values='last_price', aggfunc='mean').plot(y='last_price', \n",
    "kind='bar', figsize=(20, 5), title=col)"
   ]
  },
  {
   "cell_type": "markdown",
   "metadata": {},
   "source": [
    "Дадим графикам интерпретацию и сравним выводы с выводами, полученными при исследовании зависимости цены на квартиры от тех же параметров, но в центральном районе Санкт-Петербурга."
   ]
  },
  {
   "cell_type": "markdown",
   "metadata": {},
   "source": [
    "1. Поле rooms: ситуация с квартирами вне центра не отличается от ситуации с квартирами в центре: чем больше комнат и, соответственно, площадь, тем выше цена на эти квартиры.\n",
    "\n",
    "\n",
    "2. Поле cityCenters_nearest: видим, цена на квартиры, как и в случае с квартирами в центре, снижается по мере отдаления от центра, за некоторым исключением для квартир, расположенных в 20 и 27 км.: цена на них выше, чем цена на их более близких к центру соседей, однако это может быть обусловлено наличием в этих квартирах каких-нибудь приятных плюшек, которыми не могут похвастать менее дорогостоящие соседи.\n",
    "\n",
    "\n",
    "3. Поле floor_apartment_index: ситуация также в некоторой степени напоминает ситуацию с квартирами в центре: квартиры на 1 этаже дешевле квартир на более высоких этажах, а те, в свою очередь, дешевле квартиры на последнем этаже. Вместе с тем для квартир, которые находятся вне центра, характерна отличительная черта - наличие квартир, у которых первый этаж является и последним, т.е. речь о частных или одноэтажных жилых застройках. При этом цена на них ниже, чем на квартиру на 1 этаже.\n",
    "\n",
    "\n",
    "4. Поля day_exposition, month_exposition', year_exposition: зависимость цены от этих полей для квартир Санкт-Петербурга вне центра перекликается в зависиомостью цены от этих параметров для квартир в центре Санкт-Петербурга:\n",
    "\n",
    "\n",
    "- зависимость цены от дня размещения объявления, скорее, забавная, нежели научная: цены кажутся ниже, если объявления размещены в выходной день;\n",
    "\n",
    "\n",
    "- зависимость цены от месяца размещения также не прослеживается: данные ведут себя спокойно, график не демонстрирует значительных колебаний цен;\n",
    "\n",
    "\n",
    "- ситуация с годами интереснее: видим, что в каждом году, кроме 2019, цены на квартиры ниже предыдущего года, хотя стоит отметить, что темпы падения цен от года к году снижается. Однако цены на эти квартиры в 2018 году выше, чем в 2017 году, что отличает их от квартир в центре Санкт-Петербурга.\n",
    "\n",
    "Таким образом, за исключением некоторых частностей, можно говорить о том, что изучаемые параметры - количество комнат, индекс этажности, расстояние до центра и дата размещения - одинаково влияют на цену квартиры как в центре, так и за его пределами.\n",
    "\n",
    "<a href='#title'>К оглавлению.</a> "
   ]
  },
  {
   "cell_type": "markdown",
   "metadata": {},
   "source": [
    "# Вывод по этапу 4.\n",
    "\n",
    "На данном этапе был проведён исследовательский анализ данных. \n",
    "\n",
    "В основном все значения исследуемых полей - total_area, kitchen_area, living_area, last_price, ceiling_height -  кроме условно-категориального поля room, сосредоточены в левой части гистограммы с длинным низким хвостом высоких значений в правой части гистограммы. \n",
    "\n",
    "Распределение в этих полях напоминает распределение Пуассона. Из гистограмм можно заключить, что в основной массе преобладают объявления с квартирами, если позволите, \"средней руки\": для них характерна общая площадь до 100 кв.м., площадь кухни - где-то до 15-16 кв.м. жилая площадь - где-то до 50 кв.м. \n",
    "\n",
    "Наиболее частая цена на такие квартиры лежит в диапазоне до 20-25 млн. руб., а высота потолка в таких квартирах - от 2.5 до 3 м. Чаще всего встречаются квартиры с количеством комнат от 1 до 3, реже встречаются четырёхкомнатные квартиры, а квартиры с пятью комнатами можно по пальцам руки посчитать.\n",
    "\n",
    "В среднем каждое объявление находится на платформе 173 дня, при этом присутствует высокое стандартное отклонение, что говорит о большом отклонении длительности нахождения объявлений на платформе некоторых объявлений от средней длительности. \n",
    "\n",
    "Наиболее удачными можно считать объявления, которые были размещены на платформе всего лишь 1 день. Хорошая, видимо, квартира. \n",
    "\n",
    "Напротив, наименее привлекательное объявление находилось на платформе 1572 дня, а это, на минутку, 4 года и ещё треть пятого. Видимо, владелец никогда не сдаётся, что не может не радовать, но и предмет объявления тоже нужно оценивать адекватно. \n",
    "\n",
    "Медианная длительность нахождения объявления на платформе - 101 день. Это значение делит нашу выборку на \"до 101 дня\" и \"после 101 дня\" нахождения объявления на платформе. \n",
    "\n",
    "Четверть объявлений из выборки находились на платформе не более 48 дней (1 квартиль), 3/4 объявлений из выборки находились на платформе не более 204 дней.\n",
    "\n",
    "Объявления по признаку количества дней нахождения на платформе имеют распределение Пуассона: видим скполение основной массы объявлений в левой части гисторграммы и длинный хвост в правой части гистограммы, описывающий распределение тех квартир, объявления о которых находились на платформе очень долго.\n",
    "\n",
    "В ответе на вопрос о том, при какой длительности нахождения объявления на плафторме можно считать, что продажа прошла быстро, а при какой длительности можно говорить о медленной продаже, ящик с усами нам подсказывает:\n",
    "\n",
    "- если объявление находится на платформе не более 48 дней, квартира продаётся очень быстро. Блиц - скорость без границ!;\n",
    "\n",
    "\n",
    "- если объявление находится на платформе не более 101 дня, можно говорить о том, что квартира продаётся не очень быстро, но всё ещё нормально без аномально высоких сроков;\n",
    "\n",
    "\n",
    "- если объявление находится на платформе не более 204 дней, можно говорить о том, что квартира продаётся медленно, но не аномально медленно;\n",
    "\n",
    "\n",
    "- количество нахождения объявления на платформе не более около 420 дней говорит о том, что квартира продаётся очень медленно, но пока что клиент ещё не входит в зону аномальных объявлений с аномально большим количеством дней находления их на платформе. Вместе с тем практика, когда квартира продатёся ~1 год, кажется нормальной, если переносить этот вывод на реальный рынок недвижимости;\n",
    "\n",
    "\n",
    "- если объявление находится на платформе более 420 дней, оно сваливается в категорию аномальных, а рассчитывать на его продажу в принципе не приходится.\n",
    "\n",
    "Были построены ящики с усами для тех же полей, в которых были идентифицированы аномальные значения. Напомню, что это поля rooms, ceiling_height и balcony.\n",
    "\n",
    "По итогам анализа пришли к выводу о том, что эти поля не содержат аномальных значений, за исключением поля ceiling_height.\n",
    "\n",
    "Выбросами в данном поле считается высота потолка меньшая, чем 2,4 метра, и большая, чем 2.8 метров. Об аномальности значений этого поля мы уже говорили ранее: потолки высотой до 3 метров не очень лаконично вписываются в картину мира среднестатистического человека, однако квартир с такой высотой потолка большинство, и удалять их не следует, так как набор данных потеряет в информативности.\n",
    "\n",
    "О наличии выбросов в других полях однозначно сказать сложно: к примеру, большое значения поля total_area, kitchen_area или living_area вполне может иметь место быть, так как на платформе могут быть размещены объявления о продаже очень больших квартир. Отсюда проистекает наличие в наборе данных объявлений с условно-аномальной стоимостью: чем больше количество кв.м., тем выше стоимость квартиры. Поэтому и в поле last_price однозначно определить выбросы - задача проблематичная.\n",
    "\n",
    "Коэффициент корреляции позволил выявить следующие зависмости между: \n",
    "\n",
    "- ценой квартиры и площадью квартиры - средняя прямая;\n",
    "\n",
    "\n",
    "- ценой квартиры и количеством комнат - средняя прямая;\n",
    "\n",
    "\n",
    "- ценой квартиры и индексом этажности - низкая прямая;\n",
    "\n",
    "\n",
    "- ценой квартиры и удалённостью от центра - низкая обратная.\n",
    "\n",
    "Отмечу также, что коэффициент корреляции не позволяет доподлинно утверждать о наличии или отсутствии зависимости между изучаемыми показателями, а лишь показывает наличие или отсутствие связи между показателями, а также тесноту этой связи, в рамках изучаемой выборки.\n",
    "\n",
    "Так, коэффициент корреляции указал на среднюю зависимость между ценой квартиры и её площадью. Действительно, на практике принято указывать стоимть квартиры, которая в свою очередь складывается стоимости 1 кв.м. в этой квартире, умноженной на количество кв.м. в квартире. Поэтому коэффициент корреляции подтверждает гипотезу о том, что стоимость квартиры зависит от площади квартиры.\n",
    "\n",
    "Коэффициент корреляции также указывает на наличие средней зависимости между ценой квартиры и количеством комнат, однако несмотря на то, что оба поля - площадь и количество комнат - попали в категорию \"средняя зависимость\", зависимость между ценой и количеством комнат куда ниже, чем между ценой и площадью. На практике количество комнат играет не самую значимую роль при ценообразовании, так как количество комнат зависит от ряда других факторов, таких как планировка, тип дома, год его постройки и др. Поэтому всё же большее влияние на цену квартиры оказывает именно её площадь. Однако можно проследить тесную зависимость между количеством комнат и площадью, поэтому можно говорить о том, что площадь и количество комант между собой неразрывно связаны.\n",
    "\n",
    "Корреляция между ценой квартиры и индексом этажности довольно слабая, однако это подтверждено лишь значением коэффициента корреляции. На практике цена квартиры также зависит от этажности: цены на квартиры на 1-2 этажах будут ниже, чем цены на квартиры на 3-6 этажах. В свою очередь цены на квартиры на 3-6 этажах будут ниже, чем цены на квартиры на 7 и выше этажах. Это связано с тем, что на первых этажах есть неудобства в виде шума от людей на улице и машин на дорогах, а также от жильцов, которые, к примеру, пользуются лифтом. Этажи 3-6 негласно называют \"золотой серединой\", этот сегмент для жильца со средним бюджетом. Чем выше этаж, тем дороже квартира. Это объясняется некоторыми привелегиями, доступным жильцам на этих этажах. К примеру, им доступен более роскошный вид из окна, а также меньше шума над головой.\n",
    "\n",
    "Корреляция между ценой квартиры и расстоянием до центра поражает - слабая отрицательная. Однако не стоит принимать за чистую монету и это значение корреляции. На практике бывает и так, что близкая к центру, но с худшими условиями квартиры и (или) дома, неблагоприятным районом, соседями с претензией на статус \"социально неблагополучный\" и отходоперерабатывающим или промышленным производством за углом будет стоить меньше, чем удалённая от центра, но вполне себе фешенебельная лакшери квартирка-студия с приятными соседями, хорошей экологией с зоной для выгула собакенов.\n",
    "\n",
    "Так, в случаях с полями floor_apartment_index и cityCenters_nearest можем говорить об отсутствии именно линейной зависимости. Меж тем эмпирическую зависимость мы выявили в ходе рассуждений, поэтому можно утверждать, что между ценой квартиры и полями floor_apartment_index и cityCenters_nearest зависимость всё же существует, но она более сложная и не может быть оценена с помощью коэффициента корреляции, который оценивает только линейную зависимость.\n",
    "\n",
    "Средняя цена квартир, которые находятся на расстоянии менее 1 км до центра (в данном случае расстояние равно 0, так как мы свели расстояния в метрах к километрам с последующим округлением до целого значения), что подтвержает ранее выдвинутую гипотезу. На это уже указывает тот факт, что средняя цена за квартиру, находящуюся в 3 км. от центра, ниже, чем на квартиры, находящиеся в 4-7 км. от центра. После 8 км. и дальше цены постепенно снижаются, иногда возникают незначительные всплески. Вместе с тем нельзя сказать о наличии тенденции к снижению стоимости квартир по мере удаления их от центра.\n",
    "\n",
    "Квартира, расположенная на этаже, отличном от первого и последнего, стоит выше, чем квартира на первом этаже. Вместе с тем есть также и квартиры, для которых первый этаж является и последним. Предположу, что речь может идти о частных домах типа котеджа, где этажей в принципе нет, или же о жилых одноэтажных застройках (я такую один раз даже видел).\n",
    "\n",
    "Значения коэффициента корреляции не указывают на наличие какой-либо зависимости от даты размещения объявления. Вместе с тем эмпирически эту зависимость можно идентифицировать: так, например, в продаже квартир не последнее место занимает фактор сезонности: спрос на квартиры может быть выше, скажем, летом, когда люди более склонны к активому поведению, и меньше зимой, когда холод и морозы не очень располагают к поиску новых квартир и вытекающему из этого переезду. Также могут иметь место экономические и политические факторы: к примеру, если экономика экспортоориентировання на какой-то сезонный товар, в этот сезон в стране будет больше валюты, следовательно и спрос и цены на жильё будут выше, а в несезонные периоды - меньше.\n",
    "\n",
    "При построении графиков зависимости цены квартиры от дня, месяца и года публикации объявления были получены следующие выводы:\n",
    "\n",
    "- зависимость цены от дня размещения объявления, скорее, забавная, нежели научная: цены кажутся ниже, если объявления размещены в выходной день - видим небольшие падения цен 6-7, 13-14, 20-21 и 27-28. Однако это кажется в большей степени совпадением, так как в масштабе дней коньюнктура рынка может меняться только под воздействием шоков, что в нашем случае не является справедливым: данные ведут себя относительно спокойно;\n",
    "\n",
    "\n",
    "- зависимость цены от месяца размещения также не прослеживается: данные ведут себя спокойно, график не демонстрирует значительных колебаний цен;\n",
    "\n",
    "\n",
    "- ситуация с годами интереснее: видим, что в каждом году, кроме 2019, цены на квартиры ниже предыдущего года, хотя стоит отметить, что темпы падения цен от года к году снижается. В целом это можно объяснить наличием в выборке объявлений в регионах, в которых могут проживать люди с меньшим заработкам, чем в крупных городах вроде Питера или Москвы. Соответственно, по закону рынка квартира должна стоить столько, сколько за неё готовы отдать, и если ценник на квартиру неподъёмно высок для региона, он будет спускаться вниз до тех пор, пока людям это не станет по карману. Вместе с тем снижение цен, как сейчас любят говорить экономисты, можно также объяснить падением покупательской способности населения на фоне затяжного финансово-экономического кризиса, который хоть и отрицается официально, но всё же буйствует в некоторых регионах.\n",
    "\n",
    "Лидером по количеству объявлений в населённых пунктах оказался Санкт-Петербург - в крупных населённых пунктах чаще совершаются сделки купли-продажи недвижимости, так как люди чаще переезжают, при этом переезд может быть как внутри населённого пукнта, так и эмиграция/иммиграция.\n",
    "\n",
    "Наиболее высокая стоимость 1 кв.м. характерна для Санкт-Петербурга, так как он, наравне с Москвой, считается наиболе дорогостоящим для проживания регионом. Стоимость 1 кв.м. в Санкт-Петербурге в среднем достигает около 114 тыс. рублей. А кто-то столько в месяц не получает. Эх. Справедливости ради отмечу, что стоимость может оправдана тамошней атмосферой и изобилием объектов культурного наследия. А разводные мосты, белые ночи...Питер one love, в общем.\n",
    "\n",
    "Напротив, деревня Ям-Тесово приветливо встречает потенциальных покупателей со средней стоимостью 1 кв.м. в 10 тыс. рублей. Чтобы накопить на квартиру в Ям-Тесово, придётся изрядно постараться, конечно, но выглядит более осуществимо, чем недвижимость в Санкт-Петербурге.\n",
    "\n",
    "Было получено 2 вывода о том, где всё-таки начинается центральная зона в Санкт-Петербурге:\n",
    "\n",
    "\n",
    "- на 3 км. цена на квартиры значительно падает. Можно сделать вывод о том, что центральной зоной считается зона в 2 км. от центра города включительно;\n",
    "\n",
    "\n",
    "- если предположить, что падение цен на квартиры в 3 км. от центра вызвано лишь тем, что в данную группу попали квартиры низкого качества и что для их продажи продавец сознательно поставил цену ниже более качественных соседей, а также принять во внимание, что, во-первых, после 3 км. цены на растут вплоть до 5 км. от центра, во-вторых, второе снижение цен наблюдается только на 8 км., можно заключить о том, что в центральную зону входят квартиры на расстоянии не более 8 км., так как на 9 км. и далее снижение цены более существенное, чем можно было наблюдать ранее.\n",
    "\n",
    "Второй вариант в масштабах Санкт-Петербурга выглядит более убедительным, его было предложено использовать как рабочий.\n",
    "\n",
    "В ходе изучения полей total_area, last_price, rooms, ceiling_height для квартир, находящихся в центре, были сделаны следующие выводы:\n",
    "\n",
    "- основная ценовая категория квартир в центре Санкт-Петербурга - квартиры до 50 млн. рублей. Из них основная часть сосредоточена в ценовом диапазоне от 15 до 25-30 млн. рублей. После отметки в 50 млн. имеем длинный правый хвост из малого количества дорогих квартир;\n",
    "\n",
    "\n",
    "- основная часть квартир - до 200 кв.м., после этой отметки имеем длинный правый хвост из редковстречающихся огромных квартир площадью более 200 кв.м. Наиболее часто встрачаемая площадь квартир - где-то от 25 до 75 кв.м.;\n",
    "\n",
    "\n",
    "- чаще всего встречаются двух- и трёхкомнатные квартиры. Чуть менее часто - однушки. Ещё менее часто встречаются квартиры, в которых больше 3 комнат, если конкретно - 4 и 5, при этом четырёхкомнатные квартиры встречаются чаще пятикомнатных;\n",
    "\n",
    "\n",
    "- чаще всего встречаются квартиры, где высота потолка составляет около 2.7 м., реже - около 3 м.\n",
    "\n",
    "В ходе изучения зависимости цены на квартиры в центре Санкт-Петербурга были сделаны следующие выводы:\n",
    "\n",
    "1. Цена на квартиру связана прямо с количеством комнат и косвенно через площадь. Чем больше комнат в квартире, тем она дороже. Хотя это также может быть объяснено за счёт роста площади квартиры по мере роста комнат.\n",
    "\n",
    "\n",
    "2. Наиболее дорогие квартиры - те, у которых расстояние до центра не превышает 3 км. При этом чем меньше расстояние, тем выше цена. После 3 км. идёт колебание в ценах, но цена, помимо расстояния до центра, зависит и от влияния других параметров.\n",
    "\n",
    "\n",
    "3. Цена на квартиры на первом этаже ниже, чем цена на квартиры на более высоких этажах. В свою очередь цена этих квартир ниже, чем цена на квартиры на последнем этаже. Как писалось ранее, такая динамика может быть объяснена такими параметрами, как комфорт, шум, вид из окна и т.д. Отмечу, что в центральном райное нет квартир, где 1 этаж является последним, что ранее мы классифицировали как частный дом или одноэтажную жилую застройку.\n",
    "\n",
    "\n",
    "4. Зависимость цены от дня размещения объявления, скорее, забавная, нежели научная: цены кажутся ниже, если объявления размещены в выходной день.\n",
    "\n",
    "\n",
    "5. Зависимость цены от месяца размещения также не прослеживается: данные ведут себя спокойно, график не демонстрирует значительных колебаний цен.\n",
    "\n",
    "\n",
    "6. Ситуация с годами интереснее: видим, что в каждом году, кроме 2019, цены на квартиры ниже предыдущего года, хотя стоит отметить, что темпы падения цен от года к году снижается.\n",
    "\n",
    "Далее были прострены графики зависимости цены квартир вне центра Санкт-Петербурга от тех же параметров, что позволило прийти к следующим выводам: \n",
    "\n",
    "1. Ситуация с квартирами вне центра не отличается от ситуации с квартирами в центре: чем больше комнат и, соответственно, площадь, тем выше цена на эти квартиры.\n",
    "\n",
    "\n",
    "2. Цена на квартиры, как и в случае с квартирами в центре, снижается по мере отдаления от центра, за некоторым исключением для квартир, расположенных в 20 и 27 км.: цена на них выше, чем цена на их более близких к центру соседей, однако это может быть обусловлено наличием в этих квартирах каких-нибудь приятных плюшек, которыми не могут похвастать менее дорогостоящие соседи.\n",
    "\n",
    "\n",
    "3. Квартиры на 1 этаже дешевле квартир на более высоких этажах, а те, в свою очередь, дешевле квартиры на последнем этаже. Вместе с тем для квартир, которые находятся вне центра, характерна отличительная черта - наличие квартир, у которых первый этаж является и последним, т.е. речь о частных или одноэтажных жилых застройках. При этом цена на них ниже, чем на квартиру на 1 этаже.\n",
    "\n",
    "\n",
    "4. Зависимость цены от этих полей для квартир Санкт-Петербурга вне центра перекликается в зависиомостью цены от этих параметров для квартир в центре Санкт-Петербурга:\n",
    "\n",
    "\n",
    "- зависимость цены от дня размещения объявления, скорее, забавная, нежели научная: цены кажутся ниже, если объявления размещены в выходной день;\n",
    "\n",
    "\n",
    "- зависимость цены от месяца размещения также не прослеживается: данные ведут себя спокойно, график не демонстрирует значительных колебаний цен;\n",
    "\n",
    "\n",
    "- ситуация с годами интереснее: видим, что в каждом году, кроме 2019, цены на квартиры ниже предыдущего года, хотя стоит отметить, что темпы падения цен от года к году снижается. Однако цены на эти квартиры в 2018 году выше, чем в 2017 году, что отличает их от квартир в центре Санкт-Петербурга.\n",
    "\n",
    "\n",
    "Таким образом, за исключением некоторых частностей, можно говорить о том, что изучаемые параметры - количество комнат, индекс этажности, расстояние до центра и дата размещения - одинаково влияют на цену квартиры как в центре, так и за его пределами.\n",
    "\n",
    "<a href='#title'>К оглавлению.</a> "
   ]
  },
  {
   "cell_type": "markdown",
   "metadata": {},
   "source": [
    "# Итоговый вывод по проекту.\n",
    "\n",
    "На основе данных сервиса Яндекс.Недвижимость — архива объявлений о продаже квартир в Санкт-Петербурге и соседних населённых пунктов за несколько лет - нужно было научиться определять рыночную стоимость объектов недвижимости. \n",
    "\n",
    "В рамках проекта требовалось установить параметры для будущей модели - это позволит построить автоматизированную систему: она отследит аномалии и мошенническую деятельность. \n",
    "\n",
    "По каждой квартире на продажу были доступны два вида данных. Первые вписаны пользователем, вторые — получены автоматически на основе картографических данных. Например, расстояние до центра, аэропорта, ближайшего парка и водоёма. \n",
    "\n",
    "Проект выполнялся в следующем порядке:\n",
    "\n",
    "1. Импорт библиотек, считывание и первичный анализ данных.\n",
    "\n",
    "2. Предобработка данных.\n",
    "\n",
    "3. Создание новых признаков.\n",
    "\n",
    "4. Исследовательский анализ данных.\n",
    "\n",
    "Отметим основные выводы.\n",
    "\n",
    "# Вывод по этапу 1.\n",
    "\n",
    "Изучаемый набор данных состоит из 22 колонок.  \n",
    "\n",
    "Метод shape шепчет, что максимальное количество записей в поле составляет 23699, однако метод info показывает, что количество записей от поля к полю изменяется: где-то пропущена лишь часть данных, а в каких-то полях основная часть содержимого - пропуски. Их природу попытаемся выяснить несколько позже. \n",
    "\n",
    "Типы данных в изучаемом наборе данных:\n",
    "\n",
    "дробные числа (с плавающей точкой) - 14 колонок;\n",
    "целые числа - 3 колонки;\n",
    "категориальные поля - 3 колонки;\n",
    "логические поля (булев тип данных) - 2 колонки. \n",
    "\n",
    "Конструкция values_count вкупе с циклом позволяет предварительно проанализировать поля набора данных на наличие каких-либо аномальных значений, при этом избавляет от необходимости прописывать отдельные строки кода для каждого поля набора данных.\n",
    "\n",
    "В наборе данных содержится большое количество пропусков, которые необходимо будет обработать.\n",
    "\n",
    "Предварительно - \"исходя из моего ощущения цифрового анализа\" - можно отметить следующие необычные вещи в данных, на которые следовало бы обратить внимание в ходе дальшейшего анализа:\n",
    "\n",
    "1. Данные в поле last_price приведены в рублях. Для помещений с небольшой стоимостью это выглядит нормально, но для лакшери апартаментов цифра смотрится крайне вырвиглазно. Целесообразно будет свести эту колонку, например, в тысячи или миллионы. Так как преобразование линейное, на зависимости между данными это не повлияет, а визуально или графически информацию будет воспринмать проще.\n",
    "\n",
    "\n",
    "2. Данные в поле first_day_exposition приведены в не очень удобном для восприятия (и, потенциально, для дальшейнего анализа) формате. Для удобства стоит перевести тип данных в этом поле в дату в формате \"ДД.ММ.ГГГГ ЧЧ:ММ:СС\".\n",
    "\n",
    "\n",
    "3. Данные поля rooms выглядят довольно странно: несложно представить жилое помещение с 3-4 комнатами, если очень напрячь фантазию, абстрагироваться от здравого смысла и представить, что там живёт цыганский табор с отдельной комнатой под стойла - 5-6. Количество комнат от 7 и выше, а уж тем паче - 19 (это максимальное количество комнат в наборе данных) - что-то за гранью фантастики. Возможно, стоит проанализировать какие-то зависимости между этими данными и привести их в порядок, если адекватные зависимости выявлены не будут. При этом в поле также есть значение, равное нулю, однако в контексте жилой недвижимости будет считать, что это просто квартира-студия, в которой и комнат-то нет. Или это одна большая комната.\n",
    "\n",
    "\n",
    "4. Данные поля ceiling_height также кажутся доволно странными. В рамках экспермиента была сделала сортировка поля ceiling_height со значением \"больше 5\", чтобы узнать наиболее подозрительные данные в поле. Это позволило прийти к следующему выводу: значения до 5 метров (на мой взгляд, в целом довольно адекватная цифра) занимают основную долю данных в этом поле. После же 5 метров начинается нечто невообразимое: тут есть высота потолков и в 10 метров, что больше характерно для промышленного ангара, чем для некоммерческой жилплощади в Питере, и даже 100 метров, а это уже почти небоскрёб (отмечу, что всего таких аномальных потоков с высотой более 5 метров у нас 36, а это менее 1% от количества записей в целом). С другой стороны, есть и совсем крохотные потолки едва ли выше 2 метров. Будем исходить из допущения, что нормальной будем считать квартиру, где высота потолка находится в диапазоне от 3 до 5 метров включительно.\n",
    "\n",
    "\n",
    "5. Поле balcony содержит весьма разношёрстную информацию: там есть и нулевые значения, есть пропущенные значения, а есть значения 3, 4, 5. Это кажется что-то непонятным, от чего следует избавиться, так как квартир с таким количеством балконов немного.\n",
    "\n",
    "# Вывод по этапу 2.\n",
    "\n",
    "На данном этапе мы занимались предварительной обработкой данных.\n",
    "\n",
    "Напомню, что для обработки данных условились принять следующую последовательность действий:\n",
    "\n",
    "1. Преобразование типов данных.\n",
    "\n",
    "2. Работа с аномалиями.\n",
    "\n",
    "3. Работа с дубликатами.\n",
    "\n",
    "4. Работа с пропущенными значениями.\n",
    "\n",
    "**В ходе преобразования типов данных были совершены следующие преобразования:**\n",
    "\n",
    "1. Данные поля last_price были переведы из рублей в миллионы рублей.\n",
    "\n",
    "\n",
    "2. Данные поля first_day_exposition были преобразованы из str в datetime.\n",
    "\n",
    "\n",
    "3. Данные полей floors_total, balcony, parks_around3000, ponds_around3000, days_exposition преобразованы из float в int.\n",
    "\n",
    "\n",
    "4. Данные полей airports_nearest, cityCenters_nearest, parks_nearest, ponds_nearest переведены из метров в километры с округлением до целого значения.\n",
    "\n",
    "**В ходе работы с артефактами были идентифицированы и обработаны аномалии в следующих полях:** \n",
    "\n",
    "1. rooms: проблема - аномально высокое количество комнат в квартире, порою превышающее 10 единиц, решение - удаление из набора данных записей о квартирах, у которых более 5 комнат.\n",
    "\n",
    "\n",
    "2. ceiling_height: проблема - аномально высокое значение высоты потолка, превышающее порою 5 метров, решение - удаление из набора данных записей о квартирах, у которых высота потолка превышает 5 метров.\n",
    "\n",
    "\n",
    "3. balcony: проблема - аномально высокое количество балконов, равное 3, 4 или 5 единицам, решение - удаление из набора данных записей о квартирах, у которых количество балконов превышает 2.\n",
    "\n",
    "**Дубликаты в наборе данных обнаружены не были.**\n",
    "\n",
    "**В ходе работы с пропущенными значениями были идентифицированы и обработаны пропуски в следующих полях:**\n",
    "\n",
    "1. Поля locality_name и floors_total, логика обработки пропусков - удаление из набора данных записей о квартирах, для которых значения полей locality_name и floors_total пропущены ввиду их незначительного количества в масштабах набора данных.\n",
    "\n",
    "\n",
    "2. Поля living_area и kitchen_area, логика обработки пропусков - удаление из набора данных записей о квартирах, для которых значения полей living_area и kitchen_area пропущены ввиду их незначительного количества в масштабах набора данных.\n",
    "\n",
    "\n",
    "3. Поле is_apartment, логика обработки пропусков - замена пропущенных значений на False, исходя из допущения, что если данные о принадлежности квартиры к классу апартаментов не были заполнены, эти квартиры априори не являются апартаментами.\n",
    "\n",
    "\n",
    "4. Поле balcony, логика обработки пропусков - замена пропущенных значений на 0, исходя из допущения, что если информация в поле balcony отсутствует, значит, балкона в квартире нет, поэтому информация о нём в объявлении не была заполнена изначально.\n",
    "\n",
    "\n",
    "5. Поле ceiling_height, логика обработки пропусков - замена пропущенных значений на медианную высоту полотков, рассчитанную на всём наборе данных, исходя из допущения, что для более практичной логики обработки пропущенных значений в этом поле набора данных не содержит необходимых данных.\n",
    "\n",
    "\n",
    "6. Поле days_exposition, логика обработки пропусков - замена пропущенных значений на медианное количество дней с момента публикации до снятия объявления, рассчитанное на всём наборе данных, исходя из допущения, что для более практичной логики обработки пропущенных значений в этом поле набора данных не содержит необходимых данных.\n",
    "\n",
    "\n",
    "7. Поля airports_nearest, cityCenters_nearest, parks_nearest и ponds_nearest, логика обработки пропусков - замена пропущенных значений на 0 ввиду того, что предложенный способ обработки пропущенных значений нереализуем на данных имеющегося набора данных.\n",
    "\n",
    "\n",
    "8. Поля parks_around3000 и ponds_around3000, логика обработки пропусков - замена пропущенных значений на 0 ввиду того, что предложенный способ обработки пропущенных значений нереализуем на данных имеющегося набора данных.\n",
    "\n",
    "# Вывод по этапу 3.\n",
    "\n",
    "На данном этапе происходил расчёт новых показателей с их добавлением в набор данных. Были рассчитаны и добавлены следующие показатели:\n",
    "\n",
    "1. Цена квадратного метра.\n",
    "\n",
    "2. День недели публикации объявления.\n",
    "\n",
    "3. Месяц публикации объявления.\n",
    "\n",
    "4. Год публикации объявления.\n",
    "\n",
    "5. Этаж квартиры.\n",
    "\n",
    "6. Соотношение жилой и общей площади.\n",
    "\n",
    "7. Соотношение площади кухни и общей площади.\n",
    "\n",
    "Цена квадратного метра была рассчитана как отношение общей площади к квартире к стоимости квартиры на момент снятия объявления.\n",
    "\n",
    "День недели, месяц и год публикации объявления были извлечены из поля first_day_exposition с помощью метода dt с передачей ему нужного параметра.\n",
    "\n",
    "Для расчёта этажа квартиры была реализована функция, выполняющая следующие действия:\n",
    "\n",
    "- если значение поля floor совпадает со значением поля floor_total, функция вернёт значение \"последний\";\n",
    "\n",
    "- если поле flor равно 1, функция вернёт значение \"первый\";\n",
    "\n",
    "- если поле flor равно 1, при этом поле flor_total также равно 1, функция возвращает значение \"один этаж\" (немного не по условию, но мне кажется, это логичнее, чем говорить о том, что этаж первый или последний);\n",
    "\n",
    "- в остальных случаях функция вернёт значение \"другой\".\n",
    "\n",
    "Соотношение жилой и общей площади, а также соотношение площади кухни и общей площади были рассчитаны по логике, недвусмысленно указанной в названии этих показателей.\n",
    "\n",
    "# Выводы по этапу 4\n",
    "\n",
    "На данном этапе был проведён исследовательский анализ данных. \n",
    "\n",
    "В основном все значения исследуемых полей - total_area, kitchen_area, living_area, last_price, ceiling_height -  кроме условно-категориального поля room, сосредоточены в левой части гистограммы с длинным низким хвостом высоких значений в правой части гистограммы. \n",
    "\n",
    "Распределение в этих полях напоминает распределение Пуассона. Из гистограмм можно заключить, что в основной массе преобладают объявления с квартирами, если позволите, \"средней руки\": для них характерна общая площадь до 100 кв.м., площадь кухни - где-то до 15-16 кв.м. жилая площадь - где-то до 50 кв.м. \n",
    "\n",
    "Наиболее частая цена на такие квартиры лежит в диапазоне до 20-25 млн. руб., а высота потолка в таких квартирах - от 2.5 до 3 м. Чаще всего встречаются квартиры с количеством комнат от 1 до 3, реже встречаются четырёхкомнатные квартиры, а квартиры с пятью комнатами можно по пальцам руки посчитать.\n",
    "\n",
    "В среднем каждое объявление находится на платформе 173 дня, при этом присутствует высокое стандартное отклонение, что говорит о большом отклонении длительности нахождения объявлений на платформе некоторых объявлений от средней длительности. \n",
    "\n",
    "Наиболее удачными можно считать объявления, которые были размещены на платформе всего лишь 1 день. Хорошая, видимо, квартира. \n",
    "\n",
    "Напротив, наименее привлекательное объявление находилось на платформе 1572 дня, а это, на минутку, 4 года и ещё треть пятого. Видимо, владелец никогда не сдаётся, что не может не радовать, но и предмет объявления тоже нужно оценивать адекватно. \n",
    "\n",
    "Медианная длительность нахождения объявления на платформе - 101 день. Это значение делит нашу выборку на \"до 101 дня\" и \"после 101 дня\" нахождения объявления на платформе. \n",
    "\n",
    "Четверть объявлений из выборки находились на платформе не более 48 дней (1 квартиль), 3/4 объявлений из выборки находились на платформе не более 204 дней.\n",
    "\n",
    "Объявления по признаку количества дней нахождения на платформе имеют распределение Пуассона: видим скполение основной массы объявлений в левой части гисторграммы и длинный хвост в правой части гистограммы, описывающий распределение тех квартир, объявления о которых находились на платформе очень долго.\n",
    "\n",
    "В ответе на вопрос о том, при какой длительности нахождения объявления на плафторме можно считать, что продажа прошла быстро, а при какой длительности можно говорить о медленной продаже, ящик с усами нам подсказывает:\n",
    "\n",
    "- если объявление находится на платформе не более 48 дней, квартира продаётся очень быстро. Блиц - скорость без границ!;\n",
    "\n",
    "\n",
    "- если объявление находится на платформе не более 101 дня, можно говорить о том, что квартира продаётся не очень быстро, но всё ещё нормально без аномально высоких сроков;\n",
    "\n",
    "\n",
    "- если объявление находится на платформе не более 204 дней, можно говорить о том, что квартира продаётся медленно, но не аномально медленно;\n",
    "\n",
    "\n",
    "- количество нахождения объявления на платформе не более около 420 дней говорит о том, что квартира продаётся очень медленно, но пока что клиент ещё не входит в зону аномальных объявлений с аномально большим количеством дней находления их на платформе. Вместе с тем практика, когда квартира продатёся ~1 год, кажется нормальной, если переносить этот вывод на реальный рынок недвижимости;\n",
    "\n",
    "\n",
    "- если объявление находится на платформе более 420 дней, оно сваливается в категорию аномальных, а рассчитывать на его продажу в принципе не приходится.\n",
    "\n",
    "Были построены ящики с усами для тех же полей, в которых были идентифицированы аномальные значения. Напомню, что это поля rooms, ceiling_height и balcony.\n",
    "\n",
    "По итогам анализа пришли к выводу о том, что эти поля не содержат аномальных значений, за исключением поля ceiling_height.\n",
    "\n",
    "Выбросами в данном поле считается высота потолка меньшая, чем 2,4 метра, и большая, чем 2.8 метров. Об аномальности значений этого поля мы уже говорили ранее: потолки высотой до 3 метров не очень лаконично вписываются в картину мира среднестатистического человека, однако квартир с такой высотой потолка большинство, и удалять их не следует, так как набор данных потеряет в информативности.\n",
    "\n",
    "О наличии выбросов в других полях однозначно сказать сложно: к примеру, большое значения поля total_area, kitchen_area или living_area вполне может иметь место быть, так как на платформе могут быть размещены объявления о продаже очень больших квартир. Отсюда проистекает наличие в наборе данных объявлений с условно-аномальной стоимостью: чем больше количество кв.м., тем выше стоимость квартиры. Поэтому и в поле last_price однозначно определить выбросы - задача проблематичная.\n",
    "\n",
    "Коэффициент корреляции позволил выявить следующие зависмости между: \n",
    "\n",
    "- ценой квартиры и площадью квартиры - средняя прямая;\n",
    "\n",
    "\n",
    "- ценой квартиры и количеством комнат - средняя прямая;\n",
    "\n",
    "\n",
    "- ценой квартиры и индексом этажности - низкая прямая;\n",
    "\n",
    "\n",
    "- ценой квартиры и удалённостью от центра - низкая обратная.\n",
    "\n",
    "Отмечу также, что коэффициент корреляции не позволяет доподлинно утверждать о наличии или отсутствии зависимости между изучаемыми показателями, а лишь показывает наличие или отсутствие связи между показателями, а также тесноту этой связи, в рамках изучаемой выборки.\n",
    "\n",
    "Так, коэффициент корреляции указал на среднюю зависимость между ценой квартиры и её площадью. Действительно, на практике принято указывать стоимть квартиры, которая в свою очередь складывается стоимости 1 кв.м. в этой квартире, умноженной на количество кв.м. в квартире. Поэтому коэффициент корреляции подтверждает гипотезу о том, что стоимость квартиры зависит от площади квартиры.\n",
    "\n",
    "Коэффициент корреляции также указывает на наличие средней зависимости между ценой квартиры и количеством комнат, однако несмотря на то, что оба поля - площадь и количество комнат - попали в категорию \"средняя зависимость\", зависимость между ценой и количеством комнат куда ниже, чем между ценой и площадью. На практике количество комнат играет не самую значимую роль при ценообразовании, так как количество комнат зависит от ряда других факторов, таких как планировка, тип дома, год его постройки и др. Поэтому всё же большее влияние на цену квартиры оказывает именно её площадь. Однако можно проследить тесную зависимость между количеством комнат и площадью, поэтому можно говорить о том, что площадь и количество комант между собой неразрывно связаны.\n",
    "\n",
    "Корреляция между ценой квартиры и индексом этажности довольно слабая, однако это подтверждено лишь значением коэффициента корреляции. На практике цена квартиры также зависит от этажности: цены на квартиры на 1-2 этажах будут ниже, чем цены на квартиры на 3-6 этажах. В свою очередь цены на квартиры на 3-6 этажах будут ниже, чем цены на квартиры на 7 и выше этажах. Это связано с тем, что на первых этажах есть неудобства в виде шума от людей на улице и машин на дорогах, а также от жильцов, которые, к примеру, пользуются лифтом. Этажи 3-6 негласно называют \"золотой серединой\", этот сегмент для жильца со средним бюджетом. Чем выше этаж, тем дороже квартира. Это объясняется некоторыми привелегиями, доступным жильцам на этих этажах. К примеру, им доступен более роскошный вид из окна, а также меньше шума над головой.\n",
    "\n",
    "Корреляция между ценой квартиры и расстоянием до центра поражает - слабая отрицательная. Однако не стоит принимать за чистую монету и это значение корреляции. На практике бывает и так, что близкая к центру, но с худшими условиями квартиры и (или) дома, неблагоприятным районом, соседями с претензией на статус \"социально неблагополучный\" и отходоперерабатывающим или промышленным производством за углом будет стоить меньше, чем удалённая от центра, но вполне себе фешенебельная лакшери квартирка-студия с приятными соседями, хорошей экологией с зоной для выгула собакенов.\n",
    "\n",
    "Так, в случаях с полями floor_apartment_index и cityCenters_nearest можем говорить об отсутствии именно линейной зависимости. Меж тем эмпирическую зависимость мы выявили в ходе рассуждений, поэтому можно утверждать, что между ценой квартиры и полями floor_apartment_index и cityCenters_nearest зависимость всё же существует, но она более сложная и не может быть оценена с помощью коэффициента корреляции, который оценивает только линейную зависимость.\n",
    "\n",
    "Средняя цена квартир, которые находятся на расстоянии менее 1 км до центра (в данном случае расстояние равно 0, так как мы свели расстояния в метрах к километрам с последующим округлением до целого значения), что подтвержает ранее выдвинутую гипотезу. На это уже указывает тот факт, что средняя цена за квартиру, находящуюся в 3 км. от центра, ниже, чем на квартиры, находящиеся в 4-7 км. от центра. После 8 км. и дальше цены постепенно снижаются, иногда возникают незначительные всплески. Вместе с тем нельзя сказать о наличии тенденции к снижению стоимости квартир по мере удаления их от центра.\n",
    "\n",
    "Квартира, расположенная на этаже, отличном от первого и последнего, стоит выше, чем квартира на первом этаже. Вместе с тем есть также и квартиры, для которых первый этаж является и последним. Предположу, что речь может идти о частных домах типа котеджа, где этажей в принципе нет, или же о жилых одноэтажных застройках (я такую один раз даже видел).\n",
    "\n",
    "Значения коэффициента корреляции не указывают на наличие какой-либо зависимости от даты размещения объявления. Вместе с тем эмпирически эту зависимость можно идентифицировать: так, например, в продаже квартир не последнее место занимает фактор сезонности: спрос на квартиры может быть выше, скажем, летом, когда люди более склонны к активому поведению, и меньше зимой, когда холод и морозы не очень располагают к поиску новых квартир и вытекающему из этого переезду. Также могут иметь место экономические и политические факторы: к примеру, если экономика экспортоориентировання на какой-то сезонный товар, в этот сезон в стране будет больше валюты, следовательно и спрос и цены на жильё будут выше, а в несезонные периоды - меньше.\n",
    "\n",
    "При построении графиков зависимости цены квартиры от дня, месяца и года публикации объявления были получены следующие выводы:\n",
    "\n",
    "- зависимость цены от дня размещения объявления, скорее, забавная, нежели научная: цены кажутся ниже, если объявления размещены в выходной день - видим небольшие падения цен 6-7, 13-14, 20-21 и 27-28. Однако это кажется в большей степени совпадением, так как в масштабе дней коньюнктура рынка может меняться только под воздействием шоков, что в нашем случае не является справедливым: данные ведут себя относительно спокойно;\n",
    "\n",
    "\n",
    "- зависимость цены от месяца размещения также не прослеживается: данные ведут себя спокойно, график не демонстрирует значительных колебаний цен;\n",
    "\n",
    "\n",
    "- ситуация с годами интереснее: видим, что в каждом году, кроме 2019, цены на квартиры ниже предыдущего года, хотя стоит отметить, что темпы падения цен от года к году снижается. В целом это можно объяснить наличием в выборке объявлений в регионах, в которых могут проживать люди с меньшим заработкам, чем в крупных городах вроде Питера или Москвы. Соответственно, по закону рынка квартира должна стоить столько, сколько за неё готовы отдать, и если ценник на квартиру неподъёмно высок для региона, он будет спускаться вниз до тех пор, пока людям это не станет по карману. Вместе с тем снижение цен, как сейчас любят говорить экономисты, можно также объяснить падением покупательской способности населения на фоне затяжного финансово-экономического кризиса, который хоть и отрицается официально, но всё же буйствует в некоторых регионах.\n",
    "\n",
    "Лидером по количеству объявлений в населённых пунктах оказался Санкт-Петербург - в крупных населённых пунктах чаще совершаются сделки купли-продажи недвижимости, так как люди чаще переезжают, при этом переезд может быть как внутри населённого пукнта, так и эмиграция/иммиграция.\n",
    "\n",
    "Наиболее высокая стоимость 1 кв.м. характерна для Санкт-Петербурга, так как он, наравне с Москвой, считается наиболе дорогостоящим для проживания регионом. Стоимость 1 кв.м. в Санкт-Петербурге в среднем достигает около 114 тыс. рублей. А кто-то столько в месяц не получает. Эх. Справедливости ради отмечу, что стоимость может оправдана тамошней атмосферой и изобилием объектов культурного наследия. А разводные мосты, белые ночи...Питер one love, в общем.\n",
    "\n",
    "Напротив, деревня Ям-Тесово приветливо встречает потенциальных покупателей со средней стоимостью 1 кв.м. в 10 тыс. рублей. Чтобы накопить на квартиру в Ям-Тесово, придётся изрядно постараться, конечно, но выглядит более осуществимо, чем недвижимость в Санкт-Петербурге.\n",
    "\n",
    "Было получено 2 вывода о том, где всё-таки начинается центральная зона в Санкт-Петербурге:\n",
    "\n",
    "\n",
    "- на 3 км. цена на квартиры значительно падает. Можно сделать вывод о том, что центральной зоной считается зона в 2 км. от центра города включительно;\n",
    "\n",
    "\n",
    "- если предположить, что падение цен на квартиры в 3 км. от центра вызвано лишь тем, что в данную группу попали квартиры низкого качества и что для их продажи продавец сознательно поставил цену ниже более качественных соседей, а также принять во внимание, что, во-первых, после 3 км. цены на растут вплоть до 5 км. от центра, во-вторых, второе снижение цен наблюдается только на 8 км., можно заключить о том, что в центральную зону входят квартиры на расстоянии не более 8 км., так как на 9 км. и далее снижение цены более существенное, чем можно было наблюдать ранее.\n",
    "\n",
    "Второй вариант в масштабах Санкт-Петербурга выглядит более убедительным, его было предложено использовать как рабочий.\n",
    "\n",
    "В ходе изучения полей total_area, last_price, rooms, ceiling_height для квартир, находящихся в центре, были сделаны следующие выводы:\n",
    "\n",
    "- основная ценовая категория квартир в центре Санкт-Петербурга - квартиры до 50 млн. рублей. Из них основная часть сосредоточена в ценовом диапазоне от 15 до 25-30 млн. рублей. После отметки в 50 млн. имеем длинный правый хвост из малого количества дорогих квартир;\n",
    "\n",
    "\n",
    "- основная часть квартир - до 200 кв.м., после этой отметки имеем длинный правый хвост из редковстречающихся огромных квартир площадью более 200 кв.м. Наиболее часто встрачаемая площадь квартир - где-то от 25 до 75 кв.м.;\n",
    "\n",
    "\n",
    "- чаще всего встречаются двух- и трёхкомнатные квартиры. Чуть менее часто - однушки. Ещё менее часто встречаются квартиры, в которых больше 3 комнат, если конкретно - 4 и 5, при этом четырёхкомнатные квартиры встречаются чаще пятикомнатных;\n",
    "\n",
    "\n",
    "- чаще всего встречаются квартиры, где высота потолка составляет около 2.7 м., реже - около 3 м.\n",
    "\n",
    "В ходе изучения зависимости цены на квартиры в центре Санкт-Петербурга были сделаны следующие выводы:\n",
    "\n",
    "1. Цена на квартиру связана прямо с количеством комнат и косвенно через площадь. Чем больше комнат в квартире, тем она дороже. Хотя это также может быть объяснено за счёт роста площади квартиры по мере роста комнат.\n",
    "\n",
    "\n",
    "2. Наиболее дорогие квартиры - те, у которых расстояние до центра не превышает 3 км. При этом чем меньше расстояние, тем выше цена. После 3 км. идёт колебание в ценах, но цена, помимо расстояния до центра, зависит и от влияния других параметров.\n",
    "\n",
    "\n",
    "3. Цена на квартиры на первом этаже ниже, чем цена на квартиры на более высоких этажах. В свою очередь цена этих квартир ниже, чем цена на квартиры на последнем этаже. Как писалось ранее, такая динамика может быть объяснена такими параметрами, как комфорт, шум, вид из окна и т.д. Отмечу, что в центральном райное нет квартир, где 1 этаж является последним, что ранее мы классифицировали как частный дом или одноэтажную жилую застройку.\n",
    "\n",
    "\n",
    "4. Зависимость цены от дня размещения объявления, скорее, забавная, нежели научная: цены кажутся ниже, если объявления размещены в выходной день.\n",
    "\n",
    "\n",
    "5. Зависимость цены от месяца размещения также не прослеживается: данные ведут себя спокойно, график не демонстрирует значительных колебаний цен.\n",
    "\n",
    "\n",
    "6. Ситуация с годами интереснее: видим, что в каждом году, кроме 2019, цены на квартиры ниже предыдущего года, хотя стоит отметить, что темпы падения цен от года к году снижается.\n",
    "\n",
    "Далее были прострены графики зависимости цены квартир вне центра Санкт-Петербурга от тех же параметров, что позволило прийти к следующим выводам: \n",
    "\n",
    "1. Ситуация с квартирами вне центра не отличается от ситуации с квартирами в центре: чем больше комнат и, соответственно, площадь, тем выше цена на эти квартиры.\n",
    "\n",
    "\n",
    "2. Цена на квартиры, как и в случае с квартирами в центре, снижается по мере отдаления от центра, за некоторым исключением для квартир, расположенных в 20 и 27 км.: цена на них выше, чем цена на их более близких к центру соседей, однако это может быть обусловлено наличием в этих квартирах каких-нибудь приятных плюшек, которыми не могут похвастать менее дорогостоящие соседи.\n",
    "\n",
    "\n",
    "3. Квартиры на 1 этаже дешевле квартир на более высоких этажах, а те, в свою очередь, дешевле квартиры на последнем этаже. Вместе с тем для квартир, которые находятся вне центра, характерна отличительная черта - наличие квартир, у которых первый этаж является и последним, т.е. речь о частных или одноэтажных жилых застройках. При этом цена на них ниже, чем на квартиру на 1 этаже.\n",
    "\n",
    "\n",
    "4. Зависимость цены от этих полей для квартир Санкт-Петербурга вне центра перекликается в зависиомостью цены от этих параметров для квартир в центре Санкт-Петербурга:\n",
    "\n",
    "\n",
    "- зависимость цены от дня размещения объявления, скорее, забавная, нежели научная: цены кажутся ниже, если объявления размещены в выходной день;\n",
    "\n",
    "\n",
    "- зависимость цены от месяца размещения также не прослеживается: данные ведут себя спокойно, график не демонстрирует значительных колебаний цен;\n",
    "\n",
    "\n",
    "- ситуация с годами интереснее: видим, что в каждом году, кроме 2019, цены на квартиры ниже предыдущего года, хотя стоит отметить, что темпы падения цен от года к году снижается. Однако цены на эти квартиры в 2018 году выше, чем в 2017 году, что отличает их от квартир в центре Санкт-Петербурга.\n",
    "\n",
    "\n",
    "Таким образом, за исключением некоторых частностей, можно говорить о том, что изучаемые параметры - количество комнат, индекс этажности, расстояние до центра и дата размещения - одинаково влияют на цену квартиры как в центре, так и за его пределами.\n",
    "\n",
    "<a href='#title'>К оглавлению.</a> "
   ]
  }
 ],
 "metadata": {
  "kernelspec": {
   "display_name": "Python 3",
   "language": "python",
   "name": "python3"
  },
  "language_info": {
   "codemirror_mode": {
    "name": "ipython",
    "version": 3
   },
   "file_extension": ".py",
   "mimetype": "text/x-python",
   "name": "python",
   "nbconvert_exporter": "python",
   "pygments_lexer": "ipython3",
   "version": "3.8.3"
  },
  "toc": {
   "base_numbering": 1,
   "nav_menu": {},
   "number_sections": true,
   "sideBar": true,
   "skip_h1_title": true,
   "title_cell": "Table of Contents",
   "title_sidebar": "Contents",
   "toc_cell": false,
   "toc_position": {},
   "toc_section_display": true,
   "toc_window_display": false
  }
 },
 "nbformat": 4,
 "nbformat_minor": 2
}
