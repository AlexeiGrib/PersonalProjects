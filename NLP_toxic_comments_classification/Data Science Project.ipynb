{
 "cells": [
  {
   "cell_type": "markdown",
   "metadata": {
    "id": "pGE63PPQp3TA"
   },
   "source": [
    "<a id='title'></a> \n",
    "# Описание проекта \"Определение токсичных комментариев.\"\n",
    "\n",
    "Требуется обучить модель классифицировать комментарии на позитивные и негативные. Имеется набор данных с разметкой о токсичности комментариев.\n",
    "\n",
    "Требуется обеспечить значение метрики качества *F1* не меньше 0.75. \n",
    "\n",
    "## План работы над проектом.\n",
    "\n",
    "Работу над проектом будем осуществлять в следующем порядке:\n",
    "\n",
    "### Этап 1. Импорт библиотек, чтение и первичный анализ данных:\n",
    "\n",
    "<a href='#1.1'>1.1. Импорт библиотек, чтение и первичный анализ данных.</a> \n",
    "\n",
    "### Этап 2. Подготовка данных:\n",
    "\n",
    "<a href='#2.1'>2.1. Подготовка данных.</a> \n",
    "\n",
    "<a href='#2.1'>2.2. Разделение набора данных на выборки.</a> \n",
    "\n",
    "### Этап 3. Моделирование:\n",
    "\n",
    "<a href='#3.1'>3.1. LogisticRegression.</a>\n",
    "\n",
    "<a href='#3.2'>3.2. CatBoost.</a>"
   ]
  },
  {
   "cell_type": "markdown",
   "metadata": {
    "id": "ShSmiav53BII"
   },
   "source": [
    "<a id='1.1'></a> \n",
    "# Этап 1. Импорт библиотек, чтение и первичный анализ данных.\n",
    "\n",
    "Импортируем необходимые для работы библиотеки."
   ]
  },
  {
   "cell_type": "code",
   "execution_count": 20,
   "metadata": {
    "id": "3EjR07aJp5E_"
   },
   "outputs": [],
   "source": [
    "import warnings\n",
    "warnings.filterwarnings('ignore')\n",
    "import pandas as pd\n",
    "import numpy as np\n",
    "import re\n",
    "from nltk.stem import SnowballStemmer\n",
    "import nltk\n",
    "#nltk.download('stopwords') \n",
    "from nltk.corpus import stopwords \n",
    "from tqdm import notebook\n",
    "from sklearn.decomposition import TruncatedSVD\n",
    "from sklearn.feature_extraction.text import TfidfVectorizer \n",
    "from sklearn.model_selection import train_test_split\n",
    "from sklearn.model_selection import GridSearchCV\n",
    "from catboost import CatBoostClassifier\n",
    "from sklearn.linear_model import LogisticRegression\n",
    "from sklearn.metrics import f1_score\n",
    "from sklearn.utils import parallel_backend\n",
    "from tqdm import notebook\n",
    "from random import randint\n",
    "import matplotlib.pyplot as plt"
   ]
  },
  {
   "cell_type": "markdown",
   "metadata": {
    "id": "LQIs51ig3LJR"
   },
   "source": [
    "Работа выполнялась в Google Colab, поэтому есть особенности загрузки данных через специальную библиотеку."
   ]
  },
  {
   "cell_type": "code",
   "execution_count": 2,
   "metadata": {
    "colab": {
     "base_uri": "https://localhost:8080/",
     "height": 34
    },
    "id": "sb90PgJ_nNHt",
    "outputId": "3bc05aab-c132-4474-dcdf-6007908394eb"
   },
   "outputs": [
    {
     "name": "stdout",
     "output_type": "stream",
     "text": [
      "Drive already mounted at /content/drive; to attempt to forcibly remount, call drive.mount(\"/content/drive\", force_remount=True).\n"
     ]
    }
   ],
   "source": [
    "from google.colab import drive\n",
    "drive.mount('/content/drive')"
   ]
  },
  {
   "cell_type": "code",
   "execution_count": 3,
   "metadata": {
    "id": "J2Qopt3GnqIo"
   },
   "outputs": [],
   "source": [
    "with open('/content/drive/My Drive/toxic_comments.csv', 'r') as f:\n",
    "    df = pd.read_csv(f)"
   ]
  },
  {
   "cell_type": "markdown",
   "metadata": {
    "id": "Lms8mUJ33SjW"
   },
   "source": [
    "Данные считаны. Выведем первые 5 строк данных."
   ]
  },
  {
   "cell_type": "code",
   "execution_count": 4,
   "metadata": {
    "colab": {
     "base_uri": "https://localhost:8080/",
     "height": 195
    },
    "id": "6cDu4IFqnqew",
    "outputId": "68e09e87-fbe2-4870-da2d-8a9e1c2eed41"
   },
   "outputs": [
    {
     "data": {
      "text/html": [
       "<div>\n",
       "<style scoped>\n",
       "    .dataframe tbody tr th:only-of-type {\n",
       "        vertical-align: middle;\n",
       "    }\n",
       "\n",
       "    .dataframe tbody tr th {\n",
       "        vertical-align: top;\n",
       "    }\n",
       "\n",
       "    .dataframe thead th {\n",
       "        text-align: right;\n",
       "    }\n",
       "</style>\n",
       "<table border=\"1\" class=\"dataframe\">\n",
       "  <thead>\n",
       "    <tr style=\"text-align: right;\">\n",
       "      <th></th>\n",
       "      <th>text</th>\n",
       "      <th>toxic</th>\n",
       "    </tr>\n",
       "  </thead>\n",
       "  <tbody>\n",
       "    <tr>\n",
       "      <th>0</th>\n",
       "      <td>Explanation\\nWhy the edits made under my usern...</td>\n",
       "      <td>0</td>\n",
       "    </tr>\n",
       "    <tr>\n",
       "      <th>1</th>\n",
       "      <td>D'aww! He matches this background colour I'm s...</td>\n",
       "      <td>0</td>\n",
       "    </tr>\n",
       "    <tr>\n",
       "      <th>2</th>\n",
       "      <td>Hey man, I'm really not trying to edit war. It...</td>\n",
       "      <td>0</td>\n",
       "    </tr>\n",
       "    <tr>\n",
       "      <th>3</th>\n",
       "      <td>\"\\nMore\\nI can't make any real suggestions on ...</td>\n",
       "      <td>0</td>\n",
       "    </tr>\n",
       "    <tr>\n",
       "      <th>4</th>\n",
       "      <td>You, sir, are my hero. Any chance you remember...</td>\n",
       "      <td>0</td>\n",
       "    </tr>\n",
       "  </tbody>\n",
       "</table>\n",
       "</div>"
      ],
      "text/plain": [
       "                                                text  toxic\n",
       "0  Explanation\\nWhy the edits made under my usern...      0\n",
       "1  D'aww! He matches this background colour I'm s...      0\n",
       "2  Hey man, I'm really not trying to edit war. It...      0\n",
       "3  \"\\nMore\\nI can't make any real suggestions on ...      0\n",
       "4  You, sir, are my hero. Any chance you remember...      0"
      ]
     },
     "execution_count": 4,
     "metadata": {
      "tags": []
     },
     "output_type": "execute_result"
    }
   ],
   "source": [
    "df.head(5)"
   ]
  },
  {
   "cell_type": "markdown",
   "metadata": {
    "id": "UlIR0NZIDohb"
   },
   "source": [
    "Изучим общую информацию о наборе данных."
   ]
  },
  {
   "cell_type": "code",
   "execution_count": 5,
   "metadata": {
    "colab": {
     "base_uri": "https://localhost:8080/",
     "height": 168
    },
    "id": "1lfOJi0Z3hoP",
    "outputId": "4b5474ec-e379-4f91-93fe-ccf5f649d623"
   },
   "outputs": [
    {
     "name": "stdout",
     "output_type": "stream",
     "text": [
      "<class 'pandas.core.frame.DataFrame'>\n",
      "RangeIndex: 159571 entries, 0 to 159570\n",
      "Data columns (total 2 columns):\n",
      " #   Column  Non-Null Count   Dtype \n",
      "---  ------  --------------   ----- \n",
      " 0   text    159571 non-null  object\n",
      " 1   toxic   159571 non-null  int64 \n",
      "dtypes: int64(1), object(1)\n",
      "memory usage: 2.4+ MB\n"
     ]
    }
   ],
   "source": [
    "df.info()"
   ]
  },
  {
   "cell_type": "markdown",
   "metadata": {
    "id": "lsYGNaPRDsVx"
   },
   "source": [
    "Посчитаем количество пропусков и дубликатов."
   ]
  },
  {
   "cell_type": "code",
   "execution_count": 6,
   "metadata": {
    "colab": {
     "base_uri": "https://localhost:8080/",
     "height": 34
    },
    "id": "AjI3RLPi3454",
    "outputId": "324f0601-576b-4149-a666-6e497749215e"
   },
   "outputs": [
    {
     "data": {
      "text/plain": [
       "0"
      ]
     },
     "execution_count": 6,
     "metadata": {
      "tags": []
     },
     "output_type": "execute_result"
    }
   ],
   "source": [
    "df.duplicated().sum()"
   ]
  },
  {
   "cell_type": "code",
   "execution_count": 7,
   "metadata": {
    "colab": {
     "base_uri": "https://localhost:8080/",
     "height": 67
    },
    "id": "1aY6d_lY3-Rm",
    "outputId": "be08c405-2f25-4047-b3ea-d6188e7b64db"
   },
   "outputs": [
    {
     "data": {
      "text/plain": [
       "text     0\n",
       "toxic    0\n",
       "dtype: int64"
      ]
     },
     "execution_count": 7,
     "metadata": {
      "tags": []
     },
     "output_type": "execute_result"
    }
   ],
   "source": [
    "df.isna().sum()"
   ]
  },
  {
   "cell_type": "markdown",
   "metadata": {
    "id": "FWYa3N9X3Xn4"
   },
   "source": [
    "# Вывод по этапу 1.\n",
    "\n",
    "На данном этапе мы импортировали необходимые для работы библиотеки, считали набор данных и изучили его первые 5 строк. \n",
    "\n",
    "Набор данных содержит 2 поля: поле с комментарием (признаки модели) и поле с меткой о том, токсичный или не токсичный был комментарий (таргет).\n",
    "\n",
    "В наборе данных содержится 159571 наблюдение, пропущенных значений и дубликатов в наборе данных нет.\n",
    "\n",
    "Набор данных содержит исходную, непредобработанную информацию, которую нужно подготовить для использования в модели.\n",
    "\n",
    "<a href='#title'>К оглавлению.</a> "
   ]
  },
  {
   "cell_type": "markdown",
   "metadata": {
    "id": "XRuINmhf4DIH"
   },
   "source": [
    "# Этап 2. Подготовка данных.\n",
    "\n",
    "На данном этапе проведём подготовку данных к работе, а также сделаем разбиение набора данных на обучающую и тестовую выборки.\n",
    "\n",
    "<a id='2.1'></a> \n",
    "## Этап 2.1. Подготовка данных.\n",
    "\n",
    "Из этапа 1 мы выяснили, что данные представлены в сыром виде и не подвергнуты какой-либо предобработке: в данных есть символы пунктуации, цифры, никнеймы и прочая бесполезная информация.\n",
    "\n",
    "Предобарботку совершим с помощью функции, которая будет работать с каждым отдельным комментарием. Сначала функция совершит стемминг с комментарием для приведения слов в комментарии к изначальной форме. Затем с помощью регулярных выражений мы очистим комментарий от цифр и служебных символов и знаков пунктуации (кроме ', который является смыслообразующим в английском языке). Затем избавимся от пробелов с помощью split, соединим заново предобработанные токены в предложение и приведём к формату Unicdoe."
   ]
  },
  {
   "cell_type": "code",
   "execution_count": 8,
   "metadata": {
    "id": "lD7BFMZ2n-u5"
   },
   "outputs": [],
   "source": [
    "english_stemmer = SnowballStemmer('english')\n",
    "with parallel_backend('threading'):\n",
    "    df['text_lemmatize'] = df['text'].apply(lambda x: ' '\\\n",
    "                                  .join(re.sub(r'[^a-z \\']', ' ', \n",
    "                                  english_stemmer.stem(x)).split())).astype('U')"
   ]
  },
  {
   "cell_type": "markdown",
   "metadata": {
    "id": "NfMq9tuH5KQQ"
   },
   "source": [
    "Проверим, всё ли получилось."
   ]
  },
  {
   "cell_type": "code",
   "execution_count": 9,
   "metadata": {
    "colab": {
     "base_uri": "https://localhost:8080/",
     "height": 195
    },
    "id": "vkB6G2Moovwx",
    "outputId": "c0c0e70e-0691-4750-983d-03801d02a23a"
   },
   "outputs": [
    {
     "data": {
      "text/html": [
       "<div>\n",
       "<style scoped>\n",
       "    .dataframe tbody tr th:only-of-type {\n",
       "        vertical-align: middle;\n",
       "    }\n",
       "\n",
       "    .dataframe tbody tr th {\n",
       "        vertical-align: top;\n",
       "    }\n",
       "\n",
       "    .dataframe thead th {\n",
       "        text-align: right;\n",
       "    }\n",
       "</style>\n",
       "<table border=\"1\" class=\"dataframe\">\n",
       "  <thead>\n",
       "    <tr style=\"text-align: right;\">\n",
       "      <th></th>\n",
       "      <th>text</th>\n",
       "      <th>toxic</th>\n",
       "      <th>text_lemmatize</th>\n",
       "    </tr>\n",
       "  </thead>\n",
       "  <tbody>\n",
       "    <tr>\n",
       "      <th>0</th>\n",
       "      <td>Explanation\\nWhy the edits made under my usern...</td>\n",
       "      <td>0</td>\n",
       "      <td>explanation why the edits made under my userna...</td>\n",
       "    </tr>\n",
       "    <tr>\n",
       "      <th>1</th>\n",
       "      <td>D'aww! He matches this background colour I'm s...</td>\n",
       "      <td>0</td>\n",
       "      <td>d'aww he matches this background colour i'm se...</td>\n",
       "    </tr>\n",
       "    <tr>\n",
       "      <th>2</th>\n",
       "      <td>Hey man, I'm really not trying to edit war. It...</td>\n",
       "      <td>0</td>\n",
       "      <td>hey man i'm really not trying to edit war it's...</td>\n",
       "    </tr>\n",
       "    <tr>\n",
       "      <th>3</th>\n",
       "      <td>\"\\nMore\\nI can't make any real suggestions on ...</td>\n",
       "      <td>0</td>\n",
       "      <td>more i can't make any real suggestions on impr...</td>\n",
       "    </tr>\n",
       "    <tr>\n",
       "      <th>4</th>\n",
       "      <td>You, sir, are my hero. Any chance you remember...</td>\n",
       "      <td>0</td>\n",
       "      <td>you sir are my hero any chance you remember wh...</td>\n",
       "    </tr>\n",
       "  </tbody>\n",
       "</table>\n",
       "</div>"
      ],
      "text/plain": [
       "                                                text  ...                                     text_lemmatize\n",
       "0  Explanation\\nWhy the edits made under my usern...  ...  explanation why the edits made under my userna...\n",
       "1  D'aww! He matches this background colour I'm s...  ...  d'aww he matches this background colour i'm se...\n",
       "2  Hey man, I'm really not trying to edit war. It...  ...  hey man i'm really not trying to edit war it's...\n",
       "3  \"\\nMore\\nI can't make any real suggestions on ...  ...  more i can't make any real suggestions on impr...\n",
       "4  You, sir, are my hero. Any chance you remember...  ...  you sir are my hero any chance you remember wh...\n",
       "\n",
       "[5 rows x 3 columns]"
      ]
     },
     "execution_count": 9,
     "metadata": {
      "tags": []
     },
     "output_type": "execute_result"
    }
   ],
   "source": [
    "df.head(5)"
   ]
  },
  {
   "cell_type": "markdown",
   "metadata": {
    "id": "LPFRjcXQ5Mtg"
   },
   "source": [
    "Видим, что мы успешно подготовили данные к приемлемому для работы виду.\n",
    "\n",
    "<a href='#title'>К оглавлению.</a> "
   ]
  },
  {
   "cell_type": "markdown",
   "metadata": {
    "id": "ja4eWOTj5Vc3"
   },
   "source": [
    "<a id='2.2'></a> \n",
    "## Этап 2.2.  Разделение набора данных на выборки.\n",
    "\n",
    "На данном этапе разделим данные на выборки. \n",
    "\n",
    "Сначала определим признаки и таргер."
   ]
  },
  {
   "cell_type": "code",
   "execution_count": 10,
   "metadata": {
    "id": "stLYmZ8kpO8w"
   },
   "outputs": [],
   "source": [
    "features = df['text_lemmatize']\n",
    "target = df['toxic']"
   ]
  },
  {
   "cell_type": "markdown",
   "metadata": {
    "id": "xahvIvsH665u"
   },
   "source": [
    "Разделим данные на train и test в соотношении 70% на 30%."
   ]
  },
  {
   "cell_type": "code",
   "execution_count": 11,
   "metadata": {
    "id": "BY7xW3_ApRXf"
   },
   "outputs": [],
   "source": [
    "features_train, features_test, target_train, target_test = train_test_split(features, target, test_size=0.30, random_state=42)"
   ]
  },
  {
   "cell_type": "markdown",
   "metadata": {
    "id": "z6nvdWUT7G6d"
   },
   "source": [
    "Оценим важность каждого слова из выборок с помощью **TF-IDF**. Важность и смысл слова определяются его контекстом, поэтому при векторизации слов и оценке их важности будем использовать N-граммы в диапазоне от 1 слова до 5 слов.\n",
    "\n",
    "Обучим эстиматор на тренировочной выборке, а потом с его помощью трансформируем обе выборки в векторы."
   ]
  },
  {
   "cell_type": "code",
   "execution_count": 12,
   "metadata": {
    "id": "uLkmQL6-pR4P"
   },
   "outputs": [],
   "source": [
    "stop_words = list(set(stopwords.words('english'))) \n",
    "count_tf_idf = TfidfVectorizer(stop_words=stop_words, ngram_range=(1, 5)) \n",
    "with parallel_backend('threading'):\n",
    "    count_tf_idf.fit(features_train)\n",
    "features_train = count_tf_idf.transform(features_train)\n",
    "features_test = count_tf_idf.transform(features_test)"
   ]
  },
  {
   "cell_type": "markdown",
   "metadata": {
    "id": "h382zcue7w9N"
   },
   "source": [
    "# Вывод по этапу 2.\n",
    "\n",
    "На данном этапе мы преобработали данные, а также разделили их на обучающую и тестовую выборки.\n",
    "\n",
    "Преобработка данных заключалась в переходе от исходного текста к тексту, пригодному для обучения и тестирования модели. Для этого мы использовали процедуру стемминга для перехода к исходной форме слова, регулярные выражения для очистки данных от лишней информации, а также split и join для перехода к конечной форме предложения без пробелов. \n",
    "\n",
    "Исходные данные были разделены на обучающую и тестовую выборки в соотношении 70% на 30%. \n",
    "\n",
    "Затем данные были преобразованы в векторый вид с помощью TF-IDF. Для оценки важности слов в контексте предложения были использованы N-граммы в диапазоне от 1 слова до 5 слов.\n",
    "\n",
    "<a href='#title'>К оглавлению.</a> "
   ]
  },
  {
   "cell_type": "markdown",
   "metadata": {
    "id": "sXiUnc6Z8ceP"
   },
   "source": [
    "# Этап 3. Моделирование.\n",
    "\n",
    "На данном этапе обучим и протестируем модели LogisticRegression и CatBoost.\n",
    "\n",
    "<a id='3.1'></a> \n",
    "## Этап 3.1. LogisticRegression.\n",
    "\n",
    "Исследуем модель LogisticRegression. \n",
    "\n",
    "Отмечу, что эстиматор TfidfVectorizer вернул нам гигантскую разреженную матрицу. Плюс LogisticRegression в том, что он может работать с разреженной матрицей, и её необязательно приводить в массив. \n",
    "\n",
    "Для подбора оптимальных гиперпараметров модели LogisticRegression будем использовать алгоритм GridSearchCV, оптимизировать будем параметр типа регуляризации (l1 или l2) и силы регуляризации (С). Для контроля эффекта переобучения будем использовать кросс-валидацию на 5 фолдах, для ускорения вычислений зададим параметру n_jobs значение -1, чтобы в расчёте участвовали все ядра машины."
   ]
  },
  {
   "cell_type": "code",
   "execution_count": 13,
   "metadata": {
    "colab": {
     "base_uri": "https://localhost:8080/",
     "height": 302
    },
    "id": "SvTgraksqaXK",
    "outputId": "53e30d1c-10f9-4f60-fc36-b2d1d35dcdc0"
   },
   "outputs": [
    {
     "name": "stdout",
     "output_type": "stream",
     "text": [
      "Fitting 5 folds for each of 20 candidates, totalling 100 fits\n"
     ]
    },
    {
     "name": "stderr",
     "output_type": "stream",
     "text": [
      "[Parallel(n_jobs=-1)]: Using backend LokyBackend with 2 concurrent workers.\n",
      "[Parallel(n_jobs=-1)]: Done   1 tasks      | elapsed:    1.8s\n",
      "[Parallel(n_jobs=-1)]: Done   4 tasks      | elapsed:    2.0s\n",
      "[Parallel(n_jobs=-1)]: Done   9 tasks      | elapsed:  1.3min\n",
      "[Parallel(n_jobs=-1)]: Done  14 tasks      | elapsed:  1.3min\n",
      "[Parallel(n_jobs=-1)]: Done  21 tasks      | elapsed:  3.3min\n",
      "[Parallel(n_jobs=-1)]: Done  28 tasks      | elapsed:  5.2min\n",
      "[Parallel(n_jobs=-1)]: Done  37 tasks      | elapsed:  7.8min\n",
      "[Parallel(n_jobs=-1)]: Done  46 tasks      | elapsed: 11.8min\n",
      "[Parallel(n_jobs=-1)]: Done  57 tasks      | elapsed: 21.1min\n",
      "[Parallel(n_jobs=-1)]: Done  68 tasks      | elapsed: 37.8min\n",
      "[Parallel(n_jobs=-1)]: Done  81 tasks      | elapsed: 54.3min\n",
      "[Parallel(n_jobs=-1)]: Done  94 tasks      | elapsed: 70.2min\n",
      "[Parallel(n_jobs=-1)]: Done 100 out of 100 | elapsed: 84.9min finished\n"
     ]
    },
    {
     "name": "stdout",
     "output_type": "stream",
     "text": [
      "F1: 0.676798\n",
      "Лучшие параметры: {'C': 1000.0, 'penalty': 'l2'}\n"
     ]
    }
   ],
   "source": [
    "model = LogisticRegression(random_state=42)\n",
    "grid_params = {\n",
    "    'penalty' : ['l1', 'l2'],\n",
    "    'C' : np.logspace(-3, 3, 10)}\n",
    "\n",
    "gs_log_reg = GridSearchCV(model, grid_params, cv=5, scoring='f1', n_jobs=-1, \n",
    "                          verbose=10)\n",
    "gs_log_reg.fit(features_train, target_train)\n",
    "print('F1: {:.6f}'.format(gs_log_reg.best_score_))\n",
    "print('Лучшие параметры:', gs_log_reg.best_params_)"
   ]
  },
  {
   "cell_type": "markdown",
   "metadata": {
    "id": "kXkzuWXo9bup"
   },
   "source": [
    "Видим, что оптимального значения F1 в размере 0.676798 удалось достичь при следующих значениях гиперпараметров: тип регуляризации - l2, сила регуляризации - 1000.0.\n",
    "\n",
    "Обучим модель на оптимальных значениях гиперпараметров и протестируем её на тестовых данных."
   ]
  },
  {
   "cell_type": "code",
   "execution_count": 14,
   "metadata": {
    "colab": {
     "base_uri": "https://localhost:8080/",
     "height": 34
    },
    "id": "T9YpAJLX39eB",
    "outputId": "5446a512-3d22-41de-caf1-af70a79702b3"
   },
   "outputs": [
    {
     "name": "stdout",
     "output_type": "stream",
     "text": [
      "Метрика F1: 0.779277\n"
     ]
    }
   ],
   "source": [
    "model = LogisticRegression(C=gs_log_reg.best_params_['C'], \n",
    "                           penalty=gs_log_reg.best_params_['penalty'], \n",
    "                           random_state=42)\n",
    "model.fit(features_train, target_train)\n",
    "pred = model.predict(features_test)\n",
    "print('Метрика F1: {:.6f}'.format(f1_score(target_test, pred)))"
   ]
  },
  {
   "cell_type": "markdown",
   "metadata": {
    "id": "n9uR2q4V-FF9"
   },
   "source": [
    "Модели LogisticRegression удалось достичь значения метрики F1 на уровне 0.779277, что соответствует условиям проекта в части значения метрики F1 не ниже 0.75, из чего следует, что построенная нами модель предсказывает эмоциональный окрас комментария на довольно хорошем уровне.\n",
    "\n",
    "Протестируем нашу модель на адекватность.\n",
    "\n",
    "Сравним результаты её работы с результатами работы случайно и константной моделей.\n",
    "\n",
    "Изучим модель, которая будет генерировать случайный результат - негативный (1) или позитивный (0) комментарий."
   ]
  },
  {
   "cell_type": "code",
   "execution_count": 15,
   "metadata": {
    "colab": {
     "base_uri": "https://localhost:8080/",
     "height": 34
    },
    "id": "HB6bRHwa-mLM",
    "outputId": "25dd2829-d5d8-4083-fb9d-554138fe39b8"
   },
   "outputs": [
    {
     "name": "stdout",
     "output_type": "stream",
     "text": [
      "F1 для случайной модели: 0.167150\n"
     ]
    }
   ],
   "source": [
    "pred = pd.Series([randint(0, 1) for i in range(len(target_test))], index=target_test.index)\n",
    "print('F1 для случайной модели: {:.6f}'.format(f1_score(target_test, pred)))"
   ]
  },
  {
   "cell_type": "markdown",
   "metadata": {
    "id": "Ys-dNQXg-0Xr"
   },
   "source": [
    "Видим, что наша модель обеспечивает более точное предсказание эмоционального окраса комментария, чем случайная модель.\n",
    "\n",
    "Посмотрим на константную модель.\n",
    "\n",
    "Константая модель - модель, предсказывающая метку наиболее частого класса. Узнаем, какой это класс."
   ]
  },
  {
   "cell_type": "code",
   "execution_count": 16,
   "metadata": {
    "colab": {
     "base_uri": "https://localhost:8080/",
     "height": 67
    },
    "id": "uxiiG3hU_BLc",
    "outputId": "924b0037-e403-46f1-80c4-2aa22409a415"
   },
   "outputs": [
    {
     "data": {
      "text/plain": [
       "0    100341\n",
       "1     11358\n",
       "Name: toxic, dtype: int64"
      ]
     },
     "execution_count": 16,
     "metadata": {
      "tags": []
     },
     "output_type": "execute_result"
    }
   ],
   "source": [
    "target_train.value_counts()"
   ]
  },
  {
   "cell_type": "markdown",
   "metadata": {
    "id": "8sqfOTRw_C_s"
   },
   "source": [
    "Видим, что наиболее частым классом является класс 0, то есть пользователи чаще позитивно отзываются о платформе, чем негативно.\n",
    "\n",
    "Следовательно, константная модель должна предсказывать только метки с значением 0."
   ]
  },
  {
   "cell_type": "code",
   "execution_count": 17,
   "metadata": {
    "colab": {
     "base_uri": "https://localhost:8080/",
     "height": 34
    },
    "id": "OUQ3TvlQ_NSM",
    "outputId": "c9f437d5-c654-47bd-efbf-a08e9fd226e5"
   },
   "outputs": [
    {
     "name": "stdout",
     "output_type": "stream",
     "text": [
      "F1 для константной модели: 0.000000\n"
     ]
    }
   ],
   "source": [
    "pred = pd.Series([0 for i in range(len(target_test))], index=target_test.index)\n",
    "print('F1 для константной модели: {:.6f}'.format(f1_score(target_test, pred)))"
   ]
  },
  {
   "cell_type": "markdown",
   "metadata": {
    "id": "yvuOuUxA_P--"
   },
   "source": [
    "И снова наша модель обеспечивает лучшее по сравнению с константной моделью качество предсказания эмоционального окраса комментария.\n",
    "\n",
    "<a href='#title'>К оглавлению.</a> "
   ]
  },
  {
   "cell_type": "markdown",
   "metadata": {
    "id": "Q1PvRnFp_naC"
   },
   "source": [
    "<a id='3.2'></a> \n",
    "## Этап 3.2. CatBoostClassifier.\n",
    "\n",
    "Протестируем модель CatBoostClassifier.\n",
    "\n",
    "В отличие от LogisticRegression, CatBoostClassifier не умеет напрямую работать с разреженной матрицей. Внутри разреженная матрица преобразовывается к классической, и для хранения матрицы такого объёма нужно значительное количество оперативной памяти, что является довольно проблематичным моментом.\n",
    "\n",
    "Для преодоления затруднения воспользуемся методом снижением размерности TruncatedSVD, известным как сингулярное разложение матрицы. Отмечу, что можно было бы применить и метод главных компонент PCA, однако PCA не работает с разреженными данными, в отличие от TruncatedSVD.\n",
    "\n",
    "Перебирая его параметр n_components, можно узнать наиболее информативные признаки, которые обеспечивают высокое значение метрики F1.\n",
    "\n",
    "Отмечу, что после 24 компонента ядро виртуальной среды падает, поэтому в рамках эксперимента остановимся на 24 компонентах.\n",
    "\n",
    "В цикле будем постепенно обучать CatBoostClassifier, предварительно извлекая из исходной разреженной матрицы наиболее значимые компоненты - с 1 до 24.\n",
    "\n",
    "Значения метрик F1, полученных в ходе эксперимента, будем складывать в список."
   ]
  },
  {
   "cell_type": "code",
   "execution_count": 18,
   "metadata": {
    "colab": {
     "base_uri": "https://localhost:8080/",
     "height": 66,
     "referenced_widgets": [
      "4e323b73e5ac4c1794b75b2833cd5dbc",
      "584992334a154ef68c646febce9b17ff",
      "ac78c69c98b94b88a74f53b4c50ecc33",
      "ae4b0d2008fa48729e68352e80d66f6e",
      "6de43c2a3c2442489da324edec11cd9b",
      "f6c6890107c7487e80bc97a991a00f80",
      "693144f980c641aca654de2cd8a30cf9",
      "be3d6e07591747eaa8de62f27c328f7d"
     ]
    },
    "id": "DjZhaIZu9qLr",
    "outputId": "4f04b5b1-13e3-4684-8426-c8c1385b0a58"
   },
   "outputs": [
    {
     "data": {
      "application/vnd.jupyter.widget-view+json": {
       "model_id": "4e323b73e5ac4c1794b75b2833cd5dbc",
       "version_major": 2,
       "version_minor": 0
      },
      "text/plain": [
       "HBox(children=(FloatProgress(value=0.0, max=24.0), HTML(value='')))"
      ]
     },
     "metadata": {
      "tags": []
     },
     "output_type": "display_data"
    },
    {
     "name": "stdout",
     "output_type": "stream",
     "text": [
      "\n"
     ]
    }
   ],
   "source": [
    "f1_list = []\n",
    "for i in notebook.tqdm(range(1, 25)):\n",
    "    with parallel_backend('threading'):\n",
    "        decompose = TruncatedSVD(n_components=i, random_state=42)\n",
    "        decompose.fit(features_train)\n",
    "        features_train_decompose = decompose.transform(features_train)\n",
    "        features_test_decompose = decompose.transform(features_test)\n",
    "        model = CatBoostClassifier(eval_metric='F1', loss_function='Logloss', \n",
    "                                   random_state=42)\n",
    "        model.fit(features_train_decompose, target_train, verbose=0)\n",
    "        pred = model.predict(features_test_decompose)\n",
    "        f1_list.append(f1_score(target_test, pred))"
   ]
  },
  {
   "cell_type": "markdown",
   "metadata": {
    "id": "5TezAff3CMck"
   },
   "source": [
    "Визуализируем значения метрик.\n",
    "\n",
    "По оси x отложим количество компонент, участвовавших в обучении, а по оси y - значения метрики F1 для каждого количества компонент."
   ]
  },
  {
   "cell_type": "code",
   "execution_count": 22,
   "metadata": {
    "colab": {
     "base_uri": "https://localhost:8080/",
     "height": 606
    },
    "id": "ovK8b5Ws6B9Y",
    "outputId": "4d9e1ccc-dfe2-415d-b1a1-ed17a2375685"
   },
   "outputs": [
    {
     "data": {
      "image/png": "[encoded data removed]",
      "text/plain": [
       "<Figure size 720x720 with 1 Axes>"
      ]
     },
     "metadata": {
      "needs_background": "light",
      "tags": []
     },
     "output_type": "display_data"
    }
   ],
   "source": [
    "plt.figure(figsize=(10,10))\n",
    "plt.plot(f1_list, label='F1-score')\n",
    "plt.xlabel('Количество компонент')\n",
    "plt.ylabel('F1-score')\n",
    "plt.legend();"
   ]
  },
  {
   "cell_type": "code",
   "execution_count": 24,
   "metadata": {
    "colab": {
     "base_uri": "https://localhost:8080/",
     "height": 77
    },
    "id": "S3p3jrpLCquK",
    "outputId": "ca3e71c0-c1a8-432a-b893-6753c54a7d15"
   },
   "outputs": [
    {
     "data": {
      "text/html": [
       "<div>\n",
       "<style scoped>\n",
       "    .dataframe tbody tr th:only-of-type {\n",
       "        vertical-align: middle;\n",
       "    }\n",
       "\n",
       "    .dataframe tbody tr th {\n",
       "        vertical-align: top;\n",
       "    }\n",
       "\n",
       "    .dataframe thead th {\n",
       "        text-align: right;\n",
       "    }\n",
       "</style>\n",
       "<table border=\"1\" class=\"dataframe\">\n",
       "  <thead>\n",
       "    <tr style=\"text-align: right;\">\n",
       "      <th></th>\n",
       "      <th>n_comp</th>\n",
       "      <th>f1</th>\n",
       "    </tr>\n",
       "  </thead>\n",
       "  <tbody>\n",
       "    <tr>\n",
       "      <th>23</th>\n",
       "      <td>24</td>\n",
       "      <td>0.604998</td>\n",
       "    </tr>\n",
       "  </tbody>\n",
       "</table>\n",
       "</div>"
      ],
      "text/plain": [
       "    n_comp        f1\n",
       "23      24  0.604998"
      ]
     },
     "execution_count": 24,
     "metadata": {
      "tags": []
     },
     "output_type": "execute_result"
    }
   ],
   "source": [
    "f1_df = pd.DataFrame({'n_comp' : [i for i in range(1, 25)], 'f1' : f1_list}).sort_values('f1', ascending=False)\n",
    "f1_df.head(1)"
   ]
  },
  {
   "cell_type": "markdown",
   "metadata": {
    "id": "XQi_TpYVCnGp"
   },
   "source": [
    "Очевидно, что по мере увеличения числа компонент растёт и качество работы модели. Наибольшего качества модель достигает при количестве компонент, равном 24. Метрика F1 при таком количестве компонент составляет 0.604998. Очевидно, что мы рассмотрели лишь 24 признака из 11 201 201 и что по мере увеличения количество компонент в сингулярном разложении матрицы features_train, качество предсказания будет расти, однако текущие вычислительные мощности позволили исследовать только 24 компонента.\n",
    "\n",
    "<a href='#title'>К оглавлению.</a> "
   ]
  },
  {
   "cell_type": "markdown",
   "metadata": {
    "id": "lmr2WPiEz8Zz"
   },
   "source": [
    "# Вывод по этапу 3.\n",
    "\n",
    "На данном этапе мы протестировали модели LogisticRegression и CatBoostClassifier, подобрали оптимальные гиперпараметры для LogisticRegression с помощью GridSearchCV, а также применили технику сингулярного разложения матрицы для работы CatBoostClassifier.\n",
    "\n",
    "По итогу исследования удалось получить следующие выводы:\n",
    "\n",
    "1. Оптимальной для применения к задаче предсказания эмоционального окраса комментариев на платформе можно считать модель LogisticRegression с параметрами: тип регуляризации - l2, сила регуляризации - 1000.0. Данная модель обеспечила значение метрики F1 на уровне 0.779277 на тестовой выборке, что соответствует условиям проекта в части минимального значения метрики F1 на уровне 0.75. Оптимальная модель была проверена на адекватность путём сравнения метрики F1 для оптимальной модели с метриками F1 для константной модели и случайной модели. В обоих случаях оптимальная модель предсказывала эмоциональный окрас комментария лучше.\n",
    "\n",
    "\n",
    "2. Для модели CatBoostClassifier исходная разреженная матрица была декомпозирована с помощью метода сингулярного разложения матрицы в диапазоне значений компонентов от 1 до 24. Оптимальным оказалось разложение матрицы до 24 компонент: при таком количестве компонент CatBoostClassifier обеспечил значение метрики F1 на уровне  0.604998. Очевидно, результат можно было бы улучшить, увеличив число компонент с 24 до, скажем, 50-60, однако имеющиеся вычислительные мощности не позволяют этого сделать на текущий момент.\n",
    "\n",
    "<a href='#title'>К оглавлению.</a> "
   ]
  },
  {
   "cell_type": "markdown",
   "metadata": {
    "id": "W37fDf8q1SJh"
   },
   "source": [
    "# Итоговый вывод по проекту.\n",
    "\n",
    "Интернет-магазин «Викишоп» запускает новый сервис. Теперь пользователи могут редактировать и дополнять описания товаров, как в вики-сообществах. То есть клиенты предлагают свои правки и комментируют изменения других. Магазину нужен инструмент, который будет искать токсичные комментарии и отправлять их на модерацию. \n",
    "\n",
    "В рамках проекта требовалось научить модель классифицировать комментарии на позитивные и негативные. В распоряжении имелся набор данных с разметкой о токсичности правок.\n",
    "\n",
    "Построенная модель должна была обеспечить значение метрики качества *F1* не меньше 0.75. \n",
    "\n",
    "Работа над проектом велась в следующем порядке:\n",
    "\n",
    "1. Импорт библиотек, чтение и первичный анализ данных:\n",
    "\n",
    "\n",
    "2. Подготовка данных:\n",
    "\n",
    "\n",
    "3. Моделирование:\n",
    "\n",
    "Отметим выводы, полученные в ходе работы над проектом.\n",
    "\n",
    "# Вывод по этапу 1.\n",
    "\n",
    "На данном этапе мы импортировали необходимые для работы библиотеки, считали набор данных и изучили его первые 5 строк. \n",
    "\n",
    "Набор данных содержит 2 поля: поле с комментарием (признаки модели) и поле с меткой о том, токсичный или не токсичный был комментарий (таргет).\n",
    "\n",
    "В наборе данных содержится 159571 наблюдение, пропущенных значений и дубликатов в наборе данных нет.\n",
    "\n",
    "Набор данных содержит исходную, непредобработанную информацию, которую нужно подготовить для использования в модели.\n",
    "\n",
    "# Вывод по этапу 2.\n",
    "\n",
    "На данном этапе мы преобработали данные, а также разделили их на обучающую и тестовую выборки.\n",
    "\n",
    "Преобработка данных заключалась в переходе от исходного текста к тексту, пригодному для обучения и тестирования модели. Для этого мы использовали процедуру стемминга для перехода к исходной форме слова, регулярные выражения для очистки данных от лишней информации, а также split и join для перехода к конечной форме предложения без пробелов. \n",
    "\n",
    "Исходные данные были разделены на обучающую и тестовую выборки в соотношении 70% на 30%. \n",
    "\n",
    "Затем данные были преобразованы в векторый вид с помощью TF-IDF. Для оценки важности слов в контексте предложения были использованы N-граммы в диапазоне от 1 слова до 5 слов.\n",
    "\n",
    "# Вывод по этапу 3.\n",
    "\n",
    "На данном этапе мы протестировали модели LogisticRegression и CatBoostClassifier, подобрали оптимальные гиперпараметры для LogisticRegression с помощью GridSearchCV, а также применили технику сингулярного разложения матрицы для работы CatBoostClassifier.\n",
    "\n",
    "По итогу исследования удалось получить следующие выводы:\n",
    "\n",
    "1. Оптимальной для применения к задаче предсказания эмоционального окраса комментариев на платформе можно считать модель LogisticRegression с параметрами: тип регуляризации - l2, сила регуляризации - 1000.0. Данная модель обеспечила значение метрики F1 на уровне 0.779277 на тестовой выборке, что соответствует условиям проекта в части минимального значения метрики F1 на уровне 0.75. Оптимальная модель была проверена на адекватность путём сравнения метрики F1 для оптимальной модели с метриками F1 для константной модели и случайной модели. В обоих случаях оптимальная модель предсказывала эмоциональный окрас комментария лучше.\n",
    "\n",
    "\n",
    "2. Для модели CatBoostClassifier исходная разреженная матрица была декомпозирована с помощью метода сингулярного разложения матрицы в диапазоне значений компонентов от 1 до 24. Оптимальным оказалось разложение матрицы до 24 компонент: при таком количестве компонент CatBoostClassifier обеспечил значение метрики F1 на уровне  0.604998. Очевидно, результат можно было бы улучшить, увеличив число компонент с 24 до, скажем, 50-60, однако имеющиеся вычислительные мощности не позволяют этого сделать на текущий момент.\n",
    "\n",
    "<a href='#title'>К оглавлению.</a> "
   ]
  }
 ],
 "metadata": {
  "colab": {
   "name": "Untitled1.ipynb",
   "provenance": []
  },
  "kernelspec": {
   "display_name": "Python 3",
   "language": "python",
   "name": "python3"
  },
  "language_info": {
   "codemirror_mode": {
    "name": "ipython",
    "version": 3
   },
   "file_extension": ".py",
   "mimetype": "text/x-python",
   "name": "python",
   "nbconvert_exporter": "python",
   "pygments_lexer": "ipython3",
   "version": "3.8.3"
  },
  "toc": {
   "base_numbering": 1,
   "nav_menu": {},
   "number_sections": true,
   "sideBar": true,
   "skip_h1_title": true,
   "title_cell": "Table of Contents",
   "title_sidebar": "Contents",
   "toc_cell": false,
   "toc_position": {},
   "toc_section_display": true,
   "toc_window_display": false
  },
  "widgets": {
   "application/vnd.jupyter.widget-state+json": {
    "4e323b73e5ac4c1794b75b2833cd5dbc": {
     "model_module": "@jupyter-widgets/controls",
     "model_name": "HBoxModel",
     "state": {
      "_dom_classes": [],
      "_model_module": "@jupyter-widgets/controls",
      "_model_module_version": "1.5.0",
      "_model_name": "HBoxModel",
      "_view_count": null,
      "_view_module": "@jupyter-widgets/controls",
      "_view_module_version": "1.5.0",
      "_view_name": "HBoxView",
      "box_style": "",
      "children": [
       "IPY_MODEL_ac78c69c98b94b88a74f53b4c50ecc33",
       "IPY_MODEL_ae4b0d2008fa48729e68352e80d66f6e"
      ],
      "layout": "IPY_MODEL_584992334a154ef68c646febce9b17ff"
     }
    },
    "584992334a154ef68c646febce9b17ff": {
     "model_module": "@jupyter-widgets/base",
     "model_name": "LayoutModel",
     "state": {
      "_model_module": "@jupyter-widgets/base",
      "_model_module_version": "1.2.0",
      "_model_name": "LayoutModel",
      "_view_count": null,
      "_view_module": "@jupyter-widgets/base",
      "_view_module_version": "1.2.0",
      "_view_name": "LayoutView",
      "align_content": null,
      "align_items": null,
      "align_self": null,
      "border": null,
      "bottom": null,
      "display": null,
      "flex": null,
      "flex_flow": null,
      "grid_area": null,
      "grid_auto_columns": null,
      "grid_auto_flow": null,
      "grid_auto_rows": null,
      "grid_column": null,
      "grid_gap": null,
      "grid_row": null,
      "grid_template_areas": null,
      "grid_template_columns": null,
      "grid_template_rows": null,
      "height": null,
      "justify_content": null,
      "justify_items": null,
      "left": null,
      "margin": null,
      "max_height": null,
      "max_width": null,
      "min_height": null,
      "min_width": null,
      "object_fit": null,
      "object_position": null,
      "order": null,
      "overflow": null,
      "overflow_x": null,
      "overflow_y": null,
      "padding": null,
      "right": null,
      "top": null,
      "visibility": null,
      "width": null
     }
    },
    "693144f980c641aca654de2cd8a30cf9": {
     "model_module": "@jupyter-widgets/controls",
     "model_name": "DescriptionStyleModel",
     "state": {
      "_model_module": "@jupyter-widgets/controls",
      "_model_module_version": "1.5.0",
      "_model_name": "DescriptionStyleModel",
      "_view_count": null,
      "_view_module": "@jupyter-widgets/base",
      "_view_module_version": "1.2.0",
      "_view_name": "StyleView",
      "description_width": ""
     }
    },
    "6de43c2a3c2442489da324edec11cd9b": {
     "model_module": "@jupyter-widgets/controls",
     "model_name": "ProgressStyleModel",
     "state": {
      "_model_module": "@jupyter-widgets/controls",
      "_model_module_version": "1.5.0",
      "_model_name": "ProgressStyleModel",
      "_view_count": null,
      "_view_module": "@jupyter-widgets/base",
      "_view_module_version": "1.2.0",
      "_view_name": "StyleView",
      "bar_color": null,
      "description_width": "initial"
     }
    },
    "ac78c69c98b94b88a74f53b4c50ecc33": {
     "model_module": "@jupyter-widgets/controls",
     "model_name": "FloatProgressModel",
     "state": {
      "_dom_classes": [],
      "_model_module": "@jupyter-widgets/controls",
      "_model_module_version": "1.5.0",
      "_model_name": "FloatProgressModel",
      "_view_count": null,
      "_view_module": "@jupyter-widgets/controls",
      "_view_module_version": "1.5.0",
      "_view_name": "ProgressView",
      "bar_style": "success",
      "description": "100%",
      "description_tooltip": null,
      "layout": "IPY_MODEL_f6c6890107c7487e80bc97a991a00f80",
      "max": 24,
      "min": 0,
      "orientation": "horizontal",
      "style": "IPY_MODEL_6de43c2a3c2442489da324edec11cd9b",
      "value": 24
     }
    },
    "ae4b0d2008fa48729e68352e80d66f6e": {
     "model_module": "@jupyter-widgets/controls",
     "model_name": "HTMLModel",
     "state": {
      "_dom_classes": [],
      "_model_module": "@jupyter-widgets/controls",
      "_model_module_version": "1.5.0",
      "_model_name": "HTMLModel",
      "_view_count": null,
      "_view_module": "@jupyter-widgets/controls",
      "_view_module_version": "1.5.0",
      "_view_name": "HTMLView",
      "description": "",
      "description_tooltip": null,
      "layout": "IPY_MODEL_be3d6e07591747eaa8de62f27c328f7d",
      "placeholder": "​",
      "style": "IPY_MODEL_693144f980c641aca654de2cd8a30cf9",
      "value": " 24/24 [56:22&lt;00:00, 140.94s/it]"
     }
    },
    "be3d6e07591747eaa8de62f27c328f7d": {
     "model_module": "@jupyter-widgets/base",
     "model_name": "LayoutModel",
     "state": {
      "_model_module": "@jupyter-widgets/base",
      "_model_module_version": "1.2.0",
      "_model_name": "LayoutModel",
      "_view_count": null,
      "_view_module": "@jupyter-widgets/base",
      "_view_module_version": "1.2.0",
      "_view_name": "LayoutView",
      "align_content": null,
      "align_items": null,
      "align_self": null,
      "border": null,
      "bottom": null,
      "display": null,
      "flex": null,
      "flex_flow": null,
      "grid_area": null,
      "grid_auto_columns": null,
      "grid_auto_flow": null,
      "grid_auto_rows": null,
      "grid_column": null,
      "grid_gap": null,
      "grid_row": null,
      "grid_template_areas": null,
      "grid_template_columns": null,
      "grid_template_rows": null,
      "height": null,
      "justify_content": null,
      "justify_items": null,
      "left": null,
      "margin": null,
      "max_height": null,
      "max_width": null,
      "min_height": null,
      "min_width": null,
      "object_fit": null,
      "object_position": null,
      "order": null,
      "overflow": null,
      "overflow_x": null,
      "overflow_y": null,
      "padding": null,
      "right": null,
      "top": null,
      "visibility": null,
      "width": null
     }
    },
    "f6c6890107c7487e80bc97a991a00f80": {
     "model_module": "@jupyter-widgets/base",
     "model_name": "LayoutModel",
     "state": {
      "_model_module": "@jupyter-widgets/base",
      "_model_module_version": "1.2.0",
      "_model_name": "LayoutModel",
      "_view_count": null,
      "_view_module": "@jupyter-widgets/base",
      "_view_module_version": "1.2.0",
      "_view_name": "LayoutView",
      "align_content": null,
      "align_items": null,
      "align_self": null,
      "border": null,
      "bottom": null,
      "display": null,
      "flex": null,
      "flex_flow": null,
      "grid_area": null,
      "grid_auto_columns": null,
      "grid_auto_flow": null,
      "grid_auto_rows": null,
      "grid_column": null,
      "grid_gap": null,
      "grid_row": null,
      "grid_template_areas": null,
      "grid_template_columns": null,
      "grid_template_rows": null,
      "height": null,
      "justify_content": null,
      "justify_items": null,
      "left": null,
      "margin": null,
      "max_height": null,
      "max_width": null,
      "min_height": null,
      "min_width": null,
      "object_fit": null,
      "object_position": null,
      "order": null,
      "overflow": null,
      "overflow_x": null,
      "overflow_y": null,
      "padding": null,
      "right": null,
      "top": null,
      "visibility": null,
      "width": null
     }
    }
   }
  }
 },
 "nbformat": 4,
 "nbformat_minor": 1
}
