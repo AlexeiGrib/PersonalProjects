{
 "cells": [
  {
   "cell_type": "markdown",
   "metadata": {},
   "source": [
    "<a id='title'></a> \n",
    "# Описание проекта \"Предсказание объёма нефти в скважинах\".\n",
    "\n",
    "Вам предоставлены пробы нефти в трёх регионах: в каждом 10 000 месторождений, где измерили качество нефти и объём её запасов. \n",
    "\n",
    "Постройте модель машинного обучения, которая поможет определить регион, где добыча принесёт наибольшую прибыль. Проанализируйте возможную прибыль и риски техникой *Bootstrap.*\n",
    "\n",
    "Шаги для выбора локации:\n",
    "\n",
    "- В избранном регионе ищут месторождения, для каждого определяют значения признаков;\n",
    "- Строят модель и оценивают объём запасов;\n",
    "- Выбирают месторождения с самым высокими оценками значений. Количество месторождений зависит от бюджета компании и стоимости разработки одной скважины;\n",
    "- Прибыль равна суммарной прибыли отобранных месторождений.\n",
    "\n",
    "Работу над проектом будем проводить по следующему плану:\n",
    "\n",
    "### Этап 1. Импорт необходимых библиотек, чтение набора данных, его первичный анализ:\n",
    "\n",
    "<a href='#1.1'>1.1. Импорт необходимых библиотек, чтение набора данных, его первичный анализ.</a> \n",
    "\n",
    "### Этап 2. Обучение и проверка модели:\n",
    "\n",
    "<a href='#2.1'>2.1. Обучение и проверка модели.</a>\n",
    "\n",
    "### Этап 3. Подготовка к расчёту прибыли:\n",
    "\n",
    "<a href='#3.1'>3.1. Подготовка к расчёту прибыли.</a>\n",
    "\n",
    "### Этап 4. Расчёт прибыли и рисков: \n",
    "\n",
    "<a href='#4.1'>4.1. Расчёт прибыли и рисков.</a>"
   ]
  },
  {
   "cell_type": "markdown",
   "metadata": {},
   "source": [
    "# Этап 1. Импорт необходимых библиотек, чтение набора данных, его первичный анализ."
   ]
  },
  {
   "cell_type": "markdown",
   "metadata": {},
   "source": [
    "<a id='1.1'></a> \n",
    "## Этап 1.1. Импорт необходимых библиотек, чтение набора данных, его первичный анализ.\n",
    "\n",
    "Для начала импортируем библиотеки."
   ]
  },
  {
   "cell_type": "code",
   "execution_count": 1,
   "metadata": {},
   "outputs": [],
   "source": [
    "import pandas as pd\n",
    "import numpy as np\n",
    "from sklearn.model_selection import train_test_split\n",
    "from sklearn.linear_model import LinearRegression\n",
    "from sklearn.metrics import mean_squared_error\n",
    "import warnings\n",
    "warnings.filterwarnings(\"ignore\")\n",
    "import seaborn\n",
    "import matplotlib.pyplot as plt\n",
    "from scipy import stats as st"
   ]
  },
  {
   "cell_type": "markdown",
   "metadata": {},
   "source": [
    "Библиотеки загружены. \n",
    "\n",
    "Теперь считаем набор данных."
   ]
  },
  {
   "cell_type": "code",
   "execution_count": 2,
   "metadata": {},
   "outputs": [],
   "source": [
    "reg_1, reg_2, reg_3 = pd.read_csv('/datasets/geo_data_0.csv'), \\\n",
    "pd.read_csv('/datasets/geo_data_1.csv'), \\\n",
    "pd.read_csv('/datasets/geo_data_2.csv')"
   ]
  },
  {
   "cell_type": "markdown",
   "metadata": {},
   "source": [
    "Посмотрим на набор данных.\n",
    "\n",
    "Для этого напишем функцию, которая будет принимать на вход набор данных и отображать информацию о нём: первые 10 строк набора данных, типы содержащихся в нём данных, его размер, наличие пропусков и дубликатов, а также уникальные значения в каждом из полей."
   ]
  },
  {
   "cell_type": "code",
   "execution_count": 3,
   "metadata": {},
   "outputs": [],
   "source": [
    "def df_info(df):\n",
    "    print('Первые 10 строк DF')\n",
    "    display(df.head(10))\n",
    "    print('Общая информация о DF')\n",
    "    display(df.info())\n",
    "    print('Размер df:', df.shape)\n",
    "    print()\n",
    "    print('Пропуски в df')\n",
    "    display(df.isna().sum())\n",
    "    print('Количество дубликатов в df:', df.duplicated().sum())\n",
    "    print()\n",
    "    for col in df.columns:\n",
    "        print('*** Поле', col + ': уникальные значения ***')\n",
    "        display(df[col].value_counts())"
   ]
  },
  {
   "cell_type": "markdown",
   "metadata": {},
   "source": [
    "Применим функцию к нашим наборам данных."
   ]
  },
  {
   "cell_type": "code",
   "execution_count": 4,
   "metadata": {},
   "outputs": [
    {
     "name": "stdout",
     "output_type": "stream",
     "text": [
      "Первые 10 строк DF\n"
     ]
    },
    {
     "data": {
      "text/html": [
       "<div>\n",
       "<style scoped>\n",
       "    .dataframe tbody tr th:only-of-type {\n",
       "        vertical-align: middle;\n",
       "    }\n",
       "\n",
       "    .dataframe tbody tr th {\n",
       "        vertical-align: top;\n",
       "    }\n",
       "\n",
       "    .dataframe thead th {\n",
       "        text-align: right;\n",
       "    }\n",
       "</style>\n",
       "<table border=\"1\" class=\"dataframe\">\n",
       "  <thead>\n",
       "    <tr style=\"text-align: right;\">\n",
       "      <th></th>\n",
       "      <th>id</th>\n",
       "      <th>f0</th>\n",
       "      <th>f1</th>\n",
       "      <th>f2</th>\n",
       "      <th>product</th>\n",
       "    </tr>\n",
       "  </thead>\n",
       "  <tbody>\n",
       "    <tr>\n",
       "      <th>0</th>\n",
       "      <td>txEyH</td>\n",
       "      <td>0.705745</td>\n",
       "      <td>-0.497823</td>\n",
       "      <td>1.221170</td>\n",
       "      <td>105.280062</td>\n",
       "    </tr>\n",
       "    <tr>\n",
       "      <th>1</th>\n",
       "      <td>2acmU</td>\n",
       "      <td>1.334711</td>\n",
       "      <td>-0.340164</td>\n",
       "      <td>4.365080</td>\n",
       "      <td>73.037750</td>\n",
       "    </tr>\n",
       "    <tr>\n",
       "      <th>2</th>\n",
       "      <td>409Wp</td>\n",
       "      <td>1.022732</td>\n",
       "      <td>0.151990</td>\n",
       "      <td>1.419926</td>\n",
       "      <td>85.265647</td>\n",
       "    </tr>\n",
       "    <tr>\n",
       "      <th>3</th>\n",
       "      <td>iJLyR</td>\n",
       "      <td>-0.032172</td>\n",
       "      <td>0.139033</td>\n",
       "      <td>2.978566</td>\n",
       "      <td>168.620776</td>\n",
       "    </tr>\n",
       "    <tr>\n",
       "      <th>4</th>\n",
       "      <td>Xdl7t</td>\n",
       "      <td>1.988431</td>\n",
       "      <td>0.155413</td>\n",
       "      <td>4.751769</td>\n",
       "      <td>154.036647</td>\n",
       "    </tr>\n",
       "    <tr>\n",
       "      <th>5</th>\n",
       "      <td>wX4Hy</td>\n",
       "      <td>0.969570</td>\n",
       "      <td>0.489775</td>\n",
       "      <td>-0.735383</td>\n",
       "      <td>64.741541</td>\n",
       "    </tr>\n",
       "    <tr>\n",
       "      <th>6</th>\n",
       "      <td>tL6pL</td>\n",
       "      <td>0.645075</td>\n",
       "      <td>0.530656</td>\n",
       "      <td>1.780266</td>\n",
       "      <td>49.055285</td>\n",
       "    </tr>\n",
       "    <tr>\n",
       "      <th>7</th>\n",
       "      <td>BYPU6</td>\n",
       "      <td>-0.400648</td>\n",
       "      <td>0.808337</td>\n",
       "      <td>-5.624670</td>\n",
       "      <td>72.943292</td>\n",
       "    </tr>\n",
       "    <tr>\n",
       "      <th>8</th>\n",
       "      <td>j9Oui</td>\n",
       "      <td>0.643105</td>\n",
       "      <td>-0.551583</td>\n",
       "      <td>2.372141</td>\n",
       "      <td>113.356160</td>\n",
       "    </tr>\n",
       "    <tr>\n",
       "      <th>9</th>\n",
       "      <td>OLuZU</td>\n",
       "      <td>2.173381</td>\n",
       "      <td>0.563698</td>\n",
       "      <td>9.441852</td>\n",
       "      <td>127.910945</td>\n",
       "    </tr>\n",
       "  </tbody>\n",
       "</table>\n",
       "</div>"
      ],
      "text/plain": [
       "      id        f0        f1        f2     product\n",
       "0  txEyH  0.705745 -0.497823  1.221170  105.280062\n",
       "1  2acmU  1.334711 -0.340164  4.365080   73.037750\n",
       "2  409Wp  1.022732  0.151990  1.419926   85.265647\n",
       "3  iJLyR -0.032172  0.139033  2.978566  168.620776\n",
       "4  Xdl7t  1.988431  0.155413  4.751769  154.036647\n",
       "5  wX4Hy  0.969570  0.489775 -0.735383   64.741541\n",
       "6  tL6pL  0.645075  0.530656  1.780266   49.055285\n",
       "7  BYPU6 -0.400648  0.808337 -5.624670   72.943292\n",
       "8  j9Oui  0.643105 -0.551583  2.372141  113.356160\n",
       "9  OLuZU  2.173381  0.563698  9.441852  127.910945"
      ]
     },
     "metadata": {},
     "output_type": "display_data"
    },
    {
     "name": "stdout",
     "output_type": "stream",
     "text": [
      "Общая информация о DF\n",
      "<class 'pandas.core.frame.DataFrame'>\n",
      "RangeIndex: 100000 entries, 0 to 99999\n",
      "Data columns (total 5 columns):\n",
      " #   Column   Non-Null Count   Dtype  \n",
      "---  ------   --------------   -----  \n",
      " 0   id       100000 non-null  object \n",
      " 1   f0       100000 non-null  float64\n",
      " 2   f1       100000 non-null  float64\n",
      " 3   f2       100000 non-null  float64\n",
      " 4   product  100000 non-null  float64\n",
      "dtypes: float64(4), object(1)\n",
      "memory usage: 3.8+ MB\n"
     ]
    },
    {
     "data": {
      "text/plain": [
       "None"
      ]
     },
     "metadata": {},
     "output_type": "display_data"
    },
    {
     "name": "stdout",
     "output_type": "stream",
     "text": [
      "Размер df: (100000, 5)\n",
      "\n",
      "Пропуски в df\n"
     ]
    },
    {
     "data": {
      "text/plain": [
       "id         0\n",
       "f0         0\n",
       "f1         0\n",
       "f2         0\n",
       "product    0\n",
       "dtype: int64"
      ]
     },
     "metadata": {},
     "output_type": "display_data"
    },
    {
     "name": "stdout",
     "output_type": "stream",
     "text": [
      "Количество дубликатов в df: 0\n",
      "\n",
      "*** Поле id: уникальные значения ***\n"
     ]
    },
    {
     "data": {
      "text/plain": [
       "TtcGQ    2\n",
       "Tdehs    2\n",
       "A5aEY    2\n",
       "bxg6G    2\n",
       "fiKDv    2\n",
       "        ..\n",
       "g22Ci    1\n",
       "osL8F    1\n",
       "72D8Y    1\n",
       "yQZK9    1\n",
       "DQVRz    1\n",
       "Name: id, Length: 99990, dtype: int64"
      ]
     },
     "metadata": {},
     "output_type": "display_data"
    },
    {
     "name": "stdout",
     "output_type": "stream",
     "text": [
      "*** Поле f0: уникальные значения ***\n"
     ]
    },
    {
     "data": {
      "text/plain": [
       "-1.017607    1\n",
       " 1.147603    1\n",
       "-0.731757    1\n",
       "-1.193550    1\n",
       " 0.796797    1\n",
       "            ..\n",
       " 0.946916    1\n",
       " 0.144982    1\n",
       " 0.033429    1\n",
       " 1.858456    1\n",
       " 0.509805    1\n",
       "Name: f0, Length: 100000, dtype: int64"
      ]
     },
     "metadata": {},
     "output_type": "display_data"
    },
    {
     "name": "stdout",
     "output_type": "stream",
     "text": [
      "*** Поле f1: уникальные значения ***\n"
     ]
    },
    {
     "data": {
      "text/plain": [
       " 0.675282    1\n",
       " 0.226651    1\n",
       " 0.824733    1\n",
       " 0.132691    1\n",
       " 0.507665    1\n",
       "            ..\n",
       "-0.433377    1\n",
       " 0.546259    1\n",
       " 0.530130    1\n",
       " 0.045090    1\n",
       " 0.685045    1\n",
       "Name: f1, Length: 100000, dtype: int64"
      ]
     },
     "metadata": {},
     "output_type": "display_data"
    },
    {
     "name": "stdout",
     "output_type": "stream",
     "text": [
      "*** Поле f2: уникальные значения ***\n"
     ]
    },
    {
     "data": {
      "text/plain": [
       " 2.163763    1\n",
       "-0.828819    1\n",
       " 4.382419    1\n",
       " 7.247306    1\n",
       " 3.808803    1\n",
       "            ..\n",
       " 5.221342    1\n",
       " 2.882526    1\n",
       "-2.471990    1\n",
       "-1.470932    1\n",
       " 7.645954    1\n",
       "Name: f2, Length: 100000, dtype: int64"
      ]
     },
     "metadata": {},
     "output_type": "display_data"
    },
    {
     "name": "stdout",
     "output_type": "stream",
     "text": [
      "*** Поле product: уникальные значения ***\n"
     ]
    },
    {
     "data": {
      "text/plain": [
       "133.484532    1\n",
       "62.168021     1\n",
       "132.876558    1\n",
       "72.311385     1\n",
       "126.226062    1\n",
       "             ..\n",
       "101.234649    1\n",
       "88.864080     1\n",
       "32.143997     1\n",
       "121.947543    1\n",
       "122.698141    1\n",
       "Name: product, Length: 100000, dtype: int64"
      ]
     },
     "metadata": {},
     "output_type": "display_data"
    }
   ],
   "source": [
    "df_info(reg_1)"
   ]
  },
  {
   "cell_type": "code",
   "execution_count": 5,
   "metadata": {},
   "outputs": [
    {
     "name": "stdout",
     "output_type": "stream",
     "text": [
      "Первые 10 строк DF\n"
     ]
    },
    {
     "data": {
      "text/html": [
       "<div>\n",
       "<style scoped>\n",
       "    .dataframe tbody tr th:only-of-type {\n",
       "        vertical-align: middle;\n",
       "    }\n",
       "\n",
       "    .dataframe tbody tr th {\n",
       "        vertical-align: top;\n",
       "    }\n",
       "\n",
       "    .dataframe thead th {\n",
       "        text-align: right;\n",
       "    }\n",
       "</style>\n",
       "<table border=\"1\" class=\"dataframe\">\n",
       "  <thead>\n",
       "    <tr style=\"text-align: right;\">\n",
       "      <th></th>\n",
       "      <th>id</th>\n",
       "      <th>f0</th>\n",
       "      <th>f1</th>\n",
       "      <th>f2</th>\n",
       "      <th>product</th>\n",
       "    </tr>\n",
       "  </thead>\n",
       "  <tbody>\n",
       "    <tr>\n",
       "      <th>0</th>\n",
       "      <td>kBEdx</td>\n",
       "      <td>-15.001348</td>\n",
       "      <td>-8.276000</td>\n",
       "      <td>-0.005876</td>\n",
       "      <td>3.179103</td>\n",
       "    </tr>\n",
       "    <tr>\n",
       "      <th>1</th>\n",
       "      <td>62mP7</td>\n",
       "      <td>14.272088</td>\n",
       "      <td>-3.475083</td>\n",
       "      <td>0.999183</td>\n",
       "      <td>26.953261</td>\n",
       "    </tr>\n",
       "    <tr>\n",
       "      <th>2</th>\n",
       "      <td>vyE1P</td>\n",
       "      <td>6.263187</td>\n",
       "      <td>-5.948386</td>\n",
       "      <td>5.001160</td>\n",
       "      <td>134.766305</td>\n",
       "    </tr>\n",
       "    <tr>\n",
       "      <th>3</th>\n",
       "      <td>KcrkZ</td>\n",
       "      <td>-13.081196</td>\n",
       "      <td>-11.506057</td>\n",
       "      <td>4.999415</td>\n",
       "      <td>137.945408</td>\n",
       "    </tr>\n",
       "    <tr>\n",
       "      <th>4</th>\n",
       "      <td>AHL4O</td>\n",
       "      <td>12.702195</td>\n",
       "      <td>-8.147433</td>\n",
       "      <td>5.004363</td>\n",
       "      <td>134.766305</td>\n",
       "    </tr>\n",
       "    <tr>\n",
       "      <th>5</th>\n",
       "      <td>HHckp</td>\n",
       "      <td>-3.327590</td>\n",
       "      <td>-2.205276</td>\n",
       "      <td>3.003647</td>\n",
       "      <td>84.038886</td>\n",
       "    </tr>\n",
       "    <tr>\n",
       "      <th>6</th>\n",
       "      <td>h5Ujo</td>\n",
       "      <td>-11.142655</td>\n",
       "      <td>-10.133399</td>\n",
       "      <td>4.002382</td>\n",
       "      <td>110.992147</td>\n",
       "    </tr>\n",
       "    <tr>\n",
       "      <th>7</th>\n",
       "      <td>muH9x</td>\n",
       "      <td>4.234715</td>\n",
       "      <td>-0.001354</td>\n",
       "      <td>2.004588</td>\n",
       "      <td>53.906522</td>\n",
       "    </tr>\n",
       "    <tr>\n",
       "      <th>8</th>\n",
       "      <td>YiRkx</td>\n",
       "      <td>13.355129</td>\n",
       "      <td>-0.332068</td>\n",
       "      <td>4.998647</td>\n",
       "      <td>134.766305</td>\n",
       "    </tr>\n",
       "    <tr>\n",
       "      <th>9</th>\n",
       "      <td>jG6Gi</td>\n",
       "      <td>1.069227</td>\n",
       "      <td>-11.025667</td>\n",
       "      <td>4.997844</td>\n",
       "      <td>137.945408</td>\n",
       "    </tr>\n",
       "  </tbody>\n",
       "</table>\n",
       "</div>"
      ],
      "text/plain": [
       "      id         f0         f1        f2     product\n",
       "0  kBEdx -15.001348  -8.276000 -0.005876    3.179103\n",
       "1  62mP7  14.272088  -3.475083  0.999183   26.953261\n",
       "2  vyE1P   6.263187  -5.948386  5.001160  134.766305\n",
       "3  KcrkZ -13.081196 -11.506057  4.999415  137.945408\n",
       "4  AHL4O  12.702195  -8.147433  5.004363  134.766305\n",
       "5  HHckp  -3.327590  -2.205276  3.003647   84.038886\n",
       "6  h5Ujo -11.142655 -10.133399  4.002382  110.992147\n",
       "7  muH9x   4.234715  -0.001354  2.004588   53.906522\n",
       "8  YiRkx  13.355129  -0.332068  4.998647  134.766305\n",
       "9  jG6Gi   1.069227 -11.025667  4.997844  137.945408"
      ]
     },
     "metadata": {},
     "output_type": "display_data"
    },
    {
     "name": "stdout",
     "output_type": "stream",
     "text": [
      "Общая информация о DF\n",
      "<class 'pandas.core.frame.DataFrame'>\n",
      "RangeIndex: 100000 entries, 0 to 99999\n",
      "Data columns (total 5 columns):\n",
      " #   Column   Non-Null Count   Dtype  \n",
      "---  ------   --------------   -----  \n",
      " 0   id       100000 non-null  object \n",
      " 1   f0       100000 non-null  float64\n",
      " 2   f1       100000 non-null  float64\n",
      " 3   f2       100000 non-null  float64\n",
      " 4   product  100000 non-null  float64\n",
      "dtypes: float64(4), object(1)\n",
      "memory usage: 3.8+ MB\n"
     ]
    },
    {
     "data": {
      "text/plain": [
       "None"
      ]
     },
     "metadata": {},
     "output_type": "display_data"
    },
    {
     "name": "stdout",
     "output_type": "stream",
     "text": [
      "Размер df: (100000, 5)\n",
      "\n",
      "Пропуски в df\n"
     ]
    },
    {
     "data": {
      "text/plain": [
       "id         0\n",
       "f0         0\n",
       "f1         0\n",
       "f2         0\n",
       "product    0\n",
       "dtype: int64"
      ]
     },
     "metadata": {},
     "output_type": "display_data"
    },
    {
     "name": "stdout",
     "output_type": "stream",
     "text": [
      "Количество дубликатов в df: 0\n",
      "\n",
      "*** Поле id: уникальные значения ***\n"
     ]
    },
    {
     "data": {
      "text/plain": [
       "5ltQ6    2\n",
       "LHZR0    2\n",
       "bfPNe    2\n",
       "wt4Uk    2\n",
       "7bzEa    1\n",
       "        ..\n",
       "pWg5L    1\n",
       "teQzJ    1\n",
       "3PySe    1\n",
       "d0FY2    1\n",
       "wt1A4    1\n",
       "Name: id, Length: 99996, dtype: int64"
      ]
     },
     "metadata": {},
     "output_type": "display_data"
    },
    {
     "name": "stdout",
     "output_type": "stream",
     "text": [
      "*** Поле f0: уникальные значения ***\n"
     ]
    },
    {
     "data": {
      "text/plain": [
       "-4.545515     1\n",
       " 5.297343     1\n",
       "-13.075676    1\n",
       " 0.384176     1\n",
       " 21.030916    1\n",
       "             ..\n",
       "-4.506841     1\n",
       "-2.148038     1\n",
       "-8.212404     1\n",
       "-0.706976     1\n",
       "-5.245586     1\n",
       "Name: f0, Length: 100000, dtype: int64"
      ]
     },
     "metadata": {},
     "output_type": "display_data"
    },
    {
     "name": "stdout",
     "output_type": "stream",
     "text": [
      "*** Поле f1: уникальные значения ***\n"
     ]
    },
    {
     "data": {
      "text/plain": [
       "-2.420454     1\n",
       "-8.292583     1\n",
       "-8.575602     1\n",
       "-8.043060     1\n",
       "-4.761843     1\n",
       "             ..\n",
       "-2.429287     1\n",
       "-10.155352    1\n",
       "-8.125222     1\n",
       "-8.109408     1\n",
       "-2.703362     1\n",
       "Name: f1, Length: 100000, dtype: int64"
      ]
     },
     "metadata": {},
     "output_type": "display_data"
    },
    {
     "name": "stdout",
     "output_type": "stream",
     "text": [
      "*** Поле f2: уникальные значения ***\n"
     ]
    },
    {
     "data": {
      "text/plain": [
       " 2.002652    1\n",
       "-0.002297    1\n",
       " 2.989817    1\n",
       " 0.989551    1\n",
       " 1.006905    1\n",
       "            ..\n",
       " 2.009115    1\n",
       " 3.005888    1\n",
       " 3.001586    1\n",
       " 4.993298    1\n",
       " 1.999259    1\n",
       "Name: f2, Length: 100000, dtype: int64"
      ]
     },
     "metadata": {},
     "output_type": "display_data"
    },
    {
     "name": "stdout",
     "output_type": "stream",
     "text": [
      "*** Поле product: уникальные значения ***\n"
     ]
    },
    {
     "data": {
      "text/plain": [
       "53.906522     8472\n",
       "26.953261     8468\n",
       "84.038886     8431\n",
       "57.085625     8390\n",
       "3.179103      8337\n",
       "80.859783     8320\n",
       "30.132364     8306\n",
       "134.766305    8304\n",
       "110.992147    8303\n",
       "0.000000      8235\n",
       "137.945408    8233\n",
       "107.813044    8201\n",
       "Name: product, dtype: int64"
      ]
     },
     "metadata": {},
     "output_type": "display_data"
    }
   ],
   "source": [
    "df_info(reg_2)"
   ]
  },
  {
   "cell_type": "code",
   "execution_count": 6,
   "metadata": {},
   "outputs": [
    {
     "name": "stdout",
     "output_type": "stream",
     "text": [
      "Первые 10 строк DF\n"
     ]
    },
    {
     "data": {
      "text/html": [
       "<div>\n",
       "<style scoped>\n",
       "    .dataframe tbody tr th:only-of-type {\n",
       "        vertical-align: middle;\n",
       "    }\n",
       "\n",
       "    .dataframe tbody tr th {\n",
       "        vertical-align: top;\n",
       "    }\n",
       "\n",
       "    .dataframe thead th {\n",
       "        text-align: right;\n",
       "    }\n",
       "</style>\n",
       "<table border=\"1\" class=\"dataframe\">\n",
       "  <thead>\n",
       "    <tr style=\"text-align: right;\">\n",
       "      <th></th>\n",
       "      <th>id</th>\n",
       "      <th>f0</th>\n",
       "      <th>f1</th>\n",
       "      <th>f2</th>\n",
       "      <th>product</th>\n",
       "    </tr>\n",
       "  </thead>\n",
       "  <tbody>\n",
       "    <tr>\n",
       "      <th>0</th>\n",
       "      <td>fwXo0</td>\n",
       "      <td>-1.146987</td>\n",
       "      <td>0.963328</td>\n",
       "      <td>-0.828965</td>\n",
       "      <td>27.758673</td>\n",
       "    </tr>\n",
       "    <tr>\n",
       "      <th>1</th>\n",
       "      <td>WJtFt</td>\n",
       "      <td>0.262778</td>\n",
       "      <td>0.269839</td>\n",
       "      <td>-2.530187</td>\n",
       "      <td>56.069697</td>\n",
       "    </tr>\n",
       "    <tr>\n",
       "      <th>2</th>\n",
       "      <td>ovLUW</td>\n",
       "      <td>0.194587</td>\n",
       "      <td>0.289035</td>\n",
       "      <td>-5.586433</td>\n",
       "      <td>62.871910</td>\n",
       "    </tr>\n",
       "    <tr>\n",
       "      <th>3</th>\n",
       "      <td>q6cA6</td>\n",
       "      <td>2.236060</td>\n",
       "      <td>-0.553760</td>\n",
       "      <td>0.930038</td>\n",
       "      <td>114.572842</td>\n",
       "    </tr>\n",
       "    <tr>\n",
       "      <th>4</th>\n",
       "      <td>WPMUX</td>\n",
       "      <td>-0.515993</td>\n",
       "      <td>1.716266</td>\n",
       "      <td>5.899011</td>\n",
       "      <td>149.600746</td>\n",
       "    </tr>\n",
       "    <tr>\n",
       "      <th>5</th>\n",
       "      <td>LzZXx</td>\n",
       "      <td>-0.758092</td>\n",
       "      <td>0.710691</td>\n",
       "      <td>2.585887</td>\n",
       "      <td>90.222465</td>\n",
       "    </tr>\n",
       "    <tr>\n",
       "      <th>6</th>\n",
       "      <td>WBHRv</td>\n",
       "      <td>-0.574891</td>\n",
       "      <td>0.317727</td>\n",
       "      <td>1.773745</td>\n",
       "      <td>45.641478</td>\n",
       "    </tr>\n",
       "    <tr>\n",
       "      <th>7</th>\n",
       "      <td>XO8fn</td>\n",
       "      <td>-1.906649</td>\n",
       "      <td>-2.458350</td>\n",
       "      <td>-0.177097</td>\n",
       "      <td>72.480640</td>\n",
       "    </tr>\n",
       "    <tr>\n",
       "      <th>8</th>\n",
       "      <td>ybmQ5</td>\n",
       "      <td>1.776292</td>\n",
       "      <td>-0.279356</td>\n",
       "      <td>3.004156</td>\n",
       "      <td>106.616832</td>\n",
       "    </tr>\n",
       "    <tr>\n",
       "      <th>9</th>\n",
       "      <td>OilcN</td>\n",
       "      <td>-1.214452</td>\n",
       "      <td>-0.439314</td>\n",
       "      <td>5.922514</td>\n",
       "      <td>52.954532</td>\n",
       "    </tr>\n",
       "  </tbody>\n",
       "</table>\n",
       "</div>"
      ],
      "text/plain": [
       "      id        f0        f1        f2     product\n",
       "0  fwXo0 -1.146987  0.963328 -0.828965   27.758673\n",
       "1  WJtFt  0.262778  0.269839 -2.530187   56.069697\n",
       "2  ovLUW  0.194587  0.289035 -5.586433   62.871910\n",
       "3  q6cA6  2.236060 -0.553760  0.930038  114.572842\n",
       "4  WPMUX -0.515993  1.716266  5.899011  149.600746\n",
       "5  LzZXx -0.758092  0.710691  2.585887   90.222465\n",
       "6  WBHRv -0.574891  0.317727  1.773745   45.641478\n",
       "7  XO8fn -1.906649 -2.458350 -0.177097   72.480640\n",
       "8  ybmQ5  1.776292 -0.279356  3.004156  106.616832\n",
       "9  OilcN -1.214452 -0.439314  5.922514   52.954532"
      ]
     },
     "metadata": {},
     "output_type": "display_data"
    },
    {
     "name": "stdout",
     "output_type": "stream",
     "text": [
      "Общая информация о DF\n",
      "<class 'pandas.core.frame.DataFrame'>\n",
      "RangeIndex: 100000 entries, 0 to 99999\n",
      "Data columns (total 5 columns):\n",
      " #   Column   Non-Null Count   Dtype  \n",
      "---  ------   --------------   -----  \n",
      " 0   id       100000 non-null  object \n",
      " 1   f0       100000 non-null  float64\n",
      " 2   f1       100000 non-null  float64\n",
      " 3   f2       100000 non-null  float64\n",
      " 4   product  100000 non-null  float64\n",
      "dtypes: float64(4), object(1)\n",
      "memory usage: 3.8+ MB\n"
     ]
    },
    {
     "data": {
      "text/plain": [
       "None"
      ]
     },
     "metadata": {},
     "output_type": "display_data"
    },
    {
     "name": "stdout",
     "output_type": "stream",
     "text": [
      "Размер df: (100000, 5)\n",
      "\n",
      "Пропуски в df\n"
     ]
    },
    {
     "data": {
      "text/plain": [
       "id         0\n",
       "f0         0\n",
       "f1         0\n",
       "f2         0\n",
       "product    0\n",
       "dtype: int64"
      ]
     },
     "metadata": {},
     "output_type": "display_data"
    },
    {
     "name": "stdout",
     "output_type": "stream",
     "text": [
      "Количество дубликатов в df: 0\n",
      "\n",
      "*** Поле id: уникальные значения ***\n"
     ]
    },
    {
     "data": {
      "text/plain": [
       "xCHr8    2\n",
       "VF7Jo    2\n",
       "KUPhW    2\n",
       "Vcm5J    2\n",
       "nbSrI    1\n",
       "        ..\n",
       "GuAz5    1\n",
       "9MfqH    1\n",
       "f9V4S    1\n",
       "vkehD    1\n",
       "NjeB0    1\n",
       "Name: id, Length: 99996, dtype: int64"
      ]
     },
     "metadata": {},
     "output_type": "display_data"
    },
    {
     "name": "stdout",
     "output_type": "stream",
     "text": [
      "*** Поле f0: уникальные значения ***\n"
     ]
    },
    {
     "data": {
      "text/plain": [
       "-1.648445    1\n",
       " 1.003758    1\n",
       "-1.864906    1\n",
       "-3.603933    1\n",
       " 0.213231    1\n",
       "            ..\n",
       " 0.233296    1\n",
       " 0.736351    1\n",
       " 1.823606    1\n",
       "-1.117580    1\n",
       " 0.728740    1\n",
       "Name: f0, Length: 100000, dtype: int64"
      ]
     },
     "metadata": {},
     "output_type": "display_data"
    },
    {
     "name": "stdout",
     "output_type": "stream",
     "text": [
      "*** Поле f1: уникальные значения ***\n"
     ]
    },
    {
     "data": {
      "text/plain": [
       "-1.888663    1\n",
       " 1.254449    1\n",
       "-2.240571    1\n",
       " 1.341936    1\n",
       " 0.103396    1\n",
       "            ..\n",
       "-0.702685    1\n",
       "-1.820815    1\n",
       "-1.302992    1\n",
       " 0.242257    1\n",
       " 2.623684    1\n",
       "Name: f1, Length: 100000, dtype: int64"
      ]
     },
     "metadata": {},
     "output_type": "display_data"
    },
    {
     "name": "stdout",
     "output_type": "stream",
     "text": [
      "*** Поле f2: уникальные значения ***\n"
     ]
    },
    {
     "data": {
      "text/plain": [
       " 5.256481     1\n",
       "-1.473363     1\n",
       "-0.068485     1\n",
       " 0.677459     1\n",
       " 5.579063     1\n",
       "             ..\n",
       " 10.022118    1\n",
       " 3.093945     1\n",
       "-1.125733     1\n",
       " 1.843601     1\n",
       " 4.732407     1\n",
       "Name: f2, Length: 100000, dtype: int64"
      ]
     },
     "metadata": {},
     "output_type": "display_data"
    },
    {
     "name": "stdout",
     "output_type": "stream",
     "text": [
      "*** Поле product: уникальные значения ***\n"
     ]
    },
    {
     "data": {
      "text/plain": [
       "133.530141    1\n",
       "33.643997     1\n",
       "12.244055     1\n",
       "100.428232    1\n",
       "44.765835     1\n",
       "             ..\n",
       "111.949405    1\n",
       "116.305618    1\n",
       "179.755799    1\n",
       "18.538959     1\n",
       "0.000000      1\n",
       "Name: product, Length: 100000, dtype: int64"
      ]
     },
     "metadata": {},
     "output_type": "display_data"
    }
   ],
   "source": [
    "df_info(reg_3)"
   ]
  },
  {
   "cell_type": "markdown",
   "metadata": {},
   "source": [
    "# Выводы по этапу 1.\n",
    "\n",
    "На данном этапе мы импортировали необходимые библиотеки, а также считали и проанализировали предоставленные наборы данных.\n",
    "\n",
    "Можно отметить, что в наборе данных представлены пробы нефти в трёх регионах. По атрибутному составу наборы данных идентичны друг другу: все три набора данных содержат id скважины, 3 параметра, описывающие некоторые характеристики скважин, а также объём запасов нефти в скважине (в тыс. баррелей). \n",
    "\n",
    "Каждый набор данных сожержит по 100 тыс. наблюдений. \n",
    "\n",
    "Данные не содержат аномалий, дубликатов или пропущенных значений, поэтому их предварительная обработка не требуется.\n",
    "\n",
    "<a href='#title'>К оглавлению.</a>"
   ]
  },
  {
   "cell_type": "markdown",
   "metadata": {},
   "source": [
    "# Этап 2. Обучение и проверка модели."
   ]
  },
  {
   "cell_type": "markdown",
   "metadata": {},
   "source": [
    "<a id='2.1'></a> \n",
    "## Этап 2.1. Обучение и проверка модели.\n",
    "\n",
    "Для начала нужно разделить нашу выборку на тренировочную и валидационную части в соотношении 75% : 25%.\n",
    "\n",
    "Напишем соответствующую функцию."
   ]
  },
  {
   "cell_type": "code",
   "execution_count": 7,
   "metadata": {},
   "outputs": [],
   "source": [
    "def train_validate_split(df):\n",
    "    target = df['product']\n",
    "    features = df.drop(['product', 'id'], axis = 1)\n",
    "    features_train, features_validate, target_train, target_validate = \\\n",
    "    train_test_split(features, target, test_size = 0.25, random_state = 12345)\n",
    "    print('Количество объектов в features_train:', features_train.shape[0])\n",
    "    print('Количество объектов в features_validate:', features_validate.shape[0])\n",
    "    print('Количество объектов в target_train:', target_train.shape[0])\n",
    "    print('Количество объектов в target_validate:', target_validate.shape[0])\n",
    "    print('Количетсво объектов в изначальном наборе данных:', df.shape[0])\n",
    "    \n",
    "    return features_train, features_validate, target_train, target_validate"
   ]
  },
  {
   "cell_type": "markdown",
   "metadata": {},
   "source": [
    "Применим функцию к нашим наборам данных."
   ]
  },
  {
   "cell_type": "code",
   "execution_count": 8,
   "metadata": {},
   "outputs": [
    {
     "name": "stdout",
     "output_type": "stream",
     "text": [
      "Количество объектов в features_train: 75000\n",
      "Количество объектов в features_validate: 25000\n",
      "Количество объектов в target_train: 75000\n",
      "Количество объектов в target_validate: 25000\n",
      "Количетсво объектов в изначальном наборе данных: 100000\n"
     ]
    }
   ],
   "source": [
    "features_train_1, features_validate_1, target_train_1, target_validate_1 = train_validate_split(reg_1)"
   ]
  },
  {
   "cell_type": "code",
   "execution_count": 9,
   "metadata": {},
   "outputs": [
    {
     "name": "stdout",
     "output_type": "stream",
     "text": [
      "Количество объектов в features_train: 75000\n",
      "Количество объектов в features_validate: 25000\n",
      "Количество объектов в target_train: 75000\n",
      "Количество объектов в target_validate: 25000\n",
      "Количетсво объектов в изначальном наборе данных: 100000\n"
     ]
    }
   ],
   "source": [
    "features_train_2, features_validate_2, target_train_2, target_validate_2 = train_validate_split(reg_2)"
   ]
  },
  {
   "cell_type": "code",
   "execution_count": 10,
   "metadata": {},
   "outputs": [
    {
     "name": "stdout",
     "output_type": "stream",
     "text": [
      "Количество объектов в features_train: 75000\n",
      "Количество объектов в features_validate: 25000\n",
      "Количество объектов в target_train: 75000\n",
      "Количество объектов в target_validate: 25000\n",
      "Количетсво объектов в изначальном наборе данных: 100000\n"
     ]
    }
   ],
   "source": [
    "features_train_3, features_validate_3, target_train_3, target_validate_3 = train_validate_split(reg_3)"
   ]
  },
  {
   "cell_type": "markdown",
   "metadata": {},
   "source": [
    "Обучим модель линейной регрессии и предскажем объём добычи нефти для каждого региона.\n",
    "\n",
    "По условию проекта в каждом регионе исследуется 500 месторождений. Так как прогноз модели мы будем использовать в качестве базы для расчёта прибыли, на этапе формирования предсказаний объёмов добычи нефти отберём 500 лучших скважин и сравним результаты прогноза с данными валидационной выборки.\n",
    "\n",
    "Для этого напишем функцию."
   ]
  },
  {
   "cell_type": "code",
   "execution_count": 11,
   "metadata": {},
   "outputs": [],
   "source": [
    "def linear_regression_model(features_train, features_validate, target_train, target_validate, all_points = 500):\n",
    "    model = LinearRegression()\n",
    "    model.fit(features_train, target_train)\n",
    "    predictions = pd.Series(model.predict(features_validate), index = features_validate.index)\n",
    "    mse = mean_squared_error(target_validate.loc[predictions.index], predictions)\n",
    "    rmse = pow(mse, 0.5)\n",
    "    print('Средний запас предсказанного сырья:', round(predictions.mean(),2), 'тыс.баррелей')\n",
    "    print('RMSE:', round(rmse, 4))\n",
    "    \n",
    "    return predictions.mean(), rmse, predictions"
   ]
  },
  {
   "cell_type": "code",
   "execution_count": 12,
   "metadata": {},
   "outputs": [
    {
     "name": "stdout",
     "output_type": "stream",
     "text": [
      "Средний запас предсказанного сырья: 92.59 тыс.баррелей\n",
      "RMSE: 37.5794\n"
     ]
    }
   ],
   "source": [
    "mean_product_1, rmse_1, predictions_1 = linear_regression_model(features_train_1, features_validate_1, \n",
    "                                                                target_train_1, target_validate_1)"
   ]
  },
  {
   "cell_type": "code",
   "execution_count": 13,
   "metadata": {},
   "outputs": [
    {
     "name": "stdout",
     "output_type": "stream",
     "text": [
      "Средний запас предсказанного сырья: 68.73 тыс.баррелей\n",
      "RMSE: 0.8931\n"
     ]
    }
   ],
   "source": [
    "mean_product_2, rmse_2, predictions_2 = linear_regression_model(features_train_2, features_validate_2, \n",
    "                                                                target_train_2, target_validate_2)"
   ]
  },
  {
   "cell_type": "code",
   "execution_count": 14,
   "metadata": {},
   "outputs": [
    {
     "name": "stdout",
     "output_type": "stream",
     "text": [
      "Средний запас предсказанного сырья: 94.97 тыс.баррелей\n",
      "RMSE: 40.0297\n"
     ]
    }
   ],
   "source": [
    "mean_product_3, rmse_3, predictions_3 = linear_regression_model(features_train_3, features_validate_3, \n",
    "                                                                target_train_3, target_validate_3)"
   ]
  },
  {
   "cell_type": "markdown",
   "metadata": {},
   "source": [
    "Визуализируем информацию."
   ]
  },
  {
   "cell_type": "code",
   "execution_count": 15,
   "metadata": {},
   "outputs": [
    {
     "data": {
      "image/png": "[encoded data removed]",
      "text/plain": [
       "<Figure size 576x360 with 1 Axes>"
      ]
     },
     "metadata": {
      "needs_background": "light"
     },
     "output_type": "display_data"
    }
   ],
   "source": [
    "rmse = [rmse_1, rmse_2, rmse_3]\n",
    "mean_product = [mean_product_1, mean_product_2, mean_product_3]\n",
    "regions = ['1 регион', '2 регион', '3 регион']\n",
    "columns = ['region', 'mean_product', 'rmse']\n",
    "\n",
    "fig, ax = plt.subplots(nrows=1, ncols=1, figsize=(8, 5))\n",
    "\n",
    "ax.bar(x = regions, height = mean_product, label = 'mean_product', width = 0.4)\n",
    "ax.bar(x = regions, height = rmse, color = 'r', label = 'RMSE', width = 0.4)\n",
    "ax.set_title('Средний запас предсказанного моделью сырья (в тыс.баррелей) и RMSE')\n",
    "ax.legend()\n",
    "\n",
    "plt.show()"
   ]
  },
  {
   "cell_type": "markdown",
   "metadata": {},
   "source": [
    "# Выводы по этапу 2.\n",
    "\n",
    "На данном этапе было произведено разделение наборов данных на тренировочную и валидационную части в соотношении 75% : 25%. Для разделения наборов данных на выборки была написана соответствующая функция.\n",
    "\n",
    "Также для предсказания объёмов добычи нефти для всех трёх регионов была построеная модель линейной регрессии, для каждого региона был посчитан средний запас предсказанного сырья, а также определена метрика RMSE. Соответствующие метрики были сохранены в определённые переменные. Этот функционал также был реализован с помощью функции. При этом прогноз, построенный моделью, был отсортирован по убыванию объёмов добычи нефти, и RMSE и средний запас предсказанного сырья были оценены для топ-200 месторождений.\n",
    "\n",
    "Наиболее оптимальное предсказание было построено для второго региона. Предсказанный средний запас сырья составил 68.73 тыс.баррелей, при этом данное предсказание отличается низким значением ошибки: в среднем, при предсказывании объёма добычи нефти в скважине ошибка модели составляет 0.89 тыс.баррелей. \n",
    "\n",
    "Можно сказать, что данный прогноз является консервативным: он предсказывает меньшие по сравнению с другими регионами объёмы добычи нефти, однако это предсказание более точное относительно других регионов.\n",
    "\n",
    "Венчурным регионом - регионом с наибольшим риском - можно назвать 3 регион: модель предсказала средний объём добываемой нефти в размере 94.97 тыс.баррелей, при этом в среднем модель ошибается на 40.03 тыс.баррелей при предсказании объёма добычи нефти. Таким образом, модель предсказывает достаточно высокие объёмы добычи нефти относительно консервативной модели, однако эта модель допускает более высокую погрешность при предсказаннии объёмов добычи нефти. \n",
    "\n",
    "<a href='#title'>К оглавлению.</a>"
   ]
  },
  {
   "cell_type": "markdown",
   "metadata": {},
   "source": [
    "# Этап 3. Подготовка к расчёту прибыли."
   ]
  },
  {
   "cell_type": "markdown",
   "metadata": {},
   "source": [
    "<a id='3.1'></a>\n",
    "## Этап 3.1. Подготовка к расчёту прибыли.\n",
    "\n",
    "Для начала зафиксируем некоторые константы."
   ]
  },
  {
   "cell_type": "code",
   "execution_count": 16,
   "metadata": {},
   "outputs": [],
   "source": [
    "#общее количество скважин, которые разведываются при исследовании региона\n",
    "all_points = 500\n",
    "#количество лучших скважин, которые разрабатываются после исследования региона\n",
    "top_points = 200\n",
    "#доход с каждой единицы продукта (в тыс. руб.)\n",
    "income_per_one = 450\n",
    "#бюджет на разработку скважин в регионе (10 миллиардов = 10 000 000 тысяч, переведено для удобство, так как доход с \n",
    "#единицы продукта у нас тоже в тысячах)\n",
    "budget = 10000000"
   ]
  },
  {
   "cell_type": "markdown",
   "metadata": {},
   "source": [
    "Теперь для каждого региона определим необходимый объём добычи нефти, чтобы компания достигла точки безубыточности, т.е. ситуации, при которой доход от продажи добытых объёмов нефти стал равен бюджету на освоение новых месторождений.\n",
    "\n",
    "При этом по условию проекта из 500 исследованых месторождений может быть разработано только 200.\n",
    "\n",
    "Для этого напишем соответствующую функцию. На вход функция будет принимать переменную с предсказанными объёмами добычи нефти в регионе средний предсказанный объём нефти в регионе, а возвращать - необходимые для достижения точки безубычтонсоти объёмы добычи нефти."
   ]
  },
  {
   "cell_type": "code",
   "execution_count": 17,
   "metadata": {},
   "outputs": [],
   "source": [
    "def breakeven_point(predictions, mean_value, rmse):\n",
    "    extraction_volume = 0\n",
    "    income = 0\n",
    "    counter = 0\n",
    "    for i in predictions.sort_values(ascending = False)[:top_points]:\n",
    "        if income < (budget / 1000000):\n",
    "            extraction_volume += i\n",
    "            income += ((i * income_per_one) / 1000000)\n",
    "            counter += 1\n",
    "        else:\n",
    "            break\n",
    "    required_volume = extraction_volume / counter\n",
    "    free_wells = top_points - counter\n",
    "    breakeven_volume = extraction_volume / top_points\n",
    "    add_income_per_one = ((extraction_volume / counter) * income_per_one) / 1000000\n",
    "    add_income_total = ((top_points - counter) * income_per_one * mean_value) / 1000000\n",
    "    print('Точка безубыточности достигается при объёме добычи нефти в', round(extraction_volume, 2), \n",
    "          'тыс.баррелей, при этом компания получит', round(income, 2), 'млрд.руб.')\n",
    "    print('При этом компания должна разведать не менее', counter,'месторождений')\n",
    "    print('Для этого каждом месторождении, в среднем, должно находится около', \n",
    "         round(required_volume, 2), 'тыс.баррелей нефти')\n",
    "    print('В данном регионе - согласно прогнозу модели - в каждой скважине, в среднем, залегает', \n",
    "          round(mean_value, 2), 'тыс.баррелей нефти')\n",
    "    print('В данном регионе точкой безубыточности по добыче на одну скважину является',  \n",
    "          round(breakeven_volume, 2), 'тыс.баррелей нефти')       \n",
    "    print('Остаток неразработанных скважин после достижения точки безубыточности составит', free_wells, 'единиц')\n",
    "    print('Разработка каждого нового месторождения позволит компании получить',\n",
    "         round(add_income_per_one, 2), 'млрд.руб.')\n",
    "    print('Разработка оставшихся месторождений позволит компании получить доход в размере',\n",
    "         round(add_income_total, 2), 'млрд.руб.')\n",
    "    print('Однако модель, в среднем, всегда ошибается на', round(rmse, 2), \n",
    "          'тыс.баррелей нефти при предсказанни объёма нефти в скважине')\n",
    "    \n",
    "    return extraction_volume, income, counter, required_volume, breakeven_volume, \\\n",
    "free_wells, add_income_per_one, add_income_total"
   ]
  },
  {
   "cell_type": "markdown",
   "metadata": {},
   "source": [
    "Применим функцию к нашим предсказаниям."
   ]
  },
  {
   "cell_type": "code",
   "execution_count": 18,
   "metadata": {},
   "outputs": [
    {
     "name": "stdout",
     "output_type": "stream",
     "text": [
      "Точка безубыточности достигается при объёме добычи нефти в 22268.06 тыс.баррелей, при этом компания получит 10.02 млрд.руб.\n",
      "При этом компания должна разведать не менее 141 месторождений\n",
      "Для этого каждом месторождении, в среднем, должно находится около 157.93 тыс.баррелей нефти\n",
      "В данном регионе - согласно прогнозу модели - в каждой скважине, в среднем, залегает 92.59 тыс.баррелей нефти\n",
      "В данном регионе точкой безубыточности по добыче на одну скважину является 111.34 тыс.баррелей нефти\n",
      "Остаток неразработанных скважин после достижения точки безубыточности составит 59 единиц\n",
      "Разработка каждого нового месторождения позволит компании получить 0.07 млрд.руб.\n",
      "Разработка оставшихся месторождений позволит компании получить доход в размере 2.46 млрд.руб.\n",
      "Однако модель, в среднем, всегда ошибается на 37.58 тыс.баррелей нефти при предсказанни объёма нефти в скважине\n"
     ]
    }
   ],
   "source": [
    "extraction_volume_1, income_1, counter_1, required_volume_1, breakeven_volume_1, free_wells_1, \\\n",
    "add_income_per_one_1, add_income_total_1 = breakeven_point(predictions_1, mean_product_1, rmse_1)"
   ]
  },
  {
   "cell_type": "code",
   "execution_count": 19,
   "metadata": {},
   "outputs": [
    {
     "name": "stdout",
     "output_type": "stream",
     "text": [
      "Точка безубыточности достигается при объёме добычи нефти в 22346.41 тыс.баррелей, при этом компания получит 10.06 млрд.руб.\n",
      "При этом компания должна разведать не менее 161 месторождений\n",
      "Для этого каждом месторождении, в среднем, должно находится около 138.8 тыс.баррелей нефти\n",
      "В данном регионе - согласно прогнозу модели - в каждой скважине, в среднем, залегает 68.73 тыс.баррелей нефти\n",
      "В данном регионе точкой безубыточности по добыче на одну скважину является 111.73 тыс.баррелей нефти\n",
      "Остаток неразработанных скважин после достижения точки безубыточности составит 39 единиц\n",
      "Разработка каждого нового месторождения позволит компании получить 0.06 млрд.руб.\n",
      "Разработка оставшихся месторождений позволит компании получить доход в размере 1.21 млрд.руб.\n",
      "Однако модель, в среднем, всегда ошибается на 0.89 тыс.баррелей нефти при предсказанни объёма нефти в скважине\n"
     ]
    }
   ],
   "source": [
    "extraction_volume_2, income_2, counter_2, required_volume_2, breakeven_volume_2, free_wells_2, \\\n",
    "add_income_per_one_2, add_income_total_2 = breakeven_point(predictions_2, mean_product_2, rmse_2)"
   ]
  },
  {
   "cell_type": "code",
   "execution_count": 20,
   "metadata": {},
   "outputs": [
    {
     "name": "stdout",
     "output_type": "stream",
     "text": [
      "Точка безубыточности достигается при объёме добычи нефти в 22307.07 тыс.баррелей, при этом компания получит 10.04 млрд.руб.\n",
      "При этом компания должна разведать не менее 149 месторождений\n",
      "Для этого каждом месторождении, в среднем, должно находится около 149.71 тыс.баррелей нефти\n",
      "В данном регионе - согласно прогнозу модели - в каждой скважине, в среднем, залегает 94.97 тыс.баррелей нефти\n",
      "В данном регионе точкой безубыточности по добыче на одну скважину является 111.54 тыс.баррелей нефти\n",
      "Остаток неразработанных скважин после достижения точки безубыточности составит 51 единиц\n",
      "Разработка каждого нового месторождения позволит компании получить 0.07 млрд.руб.\n",
      "Разработка оставшихся месторождений позволит компании получить доход в размере 2.18 млрд.руб.\n",
      "Однако модель, в среднем, всегда ошибается на 40.03 тыс.баррелей нефти при предсказанни объёма нефти в скважине\n"
     ]
    }
   ],
   "source": [
    "extraction_volume_3, income_3, counter_3, required_volume_3, breakeven_volume_3, free_wells_3, \\\n",
    "add_income_per_one_3, add_income_total_3 = breakeven_point(predictions_3, mean_product_3, rmse_3)"
   ]
  },
  {
   "cell_type": "markdown",
   "metadata": {},
   "source": [
    "Так как мы посчитали много различных метрик, визуализируем их."
   ]
  },
  {
   "cell_type": "code",
   "execution_count": 21,
   "metadata": {},
   "outputs": [
    {
     "data": {
      "image/png": "[encoded data removed]",
      "text/plain": [
       "<Figure size 1440x1080 with 4 Axes>"
      ]
     },
     "metadata": {
      "needs_background": "light"
     },
     "output_type": "display_data"
    }
   ],
   "source": [
    "extraction_volume = [extraction_volume_1, extraction_volume_2, extraction_volume_3]\n",
    "income = [income_1, income_2, income_3]\n",
    "counter = [counter_1, counter_2, counter_3]\n",
    "required_volume = [required_volume_1, required_volume_2, required_volume_3]\n",
    "breakeven_volume = [breakeven_volume_1, breakeven_volume_2, breakeven_volume_3]\n",
    "free_wells = [free_wells_1, free_wells_2, free_wells_3]\n",
    "add_income_per_one = [add_income_per_one_1, add_income_per_one_2, add_income_per_one_3]\n",
    "add_income_total = [add_income_total_1, add_income_total_2, add_income_total_3]\n",
    "regions = ['1 регион', '2 регион', '3 регион']\n",
    "\n",
    "fig, axes = plt.subplots(2, 2, figsize = (20, 15))\n",
    "\n",
    "x = np.arange(len(regions))\n",
    "col_1 = axes[0][0].bar(x - (0.4/2), height = required_volume, \n",
    "                       label = 'Общий объём нефти, при котором достигается точка безубыточности', width = 0.4)\n",
    "col_2 = axes[0][0].bar(x - (0.4/2), height = breakeven_volume, color = 'r', \n",
    "                       label = 'Объём нефти в 1 скважине из 200, при котором достигается точка безубыточности', width = 0.4)\n",
    "col_3 = axes[0][0].bar(x + (0.4/2), height = mean_product, color = 'g', \n",
    "                       label = 'Средний объём нефти в скважине, предсказанный моделью', width = 0.4)\n",
    "axes[0][0].set_xticks(x)\n",
    "axes[0][0].set_xticklabels(regions)\n",
    "axes[0][0].set_title('Показатели добычи нефти в регионах, тыс.барр.')\n",
    "axes[0][0].legend(loc = 'lower left')\n",
    "\n",
    "col_1 = axes[0][1].bar(x - (0.4/2), height = income, label = 'Доход в точке безубыточности', width = 0.4)\n",
    "col_2 = axes[0][1].bar(x + (0.4/2), height = add_income_total, label = 'Доход после точки безубыточности', \n",
    "                       color = 'y', width = 0.4)\n",
    "axes[0][1].set_xticks(x)\n",
    "axes[0][1].set_xticklabels(regions)\n",
    "axes[0][1].set_title('Доход компании в точке безубыточности и после неё, млрд.руб.')\n",
    "axes[0][1].legend(loc = 'lower left')\n",
    "\n",
    "x = np.arange(len(regions))\n",
    "col_1 = axes[1][0].bar(x - (0.4/2), height = counter, label = 'Количество освоенных скважин в точке безубыточности', \n",
    "                       width = 0.4, color = 'b')\n",
    "col_2 = axes[1][0].bar(x + (0.4/2), height = free_wells, label = 'Количество освоенных скважин после точки безубыточности', \n",
    "                       color = 'g', width = 0.4)\n",
    "axes[1][0].set_xticks(x)\n",
    "axes[1][0].set_xticklabels(regions)\n",
    "axes[1][0].set_title('Количество скважин в точке безубыточности и после неё, шт.')\n",
    "axes[1][0].legend(loc = 'lower left')\n",
    "\n",
    "axes[1][1].barh(y = regions, width = add_income_per_one, label = 'Доход', height = 0.5)\n",
    "axes[1][1].set_title('Доход компании с разработки каждой новой скважины, млрд.руб.')\n",
    "axes[1][1].legend(loc = 'lower left')\n",
    "\n",
    "plt.show()"
   ]
  },
  {
   "cell_type": "markdown",
   "metadata": {},
   "source": [
    "# Вывод по этапу 3.\n",
    "\n",
    "На данном этапе мы зафиксировали ряд констант, которые пригодятся при расчёте прибыли и рисков, а также определили точку безубыточности и другие бизнес-метрики, на основе которых можно принять решение о регионе, в котором будут вестись работы по разработке месторождений.\n",
    "\n",
    "По результатам расчётов видим, что для достижения точки безубыточности компании нужно разведать не менее 141 месторождения в 1 регионе, не менее 161 месторождения во 2 регионе и не менее 149 месторождений в 3 регионе. \n",
    "\n",
    "При этом в каждой скважине, в среднем, должно быть около 157.93 тыс.баррелей нефти, 138.8 тыс.баррелей нефти и 149.71 тыс.баррелей нефти в 1, 2 и 3 регионах соответственно.\n",
    "\n",
    "Построенная модель предсказала средние запасы нефти в скважине в 148.37 тыс.баррелей нефти для 1 региона, в 138.39 тыс.баррелей нефти для 2 региона и 142.33 тыс.баррелей нефти для 3 региона.\n",
    "\n",
    "Также известно, что при предсказании объёмов нефти модель, в среднем, ошибается на 28.23 тыс.баррелей нефти в 1 регионе, на 0.58 тыс.баррелей нефти во 2 регионе и на 30.76 тыс.баррелей нефти в 3 регионе.\n",
    "\n",
    "При этом в 1 регионе останется ещё 59 скважин для разработки, во 3 регионе - 39, в 3 регионе - 51.\n",
    "\n",
    "Разработка каждой новой скважины в 1 регионе принесёт компании 0.07 млрд.руб, во 2 регионе - 0.06 млрд.руб., в 3 регионе - 0.07 млрд.руб.\n",
    "\n",
    "Разработка всех оставшихся скважин в 1 регионе принесёт компании 3.94 млрд.руб., во 2 регионе - 2.43 млрд.руб., в 3 регионе - 3.27 млрд.руб.\n",
    "\n",
    "Также мы видим, что при указанном количестве скважин, необходимых к разработке, а также при требуемом среднем объёме запасов нефти в каждой скважине, компания получит доход в размере 10.02 млрд.руб., 10.06 млрд.руб. и 10.04 млрд.руб. в 1, 2 и 3 регионах соответственно. Это на 0.02 млрд.руб., 0.06 млрд.руб. и 0.04 млрд.руб. больше, чем требуется для достижения точки безубыточности, в 1, 2 и 3 регионах соответственно.\n",
    "\n",
    "Кроме того, известно, что в каждом регионе может быть разработано только 200 месторождений. Поэтому был рассчитан требуемый для выхода на точку безубыточности объём нефти из расчёта на 200 месторождений. Так, для 1 региона он составил 111.34 тыс.баррелей нефти, для 2 региона - 111.73 тыс.баррелей нефти, для 3 региона - 111.54 тыс.баррелей нефти. В каждом из регионов требуемый для выхода на точку безубыточности объём нефти из расчёта на 200 месторождений выше тех среднийх объёмов запасов нефти, предсказанных моделью.\n",
    "\n",
    "Таким образом, видно, что требуемый для достижения точки безубыточности предсказанный средний объём нефти в скважине при заданном количестве месторождений и необходимом объёме нефти в каждом из них недостаточен для выхода в точку безубыточности в каждом из регионов.\n",
    "\n",
    "Вместе с тем отмечу, что при расчёте требуемого для выхода на точку безубыточности объёма нефти из расчёта на 200 месторождений использовались все предсказанные моделью запасы нефти в регионе - большие и небольшие. Соответственно, регионы с низкими величинами запасов нефти снижали требуемый для выхода на точку безубыточности объём нефти. Поэтому из всех предсказаний необходимо отобрать 200 с наибольшими запасами нефти и оценивать по ним прибыль и риски.\n",
    "\n",
    "<a href='#title'>К оглавлению.</a>"
   ]
  },
  {
   "cell_type": "markdown",
   "metadata": {},
   "source": [
    "# Этап 4. Расчёт прибыли и рисков."
   ]
  },
  {
   "cell_type": "markdown",
   "metadata": {},
   "source": [
    "<a id='4.1'></a>\n",
    "## Этап 4.1. Расчёт прибыли и рисков.\n",
    "\n",
    "В нащем распоряжении имеется значение предсказанного объёмов нефти в каждой скважине и истинные значения объёмов нефти для этих скважин. Так как в пределах бюджета может быть разведано только 200 скважин, в переменных predictions_1, predictions_2 и predictions_3 собраны 500 предсказаний объёмов нефти, построенные моделью, отсортированные в порядке убывания их объёма.\n",
    "\n",
    "Чтобы посчитать прибыль, необходимо посчитать прибыль, которую могла бы получить компания, если бы она разведала 200 определённых моделью скважин и извлекла из них предсказанный объём нефти, и сравнить это значение с прибылью, рассчитанной на истинных данных.\n",
    "\n",
    "Напишем соответствующую функцию, которая будет принимать на вход предсказания и правильные ответы и рассчитывать необходимое значение прибыли."
   ]
  },
  {
   "cell_type": "code",
   "execution_count": 22,
   "metadata": {},
   "outputs": [],
   "source": [
    "def profit(predictions, target):\n",
    "    pred_sorted = predictions.sort_values(ascending=False)\n",
    "    select_points = target.loc[pred_sorted.index][:200]\n",
    "    product = select_points.sum()\n",
    "    revenue = round(((product * income_per_one) / 1000000), 2)\n",
    "    profit = revenue - (budget / 1000000)\n",
    "    \n",
    "    return profit"
   ]
  },
  {
   "cell_type": "markdown",
   "metadata": {},
   "source": [
    "Применим функцию к нашим данным."
   ]
  },
  {
   "cell_type": "code",
   "execution_count": 23,
   "metadata": {},
   "outputs": [
    {
     "name": "stdout",
     "output_type": "stream",
     "text": [
      "Прибыль в 1 регионе: 3.32 млрд.руб.\n"
     ]
    }
   ],
   "source": [
    "print('Прибыль в 1 регионе:', round(profit(predictions_1, target_validate_1), 2), 'млрд.руб.')"
   ]
  },
  {
   "cell_type": "code",
   "execution_count": 24,
   "metadata": {},
   "outputs": [
    {
     "name": "stdout",
     "output_type": "stream",
     "text": [
      "Прибыль во 2 регионе: 2.42 млрд.руб.\n"
     ]
    }
   ],
   "source": [
    "print('Прибыль во 2 регионе:', round(profit(predictions_2, target_validate_2), 2), 'млрд.руб.')"
   ]
  },
  {
   "cell_type": "code",
   "execution_count": 25,
   "metadata": {},
   "outputs": [
    {
     "name": "stdout",
     "output_type": "stream",
     "text": [
      "Прибыль в 3 регионе: 2.71 млрд.руб.\n"
     ]
    }
   ],
   "source": [
    "print('Прибыль в 3 регионе:', round(profit(predictions_3, target_validate_3), 3), 'млрд.руб.')"
   ]
  },
  {
   "cell_type": "markdown",
   "metadata": {},
   "source": [
    "Из расчётов видим, что наиболее прибыльным является 1 регион: при разработке скважин в этом регионе компания получит прибыль в размере 3.32 млрд.руб. млрд.руб. Отмечу, что прибыль в данном случае - это разница между совокупным доходом и бюджетом на освоение региона.\n",
    "\n",
    "Напротив, наименее прибыльным регионом является 2 регион: при разработке скважин в этом регионе компания получит прибыль в размере 2.42 млрд.руб.\n",
    "\n",
    "Однако стоит отметить, что данные величины прибыли получены с допущением, что из всех 25 000 скважин, которые есть в регионе, мы разведываем 200 с наибольшими запасами нефти.\n",
    "\n",
    "На практике такое будет случаться не всегда, поэтому применим бутстрапирование и узнаем более вероятное значение прибыли при разработке месторождений в том или ином регионе, а также вероятность получения прибыли в случае проведения работ в регионе.\n",
    "\n",
    "Для этого построим распределение прибыли, используя бутстрапирование с 1000 выборок: из набора данных с предсказаниями объёма добычи нефти для каждого региона случайным обазом 1000 раз отберём 200 скважин и посчитаем прибыль, которую получит компания при разработке этих скважин. \n",
    "\n",
    "Затем посчитаем среднее значение прибыли из 1000 значений прибыли для бутстрапированных выборок и определим 95%-интервал для этого среднего значения.\n",
    "\n",
    "Напишем соответствующую функцию.\n",
    "\n",
    "Функция будет принимать на вход набор с предсказанными и истинными объёмами запасов нефти в каждой скважине.\n",
    "\n",
    "Алгоритм функции:\n",
    "\n",
    "1. Формирует бутстрапированные выборки в количестве 1000 единиц, при этом в каждой выборке будет по 500 скважин.\n",
    "\n",
    "\n",
    "2. Каждую из 1000 выборок передаёт функции profit, получает из неё значение прибыли и добавляет его в список profit_list.\n",
    "\n",
    "\n",
    "3. Рассчитывает среднее значение бутстрапированной прибыли, 95% доверительный интервал для этого среднего значения, а также стандартную ошибку среднего.\n",
    "\n",
    "\n",
    "4. Дополнительно определяет интервал, в котором будет лежать 95% значений бутстрапированной прибыли, а также размах этого интервала.\n",
    "\n",
    "\n",
    "5. Определяет вероятность получения убытков при работе в исследуемом регионе.\n",
    "\n",
    "\n",
    "6. Визуализирует распределение значений бутстрапированной прибыли."
   ]
  },
  {
   "cell_type": "code",
   "execution_count": 26,
   "metadata": {},
   "outputs": [],
   "source": [
    "def bootstrap(predictions, target):\n",
    "    profit_list = []\n",
    "    state = np.random.RandomState(12345)\n",
    "    for i in range(1000):\n",
    "        target_sample = target.sample(500, replace=True, random_state = state)\n",
    "        predict_sample = predictions.loc[target_sample.index]\n",
    "        profit_list.append(profit(predict_sample, target_sample))\n",
    "    profit_list = pd.Series(profit_list)\n",
    "    confidence_interval = st.t.interval(0.95, len(profit_list)-1, profit_list.mean(), profit_list.sem())\n",
    "    print('Среднее значение бутстрапированной прибыли для данного региона:', round(profit_list.mean(), 2), 'млрд.руб.')\n",
    "    print('95% интервал для среднего значения бутстрапированной прибыли: от', \n",
    "          round(confidence_interval[0], 2), 'млрд.руб. до', round(confidence_interval[1], 2), 'млрд.руб.')\n",
    "    print('Стандартная ошибка среднего:', round(profit_list.sem(), 4), 'млрд.руб.')\n",
    "    print('95% значений бутстрапированной прибыли будет лежать в диапазоне от', \n",
    "          round((profit_list.quantile(0.025)), 2), 'млрд.руб. до', round((profit_list.quantile(0.975)), 2), 'млрд.руб.')\n",
    "    print('Размах этого диапазона:', round((profit_list.quantile(0.975) - profit_list.quantile(0.025)), 2), 'млрд.руб.')\n",
    "    print('Вероятность убытка при проведении работ в регионе:', \\\n",
    "          round(((len([i for i in list(profit_list) if i < 0])) / len(profit_list) * 100), 2), '%')\n",
    "    print('Распределение прибыли из бутстрапированных выборок имеет сделующий вид:')\n",
    "    sns_plot = seaborn.distplot(profit_list)\n",
    "    fig = sns_plot.get_figure()"
   ]
  },
  {
   "cell_type": "markdown",
   "metadata": {},
   "source": [
    "Применим функцию к нашим данным."
   ]
  },
  {
   "cell_type": "code",
   "execution_count": 27,
   "metadata": {},
   "outputs": [
    {
     "name": "stdout",
     "output_type": "stream",
     "text": [
      "Среднее значение бутстрапированной прибыли для данного региона: 0.43 млрд.руб.\n",
      "95% интервал для среднего значения бутстрапированной прибыли: от 0.41 млрд.руб. до 0.44 млрд.руб.\n",
      "Стандартная ошибка среднего: 0.0088 млрд.руб.\n",
      "95% значений бутстрапированной прибыли будет лежать в диапазоне от -0.1 млрд.руб. до 0.95 млрд.руб.\n",
      "Размах этого диапазона: 1.05 млрд.руб.\n",
      "Вероятность убытка при проведении работ в регионе: 5.9 %\n",
      "Распределение прибыли из бутстрапированных выборок имеет сделующий вид:\n"
     ]
    },
    {
     "data": {
      "image/png": "[encoded data removed]",
      "text/plain": [
       "<Figure size 432x288 with 1 Axes>"
      ]
     },
     "metadata": {
      "needs_background": "light"
     },
     "output_type": "display_data"
    }
   ],
   "source": [
    "bootstrap(predictions_1, target_validate_1)"
   ]
  },
  {
   "cell_type": "code",
   "execution_count": 28,
   "metadata": {},
   "outputs": [
    {
     "name": "stdout",
     "output_type": "stream",
     "text": [
      "Среднее значение бутстрапированной прибыли для данного региона: 0.52 млрд.руб.\n",
      "95% интервал для среднего значения бутстрапированной прибыли: от 0.5 млрд.руб. до 0.53 млрд.руб.\n",
      "Стандартная ошибка среднего: 0.0069 млрд.руб.\n",
      "95% значений бутстрапированной прибыли будет лежать в диапазоне от 0.07 млрд.руб. до 0.93 млрд.руб.\n",
      "Размах этого диапазона: 0.86 млрд.руб.\n",
      "Вероятность убытка при проведении работ в регионе: 1.0 %\n",
      "Распределение прибыли из бутстрапированных выборок имеет сделующий вид:\n"
     ]
    },
    {
     "data": {
      "image/png": "[encoded data removed]",
      "text/plain": [
       "<Figure size 432x288 with 1 Axes>"
      ]
     },
     "metadata": {
      "needs_background": "light"
     },
     "output_type": "display_data"
    }
   ],
   "source": [
    "bootstrap(predictions_2, target_validate_2)"
   ]
  },
  {
   "cell_type": "code",
   "execution_count": 29,
   "metadata": {},
   "outputs": [
    {
     "name": "stdout",
     "output_type": "stream",
     "text": [
      "Среднее значение бутстрапированной прибыли для данного региона: 0.43 млрд.руб.\n",
      "95% интервал для среднего значения бутстрапированной прибыли: от 0.42 млрд.руб. до 0.45 млрд.руб.\n",
      "Стандартная ошибка среднего: 0.0089 млрд.руб.\n",
      "95% значений бутстрапированной прибыли будет лежать в диапазоне от -0.13 млрд.руб. до 0.97 млрд.руб.\n",
      "Размах этого диапазона: 1.1 млрд.руб.\n",
      "Вероятность убытка при проведении работ в регионе: 6.3 %\n",
      "Распределение прибыли из бутстрапированных выборок имеет сделующий вид:\n"
     ]
    },
    {
     "data": {
      "image/png": "[encoded data removed]",
      "text/plain": [
       "<Figure size 432x288 with 1 Axes>"
      ]
     },
     "metadata": {
      "needs_background": "light"
     },
     "output_type": "display_data"
    }
   ],
   "source": [
    "bootstrap(predictions_3, target_validate_3)"
   ]
  },
  {
   "cell_type": "markdown",
   "metadata": {},
   "source": [
    "Наибольшее среднее значение бутстрапированной прибыли удалось достичь во 2 регионе: для данного региона среднее значение прибыли составило 0.52 млрд.руб. При этом с вероятностью в 95% истинное среднее значение прибыли для 2 региона лежит в диапазоне от 0.50 млрд.руб. до 0.53 млрд.руб. при стандартной ошибке среднего в 0.0069 млрд.руб. 95% значений бутстрапированной прибыли будет лежать в диапазоне от от 0.07 млрд.руб. до 0.93 млрд.руб., размах этого диапазона: 0.86 млрд.руб.\n",
    "Вероятность получить убыток при разработке месторождений в этом регионе составляет 1%. Таким образом, регион, для которого модель сделала умеренно-консервативный прогноз, оказался наименее рискованным среди других регионов.\n",
    "\n",
    "Так, например, в 3 регионе, который был ранее признан регионом с наиболее высоким риском, среднее значение бутстрапированной прибыли составило 0.43 млрд.руб. При этом с вероятностью в 95% истинное среднее значение прибыли для 3 региона лежит в диапазоне от 0.42 млрд.руб. до 0.45 млрд.руб. при стандартной ошибке среднего в 0.0089 млрд.руб. 95% значений бутстрапированной прибыли будет лежать в диапазоне от -0.13 млрд.руб. до 0.97 млрд.руб., размах этого диапазона: 1.1 млрд.руб.\n",
    "Вероятность получить убыток при разработке месторождений в этом регионе составляет 6.3%. \n",
    "\n",
    "Отмечу также, что на данном этапе мы можем наблюдать справедливость центральной предельной теоремы: если многократно извлекать из совокупности выборки равного размера и рассчитывать по ним выборочные средние, эти средние нормально распределятся вокруг среднего генеральной совокупности со стандартной ошибкой среднего. Соответственно, чем меньше стандартная ошибка, тем более надёжен доверительный интервал для среднего значения.\n",
    "\n",
    "Таким образом, учитывая анализ прибыльности каждого из регионов, а также сопряжённые с работой в регионах риски, можно говорить о том, что наиболее подходящим для разработки месторождений будет 2 регион: для этого региона характерно наибольшее среди других регионов среднее значение бутстрапированной прибыли, при этом доверительный интервал для истинного среднего значения бутстрапированной прибыли уже, чем интервалы для других регионов. Также для этого региона характерна наименьшая вероятность получения убытка."
   ]
  },
  {
   "cell_type": "markdown",
   "metadata": {},
   "source": [
    "# Вывод по этапу 4.\n",
    "\n",
    "На данном этапе мы рассчитали возможную прибыль от разработки регионов и оценили риски проведения работ в этих регионах.\n",
    "\n",
    "Наибольшее среднее значение бутстрапированной прибыли удалось достичь во 2 регионе: для данного региона среднее значение прибыли составило 0.52 млрд.руб. При этом с вероятностью в 95% истинное среднее значение прибыли для 2 региона лежит в диапазоне от 0.50 млрд.руб. до 0.53 млрд.руб. при стандартной ошибке среднего в 0.0069 млрд.руб. 95% значений бутстрапированной прибыли будет лежать в диапазоне от от 0.07 млрд.руб. до 0.93 млрд.руб., размах этого диапазона: 0.86 млрд.руб.\n",
    "Вероятность получить убыток при разработке месторождений в этом регионе составляет 1%. Таким образом, регион, для которого модель сделала умеренно-консервативный прогноз, оказался наименее рискованным среди других регионов.\n",
    "\n",
    "В 3 регионе, который был ранее признан регионом с наиболее высоким риском, среднее значение бутстрапированной прибыли составило 0.43 млрд.руб. При этом с вероятностью в 95% истинное среднее значение прибыли для 3 региона лежит в диапазоне от 0.42 млрд.руб. до 0.45 млрд.руб. при стандартной ошибке среднего в 0.0089 млрд.руб. 95% значений бутстрапированной прибыли будет лежать в диапазоне от -0.13 млрд.руб. до 0.97 млрд.руб., размах этого диапазона: 1.1 млрд.руб.\n",
    "Вероятность получить убыток при разработке месторождений в этом регионе составляет 6.3%. \n",
    "\n",
    "Таким образом, учитывая анализ прибыльности каждого из регионов, а также сопряжённые с работой в регионах риски, можно говорить о том, что наиболее подходящим для разработки месторождений будет 2 регион: для этого региона характерно наибольшее среди других регионов среднее значение бутстрапированной прибыли, при этом доверительный интервал для истинного среднего значения бутстрапированной прибыли уже, чем интервалы для других регионов. Также для этого региона характерна наименьшая вероятность получения убытка.\n",
    "\n",
    "<a href='#title'>К оглавлению.</a>"
   ]
  },
  {
   "cell_type": "markdown",
   "metadata": {},
   "source": [
    "# Итоговый вывод по проекту.\n",
    "\n",
    "Основываясь на данных добывающей компании «ГлавРосГосНефть», необходимо было решить, в каком из трёх предложенных регионов лучше всего бурить новые скважины.\n",
    "\n",
    "Для исследования были предоставлены пробы нефти в трёх регионах: в каждом 10 000 месторождений, где измерили качество нефти и объём её запасов. \n",
    "\n",
    "Необходимо было построить модель машинного обучения, основанную на алгоритме линейной регрессии, которая поможет определить регион, где добыча принесёт наибольшую прибыль.\n",
    "\n",
    "Работа над проектом велась в несколько этапов:\n",
    "\n",
    "1. Импорт необходимых библиотек, чтение набора данных, его первичный анализ.\n",
    "\n",
    "\n",
    "2. Обучение и проверка модели.\n",
    "\n",
    "\n",
    "3. Подготовка к расчёту прибыли.\n",
    "\n",
    "\n",
    "4. Расчёт прибыли и рисков.\n",
    "\n",
    "Отметим основные выводы: \n",
    "\n",
    "### Этап 1.\n",
    "\n",
    "На данном этапе мы импортировали необходимые библиотеки, а также считали и проанализировали предоставленные наборы данных.\n",
    "\n",
    "Можно отметить, что в наборе данных представлены пробы нефти в трёх регионах. По атрибутному составу наборы данных идентичны друг другу: все три набора данных содержат id скважины, 3 параметра, описывающие некоторые характеристики скважин, а также объём запасов нефти в скважине (в тыс. баррелей). \n",
    "\n",
    "Каждый набор данных сожержит по 100 тыс. наблюдений. \n",
    "\n",
    "Данные не содержат аномалий, дубликатов или пропущенных значений, поэтому их предварительная обработка не требуется.\n",
    "\n",
    "### Этап 2.\n",
    "\n",
    "На данном этапе было произведено разделение наборов данных на тренировочную и валидационную части в соотношении 75% : 25%. Для разделения наборов данных на выборки была написана соответствующая функция.\n",
    "\n",
    "Также для предсказания объёмов добычи нефти для всех трёх регионов была построеная модель линейной регрессии, для каждого региона был посчитан средний запас предсказанного сырья, а также определена метрика RMSE. Соответствующие метрики были сохранены в определённые переменные. Этот функционал также был реализован с помощью функции. При этом прогноз, построенный моделью, был отсортирован по убыванию объёмов добычи нефти, и RMSE и средний запас предсказанного сырья были оценены для топ-200 месторождений.\n",
    "\n",
    "Наиболее оптимальное предсказание было построено для второго региона. Предсказанный средний запас сырья составил 68.73 тыс.баррелей, при этом данное предсказание отличается низким значением ошибки: в среднем, при предсказывании объёма добычи нефти в скважине ошибка модели составляет 0.89 тыс.баррелей. \n",
    "\n",
    "Можно сказать, что данный прогноз является консервативным: он предсказывает меньшие по сравнению с другими регионами объёмы добычи нефти, однако это предсказание более точное относительно других регионов.\n",
    "\n",
    "Венчурным регионом - регионом с наибольшим риском - можно назвать 3 регион: модель предсказала средний объём добываемой нефти в размере 94.97 тыс.баррелей, при этом в среднем модель ошибается на 40.03 тыс.баррелей при предсказании объёма добычи нефти. Таким образом, модель предсказывает достаточно высокие объёмы добычи нефти относительно консервативной модели, однако эта модель допускает более высокую погрешность при предсказаннии объёмов добычи нефти. \n",
    "\n",
    "### Этап 3.\n",
    "\n",
    "На данном этапе мы зафиксировали ряд констант, которые пригодятся при расчёте прибыли и рисков, а также определили точку безубыточности и другие бизнес-метрики, на основе которых можно принять решение о регионе, в котором будут вестись работы по разработке месторождений.\n",
    "\n",
    "По результатам расчётов видим, что для достижения точки безубыточности компании нужно разведать не менее 141 месторождения в 1 регионе, не менее 161 месторождения во 2 регионе и не менее 149 месторождений в 3 регионе. \n",
    "\n",
    "При этом в каждой скважине, в среднем, должно быть около 157.93 тыс.баррелей нефти, 138.8 тыс.баррелей нефти и 149.71 тыс.баррелей нефти в 1, 2 и 3 регионах соответственно.\n",
    "\n",
    "Построенная модель предсказала средние запасы нефти в скважине в 148.37 тыс.баррелей нефти для 1 региона, в 138.39 тыс.баррелей нефти для 2 региона и 142.33 тыс.баррелей нефти для 3 региона.\n",
    "\n",
    "Таким образом, видно, что требуемый для достижения точки безубыточности предсказанный средний объём нефти в скважине при заданном количестве месторождений и необходимом объёме нефти в каждом из них недостаточен для выхода в точку безубыточности в каждом из регионов.\n",
    "\n",
    "Однако известно, что при предсказании объёмов нефти модель, в среднем, ошибается на 28.23 тыс.баррелей нефти в 1 регионе, на 0.58 тыс.баррелей нефти во 2 регионе и на 30.76 тыс.баррелей нефти в 3 регионе. \n",
    "\n",
    "Также мы видим, что при указанном количестве скважин, необходимых к разработке, а также при требуемом среднем объёме запасов нефти в каждой скважине, компания получит доход в размере 10.02 млрд.руб., 10.06 млрд.руб. и 10.04 млрд.руб. в 1, 2 и 3 регионах соответственно. Это на 0.02 млрд.руб., 0.06 млрд.руб. и 0.04 млрд.руб. больше, чем требуется для достижения точки безубыточности, в 1, 2 и 3 регионах соответственно.\n",
    "\n",
    "Таким образом, если предположить, что модель при предсказании объёма нефти в скважине занижает предсказанный объём на величину стандартной ошибки, а также переход за точку безубыточности на 0.02 млрд.руб., 0.06 млрд.руб. и 0.04 млрд.руб. в 1, 2 и 3 регионах соответственно при заданных параметрах, можно говорить о том, что точка средних запасов нефти в скважине, предсказанных моделью, должно хватить для достижения точки безубыточности на 141 месторождении в 1 регионе, на 161 месторождении во 2 регионе и на 149 месторождении в 3 регионе. \n",
    "\n",
    "При этом в 1 регионе останется ещё 59 скважин для разработки, во 3 регионе - 39, в 3 регионе - 51.\n",
    "\n",
    "Разработка каждой новой скважины в 1 регионе принесёт компании 0.07 млрд.руб, во 2 регионе - 0.06 млрд.руб., в 3 регионе - 0.07 млрд.руб.\n",
    "\n",
    "Разработка всех оставшихся скважин в 1 регионе принесёт компании 3.94 млрд.руб., во 2 регионе - 2.43 млрд.руб., в 3 регионе - 3.27 млрд.руб.\n",
    "\n",
    "### Этап 4.\n",
    "\n",
    "На данном этапе мы рассчитали возможную прибыль от разработки регионов и оценили риски проведения работ в этих регионах.\n",
    "\n",
    "Наибольшее среднее значение бутстрапированной прибыли удалось достичь во 2 регионе: для данного региона среднее значение прибыли составило 0.52 млрд.руб. При этом с вероятностью в 95% истинное среднее значение прибыли для 2 региона лежит в диапазоне от 0.50 млрд.руб. до 0.53 млрд.руб. при стандартной ошибке среднего в 0.0069 млрд.руб. 95% значений бутстрапированной прибыли будет лежать в диапазоне от от 0.07 млрд.руб. до 0.93 млрд.руб., размах этого диапазона: 0.86 млрд.руб.\n",
    "Вероятность получить убыток при разработке месторождений в этом регионе составляет 1%. Таким образом, регион, для которого модель сделала умеренно-консервативный прогноз, оказался наименее рискованным среди других регионов.\n",
    "\n",
    "В 3 регионе, который был ранее признан регионом с наиболее высоким риском, среднее значение бутстрапированной прибыли составило 0.43 млрд.руб. При этом с вероятностью в 95% истинное среднее значение прибыли для 3 региона лежит в диапазоне от 0.42 млрд.руб. до 0.45 млрд.руб. при стандартной ошибке среднего в 0.0089 млрд.руб. 95% значений бутстрапированной прибыли будет лежать в диапазоне от -0.13 млрд.руб. до 0.97 млрд.руб., размах этого диапазона: 1.1 млрд.руб.\n",
    "Вероятность получить убыток при разработке месторождений в этом регионе составляет 6.3%. \n",
    "\n",
    "Таким образом, учитывая анализ прибыльности каждого из регионов, а также сопряжённые с работой в регионах риски, можно говорить о том, что наиболее подходящим для разработки месторождений будет 2 регион: для этого региона характерно наибольшее среди других регионов среднее значение бутстрапированной прибыли, при этом доверительный интервал для истинного среднего значения бутстрапированной прибыли уже, чем интервалы для других регионов. Также для этого региона характерна наименьшая вероятность получения убытка.\n",
    "\n",
    "<a href='#title'>К оглавлению.</a>"
   ]
  }
 ],
 "metadata": {
  "kernelspec": {
   "display_name": "Python 3",
   "language": "python",
   "name": "python3"
  },
  "language_info": {
   "codemirror_mode": {
    "name": "ipython",
    "version": 3
   },
   "file_extension": ".py",
   "mimetype": "text/x-python",
   "name": "python",
   "nbconvert_exporter": "python",
   "pygments_lexer": "ipython3",
   "version": "3.8.3"
  },
  "toc": {
   "base_numbering": 1,
   "nav_menu": {},
   "number_sections": true,
   "sideBar": true,
   "skip_h1_title": true,
   "title_cell": "Table of Contents",
   "title_sidebar": "Contents",
   "toc_cell": false,
   "toc_position": {},
   "toc_section_display": true,
   "toc_window_display": false
  }
 },
 "nbformat": 4,
 "nbformat_minor": 2
}
