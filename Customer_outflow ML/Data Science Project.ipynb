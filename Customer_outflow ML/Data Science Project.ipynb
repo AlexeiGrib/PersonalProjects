{
 "cells": [
  {
   "cell_type": "markdown",
   "metadata": {},
   "source": [
    "<a id='title'></a> \n",
    "# Описание проекта \"Отток клиентов\".\n",
    "\n",
    "Из «Бета-Банка» стали уходить клиенты. Каждый месяц. Немного, но заметно. Банковские маркетологи посчитали: сохранять текущих клиентов дешевле, чем привлекать новых.\n",
    "\n",
    "Нужно спрогнозировать, уйдёт клиент из банка в ближайшее время или нет. В качестве материала для исследования предоставлены исторические данные о поведении клиентов и о расторжении ими договоров с банком. \n",
    "\n",
    "Требуется построить модель с предельно большим значением **F1-меры**. Чтобы сдать проект успешно, нужно довести метрику до **0.59**. Проверить **F1-меру** на тестовой выборке необходимо самостоятельно.\n",
    "\n",
    "Дополнительно необходимо измерить **ROC-AUC** и сравнить значение этой метрики со значением **F1-меры**.\n",
    "\n",
    "Работу над проектом будем проводить по следующему плану:\n",
    "\n",
    "### Этап 1. Импорт необходимых библиотек, чтение набора данных, его первичный анализ:\n",
    "\n",
    "<a href='#1.1'>1.1. Импорт необходимых библиотек, чтение набора данных, его первичный анализ.</a> \n",
    "\n",
    "### Этап 2. Исследование данных и их подготовка к моделированию:\n",
    "\n",
    "<a href='#2.1'>2.1. Удаление лишних признаков.</a> \n",
    "\n",
    "<a href='#2.2'>2.2. Преобразование категориальных признаков в дамми-признаки.</a> \n",
    "\n",
    "<a href='#2.3'>2.3. Анализ зависимостей между признаками.</a> \n",
    "\n",
    "<a href='#2.4'>2.4. Разделение набора данных на тренировочную, валидационную и тестовую выборки.</a> \n",
    "\n",
    "<a href='#2.5'>2.5. Масштабирование количественных признаков.</a>  \n",
    "\n",
    "<a href='#2.6'>2.6. Балансировка классов.</a> \n",
    "\n",
    "<a href='#2.6.1'>2.6.1. Балансировка классов техникой upsample.</a> \n",
    "\n",
    "<a href='#2.6.2'>2.6.2. Балансировка классов техникой downsample.</a> \n",
    "\n",
    "### Этап 3. Моделирование.\n",
    "\n",
    "<a href='#3.1'>3.1. Исследование модели, основанной на алгоритме логистической регрессии.</a> \n",
    "\n",
    "<a href='#3.1.1'>3.1.1. Исследование модели, основанной на алгоритме логистической регрессии.</a>\n",
    "\n",
    "<a href='#3.1.2'>3.1.2. Исследование модели, основанной на алгоритме логистической регрессии.</a>\n",
    "\n",
    "<a href='#3.1.3'>3.1.3. Исследование модели, основанной на алгоритме логистической регрессии.</a>\n",
    "\n",
    "<a href='#3.1.4'>3.1.4. Исследование модели, основанной на алгоритме логистической регрессии.</a>\n",
    "\n",
    "<a href='#3.1'>3.1. Исследование модели, основанной на алгоритме логистической регрессии.</a> \n",
    "\n",
    "<a href='#3.1.1'>3.1.1. Исследование модели, основанной на алгоритме логистической регрессии и обученной на выборке с дисбалансом классов.</a>\n",
    "\n",
    "<a href='#3.1.2'>3.1.2. Исследование модели, основанной на алгоритме логистической регрессии с взвешинванием классов и обученной на выборке с дисбалансом классов.</a>\n",
    "\n",
    "<a href='#3.1.3'>3.1.3. Исследование модели, основанной на алгоритме логистической регрессии и обученной на выборке с балансом классов (downsampling).</a>\n",
    "\n",
    "<a href='#3.1.4'>3.1.4. Исследование модели, основанной на алгоритме логистической регрессии и обученной на выборке с балансом классов (upsampling).</a>\n",
    "\n",
    "<a href='#3.2'>3.2. Исследование модели, основанной на алгоритме дерева решений.</a> \n",
    "\n",
    "<a href='#3.2.1'>3.2.1. Исследование модели, основанной на алгоритме дерева решений и обученной на выборке с дисбалансом классов.</a>\n",
    "\n",
    "<a href='#3.2.2'>3.2.2. Исследование модели, основанной на алгоритме дерева решений с взвешинванием классов и обученной на выборке с дисбалансом классов.</a>\n",
    "\n",
    "<a href='#3.2.3'>3.2.3. Исследование модели, основанной на алгоритме дерева решений и обученной на выборке с балансом классов (downsampling).</a>\n",
    "\n",
    "<a href='#3.2.4'>3.2.4. Исследование модели, основанной на алгоритме дерева решений и обученной на выборке с балансом классов (upsampling).</a>\n",
    "\n",
    "<a href='#3.3'>3.3. Исследование модели, основанной на алгоритме случайного леса.</a> \n",
    "\n",
    "<a href='#3.3.1'>3.3.1. Исследование модели, основанной на алгоритме случайного леса и обученной на выборке с дисбалансом классов.</a>\n",
    "\n",
    "<a href='#3.3.2'>3.3.2. Исследование модели, основанной на алгоритме случайного леса с взвешинванием классов и обученной на выборке с дисбалансом классов.</a>\n",
    "\n",
    "<a href='#3.3.3'>3.3.3. Исследование модели, основанной на алгоритме случайного леса и обученной на выборке с балансом классов (downsampling).</a>\n",
    "\n",
    "<a href='#3.3.4'>3.3.4. Исследование модели, основанной на алгоритме случайного леса и обученной на выборке с балансом классов (upsampling).</a>"
   ]
  },
  {
   "cell_type": "markdown",
   "metadata": {},
   "source": [
    "# Этап 1. Импорт необходимых библиотек, чтение набора данных, его первичный анализ."
   ]
  },
  {
   "cell_type": "markdown",
   "metadata": {},
   "source": [
    "<a id='1.1'></a> \n",
    "## Этап 1.1. Импорт необходимых библиотек, чтение набора данных, его первичный анализ.\n",
    "\n",
    "Сначала импортируем нужные библиотеки."
   ]
  },
  {
   "cell_type": "code",
   "execution_count": 1,
   "metadata": {},
   "outputs": [],
   "source": [
    "import pandas as pd\n",
    "import numpy as np\n",
    "from sklearn.model_selection import train_test_split\n",
    "from sklearn.preprocessing import StandardScaler\n",
    "from sklearn.utils import shuffle\n",
    "from sklearn.ensemble import RandomForestClassifier\n",
    "from sklearn.tree import DecisionTreeClassifier\n",
    "from sklearn.linear_model import LogisticRegression\n",
    "from sklearn.metrics import f1_score\n",
    "from sklearn.metrics import precision_score\n",
    "from sklearn.metrics import recall_score\n",
    "from sklearn.metrics import roc_auc_score\n",
    "from sklearn.metrics import roc_curve\n",
    "from sklearn.metrics import precision_recall_curve\n",
    "from sklearn.metrics import confusion_matrix\n",
    "import matplotlib.pyplot as plt\n",
    "import warnings\n",
    "warnings.filterwarnings(\"ignore\")\n",
    "from random import randint\n",
    "from random import random"
   ]
  },
  {
   "cell_type": "markdown",
   "metadata": {},
   "source": [
    "Так как согласно описанию одно поле в наборе данных - поле **RowNumber** - является описанием индекса строки в данных, передадим это поле в качестве аргумента параметру index_col при чтении набора данных."
   ]
  },
  {
   "cell_type": "code",
   "execution_count": 2,
   "metadata": {},
   "outputs": [],
   "source": [
    "df = pd.read_csv('Churn_Modelling.csv', index_col = 0)"
   ]
  },
  {
   "cell_type": "markdown",
   "metadata": {},
   "source": [
    "Для изучения данных напишем функцию, которая будет принимать на вход набор данных и отображать информацию о нём: первые 10 строк набора данных, типы содержащихся в нём данных, его размер, наличие пропусков и дубликатов, а также уникальные значения в каждом из полей."
   ]
  },
  {
   "cell_type": "code",
   "execution_count": 3,
   "metadata": {},
   "outputs": [],
   "source": [
    "def df_info(df):\n",
    "    print('Первые 10 строк DF')\n",
    "    display(df.head(10))\n",
    "    print('Общая информация о DF')\n",
    "    display(df.info())\n",
    "    print('Размер df:', df.shape)\n",
    "    print()\n",
    "    print('Пропуски в df')\n",
    "    display(df.isna().sum())\n",
    "    print('Количество дубликатов в df:', df.duplicated().sum())\n",
    "    print()\n",
    "    for col in df.columns:\n",
    "        print('*** Поле', col + ': уникальные значения ***')\n",
    "        display(df[col].value_counts())"
   ]
  },
  {
   "cell_type": "markdown",
   "metadata": {},
   "source": [
    "Применим функцию к набору данных."
   ]
  },
  {
   "cell_type": "code",
   "execution_count": 4,
   "metadata": {},
   "outputs": [
    {
     "name": "stdout",
     "output_type": "stream",
     "text": [
      "Первые 10 строк DF\n"
     ]
    },
    {
     "data": {
      "text/html": [
       "<div>\n",
       "<style scoped>\n",
       "    .dataframe tbody tr th:only-of-type {\n",
       "        vertical-align: middle;\n",
       "    }\n",
       "\n",
       "    .dataframe tbody tr th {\n",
       "        vertical-align: top;\n",
       "    }\n",
       "\n",
       "    .dataframe thead th {\n",
       "        text-align: right;\n",
       "    }\n",
       "</style>\n",
       "<table border=\"1\" class=\"dataframe\">\n",
       "  <thead>\n",
       "    <tr style=\"text-align: right;\">\n",
       "      <th></th>\n",
       "      <th>CustomerId</th>\n",
       "      <th>Surname</th>\n",
       "      <th>CreditScore</th>\n",
       "      <th>Geography</th>\n",
       "      <th>Gender</th>\n",
       "      <th>Age</th>\n",
       "      <th>Tenure</th>\n",
       "      <th>Balance</th>\n",
       "      <th>NumOfProducts</th>\n",
       "      <th>HasCrCard</th>\n",
       "      <th>IsActiveMember</th>\n",
       "      <th>EstimatedSalary</th>\n",
       "      <th>Exited</th>\n",
       "    </tr>\n",
       "    <tr>\n",
       "      <th>RowNumber</th>\n",
       "      <th></th>\n",
       "      <th></th>\n",
       "      <th></th>\n",
       "      <th></th>\n",
       "      <th></th>\n",
       "      <th></th>\n",
       "      <th></th>\n",
       "      <th></th>\n",
       "      <th></th>\n",
       "      <th></th>\n",
       "      <th></th>\n",
       "      <th></th>\n",
       "      <th></th>\n",
       "    </tr>\n",
       "  </thead>\n",
       "  <tbody>\n",
       "    <tr>\n",
       "      <td>1</td>\n",
       "      <td>15634602</td>\n",
       "      <td>Hargrave</td>\n",
       "      <td>619</td>\n",
       "      <td>France</td>\n",
       "      <td>Female</td>\n",
       "      <td>42</td>\n",
       "      <td>2</td>\n",
       "      <td>0.00</td>\n",
       "      <td>1</td>\n",
       "      <td>1</td>\n",
       "      <td>1</td>\n",
       "      <td>101348.88</td>\n",
       "      <td>1</td>\n",
       "    </tr>\n",
       "    <tr>\n",
       "      <td>2</td>\n",
       "      <td>15647311</td>\n",
       "      <td>Hill</td>\n",
       "      <td>608</td>\n",
       "      <td>Spain</td>\n",
       "      <td>Female</td>\n",
       "      <td>41</td>\n",
       "      <td>1</td>\n",
       "      <td>83807.86</td>\n",
       "      <td>1</td>\n",
       "      <td>0</td>\n",
       "      <td>1</td>\n",
       "      <td>112542.58</td>\n",
       "      <td>0</td>\n",
       "    </tr>\n",
       "    <tr>\n",
       "      <td>3</td>\n",
       "      <td>15619304</td>\n",
       "      <td>Onio</td>\n",
       "      <td>502</td>\n",
       "      <td>France</td>\n",
       "      <td>Female</td>\n",
       "      <td>42</td>\n",
       "      <td>8</td>\n",
       "      <td>159660.80</td>\n",
       "      <td>3</td>\n",
       "      <td>1</td>\n",
       "      <td>0</td>\n",
       "      <td>113931.57</td>\n",
       "      <td>1</td>\n",
       "    </tr>\n",
       "    <tr>\n",
       "      <td>4</td>\n",
       "      <td>15701354</td>\n",
       "      <td>Boni</td>\n",
       "      <td>699</td>\n",
       "      <td>France</td>\n",
       "      <td>Female</td>\n",
       "      <td>39</td>\n",
       "      <td>1</td>\n",
       "      <td>0.00</td>\n",
       "      <td>2</td>\n",
       "      <td>0</td>\n",
       "      <td>0</td>\n",
       "      <td>93826.63</td>\n",
       "      <td>0</td>\n",
       "    </tr>\n",
       "    <tr>\n",
       "      <td>5</td>\n",
       "      <td>15737888</td>\n",
       "      <td>Mitchell</td>\n",
       "      <td>850</td>\n",
       "      <td>Spain</td>\n",
       "      <td>Female</td>\n",
       "      <td>43</td>\n",
       "      <td>2</td>\n",
       "      <td>125510.82</td>\n",
       "      <td>1</td>\n",
       "      <td>1</td>\n",
       "      <td>1</td>\n",
       "      <td>79084.10</td>\n",
       "      <td>0</td>\n",
       "    </tr>\n",
       "    <tr>\n",
       "      <td>6</td>\n",
       "      <td>15574012</td>\n",
       "      <td>Chu</td>\n",
       "      <td>645</td>\n",
       "      <td>Spain</td>\n",
       "      <td>Male</td>\n",
       "      <td>44</td>\n",
       "      <td>8</td>\n",
       "      <td>113755.78</td>\n",
       "      <td>2</td>\n",
       "      <td>1</td>\n",
       "      <td>0</td>\n",
       "      <td>149756.71</td>\n",
       "      <td>1</td>\n",
       "    </tr>\n",
       "    <tr>\n",
       "      <td>7</td>\n",
       "      <td>15592531</td>\n",
       "      <td>Bartlett</td>\n",
       "      <td>822</td>\n",
       "      <td>France</td>\n",
       "      <td>Male</td>\n",
       "      <td>50</td>\n",
       "      <td>7</td>\n",
       "      <td>0.00</td>\n",
       "      <td>2</td>\n",
       "      <td>1</td>\n",
       "      <td>1</td>\n",
       "      <td>10062.80</td>\n",
       "      <td>0</td>\n",
       "    </tr>\n",
       "    <tr>\n",
       "      <td>8</td>\n",
       "      <td>15656148</td>\n",
       "      <td>Obinna</td>\n",
       "      <td>376</td>\n",
       "      <td>Germany</td>\n",
       "      <td>Female</td>\n",
       "      <td>29</td>\n",
       "      <td>4</td>\n",
       "      <td>115046.74</td>\n",
       "      <td>4</td>\n",
       "      <td>1</td>\n",
       "      <td>0</td>\n",
       "      <td>119346.88</td>\n",
       "      <td>1</td>\n",
       "    </tr>\n",
       "    <tr>\n",
       "      <td>9</td>\n",
       "      <td>15792365</td>\n",
       "      <td>He</td>\n",
       "      <td>501</td>\n",
       "      <td>France</td>\n",
       "      <td>Male</td>\n",
       "      <td>44</td>\n",
       "      <td>4</td>\n",
       "      <td>142051.07</td>\n",
       "      <td>2</td>\n",
       "      <td>0</td>\n",
       "      <td>1</td>\n",
       "      <td>74940.50</td>\n",
       "      <td>0</td>\n",
       "    </tr>\n",
       "    <tr>\n",
       "      <td>10</td>\n",
       "      <td>15592389</td>\n",
       "      <td>H?</td>\n",
       "      <td>684</td>\n",
       "      <td>France</td>\n",
       "      <td>Male</td>\n",
       "      <td>27</td>\n",
       "      <td>2</td>\n",
       "      <td>134603.88</td>\n",
       "      <td>1</td>\n",
       "      <td>1</td>\n",
       "      <td>1</td>\n",
       "      <td>71725.73</td>\n",
       "      <td>0</td>\n",
       "    </tr>\n",
       "  </tbody>\n",
       "</table>\n",
       "</div>"
      ],
      "text/plain": [
       "           CustomerId   Surname  CreditScore Geography  Gender  Age  Tenure  \\\n",
       "RowNumber                                                                     \n",
       "1            15634602  Hargrave          619    France  Female   42       2   \n",
       "2            15647311      Hill          608     Spain  Female   41       1   \n",
       "3            15619304      Onio          502    France  Female   42       8   \n",
       "4            15701354      Boni          699    France  Female   39       1   \n",
       "5            15737888  Mitchell          850     Spain  Female   43       2   \n",
       "6            15574012       Chu          645     Spain    Male   44       8   \n",
       "7            15592531  Bartlett          822    France    Male   50       7   \n",
       "8            15656148    Obinna          376   Germany  Female   29       4   \n",
       "9            15792365        He          501    France    Male   44       4   \n",
       "10           15592389        H?          684    France    Male   27       2   \n",
       "\n",
       "             Balance  NumOfProducts  HasCrCard  IsActiveMember  \\\n",
       "RowNumber                                                        \n",
       "1               0.00              1          1               1   \n",
       "2           83807.86              1          0               1   \n",
       "3          159660.80              3          1               0   \n",
       "4               0.00              2          0               0   \n",
       "5          125510.82              1          1               1   \n",
       "6          113755.78              2          1               0   \n",
       "7               0.00              2          1               1   \n",
       "8          115046.74              4          1               0   \n",
       "9          142051.07              2          0               1   \n",
       "10         134603.88              1          1               1   \n",
       "\n",
       "           EstimatedSalary  Exited  \n",
       "RowNumber                           \n",
       "1                101348.88       1  \n",
       "2                112542.58       0  \n",
       "3                113931.57       1  \n",
       "4                 93826.63       0  \n",
       "5                 79084.10       0  \n",
       "6                149756.71       1  \n",
       "7                 10062.80       0  \n",
       "8                119346.88       1  \n",
       "9                 74940.50       0  \n",
       "10                71725.73       0  "
      ]
     },
     "metadata": {},
     "output_type": "display_data"
    },
    {
     "name": "stdout",
     "output_type": "stream",
     "text": [
      "Общая информация о DF\n",
      "<class 'pandas.core.frame.DataFrame'>\n",
      "Int64Index: 10000 entries, 1 to 10000\n",
      "Data columns (total 13 columns):\n",
      "CustomerId         10000 non-null int64\n",
      "Surname            10000 non-null object\n",
      "CreditScore        10000 non-null int64\n",
      "Geography          10000 non-null object\n",
      "Gender             10000 non-null object\n",
      "Age                10000 non-null int64\n",
      "Tenure             10000 non-null int64\n",
      "Balance            10000 non-null float64\n",
      "NumOfProducts      10000 non-null int64\n",
      "HasCrCard          10000 non-null int64\n",
      "IsActiveMember     10000 non-null int64\n",
      "EstimatedSalary    10000 non-null float64\n",
      "Exited             10000 non-null int64\n",
      "dtypes: float64(2), int64(8), object(3)\n",
      "memory usage: 1.1+ MB\n"
     ]
    },
    {
     "data": {
      "text/plain": [
       "None"
      ]
     },
     "metadata": {},
     "output_type": "display_data"
    },
    {
     "name": "stdout",
     "output_type": "stream",
     "text": [
      "Размер df: (10000, 13)\n",
      "\n",
      "Пропуски в df\n"
     ]
    },
    {
     "data": {
      "text/plain": [
       "CustomerId         0\n",
       "Surname            0\n",
       "CreditScore        0\n",
       "Geography          0\n",
       "Gender             0\n",
       "Age                0\n",
       "Tenure             0\n",
       "Balance            0\n",
       "NumOfProducts      0\n",
       "HasCrCard          0\n",
       "IsActiveMember     0\n",
       "EstimatedSalary    0\n",
       "Exited             0\n",
       "dtype: int64"
      ]
     },
     "metadata": {},
     "output_type": "display_data"
    },
    {
     "name": "stdout",
     "output_type": "stream",
     "text": [
      "Количество дубликатов в df: 0\n",
      "\n",
      "*** Поле CustomerId: уникальные значения ***\n"
     ]
    },
    {
     "data": {
      "text/plain": [
       "15812607    1\n",
       "15741078    1\n",
       "15635776    1\n",
       "15740223    1\n",
       "15738174    1\n",
       "           ..\n",
       "15743714    1\n",
       "15639265    1\n",
       "15641312    1\n",
       "15684319    1\n",
       "15695872    1\n",
       "Name: CustomerId, Length: 10000, dtype: int64"
      ]
     },
     "metadata": {},
     "output_type": "display_data"
    },
    {
     "name": "stdout",
     "output_type": "stream",
     "text": [
      "*** Поле Surname: уникальные значения ***\n"
     ]
    },
    {
     "data": {
      "text/plain": [
       "Smith      32\n",
       "Scott      29\n",
       "Martin     29\n",
       "Walker     28\n",
       "Brown      26\n",
       "           ..\n",
       "Barbour     1\n",
       "Burgos      1\n",
       "Kaleski     1\n",
       "Foley       1\n",
       "Lawley      1\n",
       "Name: Surname, Length: 2932, dtype: int64"
      ]
     },
     "metadata": {},
     "output_type": "display_data"
    },
    {
     "name": "stdout",
     "output_type": "stream",
     "text": [
      "*** Поле CreditScore: уникальные значения ***\n"
     ]
    },
    {
     "data": {
      "text/plain": [
       "850    233\n",
       "678     63\n",
       "655     54\n",
       "705     53\n",
       "667     53\n",
       "      ... \n",
       "419      1\n",
       "417      1\n",
       "373      1\n",
       "365      1\n",
       "401      1\n",
       "Name: CreditScore, Length: 460, dtype: int64"
      ]
     },
     "metadata": {},
     "output_type": "display_data"
    },
    {
     "name": "stdout",
     "output_type": "stream",
     "text": [
      "*** Поле Geography: уникальные значения ***\n"
     ]
    },
    {
     "data": {
      "text/plain": [
       "France     5014\n",
       "Germany    2509\n",
       "Spain      2477\n",
       "Name: Geography, dtype: int64"
      ]
     },
     "metadata": {},
     "output_type": "display_data"
    },
    {
     "name": "stdout",
     "output_type": "stream",
     "text": [
      "*** Поле Gender: уникальные значения ***\n"
     ]
    },
    {
     "data": {
      "text/plain": [
       "Male      5457\n",
       "Female    4543\n",
       "Name: Gender, dtype: int64"
      ]
     },
     "metadata": {},
     "output_type": "display_data"
    },
    {
     "name": "stdout",
     "output_type": "stream",
     "text": [
      "*** Поле Age: уникальные значения ***\n"
     ]
    },
    {
     "data": {
      "text/plain": [
       "37    478\n",
       "38    477\n",
       "35    474\n",
       "36    456\n",
       "34    447\n",
       "     ... \n",
       "92      2\n",
       "88      1\n",
       "82      1\n",
       "85      1\n",
       "83      1\n",
       "Name: Age, Length: 70, dtype: int64"
      ]
     },
     "metadata": {},
     "output_type": "display_data"
    },
    {
     "name": "stdout",
     "output_type": "stream",
     "text": [
      "*** Поле Tenure: уникальные значения ***\n"
     ]
    },
    {
     "data": {
      "text/plain": [
       "2     1048\n",
       "1     1035\n",
       "7     1028\n",
       "8     1025\n",
       "5     1012\n",
       "3     1009\n",
       "4      989\n",
       "9      984\n",
       "6      967\n",
       "10     490\n",
       "0      413\n",
       "Name: Tenure, dtype: int64"
      ]
     },
     "metadata": {},
     "output_type": "display_data"
    },
    {
     "name": "stdout",
     "output_type": "stream",
     "text": [
      "*** Поле Balance: уникальные значения ***\n"
     ]
    },
    {
     "data": {
      "text/plain": [
       "0.00         3617\n",
       "105473.74       2\n",
       "130170.82       2\n",
       "113063.83       1\n",
       "80242.37        1\n",
       "             ... \n",
       "183555.24       1\n",
       "137648.41       1\n",
       "112689.95       1\n",
       "115465.28       1\n",
       "74681.90        1\n",
       "Name: Balance, Length: 6382, dtype: int64"
      ]
     },
     "metadata": {},
     "output_type": "display_data"
    },
    {
     "name": "stdout",
     "output_type": "stream",
     "text": [
      "*** Поле NumOfProducts: уникальные значения ***\n"
     ]
    },
    {
     "data": {
      "text/plain": [
       "1    5084\n",
       "2    4590\n",
       "3     266\n",
       "4      60\n",
       "Name: NumOfProducts, dtype: int64"
      ]
     },
     "metadata": {},
     "output_type": "display_data"
    },
    {
     "name": "stdout",
     "output_type": "stream",
     "text": [
      "*** Поле HasCrCard: уникальные значения ***\n"
     ]
    },
    {
     "data": {
      "text/plain": [
       "1    7055\n",
       "0    2945\n",
       "Name: HasCrCard, dtype: int64"
      ]
     },
     "metadata": {},
     "output_type": "display_data"
    },
    {
     "name": "stdout",
     "output_type": "stream",
     "text": [
      "*** Поле IsActiveMember: уникальные значения ***\n"
     ]
    },
    {
     "data": {
      "text/plain": [
       "1    5151\n",
       "0    4849\n",
       "Name: IsActiveMember, dtype: int64"
      ]
     },
     "metadata": {},
     "output_type": "display_data"
    },
    {
     "name": "stdout",
     "output_type": "stream",
     "text": [
      "*** Поле EstimatedSalary: уникальные значения ***\n"
     ]
    },
    {
     "data": {
      "text/plain": [
       "24924.92     2\n",
       "109029.72    1\n",
       "182025.95    1\n",
       "82820.85     1\n",
       "30314.04     1\n",
       "            ..\n",
       "158302.59    1\n",
       "171037.63    1\n",
       "43036.60     1\n",
       "55034.02     1\n",
       "104181.78    1\n",
       "Name: EstimatedSalary, Length: 9999, dtype: int64"
      ]
     },
     "metadata": {},
     "output_type": "display_data"
    },
    {
     "name": "stdout",
     "output_type": "stream",
     "text": [
      "*** Поле Exited: уникальные значения ***\n"
     ]
    },
    {
     "data": {
      "text/plain": [
       "0    7963\n",
       "1    2037\n",
       "Name: Exited, dtype: int64"
      ]
     },
     "metadata": {},
     "output_type": "display_data"
    }
   ],
   "source": [
    "df_info(df)"
   ]
  },
  {
   "cell_type": "markdown",
   "metadata": {},
   "source": [
    "Также посмотрим на баланс классов в нашем наборе данных. Напомним, что объект класса 1 означает, что клиент ушёл с обслуживания в банке, а объект класса 0 означает, что клиент остался на обслуживании в банке."
   ]
  },
  {
   "cell_type": "code",
   "execution_count": 5,
   "metadata": {},
   "outputs": [
    {
     "data": {
      "text/plain": [
       "0    0.7963\n",
       "1    0.2037\n",
       "Name: Exited, dtype: float64"
      ]
     },
     "execution_count": 5,
     "metadata": {},
     "output_type": "execute_result"
    }
   ],
   "source": [
    "df['Exited'].value_counts(normalize = True)"
   ]
  },
  {
   "cell_type": "markdown",
   "metadata": {},
   "source": [
    "# Вывод по этапу 1. \n",
    "\n",
    "На данном этапе мы импортировали необходимые для работы библиотеки, считали исходный набор данных, а также с помощью самописной функции провели его предварительный анализ. \n",
    "\n",
    "По итогу анализа отметим следующее:\n",
    "\n",
    "1. Набор данных включает в себя 13 полей (12 признаков и 1 целевой признак), каждый признак содержит в себе по 10 000 объектов. \n",
    "\n",
    "\n",
    "2. Пропущенные и аномальные значения, а также дубликаты в наборе данных не были выявлены.\n",
    "\n",
    "\n",
    "3. Набор данных содержит 3 категориальных признака и 10 количественных признаков. \n",
    "\n",
    "\n",
    "4. Классы в целевой переменной не сбалансированы: на долю объекта с классом 0 (клиенты, которые не ушли с обслуживания в банке) приходится 79,63% объектов от общего количества объектов в наборе данных, на долю объекта с классом 1 (клиенты, которые ушли с обслуживания в банке) приходится 20,37% объектов соответственно. \n",
    "\n",
    "5. Набор данных содержит 2 поля - **CustomerId** и **Surname**, использование которых при моделировании кажется нецелесообразным.\n",
    "\n",
    "Данные не требуют предварительной обработки в части работы с пропущенными/аномальными значениями и дубликатами, набор данных может быть использован для подготовки к моделированию.\n",
    "\n",
    "<a href='#title'>К оглавлению.</a>"
   ]
  },
  {
   "cell_type": "markdown",
   "metadata": {},
   "source": [
    "# Этап 2. Исследование данных и их подготовка к моделированию.\n",
    "\n",
    "На данном этапе проведём исследование данных и их подготовку к моделированию. В рамках этого этапа выполним следующие активности:\n",
    "\n",
    "1. Удаление лишних признаков.\n",
    "\n",
    "\n",
    "2. Преобразование категориальных признаков в дамми-признаки.\n",
    "\n",
    "\n",
    "3. Анализ зависимостей между признаками.\n",
    "\n",
    "\n",
    "4. Разделение набора данных на тренировочную, валидационную и тестовую выборки.\n",
    "\n",
    "\n",
    "5. Масштабирование количественных признаков.\n",
    "\n",
    "\n",
    "6. Балансировка классов.\n",
    "\n",
    "<a href='#title'>К оглавлению.</a>"
   ]
  },
  {
   "cell_type": "markdown",
   "metadata": {},
   "source": [
    "<a id='2.1'></a> \n",
    "## Этап 2.1. Удаление лишних признаков.\n",
    "\n",
    "В ходе предварительного анализа набора данных был№о установлено, что набор данных содержит 2 поля - **CustomerId** и **Surname**, использование которых при моделировании кажется нецелесообразным.\n",
    "\n",
    "Рассмотрим поле **CustomerId**. Согласно описанию набора данных, поле **CustomerId** описывает уникальный идентификатор клиента в виде восьмизначного числа, то есть признак по своей сути является в большей степени информативными, чем практическим. \n",
    "\n",
    "То же касается поля **Surname**: поле описывает фамилию клиента и также в большей степени является информативным.\n",
    "\n",
    "С точки зрения алгоритмов можно проследить некую зависимость между целевой переменной и полями **CustomerId** и **Surname**. Так, например, какой-нибудь клиент с фамилией Иванов может быть предсказан как ушедший клиент лишь потому, что 10 Ивановых до него также ушли из банка, что будет противоречить здравому смыслу. То же применимо и к полю **CustomerId**: по мере увеличения порядкового номера идентификатора клиента модель может предсказать его отток лишь потому, что 10 клиентов с идентификаторами, предшествующими текущему, также ушли из банка. \n",
    "\n",
    "Поэтому данныы признаки нужно удалить - для моделирования информация об идентификаторе клиента и его фамилии ценности представлять не будут."
   ]
  },
  {
   "cell_type": "code",
   "execution_count": 6,
   "metadata": {},
   "outputs": [],
   "source": [
    "df = df.drop(['CustomerId', 'Surname'], axis = 1)"
   ]
  },
  {
   "cell_type": "markdown",
   "metadata": {},
   "source": [
    "Проверим, удалось ли удаление."
   ]
  },
  {
   "cell_type": "code",
   "execution_count": 7,
   "metadata": {},
   "outputs": [
    {
     "data": {
      "text/html": [
       "<div>\n",
       "<style scoped>\n",
       "    .dataframe tbody tr th:only-of-type {\n",
       "        vertical-align: middle;\n",
       "    }\n",
       "\n",
       "    .dataframe tbody tr th {\n",
       "        vertical-align: top;\n",
       "    }\n",
       "\n",
       "    .dataframe thead th {\n",
       "        text-align: right;\n",
       "    }\n",
       "</style>\n",
       "<table border=\"1\" class=\"dataframe\">\n",
       "  <thead>\n",
       "    <tr style=\"text-align: right;\">\n",
       "      <th></th>\n",
       "      <th>CreditScore</th>\n",
       "      <th>Geography</th>\n",
       "      <th>Gender</th>\n",
       "      <th>Age</th>\n",
       "      <th>Tenure</th>\n",
       "      <th>Balance</th>\n",
       "      <th>NumOfProducts</th>\n",
       "      <th>HasCrCard</th>\n",
       "      <th>IsActiveMember</th>\n",
       "      <th>EstimatedSalary</th>\n",
       "      <th>Exited</th>\n",
       "    </tr>\n",
       "    <tr>\n",
       "      <th>RowNumber</th>\n",
       "      <th></th>\n",
       "      <th></th>\n",
       "      <th></th>\n",
       "      <th></th>\n",
       "      <th></th>\n",
       "      <th></th>\n",
       "      <th></th>\n",
       "      <th></th>\n",
       "      <th></th>\n",
       "      <th></th>\n",
       "      <th></th>\n",
       "    </tr>\n",
       "  </thead>\n",
       "  <tbody>\n",
       "    <tr>\n",
       "      <td>1</td>\n",
       "      <td>619</td>\n",
       "      <td>France</td>\n",
       "      <td>Female</td>\n",
       "      <td>42</td>\n",
       "      <td>2</td>\n",
       "      <td>0.00</td>\n",
       "      <td>1</td>\n",
       "      <td>1</td>\n",
       "      <td>1</td>\n",
       "      <td>101348.88</td>\n",
       "      <td>1</td>\n",
       "    </tr>\n",
       "    <tr>\n",
       "      <td>2</td>\n",
       "      <td>608</td>\n",
       "      <td>Spain</td>\n",
       "      <td>Female</td>\n",
       "      <td>41</td>\n",
       "      <td>1</td>\n",
       "      <td>83807.86</td>\n",
       "      <td>1</td>\n",
       "      <td>0</td>\n",
       "      <td>1</td>\n",
       "      <td>112542.58</td>\n",
       "      <td>0</td>\n",
       "    </tr>\n",
       "    <tr>\n",
       "      <td>3</td>\n",
       "      <td>502</td>\n",
       "      <td>France</td>\n",
       "      <td>Female</td>\n",
       "      <td>42</td>\n",
       "      <td>8</td>\n",
       "      <td>159660.80</td>\n",
       "      <td>3</td>\n",
       "      <td>1</td>\n",
       "      <td>0</td>\n",
       "      <td>113931.57</td>\n",
       "      <td>1</td>\n",
       "    </tr>\n",
       "    <tr>\n",
       "      <td>4</td>\n",
       "      <td>699</td>\n",
       "      <td>France</td>\n",
       "      <td>Female</td>\n",
       "      <td>39</td>\n",
       "      <td>1</td>\n",
       "      <td>0.00</td>\n",
       "      <td>2</td>\n",
       "      <td>0</td>\n",
       "      <td>0</td>\n",
       "      <td>93826.63</td>\n",
       "      <td>0</td>\n",
       "    </tr>\n",
       "    <tr>\n",
       "      <td>5</td>\n",
       "      <td>850</td>\n",
       "      <td>Spain</td>\n",
       "      <td>Female</td>\n",
       "      <td>43</td>\n",
       "      <td>2</td>\n",
       "      <td>125510.82</td>\n",
       "      <td>1</td>\n",
       "      <td>1</td>\n",
       "      <td>1</td>\n",
       "      <td>79084.10</td>\n",
       "      <td>0</td>\n",
       "    </tr>\n",
       "  </tbody>\n",
       "</table>\n",
       "</div>"
      ],
      "text/plain": [
       "           CreditScore Geography  Gender  Age  Tenure    Balance  \\\n",
       "RowNumber                                                          \n",
       "1                  619    France  Female   42       2       0.00   \n",
       "2                  608     Spain  Female   41       1   83807.86   \n",
       "3                  502    France  Female   42       8  159660.80   \n",
       "4                  699    France  Female   39       1       0.00   \n",
       "5                  850     Spain  Female   43       2  125510.82   \n",
       "\n",
       "           NumOfProducts  HasCrCard  IsActiveMember  EstimatedSalary  Exited  \n",
       "RowNumber                                                                     \n",
       "1                      1          1               1        101348.88       1  \n",
       "2                      1          0               1        112542.58       0  \n",
       "3                      3          1               0        113931.57       1  \n",
       "4                      2          0               0         93826.63       0  \n",
       "5                      1          1               1         79084.10       0  "
      ]
     },
     "execution_count": 7,
     "metadata": {},
     "output_type": "execute_result"
    }
   ],
   "source": [
    "df.head(5)"
   ]
  },
  {
   "cell_type": "markdown",
   "metadata": {},
   "source": [
    "Видим, что ненужные признаки были удалены из набора данных.\n",
    "\n",
    "<a href='#title'>К оглавлению.</a>"
   ]
  },
  {
   "cell_type": "markdown",
   "metadata": {},
   "source": [
    "<a id='2.2'></a> \n",
    "## Этап 2.2. Преобразование категориальных признаков в дамми-признаки.\n",
    "\n",
    "В ходе предварительного анализа набора данных было установлено, что набор данных содержит 3 поля с категориальными признаками: это поля **Surname**, **Geography** и **Gender**.\n",
    "\n",
    "От поля **Surname** мы уже избавились, так что нам необходимо преобразовать поля **Geography** и **Gender**. \n",
    "\n",
    "Для преобразования воспользуемся техникой **прямого кодирования**. При этом, чтобы не попасть в **дамми-ловушку**, один признак, который может быть восстановлен по совокупности остальных, мы уберём (иначе **не будет выполняться условие теоремы Гаусса — Маркова** о независимости столбцов в наборе данных)."
   ]
  },
  {
   "cell_type": "code",
   "execution_count": 8,
   "metadata": {},
   "outputs": [],
   "source": [
    "df = pd.get_dummies(df, columns = ['Geography', 'Gender'], drop_first = True)"
   ]
  },
  {
   "cell_type": "markdown",
   "metadata": {},
   "source": [
    "Проверим корректность преобразования."
   ]
  },
  {
   "cell_type": "code",
   "execution_count": 9,
   "metadata": {},
   "outputs": [
    {
     "data": {
      "text/html": [
       "<div>\n",
       "<style scoped>\n",
       "    .dataframe tbody tr th:only-of-type {\n",
       "        vertical-align: middle;\n",
       "    }\n",
       "\n",
       "    .dataframe tbody tr th {\n",
       "        vertical-align: top;\n",
       "    }\n",
       "\n",
       "    .dataframe thead th {\n",
       "        text-align: right;\n",
       "    }\n",
       "</style>\n",
       "<table border=\"1\" class=\"dataframe\">\n",
       "  <thead>\n",
       "    <tr style=\"text-align: right;\">\n",
       "      <th></th>\n",
       "      <th>CreditScore</th>\n",
       "      <th>Age</th>\n",
       "      <th>Tenure</th>\n",
       "      <th>Balance</th>\n",
       "      <th>NumOfProducts</th>\n",
       "      <th>HasCrCard</th>\n",
       "      <th>IsActiveMember</th>\n",
       "      <th>EstimatedSalary</th>\n",
       "      <th>Exited</th>\n",
       "      <th>Geography_Germany</th>\n",
       "      <th>Geography_Spain</th>\n",
       "      <th>Gender_Male</th>\n",
       "    </tr>\n",
       "    <tr>\n",
       "      <th>RowNumber</th>\n",
       "      <th></th>\n",
       "      <th></th>\n",
       "      <th></th>\n",
       "      <th></th>\n",
       "      <th></th>\n",
       "      <th></th>\n",
       "      <th></th>\n",
       "      <th></th>\n",
       "      <th></th>\n",
       "      <th></th>\n",
       "      <th></th>\n",
       "      <th></th>\n",
       "    </tr>\n",
       "  </thead>\n",
       "  <tbody>\n",
       "    <tr>\n",
       "      <td>1</td>\n",
       "      <td>619</td>\n",
       "      <td>42</td>\n",
       "      <td>2</td>\n",
       "      <td>0.00</td>\n",
       "      <td>1</td>\n",
       "      <td>1</td>\n",
       "      <td>1</td>\n",
       "      <td>101348.88</td>\n",
       "      <td>1</td>\n",
       "      <td>0</td>\n",
       "      <td>0</td>\n",
       "      <td>0</td>\n",
       "    </tr>\n",
       "    <tr>\n",
       "      <td>2</td>\n",
       "      <td>608</td>\n",
       "      <td>41</td>\n",
       "      <td>1</td>\n",
       "      <td>83807.86</td>\n",
       "      <td>1</td>\n",
       "      <td>0</td>\n",
       "      <td>1</td>\n",
       "      <td>112542.58</td>\n",
       "      <td>0</td>\n",
       "      <td>0</td>\n",
       "      <td>1</td>\n",
       "      <td>0</td>\n",
       "    </tr>\n",
       "    <tr>\n",
       "      <td>3</td>\n",
       "      <td>502</td>\n",
       "      <td>42</td>\n",
       "      <td>8</td>\n",
       "      <td>159660.80</td>\n",
       "      <td>3</td>\n",
       "      <td>1</td>\n",
       "      <td>0</td>\n",
       "      <td>113931.57</td>\n",
       "      <td>1</td>\n",
       "      <td>0</td>\n",
       "      <td>0</td>\n",
       "      <td>0</td>\n",
       "    </tr>\n",
       "    <tr>\n",
       "      <td>4</td>\n",
       "      <td>699</td>\n",
       "      <td>39</td>\n",
       "      <td>1</td>\n",
       "      <td>0.00</td>\n",
       "      <td>2</td>\n",
       "      <td>0</td>\n",
       "      <td>0</td>\n",
       "      <td>93826.63</td>\n",
       "      <td>0</td>\n",
       "      <td>0</td>\n",
       "      <td>0</td>\n",
       "      <td>0</td>\n",
       "    </tr>\n",
       "    <tr>\n",
       "      <td>5</td>\n",
       "      <td>850</td>\n",
       "      <td>43</td>\n",
       "      <td>2</td>\n",
       "      <td>125510.82</td>\n",
       "      <td>1</td>\n",
       "      <td>1</td>\n",
       "      <td>1</td>\n",
       "      <td>79084.10</td>\n",
       "      <td>0</td>\n",
       "      <td>0</td>\n",
       "      <td>1</td>\n",
       "      <td>0</td>\n",
       "    </tr>\n",
       "  </tbody>\n",
       "</table>\n",
       "</div>"
      ],
      "text/plain": [
       "           CreditScore  Age  Tenure    Balance  NumOfProducts  HasCrCard  \\\n",
       "RowNumber                                                                  \n",
       "1                  619   42       2       0.00              1          1   \n",
       "2                  608   41       1   83807.86              1          0   \n",
       "3                  502   42       8  159660.80              3          1   \n",
       "4                  699   39       1       0.00              2          0   \n",
       "5                  850   43       2  125510.82              1          1   \n",
       "\n",
       "           IsActiveMember  EstimatedSalary  Exited  Geography_Germany  \\\n",
       "RowNumber                                                               \n",
       "1                       1        101348.88       1                  0   \n",
       "2                       1        112542.58       0                  0   \n",
       "3                       0        113931.57       1                  0   \n",
       "4                       0         93826.63       0                  0   \n",
       "5                       1         79084.10       0                  0   \n",
       "\n",
       "           Geography_Spain  Gender_Male  \n",
       "RowNumber                                \n",
       "1                        0            0  \n",
       "2                        1            0  \n",
       "3                        0            0  \n",
       "4                        0            0  \n",
       "5                        1            0  "
      ]
     },
     "execution_count": 9,
     "metadata": {},
     "output_type": "execute_result"
    }
   ],
   "source": [
    "df.head(5)"
   ]
  },
  {
   "cell_type": "markdown",
   "metadata": {},
   "source": [
    "Видим, что мы успешно преобразовали категориальные признаки в дамми-признаки.\n",
    "\n",
    "<a href='#title'>К оглавлению.</a>"
   ]
  },
  {
   "cell_type": "markdown",
   "metadata": {},
   "source": [
    "<a id='2.3'></a> \n",
    "## Этап 2.3. Анализ зависимостей между признаками.\n",
    "\n",
    "Посмотрим на **корреляционную матрицу** и проанализируем зависимости между признаками."
   ]
  },
  {
   "cell_type": "code",
   "execution_count": 10,
   "metadata": {},
   "outputs": [
    {
     "data": {
      "text/html": [
       "<div>\n",
       "<style scoped>\n",
       "    .dataframe tbody tr th:only-of-type {\n",
       "        vertical-align: middle;\n",
       "    }\n",
       "\n",
       "    .dataframe tbody tr th {\n",
       "        vertical-align: top;\n",
       "    }\n",
       "\n",
       "    .dataframe thead th {\n",
       "        text-align: right;\n",
       "    }\n",
       "</style>\n",
       "<table border=\"1\" class=\"dataframe\">\n",
       "  <thead>\n",
       "    <tr style=\"text-align: right;\">\n",
       "      <th></th>\n",
       "      <th>CreditScore</th>\n",
       "      <th>Age</th>\n",
       "      <th>Tenure</th>\n",
       "      <th>Balance</th>\n",
       "      <th>NumOfProducts</th>\n",
       "      <th>HasCrCard</th>\n",
       "      <th>IsActiveMember</th>\n",
       "      <th>EstimatedSalary</th>\n",
       "      <th>Exited</th>\n",
       "      <th>Geography_Germany</th>\n",
       "      <th>Geography_Spain</th>\n",
       "      <th>Gender_Male</th>\n",
       "    </tr>\n",
       "  </thead>\n",
       "  <tbody>\n",
       "    <tr>\n",
       "      <td>CreditScore</td>\n",
       "      <td>1.000000</td>\n",
       "      <td>-0.003965</td>\n",
       "      <td>0.000842</td>\n",
       "      <td>0.006268</td>\n",
       "      <td>0.012238</td>\n",
       "      <td>-0.005458</td>\n",
       "      <td>0.025651</td>\n",
       "      <td>-0.001384</td>\n",
       "      <td>-0.027094</td>\n",
       "      <td>0.005538</td>\n",
       "      <td>0.004780</td>\n",
       "      <td>-0.002857</td>\n",
       "    </tr>\n",
       "    <tr>\n",
       "      <td>Age</td>\n",
       "      <td>-0.003965</td>\n",
       "      <td>1.000000</td>\n",
       "      <td>-0.009997</td>\n",
       "      <td>0.028308</td>\n",
       "      <td>-0.030680</td>\n",
       "      <td>-0.011721</td>\n",
       "      <td>0.085472</td>\n",
       "      <td>-0.007201</td>\n",
       "      <td>0.285323</td>\n",
       "      <td>0.046897</td>\n",
       "      <td>-0.001685</td>\n",
       "      <td>-0.027544</td>\n",
       "    </tr>\n",
       "    <tr>\n",
       "      <td>Tenure</td>\n",
       "      <td>0.000842</td>\n",
       "      <td>-0.009997</td>\n",
       "      <td>1.000000</td>\n",
       "      <td>-0.012254</td>\n",
       "      <td>0.013444</td>\n",
       "      <td>0.022583</td>\n",
       "      <td>-0.028362</td>\n",
       "      <td>0.007784</td>\n",
       "      <td>-0.014001</td>\n",
       "      <td>-0.000567</td>\n",
       "      <td>0.003868</td>\n",
       "      <td>0.014733</td>\n",
       "    </tr>\n",
       "    <tr>\n",
       "      <td>Balance</td>\n",
       "      <td>0.006268</td>\n",
       "      <td>0.028308</td>\n",
       "      <td>-0.012254</td>\n",
       "      <td>1.000000</td>\n",
       "      <td>-0.304180</td>\n",
       "      <td>-0.014858</td>\n",
       "      <td>-0.010084</td>\n",
       "      <td>0.012797</td>\n",
       "      <td>0.118533</td>\n",
       "      <td>0.401110</td>\n",
       "      <td>-0.134892</td>\n",
       "      <td>0.012087</td>\n",
       "    </tr>\n",
       "    <tr>\n",
       "      <td>NumOfProducts</td>\n",
       "      <td>0.012238</td>\n",
       "      <td>-0.030680</td>\n",
       "      <td>0.013444</td>\n",
       "      <td>-0.304180</td>\n",
       "      <td>1.000000</td>\n",
       "      <td>0.003183</td>\n",
       "      <td>0.009612</td>\n",
       "      <td>0.014204</td>\n",
       "      <td>-0.047820</td>\n",
       "      <td>-0.010419</td>\n",
       "      <td>0.009039</td>\n",
       "      <td>-0.021859</td>\n",
       "    </tr>\n",
       "    <tr>\n",
       "      <td>HasCrCard</td>\n",
       "      <td>-0.005458</td>\n",
       "      <td>-0.011721</td>\n",
       "      <td>0.022583</td>\n",
       "      <td>-0.014858</td>\n",
       "      <td>0.003183</td>\n",
       "      <td>1.000000</td>\n",
       "      <td>-0.011866</td>\n",
       "      <td>-0.009933</td>\n",
       "      <td>-0.007138</td>\n",
       "      <td>0.010577</td>\n",
       "      <td>-0.013480</td>\n",
       "      <td>0.005766</td>\n",
       "    </tr>\n",
       "    <tr>\n",
       "      <td>IsActiveMember</td>\n",
       "      <td>0.025651</td>\n",
       "      <td>0.085472</td>\n",
       "      <td>-0.028362</td>\n",
       "      <td>-0.010084</td>\n",
       "      <td>0.009612</td>\n",
       "      <td>-0.011866</td>\n",
       "      <td>1.000000</td>\n",
       "      <td>-0.011421</td>\n",
       "      <td>-0.156128</td>\n",
       "      <td>-0.020486</td>\n",
       "      <td>0.016732</td>\n",
       "      <td>0.022544</td>\n",
       "    </tr>\n",
       "    <tr>\n",
       "      <td>EstimatedSalary</td>\n",
       "      <td>-0.001384</td>\n",
       "      <td>-0.007201</td>\n",
       "      <td>0.007784</td>\n",
       "      <td>0.012797</td>\n",
       "      <td>0.014204</td>\n",
       "      <td>-0.009933</td>\n",
       "      <td>-0.011421</td>\n",
       "      <td>1.000000</td>\n",
       "      <td>0.012097</td>\n",
       "      <td>0.010297</td>\n",
       "      <td>-0.006482</td>\n",
       "      <td>-0.008112</td>\n",
       "    </tr>\n",
       "    <tr>\n",
       "      <td>Exited</td>\n",
       "      <td>-0.027094</td>\n",
       "      <td>0.285323</td>\n",
       "      <td>-0.014001</td>\n",
       "      <td>0.118533</td>\n",
       "      <td>-0.047820</td>\n",
       "      <td>-0.007138</td>\n",
       "      <td>-0.156128</td>\n",
       "      <td>0.012097</td>\n",
       "      <td>1.000000</td>\n",
       "      <td>0.173488</td>\n",
       "      <td>-0.052667</td>\n",
       "      <td>-0.106512</td>\n",
       "    </tr>\n",
       "    <tr>\n",
       "      <td>Geography_Germany</td>\n",
       "      <td>0.005538</td>\n",
       "      <td>0.046897</td>\n",
       "      <td>-0.000567</td>\n",
       "      <td>0.401110</td>\n",
       "      <td>-0.010419</td>\n",
       "      <td>0.010577</td>\n",
       "      <td>-0.020486</td>\n",
       "      <td>0.010297</td>\n",
       "      <td>0.173488</td>\n",
       "      <td>1.000000</td>\n",
       "      <td>-0.332084</td>\n",
       "      <td>-0.024628</td>\n",
       "    </tr>\n",
       "    <tr>\n",
       "      <td>Geography_Spain</td>\n",
       "      <td>0.004780</td>\n",
       "      <td>-0.001685</td>\n",
       "      <td>0.003868</td>\n",
       "      <td>-0.134892</td>\n",
       "      <td>0.009039</td>\n",
       "      <td>-0.013480</td>\n",
       "      <td>0.016732</td>\n",
       "      <td>-0.006482</td>\n",
       "      <td>-0.052667</td>\n",
       "      <td>-0.332084</td>\n",
       "      <td>1.000000</td>\n",
       "      <td>0.016889</td>\n",
       "    </tr>\n",
       "    <tr>\n",
       "      <td>Gender_Male</td>\n",
       "      <td>-0.002857</td>\n",
       "      <td>-0.027544</td>\n",
       "      <td>0.014733</td>\n",
       "      <td>0.012087</td>\n",
       "      <td>-0.021859</td>\n",
       "      <td>0.005766</td>\n",
       "      <td>0.022544</td>\n",
       "      <td>-0.008112</td>\n",
       "      <td>-0.106512</td>\n",
       "      <td>-0.024628</td>\n",
       "      <td>0.016889</td>\n",
       "      <td>1.000000</td>\n",
       "    </tr>\n",
       "  </tbody>\n",
       "</table>\n",
       "</div>"
      ],
      "text/plain": [
       "                   CreditScore       Age    Tenure   Balance  NumOfProducts  \\\n",
       "CreditScore           1.000000 -0.003965  0.000842  0.006268       0.012238   \n",
       "Age                  -0.003965  1.000000 -0.009997  0.028308      -0.030680   \n",
       "Tenure                0.000842 -0.009997  1.000000 -0.012254       0.013444   \n",
       "Balance               0.006268  0.028308 -0.012254  1.000000      -0.304180   \n",
       "NumOfProducts         0.012238 -0.030680  0.013444 -0.304180       1.000000   \n",
       "HasCrCard            -0.005458 -0.011721  0.022583 -0.014858       0.003183   \n",
       "IsActiveMember        0.025651  0.085472 -0.028362 -0.010084       0.009612   \n",
       "EstimatedSalary      -0.001384 -0.007201  0.007784  0.012797       0.014204   \n",
       "Exited               -0.027094  0.285323 -0.014001  0.118533      -0.047820   \n",
       "Geography_Germany     0.005538  0.046897 -0.000567  0.401110      -0.010419   \n",
       "Geography_Spain       0.004780 -0.001685  0.003868 -0.134892       0.009039   \n",
       "Gender_Male          -0.002857 -0.027544  0.014733  0.012087      -0.021859   \n",
       "\n",
       "                   HasCrCard  IsActiveMember  EstimatedSalary    Exited  \\\n",
       "CreditScore        -0.005458        0.025651        -0.001384 -0.027094   \n",
       "Age                -0.011721        0.085472        -0.007201  0.285323   \n",
       "Tenure              0.022583       -0.028362         0.007784 -0.014001   \n",
       "Balance            -0.014858       -0.010084         0.012797  0.118533   \n",
       "NumOfProducts       0.003183        0.009612         0.014204 -0.047820   \n",
       "HasCrCard           1.000000       -0.011866        -0.009933 -0.007138   \n",
       "IsActiveMember     -0.011866        1.000000        -0.011421 -0.156128   \n",
       "EstimatedSalary    -0.009933       -0.011421         1.000000  0.012097   \n",
       "Exited             -0.007138       -0.156128         0.012097  1.000000   \n",
       "Geography_Germany   0.010577       -0.020486         0.010297  0.173488   \n",
       "Geography_Spain    -0.013480        0.016732        -0.006482 -0.052667   \n",
       "Gender_Male         0.005766        0.022544        -0.008112 -0.106512   \n",
       "\n",
       "                   Geography_Germany  Geography_Spain  Gender_Male  \n",
       "CreditScore                 0.005538         0.004780    -0.002857  \n",
       "Age                         0.046897        -0.001685    -0.027544  \n",
       "Tenure                     -0.000567         0.003868     0.014733  \n",
       "Balance                     0.401110        -0.134892     0.012087  \n",
       "NumOfProducts              -0.010419         0.009039    -0.021859  \n",
       "HasCrCard                   0.010577        -0.013480     0.005766  \n",
       "IsActiveMember             -0.020486         0.016732     0.022544  \n",
       "EstimatedSalary             0.010297        -0.006482    -0.008112  \n",
       "Exited                      0.173488        -0.052667    -0.106512  \n",
       "Geography_Germany           1.000000        -0.332084    -0.024628  \n",
       "Geography_Spain            -0.332084         1.000000     0.016889  \n",
       "Gender_Male                -0.024628         0.016889     1.000000  "
      ]
     },
     "execution_count": 10,
     "metadata": {},
     "output_type": "execute_result"
    }
   ],
   "source": [
    "df.corr()"
   ]
  },
  {
   "cell_type": "markdown",
   "metadata": {},
   "source": [
    "Из таблицы видно, что признаки довольно **слабо коррелируют** между собой: зависимость из значения коэффициентов корреляции всегда интерпретируется как низкая. \n",
    "\n",
    "Кромет того, учитывая отсутствие у каждого признака более сильной линейной зависимости с другими признаками, чем линейная зависимость между этим признаком и целевым признаком, можно говорить об **отсутствии эффекта мультиколлинеарности**. \n",
    "\n",
    "Однако мы говорим лишь о линейной зависимости между признаками. На практике зависимость может иметь нелинейный характер, а посему не может быть измерена коэффициентом корреляции. Поэтому зависимости нужно проанализировать в том числе и **рационально**. \n",
    "\n",
    "Так, в целом **довольно сложно проследить рациональную зависимость между признаками, превышающую зависимость между признаком и целевым признаком**: например, уход клиента может зависеть от количества продуктов - чем их больше, тем менее вероятен отток клиентов - однако количество продуктов вряд ли зависит, например, от возраста или удержаний из заработной платы.\n",
    "\n",
    "Поэтому приходим к выводу об **отсутствии в наборе данных эффекта мультиколлинеарности между признаками** и о возможности использования при моделировании всех имеющихся признаков.\n",
    "\n",
    "<a href='#title'>К оглавлению.</a>"
   ]
  },
  {
   "cell_type": "markdown",
   "metadata": {},
   "source": [
    "<a id='2.4'></a> \n",
    "## Этап 2.4. Разделение набора данных на тренировочную, валидационную и тестовую выборки.\n",
    "\n",
    "Сначала **выделим признаки** для обучения и **целевой признак**."
   ]
  },
  {
   "cell_type": "code",
   "execution_count": 11,
   "metadata": {},
   "outputs": [],
   "source": [
    "target = df['Exited']\n",
    "features = df.drop(['Exited'], axis = 1)"
   ]
  },
  {
   "cell_type": "markdown",
   "metadata": {},
   "source": [
    "Так как тестовая выборка нам не доступна, набор данных разделим на **тренировочную, валидационную и тестовую выборки в соотношении 60% : 20% : 20%**."
   ]
  },
  {
   "cell_type": "code",
   "execution_count": 12,
   "metadata": {},
   "outputs": [],
   "source": [
    "features_train, features_test, target_train, target_test = \\\n",
    "train_test_split(features, target, test_size = 0.20, random_state = 12345)\n",
    "\n",
    "features_train, features_validate, target_train, target_validate = train_test_split(features_train, \n",
    "                                        target_train, test_size = 0.25, random_state = 12345)"
   ]
  },
  {
   "cell_type": "code",
   "execution_count": 13,
   "metadata": {},
   "outputs": [
    {
     "name": "stdout",
     "output_type": "stream",
     "text": [
      "Количество тренировочных объектов: 6000  доля от исходного набора данных: 0.6\n",
      "Количество валидационных объектов: 2000  доля от исходного набора данных: 0.2\n",
      "Количество тестовых объектов: 2000  доля от исходного набора данных: 0.2\n",
      "Количество тренировочных таргетов: 6000  доля от исходного набора данных: 0.6\n",
      "Количество валидационных таргетов: 2000  доля от исходного набора данных: 0.2\n",
      "Количество тестовых таргетов: 2000  доля от исходного набора данных: 0.2\n",
      "Общее количество объектов в исходном наборе данных: 10000\n"
     ]
    }
   ],
   "source": [
    "print('Количество тренировочных объектов:', features_train.shape[0], \n",
    "      ' доля от исходного набора данных:', round((features_train.shape[0] / df.shape[0]), 2))\n",
    "print('Количество валидационных объектов:', features_validate.shape[0], \n",
    "      ' доля от исходного набора данных:', round((features_validate.shape[0] / df.shape[0]), 2))\n",
    "print('Количество тестовых объектов:', features_test.shape[0], \n",
    "      ' доля от исходного набора данных:', round((features_test.shape[0] / df.shape[0]), 2))\n",
    "print('Количество тренировочных таргетов:', target_train.shape[0], \n",
    "      ' доля от исходного набора данных:', round((target_train.shape[0] / df.shape[0]), 2))\n",
    "print('Количество валидационных таргетов:', target_validate.shape[0], \n",
    "      ' доля от исходного набора данных:', round((target_validate.shape[0] / df.shape[0]), 2))\n",
    "print('Количество тестовых таргетов:', target_test.shape[0], \n",
    "      ' доля от исходного набора данных:', round((target_test.shape[0] / df.shape[0]), 2))\n",
    "print('Общее количество объектов в исходном наборе данных:', df.shape[0])"
   ]
  },
  {
   "cell_type": "markdown",
   "metadata": {},
   "source": [
    "Видим, что мы успешно разделили набор данных на выборки.\n",
    "\n",
    "<a href='#title'>К оглавлению.</a>"
   ]
  },
  {
   "cell_type": "markdown",
   "metadata": {},
   "source": [
    "<a id='2.5'></a> \n",
    "## Этап 2.5. Масштабирование количественных признаков.\n",
    "\n",
    "В наборе данных между значениями признаков существует значительный дисбаланс: например, максимальный возраст клиентов не превышает 81 год, в то время как баланс на счёте клиента исчисляется почти двумястами тысячами. Если оставить признаки в таком виде, алгоритм машинного обучения может ошибочно решить, что признак с большим значением наблюдений более значимый, чем признак с меньшим значением наблюдений, однако в нашей модели все признаки являются равнозначными.\n",
    "\n",
    "Чтобы сгладить дисбаланс, сделаем **масштабирование** количественных признаков: осуществим **z-преобразование**, приведя признаки к значениям со средним, равным нулю, и диспесии, равной единице. \n",
    "\n",
    "Отмечу, что масштабировать мы будем не все признаки: масштабирования избежит признак **Exited**, который является целевым, а также признаки **HasCrCard** и **IsActiveMember**, которые являются бинарными, и признаки **Geography_Germany**, **Geography_Spain** и\t**Gender_Male**, которые также являются бинарными, да ещё и фиктивными."
   ]
  },
  {
   "cell_type": "code",
   "execution_count": 14,
   "metadata": {},
   "outputs": [],
   "source": [
    "numeric = ['CreditScore', 'Age', 'Tenure', 'Balance', 'NumOfProducts', 'EstimatedSalary']"
   ]
  },
  {
   "cell_type": "markdown",
   "metadata": {},
   "source": [
    "Сначала создадим объект класса **StandardScaler**."
   ]
  },
  {
   "cell_type": "code",
   "execution_count": 15,
   "metadata": {},
   "outputs": [],
   "source": [
    "scaler = StandardScaler()"
   ]
  },
  {
   "cell_type": "markdown",
   "metadata": {},
   "source": [
    "Затем обучим объект класса **StandardScaler** на количественных признаках тренировочной выборки методом **fit**."
   ]
  },
  {
   "cell_type": "code",
   "execution_count": 16,
   "metadata": {},
   "outputs": [
    {
     "data": {
      "text/plain": [
       "StandardScaler(copy=True, with_mean=True, with_std=True)"
      ]
     },
     "execution_count": 16,
     "metadata": {},
     "output_type": "execute_result"
    }
   ],
   "source": [
    "scaler.fit(features_train[numeric])"
   ]
  },
  {
   "cell_type": "markdown",
   "metadata": {},
   "source": [
    "Затем с помощью обученного объекта класса **StandardScaler** преобразуем наши наборы данных методом **transform**."
   ]
  },
  {
   "cell_type": "code",
   "execution_count": 17,
   "metadata": {},
   "outputs": [],
   "source": [
    "features_train[numeric] = scaler.transform(features_train[numeric])\n",
    "features_validate[numeric] = scaler.transform(features_validate[numeric])\n",
    "features_test[numeric]= scaler.transform(features_test[numeric])"
   ]
  },
  {
   "cell_type": "markdown",
   "metadata": {},
   "source": [
    "Проверим, корректно ли осуществлено масштабирование."
   ]
  },
  {
   "cell_type": "code",
   "execution_count": 18,
   "metadata": {},
   "outputs": [
    {
     "data": {
      "text/html": [
       "<div>\n",
       "<style scoped>\n",
       "    .dataframe tbody tr th:only-of-type {\n",
       "        vertical-align: middle;\n",
       "    }\n",
       "\n",
       "    .dataframe tbody tr th {\n",
       "        vertical-align: top;\n",
       "    }\n",
       "\n",
       "    .dataframe thead th {\n",
       "        text-align: right;\n",
       "    }\n",
       "</style>\n",
       "<table border=\"1\" class=\"dataframe\">\n",
       "  <thead>\n",
       "    <tr style=\"text-align: right;\">\n",
       "      <th></th>\n",
       "      <th>CreditScore</th>\n",
       "      <th>Age</th>\n",
       "      <th>Tenure</th>\n",
       "      <th>Balance</th>\n",
       "      <th>NumOfProducts</th>\n",
       "      <th>HasCrCard</th>\n",
       "      <th>IsActiveMember</th>\n",
       "      <th>EstimatedSalary</th>\n",
       "      <th>Geography_Germany</th>\n",
       "      <th>Geography_Spain</th>\n",
       "      <th>Gender_Male</th>\n",
       "    </tr>\n",
       "    <tr>\n",
       "      <th>RowNumber</th>\n",
       "      <th></th>\n",
       "      <th></th>\n",
       "      <th></th>\n",
       "      <th></th>\n",
       "      <th></th>\n",
       "      <th></th>\n",
       "      <th></th>\n",
       "      <th></th>\n",
       "      <th></th>\n",
       "      <th></th>\n",
       "      <th></th>\n",
       "    </tr>\n",
       "  </thead>\n",
       "  <tbody>\n",
       "    <tr>\n",
       "      <td>493</td>\n",
       "      <td>-0.134048</td>\n",
       "      <td>-0.078068</td>\n",
       "      <td>-0.357205</td>\n",
       "      <td>0.076163</td>\n",
       "      <td>0.816929</td>\n",
       "      <td>0</td>\n",
       "      <td>1</td>\n",
       "      <td>0.331571</td>\n",
       "      <td>0</td>\n",
       "      <td>0</td>\n",
       "      <td>0</td>\n",
       "    </tr>\n",
       "    <tr>\n",
       "      <td>6656</td>\n",
       "      <td>-1.010798</td>\n",
       "      <td>0.494555</td>\n",
       "      <td>0.676673</td>\n",
       "      <td>0.136391</td>\n",
       "      <td>-0.896909</td>\n",
       "      <td>1</td>\n",
       "      <td>1</td>\n",
       "      <td>-0.727858</td>\n",
       "      <td>0</td>\n",
       "      <td>0</td>\n",
       "      <td>1</td>\n",
       "    </tr>\n",
       "    <tr>\n",
       "      <td>4288</td>\n",
       "      <td>0.639554</td>\n",
       "      <td>1.353490</td>\n",
       "      <td>-1.391083</td>\n",
       "      <td>0.358435</td>\n",
       "      <td>-0.896909</td>\n",
       "      <td>1</td>\n",
       "      <td>1</td>\n",
       "      <td>-0.477006</td>\n",
       "      <td>1</td>\n",
       "      <td>0</td>\n",
       "      <td>1</td>\n",
       "    </tr>\n",
       "    <tr>\n",
       "      <td>43</td>\n",
       "      <td>-0.990168</td>\n",
       "      <td>2.116987</td>\n",
       "      <td>-1.046457</td>\n",
       "      <td>0.651725</td>\n",
       "      <td>-0.896909</td>\n",
       "      <td>1</td>\n",
       "      <td>1</td>\n",
       "      <td>-0.100232</td>\n",
       "      <td>0</td>\n",
       "      <td>0</td>\n",
       "      <td>0</td>\n",
       "    </tr>\n",
       "    <tr>\n",
       "      <td>8179</td>\n",
       "      <td>0.567351</td>\n",
       "      <td>0.685430</td>\n",
       "      <td>0.676673</td>\n",
       "      <td>0.813110</td>\n",
       "      <td>0.816929</td>\n",
       "      <td>1</td>\n",
       "      <td>1</td>\n",
       "      <td>0.801922</td>\n",
       "      <td>0</td>\n",
       "      <td>0</td>\n",
       "      <td>0</td>\n",
       "    </tr>\n",
       "  </tbody>\n",
       "</table>\n",
       "</div>"
      ],
      "text/plain": [
       "           CreditScore       Age    Tenure   Balance  NumOfProducts  \\\n",
       "RowNumber                                                             \n",
       "493          -0.134048 -0.078068 -0.357205  0.076163       0.816929   \n",
       "6656         -1.010798  0.494555  0.676673  0.136391      -0.896909   \n",
       "4288          0.639554  1.353490 -1.391083  0.358435      -0.896909   \n",
       "43           -0.990168  2.116987 -1.046457  0.651725      -0.896909   \n",
       "8179          0.567351  0.685430  0.676673  0.813110       0.816929   \n",
       "\n",
       "           HasCrCard  IsActiveMember  EstimatedSalary  Geography_Germany  \\\n",
       "RowNumber                                                                  \n",
       "493                0               1         0.331571                  0   \n",
       "6656               1               1        -0.727858                  0   \n",
       "4288               1               1        -0.477006                  1   \n",
       "43                 1               1        -0.100232                  0   \n",
       "8179               1               1         0.801922                  0   \n",
       "\n",
       "           Geography_Spain  Gender_Male  \n",
       "RowNumber                                \n",
       "493                      0            0  \n",
       "6656                     0            1  \n",
       "4288                     0            1  \n",
       "43                       0            0  \n",
       "8179                     0            0  "
      ]
     },
     "execution_count": 18,
     "metadata": {},
     "output_type": "execute_result"
    }
   ],
   "source": [
    "features_train.head(5)"
   ]
  },
  {
   "cell_type": "code",
   "execution_count": 19,
   "metadata": {},
   "outputs": [
    {
     "data": {
      "text/html": [
       "<div>\n",
       "<style scoped>\n",
       "    .dataframe tbody tr th:only-of-type {\n",
       "        vertical-align: middle;\n",
       "    }\n",
       "\n",
       "    .dataframe tbody tr th {\n",
       "        vertical-align: top;\n",
       "    }\n",
       "\n",
       "    .dataframe thead th {\n",
       "        text-align: right;\n",
       "    }\n",
       "</style>\n",
       "<table border=\"1\" class=\"dataframe\">\n",
       "  <thead>\n",
       "    <tr style=\"text-align: right;\">\n",
       "      <th></th>\n",
       "      <th>CreditScore</th>\n",
       "      <th>Age</th>\n",
       "      <th>Tenure</th>\n",
       "      <th>Balance</th>\n",
       "      <th>NumOfProducts</th>\n",
       "      <th>HasCrCard</th>\n",
       "      <th>IsActiveMember</th>\n",
       "      <th>EstimatedSalary</th>\n",
       "      <th>Geography_Germany</th>\n",
       "      <th>Geography_Spain</th>\n",
       "      <th>Gender_Male</th>\n",
       "    </tr>\n",
       "    <tr>\n",
       "      <th>RowNumber</th>\n",
       "      <th></th>\n",
       "      <th></th>\n",
       "      <th></th>\n",
       "      <th></th>\n",
       "      <th></th>\n",
       "      <th></th>\n",
       "      <th></th>\n",
       "      <th></th>\n",
       "      <th></th>\n",
       "      <th></th>\n",
       "      <th></th>\n",
       "    </tr>\n",
       "  </thead>\n",
       "  <tbody>\n",
       "    <tr>\n",
       "      <td>2359</td>\n",
       "      <td>0.175393</td>\n",
       "      <td>0.399118</td>\n",
       "      <td>-1.391083</td>\n",
       "      <td>1.385698</td>\n",
       "      <td>-0.896909</td>\n",
       "      <td>0</td>\n",
       "      <td>1</td>\n",
       "      <td>-1.466761</td>\n",
       "      <td>0</td>\n",
       "      <td>0</td>\n",
       "      <td>1</td>\n",
       "    </tr>\n",
       "    <tr>\n",
       "      <td>8464</td>\n",
       "      <td>-1.299609</td>\n",
       "      <td>0.971741</td>\n",
       "      <td>-1.046457</td>\n",
       "      <td>-1.232442</td>\n",
       "      <td>-0.896909</td>\n",
       "      <td>1</td>\n",
       "      <td>0</td>\n",
       "      <td>0.254415</td>\n",
       "      <td>0</td>\n",
       "      <td>1</td>\n",
       "      <td>1</td>\n",
       "    </tr>\n",
       "    <tr>\n",
       "      <td>164</td>\n",
       "      <td>0.711757</td>\n",
       "      <td>-0.268942</td>\n",
       "      <td>-1.046457</td>\n",
       "      <td>-1.232442</td>\n",
       "      <td>0.816929</td>\n",
       "      <td>1</td>\n",
       "      <td>1</td>\n",
       "      <td>0.122863</td>\n",
       "      <td>0</td>\n",
       "      <td>1</td>\n",
       "      <td>0</td>\n",
       "    </tr>\n",
       "    <tr>\n",
       "      <td>3075</td>\n",
       "      <td>-0.391916</td>\n",
       "      <td>0.494555</td>\n",
       "      <td>0.332047</td>\n",
       "      <td>0.672529</td>\n",
       "      <td>-0.896909</td>\n",
       "      <td>1</td>\n",
       "      <td>0</td>\n",
       "      <td>0.585847</td>\n",
       "      <td>1</td>\n",
       "      <td>0</td>\n",
       "      <td>0</td>\n",
       "    </tr>\n",
       "    <tr>\n",
       "      <td>5990</td>\n",
       "      <td>0.165078</td>\n",
       "      <td>1.353490</td>\n",
       "      <td>1.710552</td>\n",
       "      <td>0.536522</td>\n",
       "      <td>-0.896909</td>\n",
       "      <td>0</td>\n",
       "      <td>0</td>\n",
       "      <td>1.462457</td>\n",
       "      <td>0</td>\n",
       "      <td>0</td>\n",
       "      <td>0</td>\n",
       "    </tr>\n",
       "  </tbody>\n",
       "</table>\n",
       "</div>"
      ],
      "text/plain": [
       "           CreditScore       Age    Tenure   Balance  NumOfProducts  \\\n",
       "RowNumber                                                             \n",
       "2359          0.175393  0.399118 -1.391083  1.385698      -0.896909   \n",
       "8464         -1.299609  0.971741 -1.046457 -1.232442      -0.896909   \n",
       "164           0.711757 -0.268942 -1.046457 -1.232442       0.816929   \n",
       "3075         -0.391916  0.494555  0.332047  0.672529      -0.896909   \n",
       "5990          0.165078  1.353490  1.710552  0.536522      -0.896909   \n",
       "\n",
       "           HasCrCard  IsActiveMember  EstimatedSalary  Geography_Germany  \\\n",
       "RowNumber                                                                  \n",
       "2359               0               1        -1.466761                  0   \n",
       "8464               1               0         0.254415                  0   \n",
       "164                1               1         0.122863                  0   \n",
       "3075               1               0         0.585847                  1   \n",
       "5990               0               0         1.462457                  0   \n",
       "\n",
       "           Geography_Spain  Gender_Male  \n",
       "RowNumber                                \n",
       "2359                     0            1  \n",
       "8464                     1            1  \n",
       "164                      1            0  \n",
       "3075                     0            0  \n",
       "5990                     0            0  "
      ]
     },
     "execution_count": 19,
     "metadata": {},
     "output_type": "execute_result"
    }
   ],
   "source": [
    "features_validate.head(5)"
   ]
  },
  {
   "cell_type": "code",
   "execution_count": 20,
   "metadata": {},
   "outputs": [
    {
     "data": {
      "text/html": [
       "<div>\n",
       "<style scoped>\n",
       "    .dataframe tbody tr th:only-of-type {\n",
       "        vertical-align: middle;\n",
       "    }\n",
       "\n",
       "    .dataframe tbody tr th {\n",
       "        vertical-align: top;\n",
       "    }\n",
       "\n",
       "    .dataframe thead th {\n",
       "        text-align: right;\n",
       "    }\n",
       "</style>\n",
       "<table border=\"1\" class=\"dataframe\">\n",
       "  <thead>\n",
       "    <tr style=\"text-align: right;\">\n",
       "      <th></th>\n",
       "      <th>CreditScore</th>\n",
       "      <th>Age</th>\n",
       "      <th>Tenure</th>\n",
       "      <th>Balance</th>\n",
       "      <th>NumOfProducts</th>\n",
       "      <th>HasCrCard</th>\n",
       "      <th>IsActiveMember</th>\n",
       "      <th>EstimatedSalary</th>\n",
       "      <th>Geography_Germany</th>\n",
       "      <th>Geography_Spain</th>\n",
       "      <th>Gender_Male</th>\n",
       "    </tr>\n",
       "    <tr>\n",
       "      <th>RowNumber</th>\n",
       "      <th></th>\n",
       "      <th></th>\n",
       "      <th></th>\n",
       "      <th></th>\n",
       "      <th></th>\n",
       "      <th></th>\n",
       "      <th></th>\n",
       "      <th></th>\n",
       "      <th></th>\n",
       "      <th></th>\n",
       "      <th></th>\n",
       "    </tr>\n",
       "  </thead>\n",
       "  <tbody>\n",
       "    <tr>\n",
       "      <td>7868</td>\n",
       "      <td>-0.123733</td>\n",
       "      <td>0.685430</td>\n",
       "      <td>-0.701831</td>\n",
       "      <td>-1.232442</td>\n",
       "      <td>-0.896909</td>\n",
       "      <td>1</td>\n",
       "      <td>1</td>\n",
       "      <td>0.980212</td>\n",
       "      <td>0</td>\n",
       "      <td>1</td>\n",
       "      <td>0</td>\n",
       "    </tr>\n",
       "    <tr>\n",
       "      <td>1403</td>\n",
       "      <td>1.083087</td>\n",
       "      <td>-0.937002</td>\n",
       "      <td>1.021300</td>\n",
       "      <td>0.858518</td>\n",
       "      <td>-0.896909</td>\n",
       "      <td>1</td>\n",
       "      <td>0</td>\n",
       "      <td>-0.390486</td>\n",
       "      <td>0</td>\n",
       "      <td>0</td>\n",
       "      <td>1</td>\n",
       "    </tr>\n",
       "    <tr>\n",
       "      <td>8607</td>\n",
       "      <td>1.598822</td>\n",
       "      <td>0.303681</td>\n",
       "      <td>-0.012579</td>\n",
       "      <td>-1.232442</td>\n",
       "      <td>0.816929</td>\n",
       "      <td>1</td>\n",
       "      <td>1</td>\n",
       "      <td>-0.435169</td>\n",
       "      <td>0</td>\n",
       "      <td>1</td>\n",
       "      <td>1</td>\n",
       "    </tr>\n",
       "    <tr>\n",
       "      <td>8886</td>\n",
       "      <td>0.165078</td>\n",
       "      <td>0.589993</td>\n",
       "      <td>-0.357205</td>\n",
       "      <td>0.412100</td>\n",
       "      <td>0.816929</td>\n",
       "      <td>1</td>\n",
       "      <td>1</td>\n",
       "      <td>1.017079</td>\n",
       "      <td>0</td>\n",
       "      <td>1</td>\n",
       "      <td>1</td>\n",
       "    </tr>\n",
       "    <tr>\n",
       "      <td>6495</td>\n",
       "      <td>0.484834</td>\n",
       "      <td>-1.032439</td>\n",
       "      <td>0.676673</td>\n",
       "      <td>-1.232442</td>\n",
       "      <td>0.816929</td>\n",
       "      <td>1</td>\n",
       "      <td>1</td>\n",
       "      <td>-1.343558</td>\n",
       "      <td>0</td>\n",
       "      <td>0</td>\n",
       "      <td>1</td>\n",
       "    </tr>\n",
       "  </tbody>\n",
       "</table>\n",
       "</div>"
      ],
      "text/plain": [
       "           CreditScore       Age    Tenure   Balance  NumOfProducts  \\\n",
       "RowNumber                                                             \n",
       "7868         -0.123733  0.685430 -0.701831 -1.232442      -0.896909   \n",
       "1403          1.083087 -0.937002  1.021300  0.858518      -0.896909   \n",
       "8607          1.598822  0.303681 -0.012579 -1.232442       0.816929   \n",
       "8886          0.165078  0.589993 -0.357205  0.412100       0.816929   \n",
       "6495          0.484834 -1.032439  0.676673 -1.232442       0.816929   \n",
       "\n",
       "           HasCrCard  IsActiveMember  EstimatedSalary  Geography_Germany  \\\n",
       "RowNumber                                                                  \n",
       "7868               1               1         0.980212                  0   \n",
       "1403               1               0        -0.390486                  0   \n",
       "8607               1               1        -0.435169                  0   \n",
       "8886               1               1         1.017079                  0   \n",
       "6495               1               1        -1.343558                  0   \n",
       "\n",
       "           Geography_Spain  Gender_Male  \n",
       "RowNumber                                \n",
       "7868                     1            0  \n",
       "1403                     0            1  \n",
       "8607                     1            1  \n",
       "8886                     1            1  \n",
       "6495                     0            1  "
      ]
     },
     "execution_count": 20,
     "metadata": {},
     "output_type": "execute_result"
    }
   ],
   "source": [
    "features_test.head(5)"
   ]
  },
  {
   "cell_type": "markdown",
   "metadata": {},
   "source": [
    "Видим, что масштабирование осуществлено корректно.\n",
    "\n",
    "<a href='#title'>К оглавлению.</a>"
   ]
  },
  {
   "cell_type": "markdown",
   "metadata": {},
   "source": [
    "<a id='2.6'></a> \n",
    "## Этап 2.6. Балансировка классов.\n",
    "\n",
    "В ходе предварительного анализа набора данных было установлено, что классы в целевой переменной не сбалансированы: на долю класса с флагом 0 (клиенты, которые не ушли с обслуживания в банке) приходится 79,63% объектов от общего количества объектов в наборе данных, на долю класса с флагом 1 (клиенты, которые ушли с обслуживания в банке) приходится 20,37% объектов соответственно.\n",
    "\n",
    "Баланса классов можно достичь за счёт:\n",
    "\n",
    "- увеличения в выборке количества объектов с меткой целевой переменной, равной 1 **(техника upsample)**;\n",
    "\n",
    "\n",
    "- уменьшения в выборке количества объектов с меткой целевой переменной, равной 0 **(техника downsample)**.\n",
    "\n",
    "Также доступно взвешивания классов при обучении модели (параметр **class_weight** с аргументом **balanced**).\n",
    "\n",
    "При этом нам нужно балансировать только тренировочный набор данных, тестировать же модель мы будем на данных с дисбалансом классов.\n",
    "\n",
    "Вместе с тем на данном этапе сложно сказать, на каком наборе данных модель покажет лучший результат - на наборе данных с балансом или дисбалансом классов - а также какой способ покажет себя более эффективным.\n",
    "\n",
    "Поэтому тренировочную выборку с дисбалансом классов мы сохраним в переменной features_train_disbalanced, сбалансированный техникой upsample набор данных - в переменной features_train_upsample, сбалансированный техникой downsample набор данных - в переменной features_train_downsample.\n",
    "\n",
    "Сначала сделаем копию тренировочной выборки, которую будем балансировать."
   ]
  },
  {
   "cell_type": "code",
   "execution_count": 21,
   "metadata": {},
   "outputs": [],
   "source": [
    "features_train_disbalanced = features_train.copy()\n",
    "target_train_disbalanced = target_train.copy()\n",
    "features_train_upsample = features_train.copy()\n",
    "target_train_upsample = target_train.copy()\n",
    "features_train_downsample = features_train.copy()\n",
    "target_train_downsample = target_train.copy()"
   ]
  },
  {
   "cell_type": "markdown",
   "metadata": {},
   "source": [
    "Реализуем балансировку классов за счёт техник upsample и downsample."
   ]
  },
  {
   "cell_type": "markdown",
   "metadata": {},
   "source": [
    "<a id='2.6.1'></a>\n",
    "### Этап 2.6.1. Балансировка классов техникой upsample.\n",
    "\n",
    "Декомпозируем тренировочную выборку: выделим в ней наборы данных, в которых значения целевого признака будут равны только 0 (features_train_upsample_zeros и target_train_upsample_zeros) и только 1 (features_train_upsample_ones и target_train_upsample_ones) соответственно."
   ]
  },
  {
   "cell_type": "code",
   "execution_count": 22,
   "metadata": {},
   "outputs": [],
   "source": [
    "features_train_upsample_zeros = features_train_upsample[target_train_upsample == 0]\n",
    "features_train_upsample_ones = features_train_upsample[target_train_upsample == 1]\n",
    "target_train_upsample_zeros = target_train_upsample[target_train_upsample == 0]\n",
    "target_train_upsample_ones = target_train_upsample[target_train_upsample == 1]"
   ]
  },
  {
   "cell_type": "markdown",
   "metadata": {},
   "source": [
    "Далее нужно определить, во сколько мы должны увеличить набор данных со значениями целевого признака, равными только 1.\n",
    "\n",
    "Самый очевидный способ - узнать, во сколько раз объектов целевого признака со значением 1 меньше, чем объектов целевого признака со значением 0, и увеличить количество объектов целевого признака со значением 1 на это значение. \n",
    "\n",
    "Само значение запишем в переменную **repeat_coeff**. При этом округлим его в большую сторону до целого значения и преобразуем в тип int, чтобы мы могли использовать его в методе **pd.concat**."
   ]
  },
  {
   "cell_type": "code",
   "execution_count": 23,
   "metadata": {},
   "outputs": [
    {
     "name": "stdout",
     "output_type": "stream",
     "text": [
      "4\n"
     ]
    }
   ],
   "source": [
    "repeat_coeff = int(np.ceil(target_train_upsample_zeros.shape[0] / target_train_upsample_ones.shape[0]))\n",
    "print(repeat_coeff)"
   ]
  },
  {
   "cell_type": "markdown",
   "metadata": {},
   "source": [
    "Видим, что количество объектов целевого признака со значением 1 меньше количества объектов целевого признака со значением 0 в 4 раза. Соответственно, чтобы достигнуть баланса классов, нужно в 4 раза увеличить размер набора данных со значениями целевого признака, равными только 1.\n",
    "\n",
    "Ипользуем метод pd.concat, чтобы объединить два набора данных в один."
   ]
  },
  {
   "cell_type": "code",
   "execution_count": 24,
   "metadata": {},
   "outputs": [],
   "source": [
    "features_train_upsample = pd.concat([features_train_upsample_zeros] + [features_train_upsample_ones] * repeat_coeff)\n",
    "target_train_upsample = pd.concat([target_train_upsample_zeros] + [target_train_upsample_ones] * repeat_coeff)"
   ]
  },
  {
   "cell_type": "markdown",
   "metadata": {},
   "source": [
    "Проверим соотношение классов целевого признака после балансировки классов."
   ]
  },
  {
   "cell_type": "code",
   "execution_count": 25,
   "metadata": {},
   "outputs": [
    {
     "data": {
      "text/plain": [
       "1    0.504919\n",
       "0    0.495081\n",
       "Name: Exited, dtype: float64"
      ]
     },
     "execution_count": 25,
     "metadata": {},
     "output_type": "execute_result"
    }
   ],
   "source": [
    "target_train_upsample.value_counts(normalize = True)"
   ]
  },
  {
   "cell_type": "markdown",
   "metadata": {},
   "source": [
    "Видим, что нам успешно удалось достичь баланса классов целевого признака.\n",
    "\n",
    "Однако после расширения набора данных объекты, количество которых мы увеличивали, идут друг за другом. Такой порядок следования объектов может негативно отразиться на обучении модели. \n",
    "\n",
    "Поэтому перемешаем объекты в наборе данных с помощью функции **shuffle**."
   ]
  },
  {
   "cell_type": "code",
   "execution_count": 26,
   "metadata": {},
   "outputs": [],
   "source": [
    "features_train_upsample, target_train_upsample = shuffle(features_train_upsample, target_train_upsample, random_state = 12345)"
   ]
  },
  {
   "cell_type": "markdown",
   "metadata": {},
   "source": [
    "Данные в тренировочной выборке успешно сбалансированы и перемешаны.\n",
    "\n",
    "<a href='#title'>К оглавлению.</a>"
   ]
  },
  {
   "cell_type": "markdown",
   "metadata": {},
   "source": [
    "<a id='2.6.2'></a>\n",
    "### Этап 2.6.2. Балансировка классов техникой downsample.\n",
    "\n",
    "Декомпозируем тренировочную выборку: выделим в ней наборы данных, в которых значения целевого признака будут равны только 0 (features_train_downsample_zeros и target_train_downsample_zeros) и только 1 (features_train_downsample_ones и target_train_downsample_ones) соответственно."
   ]
  },
  {
   "cell_type": "code",
   "execution_count": 27,
   "metadata": {},
   "outputs": [],
   "source": [
    "features_train_downsample_zeros = features_train_downsample[target_train_downsample == 0]\n",
    "features_train_downsample_ones = features_train_downsample[target_train_downsample == 1]\n",
    "target_train_downsample_zeros = target_train_downsample[target_train_downsample == 0]\n",
    "target_train_downsample_ones = target_train_downsample[target_train_downsample == 1]"
   ]
  },
  {
   "cell_type": "markdown",
   "metadata": {},
   "source": [
    "Далее нужно определить, насколько нужно сократить количество объектов с классом 0.\n",
    "\n",
    "Для этого можно найти обратную величину от ранее рассчитанного коэффициента repeat_coeff, который показывал, во сколько раз нужно увеличить количество объектов с классом 1, чтобы баланс классов был достигнут.\n",
    "\n",
    "Обратная величина этого коэффициента - назовём её **sample_coeff** - покажет, сколько должно отстаться объектов с классом 0 в наборе данных, чтобы классы были сбалансированы. "
   ]
  },
  {
   "cell_type": "code",
   "execution_count": 28,
   "metadata": {},
   "outputs": [
    {
     "name": "stdout",
     "output_type": "stream",
     "text": [
      "0.25\n"
     ]
    }
   ],
   "source": [
    "sample_coeff = 1 / repeat_coeff\n",
    "print(sample_coeff)"
   ]
  },
  {
   "cell_type": "markdown",
   "metadata": {},
   "source": [
    "Таким образом, мы должны отсечь от три четверти объектов с классом 0, чтобы в наборе данных был достигнут баланс классов.\n",
    "\n",
    "Сбалансируем классы. Для снижения количества объектов с классом 0 воспользуемся методом **sample**."
   ]
  },
  {
   "cell_type": "code",
   "execution_count": 29,
   "metadata": {},
   "outputs": [],
   "source": [
    "features_train_downsample = pd.concat([features_train_downsample_zeros.sample(frac=sample_coeff, random_state=12345)] + \\\n",
    "                                      [features_train_downsample_ones])\n",
    "target_train_downsample = pd.concat([target_train_downsample_zeros.sample(frac=sample_coeff, random_state=12345)] + \\\n",
    "                                    [target_train_downsample_ones])"
   ]
  },
  {
   "cell_type": "markdown",
   "metadata": {},
   "source": [
    "Проверим, что получилось: посчитаем соотношение классов в наборе данных."
   ]
  },
  {
   "cell_type": "code",
   "execution_count": 30,
   "metadata": {},
   "outputs": [
    {
     "data": {
      "text/plain": [
       "1    0.504971\n",
       "0    0.495029\n",
       "Name: Exited, dtype: float64"
      ]
     },
     "execution_count": 30,
     "metadata": {},
     "output_type": "execute_result"
    }
   ],
   "source": [
    "target_train_downsample.value_counts(normalize = True)"
   ]
  },
  {
   "cell_type": "markdown",
   "metadata": {},
   "source": [
    "Видим, что мы успешно достигли баланса классов. \n",
    "\n",
    "Сбалансированный набор данных - так же, как и в случае с техникой upsampling - требуется перемешать. Воспользуемся функцией **shuffle**. "
   ]
  },
  {
   "cell_type": "code",
   "execution_count": 31,
   "metadata": {},
   "outputs": [],
   "source": [
    "features_train_downsample, target_train_downsample = shuffle(features_train_downsample, target_train_downsample, \n",
    "                                                             random_state = 12345)"
   ]
  },
  {
   "cell_type": "markdown",
   "metadata": {},
   "source": [
    "Данные в тренировочной выборке успешно сбалансированы и перемешаны.\n",
    "\n",
    "<a href='#title'>К оглавлению.</a>"
   ]
  },
  {
   "cell_type": "markdown",
   "metadata": {},
   "source": [
    "# Вывод по этапу 2. \n",
    "\n",
    "На данном этапе мы провели исследование данных и их подготовку к моделированию. В рамках этого этапа мы выполнили следующие активности:\n",
    "\n",
    "1. Удаление лишних признаков.\n",
    "\n",
    "\n",
    "2. Преобразование категориальных признаков в дамми-признаки.\n",
    "\n",
    "\n",
    "3. Анализ зависимостей между признаками.\n",
    "\n",
    "\n",
    "4. Разделение набора данных на тренировочную, валидационную и тестовую части.\n",
    "\n",
    "\n",
    "5. Масштабирование количественных признаков.\n",
    "\n",
    "\n",
    "6. Балансировка классов.\n",
    "\n",
    "\n",
    "В рамках данных активностей отметим следующие результаты:\n",
    "\n",
    "1. В ходе предварительного анализа набора данных было установлено, что набор данных содержит 2 поля - **CustomerId** и **Surname**, использование которых при моделировании кажется нецелесообразным. Поля были идентифицированы как информационные и не имеющие ценности для моделирования, которые тем не менее могут исказить результаты работы модели, поэтому они были удалены из набора данных.\n",
    "\n",
    "\n",
    "2. В ходе предварительного анализа набора данных было установлено, что набор данных содержит 3 поля с категориальными признаками: это поля **Surname**, **Geography** и **Gender**. Поле **Surname** было удалено из набора данных, а поля **Geography** и **Gender** были преобразованы в **дамми-признаки**. При этом при преобразовании признаков в дамми-признаки **первое поле было удалено для избежания дамми-ловушки**.\n",
    "\n",
    "\n",
    "3. Были исследованы зависимости между признаками для исключения влияния на модель эффекта мультиколлинеарности. Для этого была рассчитана **матрица корреляций**, которая вкупе с рациональным анализом показала, что **между признаками отсутствует мультиколлинеарность**, поэтому для обучения модели будем использовать все признаки из набора данных.\n",
    "\n",
    "\n",
    "4. Набор данных был разделён на **тренировочную, валидационную и тестовую выборки в соотношении 60% : 20% : 20% соответственно.**\n",
    "\n",
    "\n",
    "5. В ходе предварительного анализа набора данных было установлено, что **количественные признаки в наборе данных несбалансированы**, что может повлиять на результаты работы модели: признаки с большими значениями могут быть восприняты алгоритмами как более важные, хотя признаки в наборе данных являются равнозначными. Поэтому все количественные признаки (кроме целевого признака и признаков, имеющих бинарные значения), были подвергнуты **z-преобразованию (или масштабированию)**, что подразумевает их приведение к значениям со средним, равным 0, и стандартным отклонением, равным 1. \n",
    "\n",
    "\n",
    "6. В ходе предварительного анализа набора данных было установлено, что **классы в целевой переменной не сбалансированы**. Баланс классов был достигнут за счёт применения техник **upsampling** и **downsampling**, а также будет достигнут при обучении модели за счёт передачи параметру **class_weight** аргумента **balanced**. Также для определения влияния баланса классов на результаты работы моделей и определения лучшей техники борьбы с дисбалансом результаты балансировки классов в тренировочной выборке были сохранены в различных переменных, на которых будут обучены модели.\n",
    "\n",
    "<a href='#title'>К оглавлению.</a>"
   ]
  },
  {
   "cell_type": "markdown",
   "metadata": {},
   "source": [
    "# Этап 3. Моделирование.\n",
    "\n",
    "На данном этапе исследуем модели, основанные на алгоритме **логистической регрессии, дереве решений и случайном лесе**, при этом исследуем модели при сбалансированности и дисбалансе классов целевой переменной.\n",
    "\n",
    "Отмечу, что сначала из некоторых построенных моделей мы определим лучшую, а результаты работы лучшей модели проанализиуем более детально."
   ]
  },
  {
   "cell_type": "markdown",
   "metadata": {},
   "source": [
    "<a id='3.1'></a>\n",
    "## Этап 3.1. Исследование модели, основанной на алгоритме логистической регрессии.\n",
    "\n",
    "Построим модель, основанную на алгоритме логистической регрессии. Оптимизировать будем **гиперпараметр С**, являющийся коэффициентом регуляризации."
   ]
  },
  {
   "cell_type": "markdown",
   "metadata": {},
   "source": [
    "<a id='3.1.1'></a>\n",
    "### Этап 3.1.1. Исследование модели, основанной на алгоритме логистической регрессии и обученной на выборке с дисбалансом классов.\n",
    "\n",
    "Сначала рассмотрим модель, обученную на выборке с дисбалансом классов."
   ]
  },
  {
   "cell_type": "code",
   "execution_count": 32,
   "metadata": {
    "scrolled": true
   },
   "outputs": [
    {
     "name": "stdout",
     "output_type": "stream",
     "text": [
      "F1-мера на тренировочной выборке достигает значения 0.322 при значении коэффициента регуляризации 0.1\n",
      "F1-мера на валидационной выборке достигает значения 0.2966 при значении коэффициента регуляризации 0.1\n",
      "F1-мера на тренировочной выборке достигает значения 0.3289 при значении коэффициента регуляризации 0.2\n",
      "F1-мера на валидационной выборке достигает значения 0.3013 при значении коэффициента регуляризации 0.2\n",
      "F1-мера на тренировочной выборке достигает значения 0.3293 при значении коэффициента регуляризации 0.3\n",
      "F1-мера на валидационной выборке достигает значения 0.3019 при значении коэффициента регуляризации 0.3\n",
      "F1-мера на тренировочной выборке достигает значения 0.3281 при значении коэффициента регуляризации 0.4\n",
      "F1-мера на валидационной выборке достигает значения 0.3013 при значении коэффициента регуляризации 0.4\n",
      "F1-мера на тренировочной выборке достигает значения 0.3281 при значении коэффициента регуляризации 0.5\n",
      "F1-мера на валидационной выборке достигает значения 0.3008 при значении коэффициента регуляризации 0.5\n",
      "F1-мера на тренировочной выборке достигает значения 0.3288 при значении коэффициента регуляризации 0.6\n",
      "F1-мера на валидационной выборке достигает значения 0.3039 при значении коэффициента регуляризации 0.6\n",
      "F1-мера на тренировочной выборке достигает значения 0.3297 при значении коэффициента регуляризации 0.7\n",
      "F1-мера на валидационной выборке достигает значения 0.3039 при значении коэффициента регуляризации 0.7\n",
      "F1-мера на тренировочной выборке достигает значения 0.3297 при значении коэффициента регуляризации 0.8\n",
      "F1-мера на валидационной выборке достигает значения 0.3039 при значении коэффициента регуляризации 0.8\n",
      "F1-мера на тренировочной выборке достигает значения 0.3297 при значении коэффициента регуляризации 0.9\n",
      "F1-мера на валидационной выборке достигает значения 0.3039 при значении коэффициента регуляризации 0.9\n",
      "F1-мера на тренировочной выборке достигает значения 0.3297 при значении коэффициента регуляризации 1.0\n",
      "F1-мера на валидационной выборке достигает значения 0.3039 при значении коэффициента регуляризации 1.0\n",
      "F1-мера на тренировочной выборке достигает значения 0.3297 при значении коэффициента регуляризации 1.1\n",
      "F1-мера на валидационной выборке достигает значения 0.3039 при значении коэффициента регуляризации 1.1\n",
      "F1-мера на тренировочной выборке достигает значения 0.3296 при значении коэффициента регуляризации 1.2\n",
      "F1-мера на валидационной выборке достигает значения 0.3039 при значении коэффициента регуляризации 1.2\n",
      "F1-мера на тренировочной выборке достигает значения 0.3296 при значении коэффициента регуляризации 1.3\n",
      "F1-мера на валидационной выборке достигает значения 0.3039 при значении коэффициента регуляризации 1.3\n",
      "F1-мера на тренировочной выборке достигает значения 0.3296 при значении коэффициента регуляризации 1.4\n",
      "F1-мера на валидационной выборке достигает значения 0.3039 при значении коэффициента регуляризации 1.4\n",
      "F1-мера на тренировочной выборке достигает значения 0.3296 при значении коэффициента регуляризации 1.5\n",
      "F1-мера на валидационной выборке достигает значения 0.3039 при значении коэффициента регуляризации 1.5\n",
      "F1-мера на тренировочной выборке достигает значения 0.3296 при значении коэффициента регуляризации 1.6\n",
      "F1-мера на валидационной выборке достигает значения 0.3039 при значении коэффициента регуляризации 1.6\n",
      "F1-мера на тренировочной выборке достигает значения 0.3294 при значении коэффициента регуляризации 1.7\n",
      "F1-мера на валидационной выборке достигает значения 0.3039 при значении коэффициента регуляризации 1.7\n",
      "F1-мера на тренировочной выборке достигает значения 0.3294 при значении коэффициента регуляризации 1.8\n",
      "F1-мера на валидационной выборке достигает значения 0.3039 при значении коэффициента регуляризации 1.8\n",
      "F1-мера на тренировочной выборке достигает значения 0.3294 при значении коэффициента регуляризации 1.9\n",
      "F1-мера на валидационной выборке достигает значения 0.3039 при значении коэффициента регуляризации 1.9\n",
      "F1-мера на тренировочной выборке достигает значения 0.3294 при значении коэффициента регуляризации 2.0\n",
      "F1-мера на валидационной выборке достигает значения 0.3039 при значении коэффициента регуляризации 2.0\n",
      "F1-мера на тренировочной выборке достигает значения 0.3294 при значении коэффициента регуляризации 2.1\n",
      "F1-мера на валидационной выборке достигает значения 0.3039 при значении коэффициента регуляризации 2.1\n",
      "F1-мера на тренировочной выборке достигает значения 0.3294 при значении коэффициента регуляризации 2.2\n",
      "F1-мера на валидационной выборке достигает значения 0.3039 при значении коэффициента регуляризации 2.2\n",
      "F1-мера на тренировочной выборке достигает значения 0.3294 при значении коэффициента регуляризации 2.3\n",
      "F1-мера на валидационной выборке достигает значения 0.3039 при значении коэффициента регуляризации 2.3\n",
      "F1-мера на тренировочной выборке достигает значения 0.3294 при значении коэффициента регуляризации 2.4\n",
      "F1-мера на валидационной выборке достигает значения 0.3039 при значении коэффициента регуляризации 2.4\n",
      "F1-мера на тренировочной выборке достигает значения 0.3294 при значении коэффициента регуляризации 2.5\n",
      "F1-мера на валидационной выборке достигает значения 0.3039 при значении коэффициента регуляризации 2.5\n",
      "F1-мера на тренировочной выборке достигает значения 0.3294 при значении коэффициента регуляризации 2.6\n",
      "F1-мера на валидационной выборке достигает значения 0.3039 при значении коэффициента регуляризации 2.6\n",
      "F1-мера на тренировочной выборке достигает значения 0.3294 при значении коэффициента регуляризации 2.7\n",
      "F1-мера на валидационной выборке достигает значения 0.3039 при значении коэффициента регуляризации 2.7\n",
      "F1-мера на тренировочной выборке достигает значения 0.3294 при значении коэффициента регуляризации 2.8\n",
      "F1-мера на валидационной выборке достигает значения 0.3039 при значении коэффициента регуляризации 2.8\n",
      "F1-мера на тренировочной выборке достигает значения 0.3294 при значении коэффициента регуляризации 2.9\n",
      "F1-мера на валидационной выборке достигает значения 0.3039 при значении коэффициента регуляризации 2.9\n",
      "F1-мера на тренировочной выборке достигает значения 0.3294 при значении коэффициента регуляризации 3.0\n",
      "F1-мера на валидационной выборке достигает значения 0.3039 при значении коэффициента регуляризации 3.0\n"
     ]
    }
   ],
   "source": [
    "c_lst = [(round(i, 2)) for i in np.arange(0.1, 3.01, 0.1)]\n",
    "f1_train_lst = []\n",
    "f1_validate_lst = []\n",
    "for c in np.arange(0.1, 3.01, 0.1):\n",
    "    model = LogisticRegression(C = c, random_state = 12345)\n",
    "    model.fit(features_train_disbalanced, target_train_disbalanced)\n",
    "    predictions_train = model.predict(features_train_disbalanced)\n",
    "    predictions_validate = model.predict(features_validate)\n",
    "    f1_train = f1_score(target_train_disbalanced, predictions_train)\n",
    "    f1_train_lst.append(f1_train)\n",
    "    print('F1-мера на тренировочной выборке достигает значения', round(f1_train, 4), 'при значении коэффициента регуляризации',\n",
    "         round(c, 2))\n",
    "    f1_validate = f1_score(target_validate, predictions_validate)\n",
    "    f1_validate_lst.append(f1_validate)\n",
    "    print('F1-мера на валидационной выборке достигает значения', round(f1_validate, 4), 'при значении коэффициента регуляризации',\n",
    "         round(c, 2)) "
   ]
  },
  {
   "cell_type": "markdown",
   "metadata": {},
   "source": [
    "Визуализируем полученную информацию."
   ]
  },
  {
   "cell_type": "code",
   "execution_count": 33,
   "metadata": {},
   "outputs": [
    {
     "data": {
      "image/png": "[encoded data removed]",
      "text/plain": [
       "<Figure size 1440x360 with 1 Axes>"
      ]
     },
     "metadata": {
      "needs_background": "light"
     },
     "output_type": "display_data"
    }
   ],
   "source": [
    "columns = ['с_coef', 'f1_train', 'f1_validate']\n",
    "df_f1_log_reg = pd.DataFrame(data = zip(c_lst, f1_train_lst, f1_validate_lst), columns = columns)\n",
    "ax = df_f1_log_reg.plot(y = 'f1_train', x = 'с_coef', kind = 'bar', figsize = (20, 5), color = 'y', \n",
    "align = 'edge', label = 'f1_train', title = ('Динамика F1-меры в зависимости от коэффициента регуляризации \\\n",
    "(логистическая регрессия, классы не сбалансированы)'))\n",
    "df_f1_log_reg.plot(y = 'f1_validate', x = 'с_coef', kind = 'bar', figsize = (20, 5), \n",
    "                          color = 'b', ax = ax, align = 'center', \n",
    "label = 'f1_validate')\n",
    "plt.xlabel('Коэффициент регуляризации')\n",
    "plt.ylabel('F1-мера')\n",
    "plt.ylim(0, 1)\n",
    "plt.show()"
   ]
  },
  {
   "cell_type": "markdown",
   "metadata": {},
   "source": [
    "Наиболее значение **F1-меры** достигается при значении **коэффициента регуляризации**, равному **0.6**: значение **F1-меры** составляет **0.3288 на тренировочной выборке** и **0.3039 на валидационной выборке**. \n",
    "\n",
    "Поэтому **оптимальным значением гиперпараметра с будетм считать 0.7**.\n",
    "\n",
    "Отмечу, что модель, основанная на алгоритме логистической регрессии не склонна к переобучению по мере увеличения коэффициента регуляризации - разница между значениями **F1-меры**, полученной на тренировочной и валидационной выборках, минимальна.\n",
    "\n",
    "Обучим модель, используя оптимальное значение гиперпараметра, и протестируем её на тестовой выборке."
   ]
  },
  {
   "cell_type": "code",
   "execution_count": 34,
   "metadata": {},
   "outputs": [
    {
     "name": "stdout",
     "output_type": "stream",
     "text": [
      "F1-мера для модели логистической регрессии (классы не сбалансированы): 0.3018\n"
     ]
    }
   ],
   "source": [
    "model = LogisticRegression(C = 0.7, random_state = 12345)\n",
    "model.fit(features_train_disbalanced, target_train_disbalanced)\n",
    "predictions_test = model.predict(features_test)\n",
    "print('F1-мера для модели логистической регрессии (классы не сбалансированы):', \n",
    "      round((f1_score(target_test, predictions_test)), 4))"
   ]
  },
  {
   "cell_type": "markdown",
   "metadata": {},
   "source": [
    "**F1-мера** для построенной модели сложилась на уровне **0.3018**, что **не соответствует** значению целевой метрики **не менее 0.59**, установленному условиями проекта. Следовательно, модель плохо предсказывает уход клиента. \n",
    "\n",
    "Рассчитаем метрику **ROC-AUC**."
   ]
  },
  {
   "cell_type": "code",
   "execution_count": 35,
   "metadata": {},
   "outputs": [
    {
     "name": "stdout",
     "output_type": "stream",
     "text": [
      "ROC-AUC для построенной модели: 0.7589\n"
     ]
    }
   ],
   "source": [
    "print('ROC-AUC для построенной модели:', round((roc_auc_score(target_test, model.predict_proba(features_test)[:, 1])), 4))"
   ]
  },
  {
   "cell_type": "markdown",
   "metadata": {},
   "source": [
    "**ROC-AUC** для построенной модели лучше, чем для случайной модели (т.е. выше значения 0.5). Можно говорить о том, что модель корректна, однако до хорошего предсказания ухода клиента ещё далеко.\n",
    "\n",
    "Исследуем другие модели.\n",
    "\n",
    "<a href='#title'>К оглавлению.</a>"
   ]
  },
  {
   "cell_type": "markdown",
   "metadata": {},
   "source": [
    "<a id='3.1.2'></a>\n",
    "### Этап 3.1.2. Исследование модели, основанной на алгоритме логистической регрессии с взвешинванием классов и обученной на выборке с дисбалансом классов.\n",
    "\n",
    "Рассмотрим модель, которая будет обучена на данных с дисбалансом классов. Однако в этот раз мы придадим объектам редкого класса больший вес. Для этого передадим параметру **class_weight** аргумента **balanced**."
   ]
  },
  {
   "cell_type": "code",
   "execution_count": 36,
   "metadata": {
    "scrolled": true
   },
   "outputs": [
    {
     "name": "stdout",
     "output_type": "stream",
     "text": [
      "F1-мера на тренировочной выборке достигает значения 0.4971 при значении коэффициента регуляризации 0.1\n",
      "F1-мера на валидационной выборке достигает значения 0.4768 при значении коэффициента регуляризации 0.1\n",
      "F1-мера на тренировочной выборке достигает значения 0.4952 при значении коэффициента регуляризации 0.2\n",
      "F1-мера на валидационной выборке достигает значения 0.4786 при значении коэффициента регуляризации 0.2\n",
      "F1-мера на тренировочной выборке достигает значения 0.4946 при значении коэффициента регуляризации 0.3\n",
      "F1-мера на валидационной выборке достигает значения 0.479 при значении коэффициента регуляризации 0.3\n",
      "F1-мера на тренировочной выборке достигает значения 0.4943 при значении коэффициента регуляризации 0.4\n",
      "F1-мера на валидационной выборке достигает значения 0.479 при значении коэффициента регуляризации 0.4\n",
      "F1-мера на тренировочной выборке достигает значения 0.494 при значении коэффициента регуляризации 0.5\n",
      "F1-мера на валидационной выборке достигает значения 0.479 при значении коэффициента регуляризации 0.5\n",
      "F1-мера на тренировочной выборке достигает значения 0.494 при значении коэффициента регуляризации 0.6\n",
      "F1-мера на валидационной выборке достигает значения 0.479 при значении коэффициента регуляризации 0.6\n",
      "F1-мера на тренировочной выборке достигает значения 0.494 при значении коэффициента регуляризации 0.7\n",
      "F1-мера на валидационной выборке достигает значения 0.479 при значении коэффициента регуляризации 0.7\n",
      "F1-мера на тренировочной выборке достигает значения 0.494 при значении коэффициента регуляризации 0.8\n",
      "F1-мера на валидационной выборке достигает значения 0.479 при значении коэффициента регуляризации 0.8\n",
      "F1-мера на тренировочной выборке достигает значения 0.4945 при значении коэффициента регуляризации 0.9\n",
      "F1-мера на валидационной выборке достигает значения 0.479 при значении коэффициента регуляризации 0.9\n",
      "F1-мера на тренировочной выборке достигает значения 0.4945 при значении коэффициента регуляризации 1.0\n",
      "F1-мера на валидационной выборке достигает значения 0.479 при значении коэффициента регуляризации 1.0\n",
      "F1-мера на тренировочной выборке достигает значения 0.4945 при значении коэффициента регуляризации 1.1\n",
      "F1-мера на валидационной выборке достигает значения 0.479 при значении коэффициента регуляризации 1.1\n",
      "F1-мера на тренировочной выборке достигает значения 0.4945 при значении коэффициента регуляризации 1.2\n",
      "F1-мера на валидационной выборке достигает значения 0.4794 при значении коэффициента регуляризации 1.2\n",
      "F1-мера на тренировочной выборке достигает значения 0.4945 при значении коэффициента регуляризации 1.3\n",
      "F1-мера на валидационной выборке достигает значения 0.4794 при значении коэффициента регуляризации 1.3\n",
      "F1-мера на тренировочной выборке достигает значения 0.4945 при значении коэффициента регуляризации 1.4\n",
      "F1-мера на валидационной выборке достигает значения 0.4808 при значении коэффициента регуляризации 1.4\n",
      "F1-мера на тренировочной выборке достигает значения 0.4945 при значении коэффициента регуляризации 1.5\n",
      "F1-мера на валидационной выборке достигает значения 0.4808 при значении коэффициента регуляризации 1.5\n",
      "F1-мера на тренировочной выборке достигает значения 0.4945 при значении коэффициента регуляризации 1.6\n",
      "F1-мера на валидационной выборке достигает значения 0.4808 при значении коэффициента регуляризации 1.6\n",
      "F1-мера на тренировочной выборке достигает значения 0.4945 при значении коэффициента регуляризации 1.7\n",
      "F1-мера на валидационной выборке достигает значения 0.4821 при значении коэффициента регуляризации 1.7\n",
      "F1-мера на тренировочной выборке достигает значения 0.4945 при значении коэффициента регуляризации 1.8\n",
      "F1-мера на валидационной выборке достигает значения 0.4821 при значении коэффициента регуляризации 1.8\n",
      "F1-мера на тренировочной выборке достигает значения 0.4945 при значении коэффициента регуляризации 1.9\n",
      "F1-мера на валидационной выборке достигает значения 0.4821 при значении коэффициента регуляризации 1.9\n",
      "F1-мера на тренировочной выборке достигает значения 0.4945 при значении коэффициента регуляризации 2.0\n",
      "F1-мера на валидационной выборке достигает значения 0.4821 при значении коэффициента регуляризации 2.0\n",
      "F1-мера на тренировочной выборке достигает значения 0.4946 при значении коэффициента регуляризации 2.1\n",
      "F1-мера на валидационной выборке достигает значения 0.4821 при значении коэффициента регуляризации 2.1\n",
      "F1-мера на тренировочной выборке достигает значения 0.4946 при значении коэффициента регуляризации 2.2\n",
      "F1-мера на валидационной выборке достигает значения 0.4821 при значении коэффициента регуляризации 2.2\n",
      "F1-мера на тренировочной выборке достигает значения 0.4946 при значении коэффициента регуляризации 2.3\n",
      "F1-мера на валидационной выборке достигает значения 0.4821 при значении коэффициента регуляризации 2.3\n",
      "F1-мера на тренировочной выборке достигает значения 0.4946 при значении коэффициента регуляризации 2.4\n",
      "F1-мера на валидационной выборке достигает значения 0.4821 при значении коэффициента регуляризации 2.4\n",
      "F1-мера на тренировочной выборке достигает значения 0.4946 при значении коэффициента регуляризации 2.5\n",
      "F1-мера на валидационной выборке достигает значения 0.4821 при значении коэффициента регуляризации 2.5\n",
      "F1-мера на тренировочной выборке достигает значения 0.4946 при значении коэффициента регуляризации 2.6\n",
      "F1-мера на валидационной выборке достигает значения 0.4821 при значении коэффициента регуляризации 2.6\n",
      "F1-мера на тренировочной выборке достигает значения 0.4946 при значении коэффициента регуляризации 2.7\n",
      "F1-мера на валидационной выборке достигает значения 0.4821 при значении коэффициента регуляризации 2.7\n",
      "F1-мера на тренировочной выборке достигает значения 0.4946 при значении коэффициента регуляризации 2.8\n",
      "F1-мера на валидационной выборке достигает значения 0.4821 при значении коэффициента регуляризации 2.8\n",
      "F1-мера на тренировочной выборке достигает значения 0.4946 при значении коэффициента регуляризации 2.9\n",
      "F1-мера на валидационной выборке достигает значения 0.4821 при значении коэффициента регуляризации 2.9\n",
      "F1-мера на тренировочной выборке достигает значения 0.4946 при значении коэффициента регуляризации 3.0\n",
      "F1-мера на валидационной выборке достигает значения 0.4821 при значении коэффициента регуляризации 3.0\n"
     ]
    }
   ],
   "source": [
    "c_lst = [(round(i, 2)) for i in np.arange(0.1, 3.01, 0.1)]\n",
    "f1_train_lst = []\n",
    "f1_validate_lst = []\n",
    "for c in np.arange(0.1, 3.01, 0.1):\n",
    "    model = LogisticRegression(C = c,  class_weight = 'balanced', random_state = 12345)\n",
    "    model.fit(features_train_disbalanced, target_train_disbalanced)\n",
    "    predictions_train = model.predict(features_train_disbalanced)\n",
    "    predictions_validate = model.predict(features_validate)\n",
    "    f1_train = f1_score(target_train_disbalanced, predictions_train)\n",
    "    f1_train_lst.append(f1_train)\n",
    "    print('F1-мера на тренировочной выборке достигает значения', round(f1_train, 4), 'при значении коэффициента регуляризации',\n",
    "         round(c, 2))\n",
    "    f1_validate = f1_score(target_validate, predictions_validate)\n",
    "    f1_validate_lst.append(f1_validate)\n",
    "    print('F1-мера на валидационной выборке достигает значения', round(f1_validate, 4), 'при значении коэффициента регуляризации',\n",
    "         round(c, 2)) "
   ]
  },
  {
   "cell_type": "markdown",
   "metadata": {},
   "source": [
    "Визуализируем полученную информацию."
   ]
  },
  {
   "cell_type": "code",
   "execution_count": 37,
   "metadata": {},
   "outputs": [
    {
     "data": {
      "image/png": "[encoded data removed]",
      "text/plain": [
       "<Figure size 1440x360 with 1 Axes>"
      ]
     },
     "metadata": {
      "needs_background": "light"
     },
     "output_type": "display_data"
    }
   ],
   "source": [
    "columns = ['с_coef', 'f1_train', 'f1_validate']\n",
    "df_f1_log_reg = pd.DataFrame(data = zip(c_lst, f1_train_lst, f1_validate_lst), columns = columns)\n",
    "ax = df_f1_log_reg.plot(y = 'f1_train', x = 'с_coef', kind = 'bar', figsize = (20, 5), color = 'y', \n",
    "align = 'edge', label = 'f1_train', title = ('Динамика F1-меры в зависимости от коэффициента регуляризации \\\n",
    "(логистическая регрессия с взвешиванием классов)'))\n",
    "df_f1_log_reg.plot(y = 'f1_validate', x = 'с_coef', kind = 'bar', figsize = (20, 5), \n",
    "                          color = 'b', ax = ax, align = 'center', \n",
    "label = 'f1_validate')\n",
    "plt.xlabel('Коэффициент регуляризации')\n",
    "plt.ylabel('F1-мера')\n",
    "plt.ylim(0, 1)\n",
    "plt.show()"
   ]
  },
  {
   "cell_type": "markdown",
   "metadata": {},
   "source": [
    "Наиболее значение **F1-меры** достигается при значении **коэффициента регуляризации**, равному **1.7**: значение **F1-меры** составляет **0.4945 на тренировочной выборке** и **0.4821 на валидационной выборке**. \n",
    "\n",
    "Поэтому **оптимальным значением гиперпараметра с будетм считать 1.7**.\n",
    "\n",
    "Отмечу, что модель, основанная на алгоритме логистической регрессии не склонна к переобучению по мере увеличения коэффициента регуляризации - разница между значениями **F1-меры**, полученной на тренировочной и валидационной выборках, минимальна.\n",
    "\n",
    "Обучим модель, используя оптимальное значение гиперпараметра, и протестируем её на тестовой выборке."
   ]
  },
  {
   "cell_type": "code",
   "execution_count": 38,
   "metadata": {},
   "outputs": [
    {
     "name": "stdout",
     "output_type": "stream",
     "text": [
      "F1-мера для модели логистической регрессии с взвешиванием классов (классы не сбалансированы): 0.5046\n"
     ]
    }
   ],
   "source": [
    "model = LogisticRegression(C = 1.7, class_weight = 'balanced', random_state = 12345)\n",
    "model.fit(features_train_disbalanced, target_train_disbalanced)\n",
    "predictions_test = model.predict(features_test)\n",
    "print('F1-мера для модели логистической регрессии с взвешиванием классов (классы не сбалансированы):', \n",
    "      round((f1_score(target_test, predictions_test)), 4))"
   ]
  },
  {
   "cell_type": "markdown",
   "metadata": {},
   "source": [
    "**F1-мера** для построенной модели сложилась на уровне **0.5046**, что **не соответствует** значению целевой метрики **не менее 0.59**, установленному условиями проекта. Следовательно, модель плохо предсказывает уход клиента. \n",
    "\n",
    "Вместе с тем отмечу, что **качество модели на тестовой выборке заметно возрасло** при взвешивании классов относительно модели, которая была обучена на выборке с дисбалансом классов."
   ]
  },
  {
   "cell_type": "markdown",
   "metadata": {},
   "source": [
    "Рассчитаем метрику **ROC-AUC**."
   ]
  },
  {
   "cell_type": "code",
   "execution_count": 39,
   "metadata": {},
   "outputs": [
    {
     "name": "stdout",
     "output_type": "stream",
     "text": [
      "ROC-AUC для построенной модели: 0.7646\n"
     ]
    }
   ],
   "source": [
    "print('ROC-AUC для построенной модели:', round((roc_auc_score(target_test, model.predict_proba(features_test)[:, 1])), 4))"
   ]
  },
  {
   "cell_type": "markdown",
   "metadata": {},
   "source": [
    "**ROC-AUC** для построенной модели лучше, чем для случайной модели (т.е. выше значения 0.5). Можно говорить о том, что модель корректна, однако до хорошего предсказания ухода клиента ещё далеко.\n",
    "\n",
    "<a href='#title'>К оглавлению.</a>"
   ]
  },
  {
   "cell_type": "markdown",
   "metadata": {},
   "source": [
    "<a id='3.1.3'></a>\n",
    "### Этап 3.1.3. Исследование модели, основанной на алгоритме логистической регрессии и обученной на выборке с балансом классов (downsampling).\n",
    "\n",
    "Рассмотрим модель, которая будет обучена на данных с балансом классов, достигнутом за счёт применения техники downsampling."
   ]
  },
  {
   "cell_type": "code",
   "execution_count": 40,
   "metadata": {
    "scrolled": true
   },
   "outputs": [
    {
     "name": "stdout",
     "output_type": "stream",
     "text": [
      "F1-мера на тренировочной выборке достигает значения 0.7139 при значении коэффициента регуляризации 0.1\n",
      "F1-мера на валидационной выборке достигает значения 0.477 при значении коэффициента регуляризации 0.1\n",
      "F1-мера на тренировочной выборке достигает значения 0.7125 при значении коэффициента регуляризации 0.2\n",
      "F1-мера на валидационной выборке достигает значения 0.4753 при значении коэффициента регуляризации 0.2\n",
      "F1-мера на тренировочной выборке достигает значения 0.71 при значении коэффициента регуляризации 0.3\n",
      "F1-мера на валидационной выборке достигает значения 0.4736 при значении коэффициента регуляризации 0.3\n",
      "F1-мера на тренировочной выборке достигает значения 0.7098 при значении коэффициента регуляризации 0.4\n",
      "F1-мера на валидационной выборке достигает значения 0.4736 при значении коэффициента регуляризации 0.4\n",
      "F1-мера на тренировочной выборке достигает значения 0.7108 при значении коэффициента регуляризации 0.5\n",
      "F1-мера на валидационной выборке достигает значения 0.4736 при значении коэффициента регуляризации 0.5\n",
      "F1-мера на тренировочной выборке достигает значения 0.7111 при значении коэффициента регуляризации 0.6\n",
      "F1-мера на валидационной выборке достигает значения 0.4744 при значении коэффициента регуляризации 0.6\n",
      "F1-мера на тренировочной выборке достигает значения 0.7114 при значении коэффициента регуляризации 0.7\n",
      "F1-мера на валидационной выборке достигает значения 0.4744 при значении коэффициента регуляризации 0.7\n",
      "F1-мера на тренировочной выборке достигает значения 0.7114 при значении коэффициента регуляризации 0.8\n",
      "F1-мера на валидационной выборке достигает значения 0.474 при значении коэффициента регуляризации 0.8\n",
      "F1-мера на тренировочной выборке достигает значения 0.7114 при значении коэффициента регуляризации 0.9\n",
      "F1-мера на валидационной выборке достигает значения 0.474 при значении коэффициента регуляризации 0.9\n",
      "F1-мера на тренировочной выборке достигает значения 0.7114 при значении коэффициента регуляризации 1.0\n",
      "F1-мера на валидационной выборке достигает значения 0.4736 при значении коэффициента регуляризации 1.0\n",
      "F1-мера на тренировочной выборке достигает значения 0.7114 при значении коэффициента регуляризации 1.1\n",
      "F1-мера на валидационной выборке достигает значения 0.474 при значении коэффициента регуляризации 1.1\n",
      "F1-мера на тренировочной выборке достигает значения 0.7114 при значении коэффициента регуляризации 1.2\n",
      "F1-мера на валидационной выборке достигает значения 0.474 при значении коэффициента регуляризации 1.2\n",
      "F1-мера на тренировочной выборке достигает значения 0.7114 при значении коэффициента регуляризации 1.3\n",
      "F1-мера на валидационной выборке достигает значения 0.474 при значении коэффициента регуляризации 1.3\n",
      "F1-мера на тренировочной выборке достигает значения 0.7114 при значении коэффициента регуляризации 1.4\n",
      "F1-мера на валидационной выборке достигает значения 0.474 при значении коэффициента регуляризации 1.4\n",
      "F1-мера на тренировочной выборке достигает значения 0.7114 при значении коэффициента регуляризации 1.5\n",
      "F1-мера на валидационной выборке достигает значения 0.474 при значении коэффициента регуляризации 1.5\n",
      "F1-мера на тренировочной выборке достигает значения 0.7114 при значении коэффициента регуляризации 1.6\n",
      "F1-мера на валидационной выборке достигает значения 0.474 при значении коэффициента регуляризации 1.6\n",
      "F1-мера на тренировочной выборке достигает значения 0.7114 при значении коэффициента регуляризации 1.7\n",
      "F1-мера на валидационной выборке достигает значения 0.474 при значении коэффициента регуляризации 1.7\n",
      "F1-мера на тренировочной выборке достигает значения 0.7114 при значении коэффициента регуляризации 1.8\n",
      "F1-мера на валидационной выборке достигает значения 0.474 при значении коэффициента регуляризации 1.8\n",
      "F1-мера на тренировочной выборке достигает значения 0.7114 при значении коэффициента регуляризации 1.9\n",
      "F1-мера на валидационной выборке достигает значения 0.474 при значении коэффициента регуляризации 1.9\n",
      "F1-мера на тренировочной выборке достигает значения 0.7114 при значении коэффициента регуляризации 2.0\n",
      "F1-мера на валидационной выборке достигает значения 0.4749 при значении коэффициента регуляризации 2.0\n",
      "F1-мера на тренировочной выборке достигает значения 0.7114 при значении коэффициента регуляризации 2.1\n",
      "F1-мера на валидационной выборке достигает значения 0.4745 при значении коэффициента регуляризации 2.1\n",
      "F1-мера на тренировочной выборке достигает значения 0.7114 при значении коэффициента регуляризации 2.2\n",
      "F1-мера на валидационной выборке достигает значения 0.4745 при значении коэффициента регуляризации 2.2\n",
      "F1-мера на тренировочной выборке достигает значения 0.7114 при значении коэффициента регуляризации 2.3\n",
      "F1-мера на валидационной выборке достигает значения 0.4745 при значении коэффициента регуляризации 2.3\n",
      "F1-мера на тренировочной выборке достигает значения 0.7114 при значении коэффициента регуляризации 2.4\n",
      "F1-мера на валидационной выборке достигает значения 0.4745 при значении коэффициента регуляризации 2.4\n",
      "F1-мера на тренировочной выборке достигает значения 0.7114 при значении коэффициента регуляризации 2.5\n",
      "F1-мера на валидационной выборке достигает значения 0.4745 при значении коэффициента регуляризации 2.5\n",
      "F1-мера на тренировочной выборке достигает значения 0.7114 при значении коэффициента регуляризации 2.6\n",
      "F1-мера на валидационной выборке достигает значения 0.4745 при значении коэффициента регуляризации 2.6\n",
      "F1-мера на тренировочной выборке достигает значения 0.7114 при значении коэффициента регуляризации 2.7\n",
      "F1-мера на валидационной выборке достигает значения 0.4745 при значении коэффициента регуляризации 2.7\n",
      "F1-мера на тренировочной выборке достигает значения 0.7114 при значении коэффициента регуляризации 2.8\n",
      "F1-мера на валидационной выборке достигает значения 0.4745 при значении коэффициента регуляризации 2.8\n",
      "F1-мера на тренировочной выборке достигает значения 0.7114 при значении коэффициента регуляризации 2.9\n",
      "F1-мера на валидационной выборке достигает значения 0.4745 при значении коэффициента регуляризации 2.9\n",
      "F1-мера на тренировочной выборке достигает значения 0.7114 при значении коэффициента регуляризации 3.0\n",
      "F1-мера на валидационной выборке достигает значения 0.4745 при значении коэффициента регуляризации 3.0\n"
     ]
    }
   ],
   "source": [
    "c_lst = [(round(i, 2)) for i in np.arange(0.1, 3.01, 0.1)]\n",
    "f1_train_lst = []\n",
    "f1_validate_lst = []\n",
    "for c in np.arange(0.1, 3.01, 0.1):\n",
    "    model = LogisticRegression(C = c, random_state = 12345)\n",
    "    model.fit(features_train_downsample, target_train_downsample)\n",
    "    predictions_train = model.predict(features_train_downsample)\n",
    "    predictions_validate = model.predict(features_validate)\n",
    "    f1_train = f1_score(target_train_downsample, predictions_train)\n",
    "    f1_train_lst.append(f1_train)\n",
    "    print('F1-мера на тренировочной выборке достигает значения', round(f1_train, 4), 'при значении коэффициента регуляризации',\n",
    "         round(c, 2))\n",
    "    f1_validate = f1_score(target_validate, predictions_validate)\n",
    "    f1_validate_lst.append(f1_validate)\n",
    "    print('F1-мера на валидационной выборке достигает значения', round(f1_validate, 4), 'при значении коэффициента регуляризации',\n",
    "         round(c, 2)) "
   ]
  },
  {
   "cell_type": "markdown",
   "metadata": {},
   "source": [
    "Визуализируем полученную информацию."
   ]
  },
  {
   "cell_type": "code",
   "execution_count": 41,
   "metadata": {},
   "outputs": [
    {
     "data": {
      "image/png": "[encoded data removed]",
      "text/plain": [
       "<Figure size 1440x360 with 1 Axes>"
      ]
     },
     "metadata": {
      "needs_background": "light"
     },
     "output_type": "display_data"
    }
   ],
   "source": [
    "columns = ['с_coef', 'f1_train', 'f1_validate']\n",
    "df_f1_log_reg = pd.DataFrame(data = zip(c_lst, f1_train_lst, f1_validate_lst), columns = columns)\n",
    "ax = df_f1_log_reg.plot(y = 'f1_train', x = 'с_coef', kind = 'bar', figsize = (20, 5), color = 'y', \n",
    "align = 'edge', label = 'f1_train', title = ('Динамика F1-меры в зависимости от коэффициента регуляризации \\\n",
    "(логистическая регрессия с балансом классов (downsampling))'))\n",
    "df_f1_log_reg.plot(y = 'f1_validate', x = 'с_coef', kind = 'bar', figsize = (20, 5), \n",
    "                          color = 'b', ax = ax, align = 'center', \n",
    "label = 'f1_validate')\n",
    "plt.xlabel('Коэффициент регуляризации')\n",
    "plt.ylabel('F1-мера')\n",
    "plt.ylim(0, 1)\n",
    "plt.show()"
   ]
  },
  {
   "cell_type": "markdown",
   "metadata": {},
   "source": [
    "Наиболее значение **F1-меры** достигается при значении **коэффициента регуляризации**, равному **0.2**: значение **F1-меры** составляет **0.7125 на тренировочной выборке** и **0.4753 на валидационной выборке**. \n",
    "\n",
    "Поэтому **оптимальным значением гиперпараметра с будетм считать 0.2**.\n",
    "\n",
    "Вместе с тем отмечу, что модель, вероятно, просто выучила ответы, так как качество модели на валидационной выборке значительно ниже качества модели на тренировочной выборке, т.е. модель переобучилась. Вероятно, это вызвано нехваткой данных в тренировочной выборке: мы уменьшили её размер за счёт применения техники downsampling.\n",
    "\n",
    "Обучим модель, используя оптимальное значение гиперпараметра, и протестируем её на тестовой выборке."
   ]
  },
  {
   "cell_type": "code",
   "execution_count": 42,
   "metadata": {},
   "outputs": [
    {
     "name": "stdout",
     "output_type": "stream",
     "text": [
      "F1-мера для модели логистической регрессии (классы сбалансированы техникой downsample): 0.4992\n"
     ]
    }
   ],
   "source": [
    "model = LogisticRegression(C = 0.2, random_state = 12345)\n",
    "model.fit(features_train_downsample, target_train_downsample)\n",
    "predictions_test = model.predict(features_test)\n",
    "print('F1-мера для модели логистической регрессии (классы сбалансированы техникой downsample):', \n",
    "      round((f1_score(target_test, predictions_test)), 4))"
   ]
  },
  {
   "cell_type": "markdown",
   "metadata": {},
   "source": [
    "**F1-мера** для построенной модели сложилась на уровне **0.4992**, что **не соответствует** значению целевой метрики **не менее 0.59**, установленному условиями проекта. Следовательно, модель плохо предсказывает уход клиента. \n",
    "\n",
    "Вместе с тем отмечу, что **качество модели на тестовой выборке при сбалансированности также заметно возрасло** относительно модели, которая была обучена на выборке с дисбалансом классов, **однако модель переобучена ввиду малочисленности объектов для обучения.**"
   ]
  },
  {
   "cell_type": "code",
   "execution_count": 43,
   "metadata": {},
   "outputs": [
    {
     "name": "stdout",
     "output_type": "stream",
     "text": [
      "ROC-AUC для построенной модели: 0.7678\n"
     ]
    }
   ],
   "source": [
    "print('ROC-AUC для построенной модели:', round((roc_auc_score(target_test, model.predict_proba(features_test)[:, 1])), 4))"
   ]
  },
  {
   "cell_type": "markdown",
   "metadata": {},
   "source": [
    "**ROC-AUC** для построенной модели лучше, чем для случайной модели (т.е. выше значения 0.5). Можно говорить о том, что модель корректна, однако до хорошего предсказания ухода клиента ещё далеко.\n",
    "\n",
    "<a href='#title'>К оглавлению.</a>"
   ]
  },
  {
   "cell_type": "markdown",
   "metadata": {},
   "source": [
    "<a id='3.1.4'></a>\n",
    "### Этап 3.1.4. Исследование модели, основанной на алгоритме логистической регрессии и обученной на выборке с балансом классов (upsampling).\n",
    "\n",
    "Наконец, рассмотрим модель, которая будет обучена на данных с балансом классов, достигнутом за счёт применения техники upsampling."
   ]
  },
  {
   "cell_type": "code",
   "execution_count": 44,
   "metadata": {
    "scrolled": true
   },
   "outputs": [
    {
     "name": "stdout",
     "output_type": "stream",
     "text": [
      "F1-мера на тренировочной выборке достигает значения 0.7084 при значении коэффициента регуляризации 0.1\n",
      "F1-мера на валидационной выборке достигает значения 0.481 при значении коэффициента регуляризации 0.1\n",
      "F1-мера на тренировочной выборке достигает значения 0.7075 при значении коэффициента регуляризации 0.2\n",
      "F1-мера на валидационной выборке достигает значения 0.4798 при значении коэффициента регуляризации 0.2\n",
      "F1-мера на тренировочной выборке достигает значения 0.7079 при значении коэффициента регуляризации 0.3\n",
      "F1-мера на валидационной выборке достигает значения 0.4797 при значении коэффициента регуляризации 0.3\n",
      "F1-мера на тренировочной выборке достигает значения 0.7079 при значении коэффициента регуляризации 0.4\n",
      "F1-мера на валидационной выборке достигает значения 0.4797 при значении коэффициента регуляризации 0.4\n",
      "F1-мера на тренировочной выборке достигает значения 0.7079 при значении коэффициента регуляризации 0.5\n",
      "F1-мера на валидационной выборке достигает значения 0.4797 при значении коэффициента регуляризации 0.5\n",
      "F1-мера на тренировочной выборке достигает значения 0.708 при значении коэффициента регуляризации 0.6\n",
      "F1-мера на валидационной выборке достигает значения 0.4801 при значении коэффициента регуляризации 0.6\n",
      "F1-мера на тренировочной выборке достигает значения 0.708 при значении коэффициента регуляризации 0.7\n",
      "F1-мера на валидационной выборке достигает значения 0.4801 при значении коэффициента регуляризации 0.7\n",
      "F1-мера на тренировочной выборке достигает значения 0.7079 при значении коэффициента регуляризации 0.8\n",
      "F1-мера на валидационной выборке достигает значения 0.4797 при значении коэффициента регуляризации 0.8\n",
      "F1-мера на тренировочной выборке достигает значения 0.7079 при значении коэффициента регуляризации 0.9\n",
      "F1-мера на валидационной выборке достигает значения 0.4793 при значении коэффициента регуляризации 0.9\n",
      "F1-мера на тренировочной выборке достигает значения 0.7078 при значении коэффициента регуляризации 1.0\n",
      "F1-мера на валидационной выборке достигает значения 0.4793 при значении коэффициента регуляризации 1.0\n",
      "F1-мера на тренировочной выборке достигает значения 0.7078 при значении коэффициента регуляризации 1.1\n",
      "F1-мера на валидационной выборке достигает значения 0.4793 при значении коэффициента регуляризации 1.1\n",
      "F1-мера на тренировочной выборке достигает значения 0.7078 при значении коэффициента регуляризации 1.2\n",
      "F1-мера на валидационной выборке достигает значения 0.4793 при значении коэффициента регуляризации 1.2\n",
      "F1-мера на тренировочной выборке достигает значения 0.7078 при значении коэффициента регуляризации 1.3\n",
      "F1-мера на валидационной выборке достигает значения 0.4793 при значении коэффициента регуляризации 1.3\n",
      "F1-мера на тренировочной выборке достигает значения 0.7078 при значении коэффициента регуляризации 1.4\n",
      "F1-мера на валидационной выборке достигает значения 0.4793 при значении коэффициента регуляризации 1.4\n",
      "F1-мера на тренировочной выборке достигает значения 0.7078 при значении коэффициента регуляризации 1.5\n",
      "F1-мера на валидационной выборке достигает значения 0.4793 при значении коэффициента регуляризации 1.5\n",
      "F1-мера на тренировочной выборке достигает значения 0.7078 при значении коэффициента регуляризации 1.6\n",
      "F1-мера на валидационной выборке достигает значения 0.4793 при значении коэффициента регуляризации 1.6\n",
      "F1-мера на тренировочной выборке достигает значения 0.7078 при значении коэффициента регуляризации 1.7\n",
      "F1-мера на валидационной выборке достигает значения 0.4793 при значении коэффициента регуляризации 1.7\n",
      "F1-мера на тренировочной выборке достигает значения 0.7078 при значении коэффициента регуляризации 1.8\n",
      "F1-мера на валидационной выборке достигает значения 0.4793 при значении коэффициента регуляризации 1.8\n",
      "F1-мера на тренировочной выборке достигает значения 0.7078 при значении коэффициента регуляризации 1.9\n",
      "F1-мера на валидационной выборке достигает значения 0.4793 при значении коэффициента регуляризации 1.9\n",
      "F1-мера на тренировочной выборке достигает значения 0.7078 при значении коэффициента регуляризации 2.0\n",
      "F1-мера на валидационной выборке достигает значения 0.4793 при значении коэффициента регуляризации 2.0\n",
      "F1-мера на тренировочной выборке достигает значения 0.7078 при значении коэффициента регуляризации 2.1\n",
      "F1-мера на валидационной выборке достигает значения 0.4789 при значении коэффициента регуляризации 2.1\n",
      "F1-мера на тренировочной выборке достигает значения 0.7078 при значении коэффициента регуляризации 2.2\n",
      "F1-мера на валидационной выборке достигает значения 0.4789 при значении коэффициента регуляризации 2.2\n",
      "F1-мера на тренировочной выборке достигает значения 0.7078 при значении коэффициента регуляризации 2.3\n",
      "F1-мера на валидационной выборке достигает значения 0.4789 при значении коэффициента регуляризации 2.3\n",
      "F1-мера на тренировочной выборке достигает значения 0.7078 при значении коэффициента регуляризации 2.4\n",
      "F1-мера на валидационной выборке достигает значения 0.4789 при значении коэффициента регуляризации 2.4\n",
      "F1-мера на тренировочной выборке достигает значения 0.7078 при значении коэффициента регуляризации 2.5\n",
      "F1-мера на валидационной выборке достигает значения 0.4789 при значении коэффициента регуляризации 2.5\n",
      "F1-мера на тренировочной выборке достигает значения 0.7078 при значении коэффициента регуляризации 2.6\n",
      "F1-мера на валидационной выборке достигает значения 0.4789 при значении коэффициента регуляризации 2.6\n",
      "F1-мера на тренировочной выборке достигает значения 0.7078 при значении коэффициента регуляризации 2.7\n",
      "F1-мера на валидационной выборке достигает значения 0.4789 при значении коэффициента регуляризации 2.7\n",
      "F1-мера на тренировочной выборке достигает значения 0.7078 при значении коэффициента регуляризации 2.8\n",
      "F1-мера на валидационной выборке достигает значения 0.4789 при значении коэффициента регуляризации 2.8\n",
      "F1-мера на тренировочной выборке достигает значения 0.7078 при значении коэффициента регуляризации 2.9\n",
      "F1-мера на валидационной выборке достигает значения 0.4789 при значении коэффициента регуляризации 2.9\n",
      "F1-мера на тренировочной выборке достигает значения 0.7078 при значении коэффициента регуляризации 3.0\n",
      "F1-мера на валидационной выборке достигает значения 0.4789 при значении коэффициента регуляризации 3.0\n"
     ]
    }
   ],
   "source": [
    "c_lst = [(round(i, 2)) for i in np.arange(0.1, 3.01, 0.1)]\n",
    "f1_train_lst = []\n",
    "f1_validate_lst = []\n",
    "for c in np.arange(0.1, 3.01, 0.1):\n",
    "    model = LogisticRegression(C = c, random_state = 12345)\n",
    "    model.fit(features_train_upsample, target_train_upsample)\n",
    "    predictions_train = model.predict(features_train_upsample)\n",
    "    predictions_validate = model.predict(features_validate)\n",
    "    f1_train = f1_score(target_train_upsample, predictions_train)\n",
    "    f1_train_lst.append(f1_train)\n",
    "    print('F1-мера на тренировочной выборке достигает значения', round(f1_train, 4), 'при значении коэффициента регуляризации',\n",
    "         round(c, 2))\n",
    "    f1_validate = f1_score(target_validate, predictions_validate)\n",
    "    f1_validate_lst.append(f1_validate)\n",
    "    print('F1-мера на валидационной выборке достигает значения', round(f1_validate, 4), 'при значении коэффициента регуляризации',\n",
    "         round(c, 2))"
   ]
  },
  {
   "cell_type": "markdown",
   "metadata": {},
   "source": [
    "Визуализируем полученную информацию."
   ]
  },
  {
   "cell_type": "code",
   "execution_count": 45,
   "metadata": {},
   "outputs": [
    {
     "data": {
      "image/png": "[encoded data removed]",
      "text/plain": [
       "<Figure size 1440x360 with 1 Axes>"
      ]
     },
     "metadata": {
      "needs_background": "light"
     },
     "output_type": "display_data"
    }
   ],
   "source": [
    "columns = ['с_coef', 'f1_train', 'f1_validate']\n",
    "df_f1_log_reg = pd.DataFrame(data = zip(c_lst, f1_train_lst, f1_validate_lst), columns = columns)\n",
    "ax = df_f1_log_reg.plot(y = 'f1_train', x = 'с_coef', kind = 'bar', figsize = (20, 5), color = 'y', \n",
    "align = 'edge', label = 'f1_train', title = ('Динамика F1-меры в зависимости от коэффициента регуляризации \\\n",
    "(логистическая регрессия с балансом классов (upsampling))'))\n",
    "df_f1_log_reg.plot(y = 'f1_validate', x = 'с_coef', kind = 'bar', figsize = (20, 5), \n",
    "                          color = 'b', ax = ax, align = 'center', \n",
    "label = 'f1_validate')\n",
    "plt.xlabel('Коэффициент регуляризации')\n",
    "plt.ylabel('F1-мера')\n",
    "plt.ylim(0, 1)\n",
    "plt.show()"
   ]
  },
  {
   "cell_type": "markdown",
   "metadata": {},
   "source": [
    "Наиболее значение **F1-меры** достигается при значении **коэффициента регуляризации**, равному **0.1**: значение **F1-меры** составляет **0.7084 на тренировочной выборке** и **0.4810 на валидационной выборке**. \n",
    "\n",
    "Поэтому **оптимальным значением гиперпараметра с будетм считать 0.1**.\n",
    "\n",
    "Вместе с тем отмечу, что модель, как и в случае с балансом классов посредством техники downsample, вероятно, просто выучила ответы, так как качество модели на валидационной выборке значительно ниже качества модели на тренировочной выборке, т.е. модель переобучилась.\n",
    "\n",
    "Обучим модель, используя оптимальное значение гиперпараметра, и протестируем её на тестовой выборке."
   ]
  },
  {
   "cell_type": "code",
   "execution_count": 46,
   "metadata": {},
   "outputs": [
    {
     "name": "stdout",
     "output_type": "stream",
     "text": [
      "F1-мера для модели логистической регрессии (классы сбалансированы техникой upsample): 0.5029\n"
     ]
    }
   ],
   "source": [
    "model = LogisticRegression(C = 0.1, random_state = 12345)\n",
    "model.fit(features_train_upsample, target_train_upsample)\n",
    "predictions_test = model.predict(features_test)\n",
    "print('F1-мера для модели логистической регрессии (классы сбалансированы техникой upsample):', \n",
    "      round((f1_score(target_test, predictions_test)), 4))"
   ]
  },
  {
   "cell_type": "markdown",
   "metadata": {},
   "source": [
    "**F1-мера** для построенной модели сложилась на уровне **0.5029**, что **не соответствует** значению целевой метрики **не менее 0.59**, установленному условиями проекта. Следовательно, модель плохо предсказывает уход клиента. \n",
    "\n",
    "Вместе с тем отмечу, что при исследовании модели, основанной на алгоритме логистическорй регрессии, лучшего результата можно добиться при обеспечении баланса классов целевой переменной, при этом можно использовать как технику upsampling, так и взвешивание классов при моделировании.\n",
    "\n",
    "Рассчитаем метрику **ROC-AUC**."
   ]
  },
  {
   "cell_type": "code",
   "execution_count": 47,
   "metadata": {},
   "outputs": [
    {
     "name": "stdout",
     "output_type": "stream",
     "text": [
      "ROC-AUC для построенной модели: 0.7651\n"
     ]
    }
   ],
   "source": [
    "print('ROC-AUC для построенной модели:', round((roc_auc_score(target_test, model.predict_proba(features_test)[:, 1])), 4))"
   ]
  },
  {
   "cell_type": "markdown",
   "metadata": {},
   "source": [
    "**ROC-AUC** для построенной модели лучше, чем для случайной модели (т.е. выше значения 0.5). Можно говорить о том, что модель корректна, однако до хорошего предсказания ухода клиента ещё далеко.\n",
    "\n",
    "В целом же применение модели, основанной на алгоритме логистической регрессии, не позволяет достичь целевого значения метрики **F1-мера**, установленной условиями проекта. Поэтому исследуем модели, основанные на других алгоритмах машинного обучения.\n",
    "\n",
    "<a href='#title'>К оглавлению.</a>"
   ]
  },
  {
   "cell_type": "markdown",
   "metadata": {},
   "source": [
    "<a id='3.2'></a>\n",
    "## Этап 3.2. Исследование модели, основанной на алгоритме дерева решений.\n",
    "\n",
    "Построим модель, основанную на алгоритме дерева решений. Оптимизировать будем **гиперпараметр max_depth**, являющийся глубиной дерева."
   ]
  },
  {
   "cell_type": "markdown",
   "metadata": {},
   "source": [
    "<a id='3.2.1'></a>\n",
    "### Этап 3.2.1. Исследование модели, основанной на алгоритме дерева решений и обученной на выборке с дисбалансом классов.\n",
    "\n",
    "Сначала рассмотрим модель, обученную на выборке с дисбалансом классов."
   ]
  },
  {
   "cell_type": "code",
   "execution_count": 48,
   "metadata": {
    "scrolled": true
   },
   "outputs": [
    {
     "name": "stdout",
     "output_type": "stream",
     "text": [
      "F1-мера на тренировочной выборке достигает значения 0.0 при глубине дерева 1\n",
      "F1-мера на валидационной выборке достигает значения 0.0 при глубине дерева 1\n",
      "F1-мера на тренировочной выборке достигает значения 0.5101 при глубине дерева 2\n",
      "F1-мера на валидационной выборке достигает значения 0.5037 при глубине дерева 2\n",
      "F1-мера на тренировочной выборке достигает значения 0.4147 при глубине дерева 3\n",
      "F1-мера на валидационной выборке достигает значения 0.3938 при глубине дерева 3\n",
      "F1-мера на тренировочной выборке достигает значения 0.4528 при глубине дерева 4\n",
      "F1-мера на валидационной выборке достигает значения 0.4318 при глубине дерева 4\n",
      "F1-мера на тренировочной выборке достигает значения 0.5871 при глубине дерева 5\n",
      "F1-мера на валидационной выборке достигает значения 0.5449 при глубине дерева 5\n",
      "F1-мера на тренировочной выборке достигает значения 0.5623 при глубине дерева 6\n",
      "F1-мера на валидационной выборке достигает значения 0.5079 при глубине дерева 6\n",
      "F1-мера на тренировочной выборке достигает значения 0.6258 при глубине дерева 7\n",
      "F1-мера на валидационной выборке достигает значения 0.5521 при глубине дерева 7\n",
      "F1-мера на тренировочной выборке достигает значения 0.6748 при глубине дерева 8\n",
      "F1-мера на валидационной выборке достигает значения 0.5362 при глубине дерева 8\n",
      "F1-мера на тренировочной выборке достигает значения 0.7076 при глубине дерева 9\n",
      "F1-мера на валидационной выборке достигает значения 0.5351 при глубине дерева 9\n",
      "F1-мера на тренировочной выборке достигает значения 0.7501 при глубине дерева 10\n",
      "F1-мера на валидационной выборке достигает значения 0.5322 при глубине дерева 10\n",
      "F1-мера на тренировочной выборке достигает значения 0.7956 при глубине дерева 11\n",
      "F1-мера на валидационной выборке достигает значения 0.505 при глубине дерева 11\n",
      "F1-мера на тренировочной выборке достигает значения 0.8421 при глубине дерева 12\n",
      "F1-мера на валидационной выборке достигает значения 0.4902 при глубине дерева 12\n",
      "F1-мера на тренировочной выборке достигает значения 0.8729 при глубине дерева 13\n",
      "F1-мера на валидационной выборке достигает значения 0.4924 при глубине дерева 13\n",
      "F1-мера на тренировочной выборке достигает значения 0.9026 при глубине дерева 14\n",
      "F1-мера на валидационной выборке достигает значения 0.4918 при глубине дерева 14\n",
      "F1-мера на тренировочной выборке достигает значения 0.9262 при глубине дерева 15\n",
      "F1-мера на валидационной выборке достигает значения 0.4845 при глубине дерева 15\n",
      "F1-мера на тренировочной выборке достигает значения 0.9491 при глубине дерева 16\n",
      "F1-мера на валидационной выборке достигает значения 0.4761 при глубине дерева 16\n",
      "F1-мера на тренировочной выборке достигает значения 0.9697 при глубине дерева 17\n",
      "F1-мера на валидационной выборке достигает значения 0.4833 при глубине дерева 17\n",
      "F1-мера на тренировочной выборке достигает значения 0.9821 при глубине дерева 18\n",
      "F1-мера на валидационной выборке достигает значения 0.4854 при глубине дерева 18\n",
      "F1-мера на тренировочной выборке достигает значения 0.9893 при глубине дерева 19\n",
      "F1-мера на валидационной выборке достигает значения 0.4837 при глубине дерева 19\n",
      "F1-мера на тренировочной выборке достигает значения 0.9938 при глубине дерева 20\n",
      "F1-мера на валидационной выборке достигает значения 0.4756 при глубине дерева 20\n",
      "F1-мера на тренировочной выборке достигает значения 0.9975 при глубине дерева 21\n",
      "F1-мера на валидационной выборке достигает значения 0.477 при глубине дерева 21\n",
      "F1-мера на тренировочной выборке достигает значения 0.9992 при глубине дерева 22\n",
      "F1-мера на валидационной выборке достигает значения 0.4763 при глубине дерева 22\n",
      "F1-мера на тренировочной выборке достигает значения 0.9996 при глубине дерева 23\n",
      "F1-мера на валидационной выборке достигает значения 0.4826 при глубине дерева 23\n",
      "F1-мера на тренировочной выборке достигает значения 1.0 при глубине дерева 24\n",
      "F1-мера на валидационной выборке достигает значения 0.4944 при глубине дерева 24\n",
      "F1-мера на тренировочной выборке достигает значения 1.0 при глубине дерева 25\n",
      "F1-мера на валидационной выборке достигает значения 0.4944 при глубине дерева 25\n"
     ]
    }
   ],
   "source": [
    "max_depth_lst = [i for i in range(1, 26)]\n",
    "f1_train_lst = []\n",
    "f1_validate_lst = []\n",
    "for max_depth in range(1, 26):\n",
    "    model = DecisionTreeClassifier(max_depth = max_depth, random_state = 12345)\n",
    "    model.fit(features_train_disbalanced, target_train_disbalanced)\n",
    "    predictions_train = model.predict(features_train_disbalanced)\n",
    "    predictions_validate = model.predict(features_validate)\n",
    "    f1_train = f1_score(target_train_disbalanced, predictions_train)\n",
    "    f1_train_lst.append(f1_train)\n",
    "    print('F1-мера на тренировочной выборке достигает значения', round(f1_train, 4), 'при глубине дерева',\n",
    "         max_depth)\n",
    "    f1_validate = f1_score(target_validate, predictions_validate)\n",
    "    f1_validate_lst.append(f1_validate)\n",
    "    print('F1-мера на валидационной выборке достигает значения', round(f1_validate, 4), 'при глубине дерева',\n",
    "         max_depth)"
   ]
  },
  {
   "cell_type": "markdown",
   "metadata": {},
   "source": [
    "Визуализируем полученную информацию."
   ]
  },
  {
   "cell_type": "code",
   "execution_count": 49,
   "metadata": {},
   "outputs": [
    {
     "data": {
      "image/png": "[encoded data removed]",
      "text/plain": [
       "<Figure size 1440x360 with 1 Axes>"
      ]
     },
     "metadata": {
      "needs_background": "light"
     },
     "output_type": "display_data"
    }
   ],
   "source": [
    "columns = ['max_depth', 'f1_train', 'f1_validate']\n",
    "df_f1_dec_tree = pd.DataFrame(data = zip(max_depth_lst, f1_train_lst, f1_validate_lst), columns = columns)\n",
    "ax = df_f1_dec_tree.plot(y = 'f1_train', x = 'max_depth', kind = 'bar', figsize = (20, 5), color = 'y', \n",
    "align = 'edge', label = 'f1_train', title = ('Динамика F1-меры в зависимости от глубины дерева \\\n",
    "(дерево решений, классы не сбалансированы)'))\n",
    "df_f1_dec_tree.plot(y = 'f1_validate', x = 'max_depth', kind = 'bar', figsize = (20, 5), \n",
    "                          color = 'b', ax = ax, align = 'center', \n",
    "label = 'f1_validate')\n",
    "plt.xlabel('Глубина дерева')\n",
    "plt.ylabel('F1-мера')\n",
    "plt.ylim(0, 1)\n",
    "plt.show()"
   ]
  },
  {
   "cell_type": "markdown",
   "metadata": {},
   "source": [
    "Наиболее значение **F1-меры** достигается при **глубине дерева**, равному **7**: значение **F1-меры** составляет **0.6258 на тренировочной выборке** и **0.5521 на валидационной выборке**. \n",
    "\n",
    "После значения глубины дерева, равного 7, **модель начинает переобучаться:** качество модели на тренировочной выборке растёт и достигает 1.0, а качество модели на валидационной выборке несоразмерно падает.\n",
    "\n",
    "Поэтому **оптимальным значением гиперпараметра глубины дерева будетм считать 7**.\n",
    "\n",
    "Обучим модель, используя оптимальное значение гиперпараметра, и протестируем её на тестовой выборке."
   ]
  },
  {
   "cell_type": "code",
   "execution_count": 50,
   "metadata": {},
   "outputs": [
    {
     "name": "stdout",
     "output_type": "stream",
     "text": [
      "F1-мера для модели дерева решений (классы не сбалансированы): 0.5565\n"
     ]
    }
   ],
   "source": [
    "model = DecisionTreeClassifier(max_depth = 7, random_state = 12345)\n",
    "model.fit(features_train_disbalanced, target_train_disbalanced)\n",
    "predictions_test = model.predict(features_test)\n",
    "print('F1-мера для модели дерева решений (классы не сбалансированы):', \n",
    "      round((f1_score(target_test, predictions_test)), 4))"
   ]
  },
  {
   "cell_type": "markdown",
   "metadata": {},
   "source": [
    "**F1-мера** для построенной модели сложилась на уровне **0.5565**, что **не соответствует** значению целевой метрики **не менее 0.59**, установленному условиями проекта. Следовательно, модель недостаточно хорошо предсказывает уход клиента.\n",
    "\n",
    "Вместе с тем отмечу, что модель, основанная на алгоритме дерева решений и обученная на выборке с дисбалансом классов, **предсказывает уход клиента лучше**, чем модель, основанная на алгоритме логистической регрессии и обученная на выборке с балансом классов.\n",
    "\n",
    "Рассчитаем метрику **ROC-AUC**."
   ]
  },
  {
   "cell_type": "code",
   "execution_count": 51,
   "metadata": {},
   "outputs": [
    {
     "name": "stdout",
     "output_type": "stream",
     "text": [
      "ROC-AUC для построенной модели: 0.8359\n"
     ]
    }
   ],
   "source": [
    "print('ROC-AUC для построенной модели:', round((roc_auc_score(target_test, model.predict_proba(features_test)[:, 1])), 4))"
   ]
  },
  {
   "cell_type": "markdown",
   "metadata": {},
   "source": [
    "**ROC-AUC** для построенной модели лучше, чем для случайной модели (т.е. выше значения 0.5). В целом на выходе имеем довольно неплохое значение метрики **ROC-AUC**, что говорит о том, что построенная модель обеспечивает хорошее значение метрик TPR и FPR (и намного лучше случайного классификатора).\n",
    "\n",
    "<a href='#title'>К оглавлению.</a>"
   ]
  },
  {
   "cell_type": "markdown",
   "metadata": {},
   "source": [
    "<a id='3.2.2'></a>\n",
    "### Этап 3.2.2. Исследование модели, основанной на алгоритме дерева решений с взвешиванием классов и обученной на выборке с дисбалансом классов.\n",
    "\n",
    "Рассмотрим модель, которая будет обучена на данных с дисбалансом классов. Однако в этот раз мы придадим объектам редкого класса больший вес. Для этого передадим параметру **class_weight** аргумента **balanced**."
   ]
  },
  {
   "cell_type": "code",
   "execution_count": 52,
   "metadata": {
    "scrolled": true
   },
   "outputs": [
    {
     "name": "stdout",
     "output_type": "stream",
     "text": [
      "F1-мера на тренировочной выборке достигает значения 0.4846 при глубине дерева 1\n",
      "F1-мера на валидационной выборке достигает значения 0.4751 при глубине дерева 1\n",
      "F1-мера на тренировочной выборке достигает значения 0.5113 при глубине дерева 2\n",
      "F1-мера на валидационной выборке достигает значения 0.4976 при глубине дерева 2\n",
      "F1-мера на тренировочной выборке достигает значения 0.5113 при глубине дерева 3\n",
      "F1-мера на валидационной выборке достигает значения 0.4976 при глубине дерева 3\n",
      "F1-мера на тренировочной выборке достигает значения 0.555 при глубине дерева 4\n",
      "F1-мера на валидационной выборке достигает значения 0.517 при глубине дерева 4\n",
      "F1-мера на тренировочной выборке достигает значения 0.5786 при глубине дерева 5\n",
      "F1-мера на валидационной выборке достигает значения 0.5489 при глубине дерева 5\n",
      "F1-мера на тренировочной выборке достигает значения 0.6137 при глубине дерева 6\n",
      "F1-мера на валидационной выборке достигает значения 0.5587 при глубине дерева 6\n",
      "F1-мера на тренировочной выборке достигает значения 0.6344 при глубине дерева 7\n",
      "F1-мера на валидационной выборке достигает значения 0.555 при глубине дерева 7\n",
      "F1-мера на тренировочной выборке достигает значения 0.6637 при глубине дерева 8\n",
      "F1-мера на валидационной выборке достигает значения 0.5549 при глубине дерева 8\n",
      "F1-мера на тренировочной выборке достигает значения 0.6751 при глубине дерева 9\n",
      "F1-мера на валидационной выборке достигает значения 0.5108 при глубине дерева 9\n",
      "F1-мера на тренировочной выборке достигает значения 0.7208 при глубине дерева 10\n",
      "F1-мера на валидационной выборке достигает значения 0.4995 при глубине дерева 10\n",
      "F1-мера на тренировочной выборке достигает значения 0.7445 при глубине дерева 11\n",
      "F1-мера на валидационной выборке достигает значения 0.4791 при глубине дерева 11\n",
      "F1-мера на тренировочной выборке достигает значения 0.8022 при глубине дерева 12\n",
      "F1-мера на валидационной выборке достигает значения 0.4675 при глубине дерева 12\n",
      "F1-мера на тренировочной выборке достигает значения 0.8348 при глубине дерева 13\n",
      "F1-мера на валидационной выборке достигает значения 0.4627 при глубине дерева 13\n",
      "F1-мера на тренировочной выборке достигает значения 0.875 при глубине дерева 14\n",
      "F1-мера на валидационной выборке достигает значения 0.4536 при глубине дерева 14\n",
      "F1-мера на тренировочной выборке достигает значения 0.9197 при глубине дерева 15\n",
      "F1-мера на валидационной выборке достигает значения 0.4591 при глубине дерева 15\n",
      "F1-мера на тренировочной выборке достигает значения 0.9523 при глубине дерева 16\n",
      "F1-мера на валидационной выборке достигает значения 0.4688 при глубине дерева 16\n",
      "F1-мера на тренировочной выборке достигает значения 0.9731 при глубине дерева 17\n",
      "F1-мера на валидационной выборке достигает значения 0.4641 при глубине дерева 17\n",
      "F1-мера на тренировочной выборке достигает значения 0.9858 при глубине дерева 18\n",
      "F1-мера на валидационной выборке достигает значения 0.4625 при глубине дерева 18\n",
      "F1-мера на тренировочной выборке достигает значения 0.9927 при глубине дерева 19\n",
      "F1-мера на валидационной выборке достигает значения 0.4547 при глубине дерева 19\n",
      "F1-мера на тренировочной выборке достигает значения 0.9955 при глубине дерева 20\n",
      "F1-мера на валидационной выборке достигает значения 0.4538 при глубине дерева 20\n",
      "F1-мера на тренировочной выборке достигает значения 0.9992 при глубине дерева 21\n",
      "F1-мера на валидационной выборке достигает значения 0.4543 при глубине дерева 21\n",
      "F1-мера на тренировочной выборке достигает значения 1.0 при глубине дерева 22\n",
      "F1-мера на валидационной выборке достигает значения 0.4538 при глубине дерева 22\n",
      "F1-мера на тренировочной выборке достигает значения 1.0 при глубине дерева 23\n",
      "F1-мера на валидационной выборке достигает значения 0.4538 при глубине дерева 23\n",
      "F1-мера на тренировочной выборке достигает значения 1.0 при глубине дерева 24\n",
      "F1-мера на валидационной выборке достигает значения 0.4538 при глубине дерева 24\n",
      "F1-мера на тренировочной выборке достигает значения 1.0 при глубине дерева 25\n",
      "F1-мера на валидационной выборке достигает значения 0.4538 при глубине дерева 25\n"
     ]
    }
   ],
   "source": [
    "max_depth_lst = [i for i in range(1, 26)]\n",
    "f1_train_lst = []\n",
    "f1_validate_lst = []\n",
    "for max_depth in range(1, 26):\n",
    "    model = DecisionTreeClassifier(max_depth = max_depth, class_weight = 'balanced', random_state = 12345)\n",
    "    model.fit(features_train_disbalanced, target_train_disbalanced)\n",
    "    predictions_train = model.predict(features_train_disbalanced)\n",
    "    predictions_validate = model.predict(features_validate)\n",
    "    f1_train = f1_score(target_train_disbalanced, predictions_train)\n",
    "    f1_train_lst.append(f1_train)\n",
    "    print('F1-мера на тренировочной выборке достигает значения', round(f1_train, 4), 'при глубине дерева',\n",
    "         max_depth)\n",
    "    f1_validate = f1_score(target_validate, predictions_validate)\n",
    "    f1_validate_lst.append(f1_validate)\n",
    "    print('F1-мера на валидационной выборке достигает значения', round(f1_validate, 4), 'при глубине дерева',\n",
    "         max_depth)"
   ]
  },
  {
   "cell_type": "markdown",
   "metadata": {},
   "source": [
    "Визуализируем полученную информацию."
   ]
  },
  {
   "cell_type": "code",
   "execution_count": 53,
   "metadata": {},
   "outputs": [
    {
     "data": {
      "image/png": "[encoded data removed]",
      "text/plain": [
       "<Figure size 1440x360 with 1 Axes>"
      ]
     },
     "metadata": {
      "needs_background": "light"
     },
     "output_type": "display_data"
    }
   ],
   "source": [
    "columns = ['max_depth', 'f1_train', 'f1_validate']\n",
    "df_f1_dec_tree = pd.DataFrame(data = zip(max_depth_lst, f1_train_lst, f1_validate_lst), columns = columns)\n",
    "ax = df_f1_dec_tree.plot(y = 'f1_train', x = 'max_depth', kind = 'bar', figsize = (20, 5), color = 'y', \n",
    "align = 'edge', label = 'f1_train', title = ('Динамика F1-меры в зависимости от глубины дерева \\\n",
    "(дерево решений с взвешиванием классов)'))\n",
    "df_f1_dec_tree.plot(y = 'f1_validate', x = 'max_depth', kind = 'bar', figsize = (20, 5), \n",
    "                          color = 'b', ax = ax, align = 'center', \n",
    "label = 'f1_validate')\n",
    "plt.xlabel('Глубина дерева')\n",
    "plt.ylabel('F1-мера')\n",
    "plt.ylim(0, 1)\n",
    "plt.show()"
   ]
  },
  {
   "cell_type": "markdown",
   "metadata": {},
   "source": [
    "Наиболее значение **F1-меры** достигается при **глубине дерева**, равному **6**: значение **F1-меры** составляет **0.6137 на тренировочной выборке** и **0.5587 на валидационной выборке**. \n",
    "\n",
    "После значения глубины дерева, равного 6, **модель начинает переобучаться:** качество модели на тренировочной выборке растёт и достигает 1.0, а качество модели на валидационной выборке несоразмерно падает.\n",
    "\n",
    "Поэтому **оптимальным значением гиперпараметра глубины дерева будетм считать 6**.\n",
    "\n",
    "Обучим модель, используя оптимальное значение гиперпараметра, и протестируем её на тестовой выборке."
   ]
  },
  {
   "cell_type": "code",
   "execution_count": 54,
   "metadata": {},
   "outputs": [
    {
     "name": "stdout",
     "output_type": "stream",
     "text": [
      "F1-мера для модели дерева решений с взвешиванием классов (классы не сбалансированы): 0.5934\n"
     ]
    }
   ],
   "source": [
    "model = DecisionTreeClassifier(max_depth = 6, class_weight = 'balanced', random_state = 12345)\n",
    "model.fit(features_train_disbalanced, target_train_disbalanced)\n",
    "predictions_test = model.predict(features_test)\n",
    "print('F1-мера для модели дерева решений с взвешиванием классов (классы не сбалансированы):', \n",
    "      round((f1_score(target_test, predictions_test)), 4))"
   ]
  },
  {
   "cell_type": "markdown",
   "metadata": {},
   "source": [
    "**F1-мера** для построенной модели сложилась на уровне **0.5934**, что **соответствует** значению целевой метрики **не менее 0.59**, установленному условиями проекта. Следовательно, модель достаточно хорошо предсказывает уход клиента.\n",
    "\n",
    "Однако результат потециально может быть улучшен, если обучить модель на данных с балансом классов целевой переменной.\n",
    "\n",
    "Рассчитаем метрику **ROC-AUC**."
   ]
  },
  {
   "cell_type": "code",
   "execution_count": 55,
   "metadata": {},
   "outputs": [
    {
     "name": "stdout",
     "output_type": "stream",
     "text": [
      "ROC-AUC для построенной модели: 0.8191\n"
     ]
    }
   ],
   "source": [
    "print('ROC-AUC для построенной модели:', round((roc_auc_score(target_test, model.predict_proba(features_test)[:, 1])), 4))"
   ]
  },
  {
   "cell_type": "markdown",
   "metadata": {},
   "source": [
    "**ROC-AUC** для построенной модели лучше, чем для случайной модели (т.е. выше значения 0.5). В целом на выходе имеем довольно неплохое значение метрики **ROC-AUC**, что говорит о том, что построенная модель обеспечивает хорошее значение метрик TPR и FPR (и намного лучше случайного классификатора).\n",
    "\n",
    "<a href='#title'>К оглавлению.</a>"
   ]
  },
  {
   "cell_type": "markdown",
   "metadata": {},
   "source": [
    "<a id='3.2.3'></a>\n",
    "### Этап 3.2.3. Исследование модели, основанной на алгоритме дерева решений и обученной на выборке с балансом классов (downsampling).\n",
    "\n",
    "Рассмотрим модель, которая будет обучена на данных с балансом классов, достигнутом за счёт применения техники downsampling."
   ]
  },
  {
   "cell_type": "code",
   "execution_count": 56,
   "metadata": {
    "scrolled": true
   },
   "outputs": [
    {
     "name": "stdout",
     "output_type": "stream",
     "text": [
      "F1-мера на тренировочной выборке достигает значения 0.677 при глубине дерева 1\n",
      "F1-мера на валидационной выборке достигает значения 0.4751 при глубине дерева 1\n",
      "F1-мера на тренировочной выборке достигает значения 0.7103 при глубине дерева 2\n",
      "F1-мера на валидационной выборке достигает значения 0.4976 при глубине дерева 2\n",
      "F1-мера на тренировочной выборке достигает значения 0.6988 при глубине дерева 3\n",
      "F1-мера на валидационной выборке достигает значения 0.5118 при глубине дерева 3\n",
      "F1-мера на тренировочной выборке достигает значения 0.7518 при глубине дерева 4\n",
      "F1-мера на валидационной выборке достигает значения 0.4957 при глубине дерева 4\n",
      "F1-мера на тренировочной выборке достигает значения 0.7947 при глубине дерева 5\n",
      "F1-мера на валидационной выборке достигает значения 0.5278 при глубине дерева 5\n",
      "F1-мера на тренировочной выборке достигает значения 0.8022 при глубине дерева 6\n",
      "F1-мера на валидационной выборке достигает значения 0.5397 при глубине дерева 6\n",
      "F1-мера на тренировочной выборке достигает значения 0.8204 при глубине дерева 7\n",
      "F1-мера на валидационной выборке достигает значения 0.5514 при глубине дерева 7\n",
      "F1-мера на тренировочной выборке достигает значения 0.8426 при глубине дерева 8\n",
      "F1-мера на валидационной выборке достигает значения 0.5231 при глубине дерева 8\n",
      "F1-мера на тренировочной выборке достигает значения 0.8725 при глубине дерева 9\n",
      "F1-мера на валидационной выборке достигает значения 0.4982 при глубине дерева 9\n",
      "F1-мера на тренировочной выборке достигает значения 0.8973 при глубине дерева 10\n",
      "F1-мера на валидационной выборке достигает значения 0.5019 при глубине дерева 10\n",
      "F1-мера на тренировочной выборке достигает значения 0.9218 при глубине дерева 11\n",
      "F1-мера на валидационной выборке достигает значения 0.4742 при глубине дерева 11\n",
      "F1-мера на тренировочной выборке достигает значения 0.9504 при глубине дерева 12\n",
      "F1-мера на валидационной выборке достигает значения 0.4809 при глубине дерева 12\n",
      "F1-мера на тренировочной выборке достигает значения 0.9714 при глубине дерева 13\n",
      "F1-мера на валидационной выборке достигает значения 0.471 при глубине дерева 13\n",
      "F1-мера на тренировочной выборке достигает значения 0.9839 при глубине дерева 14\n",
      "F1-мера на валидационной выборке достигает значения 0.4738 при глубине дерева 14\n",
      "F1-мера на тренировочной выборке достигает значения 0.9926 при глубине дерева 15\n",
      "F1-мера на валидационной выборке достигает значения 0.4689 при глубине дерева 15\n",
      "F1-мера на тренировочной выборке достигает значения 0.9979 при глубине дерева 16\n",
      "F1-мера на валидационной выборке достигает значения 0.4727 при глубине дерева 16\n",
      "F1-мера на тренировочной выборке достигает значения 0.9992 при глубине дерева 17\n",
      "F1-мера на валидационной выборке достигает значения 0.473 при глубине дерева 17\n",
      "F1-мера на тренировочной выборке достигает значения 0.9992 при глубине дерева 18\n",
      "F1-мера на валидационной выборке достигает значения 0.468 при глубине дерева 18\n",
      "F1-мера на тренировочной выборке достигает значения 1.0 при глубине дерева 19\n",
      "F1-мера на валидационной выборке достигает значения 0.4705 при глубине дерева 19\n",
      "F1-мера на тренировочной выборке достигает значения 1.0 при глубине дерева 20\n",
      "F1-мера на валидационной выборке достигает значения 0.4705 при глубине дерева 20\n",
      "F1-мера на тренировочной выборке достигает значения 1.0 при глубине дерева 21\n",
      "F1-мера на валидационной выборке достигает значения 0.4705 при глубине дерева 21\n",
      "F1-мера на тренировочной выборке достигает значения 1.0 при глубине дерева 22\n",
      "F1-мера на валидационной выборке достигает значения 0.4705 при глубине дерева 22\n",
      "F1-мера на тренировочной выборке достигает значения 1.0 при глубине дерева 23\n",
      "F1-мера на валидационной выборке достигает значения 0.4705 при глубине дерева 23\n",
      "F1-мера на тренировочной выборке достигает значения 1.0 при глубине дерева 24\n",
      "F1-мера на валидационной выборке достигает значения 0.4705 при глубине дерева 24\n",
      "F1-мера на тренировочной выборке достигает значения 1.0 при глубине дерева 25\n",
      "F1-мера на валидационной выборке достигает значения 0.4705 при глубине дерева 25\n"
     ]
    }
   ],
   "source": [
    "max_depth_lst = [i for i in range(1, 26)]\n",
    "f1_train_lst = []\n",
    "f1_validate_lst = []\n",
    "for max_depth in range(1, 26):\n",
    "    model = DecisionTreeClassifier(max_depth = max_depth, random_state = 12345)\n",
    "    model.fit(features_train_downsample, target_train_downsample)\n",
    "    predictions_train = model.predict(features_train_downsample)\n",
    "    predictions_validate = model.predict(features_validate)\n",
    "    f1_train = f1_score(target_train_downsample, predictions_train)\n",
    "    f1_train_lst.append(f1_train)\n",
    "    print('F1-мера на тренировочной выборке достигает значения', round(f1_train, 4), 'при глубине дерева',\n",
    "         max_depth)\n",
    "    f1_validate = f1_score(target_validate, predictions_validate)\n",
    "    f1_validate_lst.append(f1_validate)\n",
    "    print('F1-мера на валидационной выборке достигает значения', round(f1_validate, 4), 'при глубине дерева',\n",
    "         max_depth)"
   ]
  },
  {
   "cell_type": "markdown",
   "metadata": {},
   "source": [
    "Визуализируем полученную информацию."
   ]
  },
  {
   "cell_type": "code",
   "execution_count": 57,
   "metadata": {},
   "outputs": [
    {
     "data": {
      "image/png": "[encoded data removed]",
      "text/plain": [
       "<Figure size 1440x360 with 1 Axes>"
      ]
     },
     "metadata": {
      "needs_background": "light"
     },
     "output_type": "display_data"
    }
   ],
   "source": [
    "columns = ['max_depth', 'f1_train', 'f1_validate']\n",
    "df_f1_dec_tree = pd.DataFrame(data = zip(max_depth_lst, f1_train_lst, f1_validate_lst), columns = columns)\n",
    "ax = df_f1_dec_tree.plot(y = 'f1_train', x = 'max_depth', kind = 'bar', figsize = (20, 5), color = 'y', \n",
    "align = 'edge', label = 'f1_train', title = ('Динамика F1-меры в зависимости от глубины дерева \\\n",
    "(дерево решений с балансом классов (downsampling))'))\n",
    "df_f1_dec_tree.plot(y = 'f1_validate', x = 'max_depth', kind = 'bar', figsize = (20, 5), \n",
    "                          color = 'b', ax = ax, align = 'center', \n",
    "label = 'f1_validate')\n",
    "plt.xlabel('Глубина дерева')\n",
    "plt.ylabel('F1-мера')\n",
    "plt.ylim(0, 1)\n",
    "plt.show()"
   ]
  },
  {
   "cell_type": "markdown",
   "metadata": {},
   "source": [
    "Наиболее значение **F1-меры** достигается при **глубине дерева**, равному **7**: значение **F1-меры** составляет **0.8204 на тренировочной выборке** и **0.5514 на валидационной выборке**. \n",
    "\n",
    "После значения глубины дерева, равного 7, **модель начинает переобучаться:** качество модели на тренировочной выборке растёт и достигает 1.0, а качество модели на валидационной выборке несоразмерно падает.\n",
    "\n",
    "Поэтому **оптимальным значением гиперпараметра глубины дерева будетм считать 7**.\n",
    "\n",
    "Вместе с тем отмечу, что модель, вероятно, просто выучила ответы, так как качество модели на валидационной выборке значительно ниже качества модели на тренировочной выборке, т.е. модель переобучилась. Вероятно, это вызвано нехваткой данных в тренировочной выборке: мы уменьшили её размер за счёт применения техники downsampling.\n",
    "\n",
    "Обучим модель, используя оптимальное значение гиперпараметра, и протестируем её на тестовой выборке."
   ]
  },
  {
   "cell_type": "code",
   "execution_count": 58,
   "metadata": {},
   "outputs": [
    {
     "name": "stdout",
     "output_type": "stream",
     "text": [
      "F1-мера для модели дерева решений (классы сбалансированы техникой downsample): 0.5857\n"
     ]
    }
   ],
   "source": [
    "model = DecisionTreeClassifier(max_depth = 7, random_state = 12345)\n",
    "model.fit(features_train_downsample, target_train_downsample)\n",
    "predictions_test = model.predict(features_test)\n",
    "print('F1-мера для модели дерева решений (классы сбалансированы техникой downsample):', \n",
    "      round((f1_score(target_test, predictions_test)), 4))"
   ]
  },
  {
   "cell_type": "markdown",
   "metadata": {},
   "source": [
    "**F1-мера** для построенной модели сложилась на уровне **0.5857**, что **не соответствует** значению целевой метрики **не менее 0.59**, установленному условиями проекта. Следовательно, модель плохо предсказывает уход клиента. \n",
    "\n",
    "Рассчитаем метрику **ROC-AUC**."
   ]
  },
  {
   "cell_type": "code",
   "execution_count": 59,
   "metadata": {},
   "outputs": [
    {
     "name": "stdout",
     "output_type": "stream",
     "text": [
      "ROC-AUC для построенной модели: 0.8184\n"
     ]
    }
   ],
   "source": [
    "print('ROC-AUC для построенной модели:', round((roc_auc_score(target_test, model.predict_proba(features_test)[:, 1])), 4))"
   ]
  },
  {
   "cell_type": "markdown",
   "metadata": {},
   "source": [
    "**ROC-AUC** для построенной модели лучше, чем для случайной модели (т.е. выше значения 0.5). В целом на выходе имеем довольно неплохое значение метрики **ROC-AUC**, что говорит о том, что построенная модель обеспечивает хорошее значение метрик TPR и FPR (и намного лучше случайного классификатора).\n",
    "\n",
    "Однако держим в уме, что модель переобучена, поэтому исследуем другие модели.\n",
    "\n",
    "<a href='#title'>К оглавлению.</a>"
   ]
  },
  {
   "cell_type": "markdown",
   "metadata": {},
   "source": [
    "<a id='3.2.4'></a>\n",
    "### Этап 3.2.4. Исследование модели, основанной на алгоритме дерева решений и обученной на выборке с балансом классов (upsampling).\n",
    "\n",
    "Наконец, рассмотрим модель, которая будет обучена на данных с балансом классов, достигнутом за счёт применения техники upsampling."
   ]
  },
  {
   "cell_type": "code",
   "execution_count": 60,
   "metadata": {
    "scrolled": true
   },
   "outputs": [
    {
     "name": "stdout",
     "output_type": "stream",
     "text": [
      "F1-мера на тренировочной выборке достигает значения 0.6704 при глубине дерева 1\n",
      "F1-мера на валидационной выборке достигает значения 0.4751 при глубине дерева 1\n",
      "F1-мера на тренировочной выборке достигает значения 0.7052 при глубине дерева 2\n",
      "F1-мера на валидационной выборке достигает значения 0.4976 при глубине дерева 2\n",
      "F1-мера на тренировочной выборке достигает значения 0.7052 при глубине дерева 3\n",
      "F1-мера на валидационной выборке достигает значения 0.4976 при глубине дерева 3\n",
      "F1-мера на тренировочной выборке достигает значения 0.7487 при глубине дерева 4\n",
      "F1-мера на валидационной выборке достигает значения 0.517 при глубине дерева 4\n",
      "F1-мера на тренировочной выборке достигает значения 0.7728 при глубине дерева 5\n",
      "F1-мера на валидационной выборке достигает значения 0.5489 при глубине дерева 5\n",
      "F1-мера на тренировочной выборке достигает значения 0.7863 при глубине дерева 6\n",
      "F1-мера на валидационной выборке достигает значения 0.5587 при глубине дерева 6\n",
      "F1-мера на тренировочной выборке достигает значения 0.8081 при глубине дерева 7\n",
      "F1-мера на валидационной выборке достигает значения 0.555 при глубине дерева 7\n",
      "F1-мера на тренировочной выборке достигает значения 0.8206 при глубине дерева 8\n",
      "F1-мера на валидационной выборке достигает значения 0.5533 при глубине дерева 8\n",
      "F1-мера на тренировочной выборке достигает значения 0.8528 при глубине дерева 9\n",
      "F1-мера на валидационной выборке достигает значения 0.5083 при глубине дерева 9\n",
      "F1-мера на тренировочной выборке достигает значения 0.873 при глубине дерева 10\n",
      "F1-мера на валидационной выборке достигает значения 0.4969 при глубине дерева 10\n",
      "F1-мера на тренировочной выборке достигает значения 0.899 при глубине дерева 11\n",
      "F1-мера на валидационной выборке достигает значения 0.4815 при глубине дерева 11\n",
      "F1-мера на тренировочной выборке достигает значения 0.9232 при глубине дерева 12\n",
      "F1-мера на валидационной выборке достигает значения 0.4722 при глубине дерева 12\n",
      "F1-мера на тренировочной выборке достигает значения 0.9409 при глубине дерева 13\n",
      "F1-мера на валидационной выборке достигает значения 0.4622 при глубине дерева 13\n",
      "F1-мера на тренировочной выборке достигает значения 0.9575 при глубине дерева 14\n",
      "F1-мера на валидационной выборке достигает значения 0.4614 при глубине дерева 14\n",
      "F1-мера на тренировочной выборке достигает значения 0.974 при глубине дерева 15\n",
      "F1-мера на валидационной выборке достигает значения 0.4619 при глубине дерева 15\n",
      "F1-мера на тренировочной выборке достигает значения 0.983 при глубине дерева 16\n",
      "F1-мера на валидационной выборке достигает значения 0.4645 при глубине дерева 16\n",
      "F1-мера на тренировочной выборке достигает значения 0.9882 при глубине дерева 17\n",
      "F1-мера на валидационной выборке достигает значения 0.4519 при глубине дерева 17\n",
      "F1-мера на тренировочной выборке достигает значения 0.9942 при глубине дерева 18\n",
      "F1-мера на валидационной выборке достигает значения 0.4551 при глубине дерева 18\n",
      "F1-мера на тренировочной выборке достигает значения 0.9978 при глубине дерева 19\n",
      "F1-мера на валидационной выборке достигает значения 0.4601 при глубине дерева 19\n",
      "F1-мера на тренировочной выборке достигает значения 0.9987 при глубине дерева 20\n",
      "F1-мера на валидационной выборке достигает значения 0.4581 при глубине дерева 20\n",
      "F1-мера на тренировочной выборке достигает значения 0.9998 при глубине дерева 21\n",
      "F1-мера на валидационной выборке достигает значения 0.4577 при глубине дерева 21\n",
      "F1-мера на тренировочной выборке достигает значения 1.0 при глубине дерева 22\n",
      "F1-мера на валидационной выборке достигает значения 0.4518 при глубине дерева 22\n",
      "F1-мера на тренировочной выборке достигает значения 1.0 при глубине дерева 23\n",
      "F1-мера на валидационной выборке достигает значения 0.4518 при глубине дерева 23\n",
      "F1-мера на тренировочной выборке достигает значения 1.0 при глубине дерева 24\n",
      "F1-мера на валидационной выборке достигает значения 0.4518 при глубине дерева 24\n",
      "F1-мера на тренировочной выборке достигает значения 1.0 при глубине дерева 25\n",
      "F1-мера на валидационной выборке достигает значения 0.4518 при глубине дерева 25\n"
     ]
    }
   ],
   "source": [
    "max_depth_lst = [i for i in range(1, 26)]\n",
    "f1_train_lst = []\n",
    "f1_validate_lst = []\n",
    "for max_depth in range(1, 26):\n",
    "    model = DecisionTreeClassifier(max_depth = max_depth, random_state = 12345)\n",
    "    model.fit(features_train_upsample, target_train_upsample)\n",
    "    predictions_train = model.predict(features_train_upsample)\n",
    "    predictions_valid = model.predict(features_validate)\n",
    "    f1_train = f1_score(target_train_upsample, predictions_train)\n",
    "    f1_train_lst.append(f1_train)\n",
    "    print('F1-мера на тренировочной выборке достигает значения', round(f1_train, 4), 'при глубине дерева',\n",
    "         max_depth)\n",
    "    f1_validate = f1_score(target_validate, predictions_valid)\n",
    "    f1_validate_lst.append(f1_validate)\n",
    "    print('F1-мера на валидационной выборке достигает значения', round(f1_validate, 4), 'при глубине дерева',\n",
    "         max_depth)"
   ]
  },
  {
   "cell_type": "markdown",
   "metadata": {},
   "source": [
    "Визуализируем полученную информацию."
   ]
  },
  {
   "cell_type": "code",
   "execution_count": 61,
   "metadata": {},
   "outputs": [
    {
     "data": {
      "image/png": "[encoded data removed]",
      "text/plain": [
       "<Figure size 1440x360 with 1 Axes>"
      ]
     },
     "metadata": {
      "needs_background": "light"
     },
     "output_type": "display_data"
    }
   ],
   "source": [
    "columns = ['max_depth', 'f1_train', 'f1_validate']\n",
    "df_f1_dec_tree = pd.DataFrame(data = zip(max_depth_lst, f1_train_lst, f1_validate_lst), columns = columns)\n",
    "ax = df_f1_dec_tree.plot(y = 'f1_train', x = 'max_depth', kind = 'bar', figsize = (20, 5), color = 'y', \n",
    "align = 'edge', label = 'f1_train', title = ('Динамика F1-меры в зависимости от глубины дерева \\\n",
    "(дерево решений с балансом классов (upsampling))'))\n",
    "df_f1_dec_tree.plot(y = 'f1_validate', x = 'max_depth', kind = 'bar', figsize = (20, 5), \n",
    "                          color = 'b', ax = ax, align = 'center', \n",
    "label = 'f1_validate')\n",
    "plt.xlabel('Глубина дерева')\n",
    "plt.ylabel('F1-мера')\n",
    "plt.ylim(0, 1)\n",
    "plt.show()"
   ]
  },
  {
   "cell_type": "markdown",
   "metadata": {},
   "source": [
    "Наиболее значение **F1-меры** достигается при **глубине дерева**, равному **6**: значение **F1-меры** составляет **0.7863 на тренировочной выборке** и **0.5587 на валидационной выборке**. \n",
    "\n",
    "После значения глубины дерева, равного 6, **модель начинает переобучаться:** качество модели на тренировочной выборке растёт и достигает 1.0, а качество модели на валидационной выборке несоразмерно падает.\n",
    "\n",
    "Поэтому **оптимальным значением гиперпараметра глубины дерева будетм считать 6**.\n",
    "\n",
    "Обучим модель, используя оптимальное значение гиперпараметра, и протестируем её на тестовой выборке."
   ]
  },
  {
   "cell_type": "code",
   "execution_count": 62,
   "metadata": {},
   "outputs": [
    {
     "name": "stdout",
     "output_type": "stream",
     "text": [
      "F1-мера для модели дерева решений (классы сбалансированы техникой upsample): 0.5903\n"
     ]
    }
   ],
   "source": [
    "model = DecisionTreeClassifier(max_depth = 7, random_state = 12345)\n",
    "model.fit(features_train_upsample, target_train_upsample)\n",
    "predictions_test = model.predict(features_test)\n",
    "print('F1-мера для модели дерева решений (классы сбалансированы техникой upsample):', \n",
    "      round((f1_score(target_test, predictions_test)), 4))"
   ]
  },
  {
   "cell_type": "markdown",
   "metadata": {},
   "source": [
    "**F1-мера** для построенной модели сложилась на уровне **0.5903**, что **соответствует** значению целевой метрики **не менее 0.59**, установленному условиями проекта. Следовательно, модель достаточно хорошо предсказывает уход клиента.\n",
    "\n",
    "Рассчитаем метрику **ROC-AUC**."
   ]
  },
  {
   "cell_type": "code",
   "execution_count": 63,
   "metadata": {},
   "outputs": [
    {
     "name": "stdout",
     "output_type": "stream",
     "text": [
      "ROC-AUC для построенной модели: 0.8191\n"
     ]
    }
   ],
   "source": [
    "print('ROC-AUC для построенной модели:', round((roc_auc_score(target_test, model.predict_proba(features_test)[:, 1])), 4))"
   ]
  },
  {
   "cell_type": "markdown",
   "metadata": {},
   "source": [
    "**ROC-AUC** для построенной модели лучше, чем для случайной модели (т.е. выше значения 0.5). В целом на выходе имеем довольно неплохое значение метрики **ROC-AUC**, что говорит о том, что построенная модель обеспечивает хорошее значение метрик TPR и FPR (и намного лучше случайного классификатора).\n",
    "\n",
    "Как и в случае с логистической регрессией, модель, которая была обучена на данных с балансом классов показывает позволяет достичь более высокого значения метрики **F1-мера**, чем модель, которая была обучена на данных без баланса классов. При этом лучший результат показала модель, которая была обучена на несбалансированных данных с взвешиванием классов - значение **F1-меры** достигло **0.5934**, **ROC-AUC** - **0.8191**.\n",
    "\n",
    "<a href='#title'>К оглавлению.</a>"
   ]
  },
  {
   "cell_type": "markdown",
   "metadata": {},
   "source": [
    "<a id='3.3'></a>\n",
    "## Этап 3.3. Исследование модели, основанной на алгоритме случайного леса.\n",
    "\n",
    "Построим модель, основанную на алгоритме случайного леса. Оптимизировать будем **гиперпараметр n_estimators**, являющийся количеством деревьев. При этом зафиксируем параметр max_depth на уровне 6, так как это значение показывало лучшие результаты при работе с моделью, основанной на алгоритме дерева решений."
   ]
  },
  {
   "cell_type": "markdown",
   "metadata": {},
   "source": [
    "<a id='3.3.1'></a>\n",
    "### Этап 3.3.1. Исследование модели, основанной на алгоритме случайного леса и обученной на выборке с дисбалансом классов.\n",
    "\n",
    "Сначала рассмотрим модель, обученную на выборке с дисбалансом классов."
   ]
  },
  {
   "cell_type": "code",
   "execution_count": 64,
   "metadata": {
    "scrolled": true
   },
   "outputs": [
    {
     "name": "stdout",
     "output_type": "stream",
     "text": [
      "F1-мера на тренировочной выборке достигает значения 0.5354 при глубине дерева 6 и количестве деревьев 5\n",
      "F1-мера на валидационной выборке достигает значения 0.4789 при глубине дерева 6 и количестве деревьев 5\n",
      "F1-мера на тренировочной выборке достигает значения 0.5543 при глубине дерева 6 и количестве деревьев 10\n",
      "F1-мера на валидационной выборке достигает значения 0.4983 при глубине дерева 6 и количестве деревьев 10\n",
      "F1-мера на тренировочной выборке достигает значения 0.5551 при глубине дерева 6 и количестве деревьев 15\n",
      "F1-мера на валидационной выборке достигает значения 0.5043 при глубине дерева 6 и количестве деревьев 15\n",
      "F1-мера на тренировочной выборке достигает значения 0.5615 при глубине дерева 6 и количестве деревьев 20\n",
      "F1-мера на валидационной выборке достигает значения 0.5113 при глубине дерева 6 и количестве деревьев 20\n",
      "F1-мера на тренировочной выборке достигает значения 0.5711 при глубине дерева 6 и количестве деревьев 25\n",
      "F1-мера на валидационной выборке достигает значения 0.5078 при глубине дерева 6 и количестве деревьев 25\n",
      "F1-мера на тренировочной выборке достигает значения 0.5681 при глубине дерева 6 и количестве деревьев 30\n",
      "F1-мера на валидационной выборке достигает значения 0.5043 при глубине дерева 6 и количестве деревьев 30\n",
      "F1-мера на тренировочной выборке достигает значения 0.5652 при глубине дерева 6 и количестве деревьев 35\n",
      "F1-мера на валидационной выборке достигает значения 0.4974 при глубине дерева 6 и количестве деревьев 35\n",
      "F1-мера на тренировочной выборке достигает значения 0.5603 при глубине дерева 6 и количестве деревьев 40\n",
      "F1-мера на валидационной выборке достигает значения 0.5009 при глубине дерева 6 и количестве деревьев 40\n",
      "F1-мера на тренировочной выборке достигает значения 0.5656 при глубине дерева 6 и количестве деревьев 45\n",
      "F1-мера на валидационной выборке достигает значения 0.4982 при глубине дерева 6 и количестве деревьев 45\n",
      "F1-мера на тренировочной выборке достигает значения 0.5648 при глубине дерева 6 и количестве деревьев 50\n",
      "F1-мера на валидационной выборке достигает значения 0.5018 при глубине дерева 6 и количестве деревьев 50\n",
      "F1-мера на тренировочной выборке достигает значения 0.565 при глубине дерева 6 и количестве деревьев 55\n",
      "F1-мера на валидационной выборке достигает значения 0.5044 при глубине дерева 6 и количестве деревьев 55\n",
      "F1-мера на тренировочной выборке достигает значения 0.5695 при глубине дерева 6 и количестве деревьев 60\n",
      "F1-мера на валидационной выборке достигает значения 0.5087 при глубине дерева 6 и количестве деревьев 60\n",
      "F1-мера на тренировочной выборке достигает значения 0.5679 при глубине дерева 6 и количестве деревьев 65\n",
      "F1-мера на валидационной выборке достигает значения 0.5079 при глубине дерева 6 и количестве деревьев 65\n",
      "F1-мера на тренировочной выборке достигает значения 0.564 при глубине дерева 6 и количестве деревьев 70\n",
      "F1-мера на валидационной выборке достигает значения 0.5061 при глубине дерева 6 и количестве деревьев 70\n",
      "F1-мера на тренировочной выборке достигает значения 0.5697 при глубине дерева 6 и количестве деревьев 75\n",
      "F1-мера на валидационной выборке достигает значения 0.5062 при глубине дерева 6 и количестве деревьев 75\n",
      "F1-мера на тренировочной выборке достигает значения 0.5714 при глубине дерева 6 и количестве деревьев 80\n",
      "F1-мера на валидационной выборке достигает значения 0.507 при глубине дерева 6 и количестве деревьев 80\n",
      "F1-мера на тренировочной выборке достигает значения 0.5676 при глубине дерева 6 и количестве деревьев 85\n",
      "F1-мера на валидационной выборке достигает значения 0.5061 при глубине дерева 6 и количестве деревьев 85\n",
      "F1-мера на тренировочной выборке достигает значения 0.5634 при глубине дерева 6 и количестве деревьев 90\n",
      "F1-мера на валидационной выборке достигает значения 0.5018 при глубине дерева 6 и количестве деревьев 90\n",
      "F1-мера на тренировочной выборке достигает значения 0.5642 при глубине дерева 6 и количестве деревьев 95\n",
      "F1-мера на валидационной выборке достигает значения 0.5174 при глубине дерева 6 и количестве деревьев 95\n",
      "F1-мера на тренировочной выборке достигает значения 0.5656 при глубине дерева 6 и количестве деревьев 100\n",
      "F1-мера на валидационной выборке достигает значения 0.5131 при глубине дерева 6 и количестве деревьев 100\n"
     ]
    }
   ],
   "source": [
    "n_estimators_lst = [i for i in range(5, 101, 5)]\n",
    "f1_train_lst = []\n",
    "f1_validate_lst = []\n",
    "for n_estimators in range(5, 101, 5):\n",
    "    model = RandomForestClassifier(max_depth = 6, n_estimators = n_estimators, random_state = 12345)\n",
    "    model.fit(features_train_disbalanced, target_train_disbalanced)\n",
    "    predictions_train = model.predict(features_train_disbalanced)\n",
    "    predictions_validate = model.predict(features_validate)\n",
    "    f1_train = f1_score(target_train_disbalanced, predictions_train)\n",
    "    f1_train_lst.append(f1_train)\n",
    "    print('F1-мера на тренировочной выборке достигает значения', round(f1_train, 4), \n",
    "          'при глубине дерева 6 и количестве деревьев', n_estimators)\n",
    "    f1_validate = f1_score(target_validate, predictions_validate)\n",
    "    f1_validate_lst.append(f1_validate)\n",
    "    print('F1-мера на валидационной выборке достигает значения', round(f1_validate, 4), \n",
    "          'при глубине дерева 6 и количестве деревьев', n_estimators)"
   ]
  },
  {
   "cell_type": "markdown",
   "metadata": {},
   "source": [
    "Визуализируем полученную информацию."
   ]
  },
  {
   "cell_type": "code",
   "execution_count": 65,
   "metadata": {},
   "outputs": [
    {
     "data": {
      "image/png": "[encoded data removed]",
      "text/plain": [
       "<Figure size 1440x360 with 1 Axes>"
      ]
     },
     "metadata": {
      "needs_background": "light"
     },
     "output_type": "display_data"
    }
   ],
   "source": [
    "columns = ['n_estimators', 'f1_train', 'f1_validate']\n",
    "df_f1_dec_tree = pd.DataFrame(data = zip(n_estimators_lst, f1_train_lst, f1_validate_lst), columns = columns)\n",
    "ax = df_f1_dec_tree.plot(y = 'f1_train', x = 'n_estimators', kind = 'bar', figsize = (20, 5), color = 'y', \n",
    "align = 'edge', label = 'f1_train', title = ('Динамика F1-меры в зависимости от количества деревьев \\\n",
    "(случайный лес, классы не сбалансированы)'))\n",
    "df_f1_dec_tree.plot(y = 'f1_validate', x = 'n_estimators', kind = 'bar', figsize = (20, 5), \n",
    "                          color = 'b', ax = ax, align = 'center', \n",
    "label = 'f1_validate')\n",
    "plt.xlabel('Глубина дерева')\n",
    "plt.ylabel('F1-мера')\n",
    "plt.ylim(0, 1)\n",
    "plt.show()"
   ]
  },
  {
   "cell_type": "markdown",
   "metadata": {},
   "source": [
    "Наиболее значение **F1-меры** достигается при **количестве деревьев**, равному **95**: значение **F1-меры** составляет **0.5642 на тренировочной выборке** и **0.5174 на валидационной выборке**. Отмечу, что модель, основанная на случайном лесе, не склонна к переобучению: разница между значениями **F1-меры** на тренировочной и валидационной выборке небольшая.\n",
    "\n",
    "Поэтому **оптимальным значением гиперпараметра количество деревьев будетм считать 95**.\n",
    "\n",
    "Обучим модель, используя оптимальное значение гиперпараметра, и протестируем её на тестовой выборке."
   ]
  },
  {
   "cell_type": "code",
   "execution_count": 66,
   "metadata": {},
   "outputs": [
    {
     "name": "stdout",
     "output_type": "stream",
     "text": [
      "F1-мера для модели случайного леса (классы не сбалансированы): 0.5147\n"
     ]
    }
   ],
   "source": [
    "model = RandomForestClassifier(max_depth = 6, n_estimators = 95, random_state = 12345)\n",
    "model.fit(features_train_disbalanced, target_train_disbalanced)\n",
    "predictions_test = model.predict(features_test)\n",
    "print('F1-мера для модели случайного леса (классы не сбалансированы):', \n",
    "      round((f1_score(target_test, predictions_test)), 4))"
   ]
  },
  {
   "cell_type": "markdown",
   "metadata": {},
   "source": [
    "**F1-мера** для построенной модели сложилась на уровне **0.5147**, что **не соответствует** значению целевой метрики **не менее 0.59**, установленному условиями проекта. Следовательно, модель плохо предсказывает уход клиента.\n",
    "\n",
    "Рассчитаем метрику **ROC-AUC**."
   ]
  },
  {
   "cell_type": "code",
   "execution_count": 67,
   "metadata": {},
   "outputs": [
    {
     "name": "stdout",
     "output_type": "stream",
     "text": [
      "ROC-AUC для построенной модели: 0.8649\n"
     ]
    }
   ],
   "source": [
    "print('ROC-AUC для построенной модели:', round((roc_auc_score(target_test, model.predict_proba(features_test)[:, 1])), 4))"
   ]
  },
  {
   "cell_type": "markdown",
   "metadata": {},
   "source": [
    "**ROC-AUC** для построенной модели лучше, чем для случайной модели (т.е. выше значения 0.5). В целом на выходе имеем довольно неплохое значение метрики **ROC-AUC**, что говорит о том, что построенная модель обеспечивает хорошее значение метрик TPR и FPR (и намного лучше случайного классификатора).\n",
    "\n",
    "<a href='#title'>К оглавлению.</a>"
   ]
  },
  {
   "cell_type": "markdown",
   "metadata": {},
   "source": [
    "<a id='3.3.2'></a>\n",
    "### Этап 3.3.2. Исследование модели, основанной на алгоритме случайного леса с взвешиванием классов и обученной на выборке с дисбалансом классов.\n",
    "\n",
    "Рассмотрим модель, которая будет обучена на данных с дисбалансом классов. Однако в этот раз мы придадим объектам редкого класса больший вес. Для этого передадим параметру **class_weight** аргумента **balanced**."
   ]
  },
  {
   "cell_type": "code",
   "execution_count": 99,
   "metadata": {
    "scrolled": true
   },
   "outputs": [
    {
     "name": "stdout",
     "output_type": "stream",
     "text": [
      "F1-мера на тренировочной выборке достигает значения 0.6089 при глубине дерева 6 и количестве деревьев 5\n",
      "F1-мера на валидационной выборке достигает значения 0.5333 при глубине дерева 6 и количестве деревьев 5\n",
      "F1-мера на тренировочной выборке достигает значения 0.6303 при глубине дерева 6 и количестве деревьев 10\n",
      "F1-мера на валидационной выборке достигает значения 0.5654 при глубине дерева 6 и количестве деревьев 10\n",
      "F1-мера на тренировочной выборке достигает значения 0.6269 при глубине дерева 6 и количестве деревьев 15\n",
      "F1-мера на валидационной выборке достигает значения 0.5504 при глубине дерева 6 и количестве деревьев 15\n",
      "F1-мера на тренировочной выборке достигает значения 0.6259 при глубине дерева 6 и количестве деревьев 20\n",
      "F1-мера на валидационной выборке достигает значения 0.5525 при глубине дерева 6 и количестве деревьев 20\n",
      "F1-мера на тренировочной выборке достигает значения 0.6236 при глубине дерева 6 и количестве деревьев 25\n",
      "F1-мера на валидационной выборке достигает значения 0.5517 при глубине дерева 6 и количестве деревьев 25\n",
      "F1-мера на тренировочной выборке достигает значения 0.6267 при глубине дерева 6 и количестве деревьев 30\n",
      "F1-мера на валидационной выборке достигает значения 0.5508 при глубине дерева 6 и количестве деревьев 30\n",
      "F1-мера на тренировочной выборке достигает значения 0.6294 при глубине дерева 6 и количестве деревьев 35\n",
      "F1-мера на валидационной выборке достигает значения 0.5541 при глубине дерева 6 и количестве деревьев 35\n",
      "F1-мера на тренировочной выборке достигает значения 0.6336 при глубине дерева 6 и количестве деревьев 40\n",
      "F1-мера на валидационной выборке достигает значения 0.5561 при глубине дерева 6 и количестве деревьев 40\n",
      "F1-мера на тренировочной выборке достигает значения 0.632 при глубине дерева 6 и количестве деревьев 45\n",
      "F1-мера на валидационной выборке достигает значения 0.5606 при глубине дерева 6 и количестве деревьев 45\n",
      "F1-мера на тренировочной выборке достигает значения 0.6348 при глубине дерева 6 и количестве деревьев 50\n",
      "F1-мера на валидационной выборке достигает значения 0.5627 при глубине дерева 6 и количестве деревьев 50\n",
      "F1-мера на тренировочной выборке достигает значения 0.6398 при глубине дерева 6 и количестве деревьев 55\n",
      "F1-мера на валидационной выборке достигает значения 0.5621 при глубине дерева 6 и количестве деревьев 55\n",
      "F1-мера на тренировочной выборке достигает значения 0.6436 при глубине дерева 6 и количестве деревьев 60\n",
      "F1-мера на валидационной выборке достигает значения 0.5671 при глубине дерева 6 и количестве деревьев 60\n",
      "F1-мера на тренировочной выборке достигает значения 0.6393 при глубине дерева 6 и количестве деревьев 65\n",
      "F1-мера на валидационной выборке достигает значения 0.5668 при глубине дерева 6 и количестве деревьев 65\n",
      "F1-мера на тренировочной выборке достигает значения 0.6426 при глубине дерева 6 и количестве деревьев 70\n",
      "F1-мера на валидационной выборке достигает значения 0.5699 при глубине дерева 6 и количестве деревьев 70\n",
      "F1-мера на тренировочной выборке достигает значения 0.6426 при глубине дерева 6 и количестве деревьев 75\n",
      "F1-мера на валидационной выборке достигает значения 0.5696 при глубине дерева 6 и количестве деревьев 75\n",
      "F1-мера на тренировочной выборке достигает значения 0.6417 при глубине дерева 6 и количестве деревьев 80\n",
      "F1-мера на валидационной выборке достигает значения 0.5702 при глубине дерева 6 и количестве деревьев 80\n",
      "F1-мера на тренировочной выборке достигает значения 0.6394 при глубине дерева 6 и количестве деревьев 85\n",
      "F1-мера на валидационной выборке достигает значения 0.5742 при глубине дерева 6 и количестве деревьев 85\n",
      "F1-мера на тренировочной выборке достигает значения 0.6392 при глубине дерева 6 и количестве деревьев 90\n",
      "F1-мера на валидационной выборке достигает значения 0.5714 при глубине дерева 6 и количестве деревьев 90\n",
      "F1-мера на тренировочной выборке достигает значения 0.6358 при глубине дерева 6 и количестве деревьев 95\n",
      "F1-мера на валидационной выборке достигает значения 0.5684 при глубине дерева 6 и количестве деревьев 95\n",
      "F1-мера на тренировочной выборке достигает значения 0.6378 при глубине дерева 6 и количестве деревьев 100\n",
      "F1-мера на валидационной выборке достигает значения 0.5754 при глубине дерева 6 и количестве деревьев 100\n"
     ]
    }
   ],
   "source": [
    "n_estimators_lst = [i for i in range(5, 101, 5)]\n",
    "f1_train_lst = []\n",
    "f1_validate_lst = []\n",
    "for n_estimators in range(5, 101, 5):\n",
    "    model = RandomForestClassifier(max_depth = 6, n_estimators = n_estimators, class_weight = 'balanced', random_state = 12345)\n",
    "    model.fit(features_train_disbalanced, target_train_disbalanced)\n",
    "    predictions_train = model.predict(features_train_disbalanced)\n",
    "    predictions_validate = model.predict(features_validate)\n",
    "    f1_train = f1_score(target_train_disbalanced, predictions_train)\n",
    "    f1_train_lst.append(f1_train)\n",
    "    print('F1-мера на тренировочной выборке достигает значения', round(f1_train, 4), \n",
    "         'при глубине дерева 6 и количестве деревьев', n_estimators)\n",
    "    f1_validate = f1_score(target_validate, predictions_validate)\n",
    "    f1_validate_lst.append(f1_validate)\n",
    "    print('F1-мера на валидационной выборке достигает значения', round(f1_validate, 4), \n",
    "          'при глубине дерева 6 и количестве деревьев', n_estimators)"
   ]
  },
  {
   "cell_type": "markdown",
   "metadata": {},
   "source": [
    "Визуализируем полученную информацию."
   ]
  },
  {
   "cell_type": "code",
   "execution_count": 100,
   "metadata": {},
   "outputs": [
    {
     "data": {
      "image/png": "[encoded data removed]",
      "text/plain": [
       "<Figure size 1440x360 with 1 Axes>"
      ]
     },
     "metadata": {
      "needs_background": "light"
     },
     "output_type": "display_data"
    }
   ],
   "source": [
    "columns = ['n_estimators', 'f1_train', 'f1_validate']\n",
    "df_f1_dec_tree = pd.DataFrame(data = zip(n_estimators_lst, f1_train_lst, f1_validate_lst), columns = columns)\n",
    "ax = df_f1_dec_tree.plot(y = 'f1_train', x = 'n_estimators', kind = 'bar', figsize = (20, 5), color = 'y', \n",
    "align = 'edge', label = 'f1_train', title = ('Динамика F1-меры в зависимости от количества деревьев \\\n",
    "(случайный лес, с балансом классов (downsampling))'))\n",
    "df_f1_dec_tree.plot(y = 'f1_validate', x = 'n_estimators', kind = 'bar', figsize = (20, 5), \n",
    "                          color = 'b', ax = ax, align = 'center', \n",
    "label = 'f1_validate')\n",
    "plt.xlabel('Глубина дерева')\n",
    "plt.ylabel('F1-мера')\n",
    "plt.ylim(0, 1)\n",
    "plt.show()"
   ]
  },
  {
   "cell_type": "markdown",
   "metadata": {},
   "source": [
    "Наиболее значение **F1-меры** достигается при **количестве деревьев**, равному **100**: значение **F1-меры** составляет **0.6378 на тренировочной выборке** и **0.5754 на валидационной выборке**. Отмечу, что модель, основанная на случайном лесе, не склонна к переобучению: разница между значениями **F1-меры** на тренировочной и валидационной выборке небольшая.\n",
    "\n",
    "Поэтому **оптимальным значением гиперпараметра количество деревьев будетм считать 100**.\n",
    "\n",
    "Обучим модель, используя оптимальное значение гиперпараметра, и протестируем её на тестовой выборке."
   ]
  },
  {
   "cell_type": "code",
   "execution_count": 69,
   "metadata": {},
   "outputs": [
    {
     "name": "stdout",
     "output_type": "stream",
     "text": [
      "F1-мера для модели случайного леса c взвешиванием классов (классы не сбалансированы): 0.6358\n"
     ]
    }
   ],
   "source": [
    "model = RandomForestClassifier(max_depth = 6, n_estimators = 100, class_weight = 'balanced', random_state = 12345)\n",
    "model.fit(features_train_disbalanced, target_train_disbalanced)\n",
    "predictions_test = model.predict(features_test)\n",
    "print('F1-мера для модели случайного леса c взвешиванием классов (классы не сбалансированы):', \n",
    "      round((f1_score(target_test, predictions_test)), 4))"
   ]
  },
  {
   "cell_type": "markdown",
   "metadata": {},
   "source": [
    "**F1-мера** для построенной модели сложилась на уровне **0.6358**, что **соответствует** значению целевой метрики **не менее 0.59**, установленному условиями проекта. Следовательно, модель достаточно неплохо предсказывает уход клиента.\n",
    "\n",
    "Рассчитаем метрику **ROC-AUC**."
   ]
  },
  {
   "cell_type": "code",
   "execution_count": 70,
   "metadata": {},
   "outputs": [
    {
     "name": "stdout",
     "output_type": "stream",
     "text": [
      "ROC-AUC для построенной модели: 0.8646\n"
     ]
    }
   ],
   "source": [
    "print('ROC-AUC для построенной модели:', round((roc_auc_score(target_test, model.predict_proba(features_test)[:, 1])), 4))"
   ]
  },
  {
   "cell_type": "markdown",
   "metadata": {},
   "source": [
    "**ROC-AUC** для построенной модели лучше, чем для случайной модели (т.е. выше значения 0.5). В целом на выходе имеем довольно неплохое значение метрики **ROC-AUC**, что говорит о том, что построенная модель обеспечивает хорошее значение метрик TPR и FPR (и намного лучше случайного классификатора).\n",
    "\n",
    "<a href='#title'>К оглавлению.</a>"
   ]
  },
  {
   "cell_type": "markdown",
   "metadata": {},
   "source": [
    "<a id='3.3.3'></a>\n",
    "### Этап 3.3.3. Исследование модели, основанной на алгоритме дерева решений и обученной на выборке с балансом классов (downsampling).\n",
    "\n",
    "Рассмотрим модель, которая будет обучена на данных с балансом классов, достигнутом за счёт применения техники downsampling."
   ]
  },
  {
   "cell_type": "code",
   "execution_count": 71,
   "metadata": {
    "scrolled": true
   },
   "outputs": [
    {
     "name": "stdout",
     "output_type": "stream",
     "text": [
      "F1-мера на тренировочной выборке достигает значения 0.7629 при глубине дерева 6 и количестве деревьев 5\n",
      "F1-мера на валидационной выборке достигает значения 0.5487 при глубине дерева 6 и количестве деревьев 5\n",
      "F1-мера на тренировочной выборке достигает значения 0.7929 при глубине дерева 6 и количестве деревьев 10\n",
      "F1-мера на валидационной выборке достигает значения 0.5375 при глубине дерева 6 и количестве деревьев 10\n",
      "F1-мера на тренировочной выборке достигает значения 0.801 при глубине дерева 6 и количестве деревьев 15\n",
      "F1-мера на валидационной выборке достигает значения 0.5415 при глубине дерева 6 и количестве деревьев 15\n",
      "F1-мера на тренировочной выборке достигает значения 0.8024 при глубине дерева 6 и количестве деревьев 20\n",
      "F1-мера на валидационной выборке достигает значения 0.5429 при глубине дерева 6 и количестве деревьев 20\n",
      "F1-мера на тренировочной выборке достигает значения 0.801 при глубине дерева 6 и количестве деревьев 25\n",
      "F1-мера на валидационной выборке достигает значения 0.5333 при глубине дерева 6 и количестве деревьев 25\n",
      "F1-мера на тренировочной выборке достигает значения 0.8022 при глубине дерева 6 и количестве деревьев 30\n",
      "F1-мера на валидационной выборке достигает значения 0.5385 при глубине дерева 6 и количестве деревьев 30\n",
      "F1-мера на тренировочной выборке достигает значения 0.8051 при глубине дерева 6 и количестве деревьев 35\n",
      "F1-мера на валидационной выборке достигает значения 0.5484 при глубине дерева 6 и количестве деревьев 35\n",
      "F1-мера на тренировочной выборке достигает значения 0.8045 при глубине дерева 6 и количестве деревьев 40\n",
      "F1-мера на валидационной выборке достигает значения 0.5579 при глубине дерева 6 и количестве деревьев 40\n",
      "F1-мера на тренировочной выборке достигает значения 0.8053 при глубине дерева 6 и количестве деревьев 45\n",
      "F1-мера на валидационной выборке достигает значения 0.5597 при глубине дерева 6 и количестве деревьев 45\n",
      "F1-мера на тренировочной выборке достигает значения 0.8062 при глубине дерева 6 и количестве деревьев 50\n",
      "F1-мера на валидационной выборке достигает значения 0.5611 при глубине дерева 6 и количестве деревьев 50\n",
      "F1-мера на тренировочной выборке достигает значения 0.8019 при глубине дерева 6 и количестве деревьев 55\n",
      "F1-мера на валидационной выборке достигает значения 0.5577 при глубине дерева 6 и количестве деревьев 55\n",
      "F1-мера на тренировочной выборке достигает значения 0.8026 при глубине дерева 6 и количестве деревьев 60\n",
      "F1-мера на валидационной выборке достигает значения 0.5574 при глубине дерева 6 и количестве деревьев 60\n",
      "F1-мера на тренировочной выборке достигает значения 0.8012 при глубине дерева 6 и количестве деревьев 65\n",
      "F1-мера на валидационной выборке достигает значения 0.5567 при глубине дерева 6 и количестве деревьев 65\n",
      "F1-мера на тренировочной выборке достигает значения 0.8002 при глубине дерева 6 и количестве деревьев 70\n",
      "F1-мера на валидационной выборке достигает значения 0.5527 при глубине дерева 6 и количестве деревьев 70\n",
      "F1-мера на тренировочной выборке достигает значения 0.8026 при глубине дерева 6 и количестве деревьев 75\n",
      "F1-мера на валидационной выборке достигает значения 0.5561 при глубине дерева 6 и количестве деревьев 75\n",
      "F1-мера на тренировочной выборке достигает значения 0.8017 при глубине дерева 6 и количестве деревьев 80\n",
      "F1-мера на валидационной выборке достигает значения 0.5624 при глубине дерева 6 и количестве деревьев 80\n",
      "F1-мера на тренировочной выборке достигает значения 0.8002 при глубине дерева 6 и количестве деревьев 85\n",
      "F1-мера на валидационной выборке достигает значения 0.5632 при глубине дерева 6 и количестве деревьев 85\n",
      "F1-мера на тренировочной выборке достигает значения 0.8014 при глубине дерева 6 и количестве деревьев 90\n",
      "F1-мера на валидационной выборке достигает значения 0.5634 при глубине дерева 6 и количестве деревьев 90\n",
      "F1-мера на тренировочной выборке достигает значения 0.8044 при глубине дерева 6 и количестве деревьев 95\n",
      "F1-мера на валидационной выборке достигает значения 0.5626 при глубине дерева 6 и количестве деревьев 95\n",
      "F1-мера на тренировочной выборке достигает значения 0.8038 при глубине дерева 6 и количестве деревьев 100\n",
      "F1-мера на валидационной выборке достигает значения 0.5632 при глубине дерева 6 и количестве деревьев 100\n"
     ]
    }
   ],
   "source": [
    "n_estimators_lst = [i for i in range(5, 101, 5)]\n",
    "f1_train_lst = []\n",
    "f1_validate_lst = []\n",
    "for n_estimators in range(5, 101, 5):\n",
    "    model = RandomForestClassifier(max_depth = 6, n_estimators = n_estimators, random_state = 12345)\n",
    "    model.fit(features_train_downsample, target_train_downsample)\n",
    "    predictions_train = model.predict(features_train_downsample)\n",
    "    predictions_validate = model.predict(features_validate)\n",
    "    f1_train = f1_score(target_train_downsample, predictions_train)\n",
    "    f1_train_lst.append(f1_train)\n",
    "    print('F1-мера на тренировочной выборке достигает значения', round(f1_train, 4), \n",
    "         'при глубине дерева 6 и количестве деревьев', n_estimators)\n",
    "    f1_validate = f1_score(target_validate, predictions_validate)\n",
    "    f1_validate_lst.append(f1_validate)\n",
    "    print('F1-мера на валидационной выборке достигает значения', round(f1_validate, 4), \n",
    "          'при глубине дерева 6 и количестве деревьев', n_estimators)"
   ]
  },
  {
   "cell_type": "markdown",
   "metadata": {},
   "source": [
    "Визуализируем полученную информацию."
   ]
  },
  {
   "cell_type": "code",
   "execution_count": 72,
   "metadata": {},
   "outputs": [
    {
     "data": {
      "image/png": "[encoded data removed]",
      "text/plain": [
       "<Figure size 1440x360 with 1 Axes>"
      ]
     },
     "metadata": {
      "needs_background": "light"
     },
     "output_type": "display_data"
    }
   ],
   "source": [
    "columns = ['n_estimators', 'f1_train', 'f1_validate']\n",
    "df_f1_dec_tree = pd.DataFrame(data = zip(n_estimators_lst, f1_train_lst, f1_validate_lst), columns = columns)\n",
    "ax = df_f1_dec_tree.plot(y = 'f1_train', x = 'n_estimators', kind = 'bar', figsize = (20, 5), color = 'y', \n",
    "align = 'edge', label = 'f1_train', title = ('Динамика F1-меры в зависимости от количества деревьев \\\n",
    "(случайный лес, с балансом классов (downsampling))'))\n",
    "df_f1_dec_tree.plot(y = 'f1_validate', x = 'n_estimators', kind = 'bar', figsize = (20, 5), \n",
    "                          color = 'b', ax = ax, align = 'center', \n",
    "label = 'f1_validate')\n",
    "plt.xlabel('Глубина дерева')\n",
    "plt.ylabel('F1-мера')\n",
    "plt.ylim(0, 1)\n",
    "plt.show()"
   ]
  },
  {
   "cell_type": "markdown",
   "metadata": {},
   "source": [
    "Наиболее значение **F1-меры** достигается при **количестве деревьев**, равному **100**: значение **F1-меры** составляет **0.8038 на тренировочной выборке** и **0.5632 на валидационной выборке**. \n",
    "\n",
    "Поэтому **оптимальным значением гиперпараметра количества деревьев будетм считать 100**.\n",
    "\n",
    "Вместе с тем отмечу, что модель, вероятно, просто выучила ответы, так как качество модели на валидационной выборке значительно ниже качества модели на тренировочной выборке, т.е. модель переобучилась. Вероятно, это вызвано нехваткой данных в тренировочной выборке: мы уменьшили её размер за счёт применения техники downsampling.\n",
    "\n",
    "Обучим модель, используя оптимальное значение гиперпараметра, и протестируем её на тестовой выборке."
   ]
  },
  {
   "cell_type": "code",
   "execution_count": 73,
   "metadata": {},
   "outputs": [
    {
     "name": "stdout",
     "output_type": "stream",
     "text": [
      "F1-мера для модели случайного леса (классы сбалансированы техникой downsample): 0.6119\n"
     ]
    }
   ],
   "source": [
    "model = RandomForestClassifier(max_depth = 6, n_estimators = 100, random_state = 12345)\n",
    "model.fit(features_train_downsample, target_train_downsample)\n",
    "predictions_test = model.predict(features_test)\n",
    "print('F1-мера для модели случайного леса (классы сбалансированы техникой downsample):', \n",
    "      round((f1_score(target_test, predictions_test)), 4))"
   ]
  },
  {
   "cell_type": "markdown",
   "metadata": {},
   "source": [
    "**F1-мера** для построенной модели сложилась на уровне **0.6119**, что **соответствует** значению целевой метрики **не менее 0.59**, установленному условиями проекта. Следовательно, модель достаточно неплохо предсказывает уход клиента.\n",
    "\n",
    "Рассчитаем метрику **ROC-AUC**."
   ]
  },
  {
   "cell_type": "code",
   "execution_count": 74,
   "metadata": {},
   "outputs": [
    {
     "name": "stdout",
     "output_type": "stream",
     "text": [
      "ROC-AUC для построенной модели: 0.8627\n"
     ]
    }
   ],
   "source": [
    "print('ROC-AUC для построенной модели:', round((roc_auc_score(target_test, model.predict_proba(features_test)[:, 1])), 4))"
   ]
  },
  {
   "cell_type": "markdown",
   "metadata": {},
   "source": [
    "**ROC-AUC** для построенной модели лучше, чем для случайной модели (т.е. выше значения 0.5). В целом на выходе имеем довольно неплохое значение метрики **ROC-AUC**, что говорит о том, что построенная модель обеспечивает хорошее значение метрик TPR и FPR (и намного лучше случайного классификатора).\n",
    "\n",
    "<a href='#title'>К оглавлению.</a>"
   ]
  },
  {
   "cell_type": "markdown",
   "metadata": {},
   "source": [
    "<a id='3.3.4'></a>\n",
    "### Этап 3.3.4. Исследование модели, основанной на алгоритме случайного леса и обученной на выборке с балансом классов (upsampling).\n",
    "\n",
    "Наконец, рассмотрим модель, которая будет обучена на данных с балансом классов, достигнутом за счёт применения техники upsampling."
   ]
  },
  {
   "cell_type": "code",
   "execution_count": 75,
   "metadata": {
    "scrolled": true
   },
   "outputs": [
    {
     "name": "stdout",
     "output_type": "stream",
     "text": [
      "F1-мера на тренировочной выборке достигает значения 0.7701 при глубине дерева 6 и количестве деревьев 5\n",
      "F1-мера на валидационной выборке достигает значения 0.5577 при глубине дерева 6 и количестве деревьев 5\n",
      "F1-мера на тренировочной выборке достигает значения 0.7856 при глубине дерева 6 и количестве деревьев 10\n",
      "F1-мера на валидационной выборке достигает значения 0.561 при глубине дерева 6 и количестве деревьев 10\n",
      "F1-мера на тренировочной выборке достигает значения 0.7883 при глубине дерева 6 и количестве деревьев 15\n",
      "F1-мера на валидационной выборке достигает значения 0.552 при глубине дерева 6 и количестве деревьев 15\n",
      "F1-мера на тренировочной выборке достигает значения 0.7879 при глубине дерева 6 и количестве деревьев 20\n",
      "F1-мера на валидационной выборке достигает значения 0.5605 при глубине дерева 6 и количестве деревьев 20\n",
      "F1-мера на тренировочной выборке достигает значения 0.7905 при глубине дерева 6 и количестве деревьев 25\n",
      "F1-мера на валидационной выборке достигает значения 0.5568 при глубине дерева 6 и количестве деревьев 25\n",
      "F1-мера на тренировочной выборке достигает значения 0.792 при глубине дерева 6 и количестве деревьев 30\n",
      "F1-мера на валидационной выборке достигает значения 0.5602 при глубине дерева 6 и количестве деревьев 30\n",
      "F1-мера на тренировочной выборке достигает значения 0.7932 при глубине дерева 6 и количестве деревьев 35\n",
      "F1-мера на валидационной выборке достигает значения 0.5634 при глубине дерева 6 и количестве деревьев 35\n",
      "F1-мера на тренировочной выборке достигает значения 0.7937 при глубине дерева 6 и количестве деревьев 40\n",
      "F1-мера на валидационной выборке достигает значения 0.5586 при глубине дерева 6 и количестве деревьев 40\n",
      "F1-мера на тренировочной выборке достигает значения 0.7954 при глубине дерева 6 и количестве деревьев 45\n",
      "F1-мера на валидационной выборке достигает значения 0.5583 при глубине дерева 6 и количестве деревьев 45\n",
      "F1-мера на тренировочной выборке достигает значения 0.7924 при глубине дерева 6 и количестве деревьев 50\n",
      "F1-мера на валидационной выборке достигает значения 0.5601 при глубине дерева 6 и количестве деревьев 50\n",
      "F1-мера на тренировочной выборке достигает значения 0.7917 при глубине дерева 6 и количестве деревьев 55\n",
      "F1-мера на валидационной выборке достигает значения 0.5639 при глубине дерева 6 и количестве деревьев 55\n",
      "F1-мера на тренировочной выборке достигает значения 0.7915 при глубине дерева 6 и количестве деревьев 60\n",
      "F1-мера на валидационной выборке достигает значения 0.5625 при глубине дерева 6 и количестве деревьев 60\n",
      "F1-мера на тренировочной выборке достигает значения 0.7898 при глубине дерева 6 и количестве деревьев 65\n",
      "F1-мера на валидационной выборке достигает значения 0.5617 при глубине дерева 6 и количестве деревьев 65\n",
      "F1-мера на тренировочной выборке достигает значения 0.7927 при глубине дерева 6 и количестве деревьев 70\n",
      "F1-мера на валидационной выборке достигает значения 0.5631 при глубине дерева 6 и количестве деревьев 70\n",
      "F1-мера на тренировочной выборке достигает значения 0.7945 при глубине дерева 6 и количестве деревьев 75\n",
      "F1-мера на валидационной выборке достигает значения 0.5613 при глубине дерева 6 и количестве деревьев 75\n",
      "F1-мера на тренировочной выборке достигает значения 0.7945 при глубине дерева 6 и количестве деревьев 80\n",
      "F1-мера на валидационной выборке достигает значения 0.5619 при глубине дерева 6 и количестве деревьев 80\n",
      "F1-мера на тренировочной выборке достигает значения 0.7933 при глубине дерева 6 и количестве деревьев 85\n",
      "F1-мера на валидационной выборке достигает значения 0.5625 при глубине дерева 6 и количестве деревьев 85\n",
      "F1-мера на тренировочной выборке достигает значения 0.7909 при глубине дерева 6 и количестве деревьев 90\n",
      "F1-мера на валидационной выборке достигает значения 0.5637 при глубине дерева 6 и количестве деревьев 90\n",
      "F1-мера на тренировочной выборке достигает значения 0.7904 при глубине дерева 6 и количестве деревьев 95\n",
      "F1-мера на валидационной выборке достигает значения 0.5622 при глубине дерева 6 и количестве деревьев 95\n",
      "F1-мера на тренировочной выборке достигает значения 0.7899 при глубине дерева 6 и количестве деревьев 100\n",
      "F1-мера на валидационной выборке достигает значения 0.5628 при глубине дерева 6 и количестве деревьев 100\n"
     ]
    }
   ],
   "source": [
    "n_estimators_lst = [i for i in range(5, 101, 5)]\n",
    "f1_train_lst = []\n",
    "f1_validate_lst = []\n",
    "for n_estimators in range(5, 101, 5):\n",
    "    model = RandomForestClassifier(max_depth = 6, n_estimators = n_estimators, random_state = 12345)\n",
    "    model.fit(features_train_upsample, target_train_upsample)\n",
    "    predictions_train = model.predict(features_train_upsample)\n",
    "    predictions_validate = model.predict(features_validate)\n",
    "    f1_train = f1_score(target_train_upsample, predictions_train)\n",
    "    f1_train_lst.append(f1_train)\n",
    "    print('F1-мера на тренировочной выборке достигает значения', round(f1_train, 4), \n",
    "         'при глубине дерева 6 и количестве деревьев', n_estimators)\n",
    "    f1_validate = f1_score(target_validate, predictions_validate)\n",
    "    f1_validate_lst.append(f1_validate)\n",
    "    print('F1-мера на валидационной выборке достигает значения', round(f1_validate, 4), \n",
    "          'при глубине дерева 6 и количестве деревьев', n_estimators)"
   ]
  },
  {
   "cell_type": "markdown",
   "metadata": {},
   "source": [
    "Визуализируем полученную информацию."
   ]
  },
  {
   "cell_type": "code",
   "execution_count": 76,
   "metadata": {},
   "outputs": [
    {
     "data": {
      "image/png": "[encoded data removed]",
      "text/plain": [
       "<Figure size 1440x360 with 1 Axes>"
      ]
     },
     "metadata": {
      "needs_background": "light"
     },
     "output_type": "display_data"
    }
   ],
   "source": [
    "columns = ['n_estimators', 'f1_train', 'f1_validate']\n",
    "df_f1_dec_tree = pd.DataFrame(data = zip(n_estimators_lst, f1_train_lst, f1_validate_lst), columns = columns)\n",
    "ax = df_f1_dec_tree.plot(y = 'f1_train', x = 'n_estimators', kind = 'bar', figsize = (20, 5), color = 'y', \n",
    "align = 'edge', label = 'f1_train', title = ('Динамика F1-меры в зависимости от количества деревьев \\\n",
    "(случайный лес, с балансом классов (upsampling))'))\n",
    "df_f1_dec_tree.plot(y = 'f1_validate', x = 'n_estimators', kind = 'bar', figsize = (20, 5), \n",
    "                          color = 'b', ax = ax, align = 'center', \n",
    "label = 'f1_validate')\n",
    "plt.xlabel('Глубина дерева')\n",
    "plt.ylabel('F1-мера')\n",
    "plt.ylim(0, 1)\n",
    "plt.show()"
   ]
  },
  {
   "cell_type": "markdown",
   "metadata": {},
   "source": [
    "Наиболее значение **F1-меры** достигается при **количестве деревьев**, равному **55**: значение **F1-меры** составляет **0.7917 на тренировочной выборке** и **0.5639 на валидационной выборке**. \n",
    "\n",
    "Поэтому **оптимальным значением гиперпараметра количества деревьев будетм считать 55**.\n",
    "\n",
    "Обучим модель, используя оптимальное значение гиперпараметра, и протестируем её на тестовой выборке."
   ]
  },
  {
   "cell_type": "code",
   "execution_count": 77,
   "metadata": {},
   "outputs": [
    {
     "name": "stdout",
     "output_type": "stream",
     "text": [
      "F1-мера для модели случайного леса (классы сбалансированы техникой upsample): 0.6282\n"
     ]
    }
   ],
   "source": [
    "model = RandomForestClassifier(max_depth = 6, n_estimators = 55, random_state = 12345)\n",
    "model.fit(features_train_upsample, target_train_upsample)\n",
    "predictions_test = model.predict(features_test)\n",
    "print('F1-мера для модели случайного леса (классы сбалансированы техникой upsample):', \n",
    "      round((f1_score(target_test, predictions_test)), 4))"
   ]
  },
  {
   "cell_type": "markdown",
   "metadata": {},
   "source": [
    "**F1-мера** для построенной модели сложилась на уровне **0.6282**, что **соответствует** значению целевой метрики **не менее 0.59**, установленному условиями проекта. Следовательно, модель достаточно неплохо предсказывает уход клиента.\n",
    "\n",
    "Рассчитаем метрику **ROC-AUC**."
   ]
  },
  {
   "cell_type": "code",
   "execution_count": 78,
   "metadata": {},
   "outputs": [
    {
     "name": "stdout",
     "output_type": "stream",
     "text": [
      "ROC-AUC для построенной модели: 0.8663\n"
     ]
    }
   ],
   "source": [
    "print('ROC-AUC для построенной модели:', round((roc_auc_score(target_test, model.predict_proba(features_test)[:, 1])), 4))"
   ]
  },
  {
   "cell_type": "markdown",
   "metadata": {},
   "source": [
    "**ROC-AUC** для построенной модели лучше, чем для случайной модели (т.е. выше значения 0.5). В целом на выходе имеем довольно неплохое значение метрики **ROC-AUC**, что говорит о том, что построенная модель обеспечивает хорошее значение метрик TPR и FPR (и намного лучше случайного классификатора).\n",
    "\n",
    "Однако в целом наилучшее значение **F1-меры** в 0.6358 показала модель, основанная на алгоритме случайного леса, со следующими гиперпараметрами: глубина дерева - 6, количество деревьев - 100. При этом при построении модели классы целевой переменной были взвешены, объектам редкого класса был придан больший вес.\n",
    "\n",
    "Исследуем результаты работы этой модели более подробно."
   ]
  },
  {
   "cell_type": "code",
   "execution_count": 79,
   "metadata": {},
   "outputs": [
    {
     "name": "stdout",
     "output_type": "stream",
     "text": [
      "F1-мера для модели случайного леса c взвешиванием классов (классы не сбалансированы): 0.6358\n",
      "ROC-AUC для построенной модели: 0.8646\n"
     ]
    }
   ],
   "source": [
    "best_model = RandomForestClassifier(max_depth = 6, n_estimators = 100, class_weight = 'balanced', random_state = 12345)\n",
    "best_model.fit(features_train_disbalanced, target_train_disbalanced)\n",
    "predictions_test = best_model.predict(features_test)\n",
    "print('F1-мера для модели случайного леса c взвешиванием классов (классы не сбалансированы):', \n",
    "      round((f1_score(target_test, predictions_test)), 4))\n",
    "print('ROC-AUC для построенной модели:', round((roc_auc_score(target_test, best_model.predict_proba(features_test)[:, 1])), 4))"
   ]
  },
  {
   "cell_type": "markdown",
   "metadata": {},
   "source": [
    "Посчитаем **F1-меру** для **случайной модели**, чтобы проверить нашу модель на **адекватность.**\n",
    "\n",
    "Для сравнения построенной модели со случайной моделью создадим генератор случайных предсказаний, который будет в случайном порядке возвращать какой-либо класс объекта - 0 или 1 - в количестве, равном количеству объектов в тестовой выборке. "
   ]
  },
  {
   "cell_type": "code",
   "execution_count": 80,
   "metadata": {},
   "outputs": [],
   "source": [
    "random_predict = pd.Series(randint(0, 1) for i in range(len(target_test)))"
   ]
  },
  {
   "cell_type": "markdown",
   "metadata": {},
   "source": [
    "Видим, что мы успешно создали набор данных со случайными предсказаниями класса целевого признака.\n",
    "\n",
    "Убедимся, что количество случайных предсказаний соответствует количеству объектов целевого признака в тестовом наборе данных."
   ]
  },
  {
   "cell_type": "code",
   "execution_count": 81,
   "metadata": {},
   "outputs": [
    {
     "data": {
      "text/plain": [
       "True"
      ]
     },
     "execution_count": 81,
     "metadata": {},
     "output_type": "execute_result"
    }
   ],
   "source": [
    "len(random_predict) == len(target_test)"
   ]
  },
  {
   "cell_type": "markdown",
   "metadata": {},
   "source": [
    "Убедились - соответствует.\n",
    "\n",
    "На основе полученных предсказаний рассчитаем **F1-меру**."
   ]
  },
  {
   "cell_type": "code",
   "execution_count": 82,
   "metadata": {},
   "outputs": [
    {
     "name": "stdout",
     "output_type": "stream",
     "text": [
      "F1-мера для случайной модели: 0.3084\n"
     ]
    }
   ],
   "source": [
    "print('F1-мера для случайной модели:', round((f1_score(target_test, random_predict)), 4))"
   ]
  },
  {
   "cell_type": "markdown",
   "metadata": {},
   "source": [
    "Видим, что **случайная модель предсказывает класс целевого признака хуже построенной модели**.\n",
    "\n",
    "Ещё один тест на адекватность построенной модели - сравнение построенной модели с константной моделью. \n",
    "\n",
    "Для сравнения построенной модели с константной моделью создадим генератор константных предсказаний, который будет возвращать единственный класс - класс 1 - в количестве, равном количеству объектов в тестовой выборке. "
   ]
  },
  {
   "cell_type": "code",
   "execution_count": 83,
   "metadata": {},
   "outputs": [],
   "source": [
    "constant_predict = pd.Series(1 for i in range(len(target_test)))"
   ]
  },
  {
   "cell_type": "markdown",
   "metadata": {},
   "source": [
    "Убедимся, что количество константных предсказаний соответствует количеству объектов целевого признака в тестовом наборе данных."
   ]
  },
  {
   "cell_type": "code",
   "execution_count": 84,
   "metadata": {},
   "outputs": [
    {
     "data": {
      "text/plain": [
       "True"
      ]
     },
     "execution_count": 84,
     "metadata": {},
     "output_type": "execute_result"
    }
   ],
   "source": [
    "len(constant_predict) == len(target_test)"
   ]
  },
  {
   "cell_type": "markdown",
   "metadata": {},
   "source": [
    "Убедились - соответствует.\n",
    "\n",
    "На основе полученных предсказаний рассчитаем **F1-меру**."
   ]
  },
  {
   "cell_type": "code",
   "execution_count": 85,
   "metadata": {},
   "outputs": [
    {
     "name": "stdout",
     "output_type": "stream",
     "text": [
      "F1-мера для константной модели: 0.3519\n"
     ]
    }
   ],
   "source": [
    "print('F1-мера для константной модели:', round((f1_score(target_test, constant_predict)), 4))"
   ]
  },
  {
   "cell_type": "markdown",
   "metadata": {},
   "source": [
    "Видим, что **константная модель также хуже предсказывает класс целевого признака, чем построенная модель**.\n",
    "\n",
    "Посмотрим на **матрицу ошибок**, чтобы правильно интерпретировать значение **F1-меры** для построенной модели."
   ]
  },
  {
   "cell_type": "code",
   "execution_count": 86,
   "metadata": {},
   "outputs": [
    {
     "data": {
      "text/plain": [
       "array([[1322,  251],\n",
       "       [ 111,  316]])"
      ]
     },
     "execution_count": 86,
     "metadata": {},
     "output_type": "execute_result"
    }
   ],
   "source": [
    "confusion_matrix_best_model = confusion_matrix(target_test, predictions_test)\n",
    "confusion_matrix_best_model"
   ]
  },
  {
   "cell_type": "markdown",
   "metadata": {},
   "source": [
    "Рассчитаем **метрики качества классификации**."
   ]
  },
  {
   "cell_type": "code",
   "execution_count": 87,
   "metadata": {},
   "outputs": [],
   "source": [
    "TP = confusion_matrix_best_model[1][1]\n",
    "TN = confusion_matrix_best_model[0][0]\n",
    "FP = confusion_matrix_best_model[0][1]\n",
    "FN = confusion_matrix_best_model[1][0]"
   ]
  },
  {
   "cell_type": "code",
   "execution_count": 88,
   "metadata": {},
   "outputs": [
    {
     "name": "stdout",
     "output_type": "stream",
     "text": [
      "TP: 316\n",
      "TN: 1322\n",
      "FP: 251\n",
      "FN: 111\n"
     ]
    }
   ],
   "source": [
    "print('TP:', TP)\n",
    "print('TN:', TN)\n",
    "print('FP:', FP)\n",
    "print('FN:', FN)"
   ]
  },
  {
   "cell_type": "markdown",
   "metadata": {},
   "source": [
    "Дадим интерпретацию этим значениям:\n",
    "\n",
    "1. **TP** = 316. Следовательно, модель предсказала уход клиента, который действительно ушёл, 316 раз.\n",
    "\n",
    "2. **TN** = 1 322. Следовательно, модель предсказала сохранение клиента, который действительно был сохранён, 1 322 раза.\n",
    "\n",
    "3. **FP** = 251. Следовательно, модель совершила ошибку первого рода - предсказала уход клиента, который в действительности был сохранён - 251 раз.\n",
    "\n",
    "4. **FN** = 111. Следовательно, модель совершила ошибку второго рода - предсказала сохранение клиента, который в действительности ушёл - 111 раз.\n",
    "\n",
    "Рассчитаем метрики **precision** и **recall**."
   ]
  },
  {
   "cell_type": "code",
   "execution_count": 89,
   "metadata": {},
   "outputs": [
    {
     "name": "stdout",
     "output_type": "stream",
     "text": [
      "Метрика precision: 0.5573\n",
      "Метрика recall: 0.74\n"
     ]
    }
   ],
   "source": [
    "print('Метрика precision:', round(precision_score(target_test, predictions_test), 4))\n",
    "print('Метрика recall:', round(recall_score(target_test, predictions_test), 4))"
   ]
  },
  {
   "cell_type": "markdown",
   "metadata": {},
   "source": [
    "Сделаем некоторые выводы о построенной модели:\n",
    "\n",
    "1. **F1-мера** для построенной модели сложилась на уровне **0.6358**, что **соответствует** значению целевой метрики **не менее 0.59**, установленному условиями проекта. Следовательно, модель достаточно неплохо предсказывает уход клиента. Подробнее об этом в следующих выводах.\n",
    "\n",
    "\n",
    "2. Построенная модель **прошла тест на адекватность**: случайная и константная модели обеспечивают худшее значение **F1-меры** (0.2893 и 0.3519 соответственно), чем построенная модель (0.6358).\n",
    "\n",
    "\n",
    "3. Исходя из анализа **матрицы ошибок**, можно заключить, модель предсказывает класс 1 не так хорошо, как класс 0. Это находит своё отражение в том, что модель совершает больше ошибок первого рода (предсказывая уход клиента тогда, когда он в действительно сохраняется), чем ошибок второго рода (предсказывая сохранение клиента, в то время как в действительности клиент уходит).\n",
    "\n",
    "\n",
    "4. Метрика **recall** сложилась на уровне **0.74**. Следовательно, из всех действительно ушедших клиентов, которых модель смогла определить корректно, а также тех клиентов, которые ушли и которых модель определить не смогла, совершив ошибку второго рода (**TP** + **FN**, что составляет 427 клиентов), модель смогла правильно определить только около 74%, что является довольно неплохим результатом.\n",
    "\n",
    "\n",
    "5. Метрика **precision** сложилась на уровне **0.5573**. Следовательно, из всех действительно ушедших клиентов, которых модель смогла определить, а также среди тех клиентов, которые на самом деле не ушли и уход которых модель предсказала, совершив ошибку первого рода (**TP** + **FP**, что составляет 567 клиента), модель смогла правильно определить около 56%. Относительно неплохое значение метрики обусловленно небольшим количеством ошибок первого рода - модель не очень хорошо предсказывает уход клиента, поэтому ложно отметила сохранённых клиентов как ушедших.\n",
    "\n",
    "Резюмируя, можно отметить, что **построенная модель отличается хорошим качеством и прошла проверку на адекватность**: случайный и константный классификатор предсказывают уход клиента хуже построенной модели. \n",
    "\n",
    "Модель реже ошибается в предсказании ухода клиента (небольшое количество клиентов было отмечено как сохранённые, однако в действительности они ушли, т.е больше ошибок второго рода), чем в предсказании сохранения клиента (большее количество клиентов было отмечено как ушедшие, которые в действительности остались в банке, т.е. больше ошибок первого рода). \n",
    "\n",
    "Рассчитаем такие метрики, как **True Positive Rate** и **False Positive Rate**."
   ]
  },
  {
   "cell_type": "code",
   "execution_count": 90,
   "metadata": {},
   "outputs": [
    {
     "name": "stdout",
     "output_type": "stream",
     "text": [
      "TPR: 0.74\n",
      "FPR: 0.1596\n"
     ]
    }
   ],
   "source": [
    "print('TPR:', round((TP / (TP + FN)), 4))\n",
    "print('FPR:', round((FP / (FP + TN)), 4))"
   ]
  },
  {
   "cell_type": "markdown",
   "metadata": {},
   "source": [
    "Метрика **TPR** сложилась на уровне 0.74. Следовательно, в 74% случаев построенная модель будет успешно предсказывать объекты с классом 1 (уход клиента), что кажется довольно приятным результатом.\n",
    "\n",
    "Метрика **FPR** сложилась на уровне 0.1596. Следовательно, только в 16% случаев построенная модель может ошибаться, предсказывая сохранение клиента. Следовательно, в 84% случаев модель успешно предскажет сохранение клиента.\n",
    "\n",
    "В случае предсказания моделью не класса объекта, а вероятности отнесения объекта к тому или иному классу, отнесение объекта к классу будет зависеть от **порога классификации**. По умолчанию он установлен на уровне **0.5**. Однако интерес представляет ситуация, при которой порог классификации будет смещаться в ту или иную сторону.\n",
    "\n",
    "Чтобы узнать, как будут меняться метрики **TPR** и **FPR** при изменении порога классификации, построим **ROC-кривую**.\n",
    "\n",
    "Для начала нам нужно сделать ещё одни прогноз: ранее мы делали прогноз классов, теперь же мы будем делать прогноз вероятности отнесения клиента к тому или иному классу."
   ]
  },
  {
   "cell_type": "code",
   "execution_count": 91,
   "metadata": {},
   "outputs": [],
   "source": [
    "proba_test = best_model.predict_proba(features_test)"
   ]
  },
  {
   "cell_type": "markdown",
   "metadata": {},
   "source": [
    "Посмотрим, что получилось."
   ]
  },
  {
   "cell_type": "code",
   "execution_count": 92,
   "metadata": {},
   "outputs": [
    {
     "data": {
      "text/plain": [
       "array([[0.41981133, 0.58018867],\n",
       "       [0.65277942, 0.34722058],\n",
       "       [0.75273196, 0.24726804],\n",
       "       ...,\n",
       "       [0.62734283, 0.37265717],\n",
       "       [0.80908545, 0.19091455],\n",
       "       [0.42629276, 0.57370724]])"
      ]
     },
     "execution_count": 92,
     "metadata": {},
     "output_type": "execute_result"
    }
   ],
   "source": [
    "proba_test"
   ]
  },
  {
   "cell_type": "markdown",
   "metadata": {},
   "source": [
    "На выходе имеем массив с двумя колонками: в первой колонке приведена вероятность отнесения клиента к классу 0, во второй колонке - вероятность отнесения клиента к классу 1.\n",
    "\n",
    "Для построения **ROC-кривой** нам нужны вероятности отнесения к классу 1. Обозначим их как отдельную переменную."
   ]
  },
  {
   "cell_type": "code",
   "execution_count": 93,
   "metadata": {},
   "outputs": [],
   "source": [
    "proba_test_one = proba_test[:, 1]"
   ]
  },
  {
   "cell_type": "markdown",
   "metadata": {},
   "source": [
    "Посмотрим, что получилось."
   ]
  },
  {
   "cell_type": "code",
   "execution_count": 94,
   "metadata": {},
   "outputs": [
    {
     "data": {
      "text/plain": [
       "array([0.58018867, 0.34722058, 0.24726804, ..., 0.37265717, 0.19091455,\n",
       "       0.57370724])"
      ]
     },
     "execution_count": 94,
     "metadata": {},
     "output_type": "execute_result"
    }
   ],
   "source": [
    "proba_test_one"
   ]
  },
  {
   "cell_type": "markdown",
   "metadata": {},
   "source": [
    "Видим, что у нас остались только нужные нам вероятности. \n",
    "\n",
    "Можно приступить к построению **ROC-кривой**."
   ]
  },
  {
   "cell_type": "code",
   "execution_count": 95,
   "metadata": {},
   "outputs": [
    {
     "data": {
      "image/png": "[encoded data removed]",
      "text/plain": [
       "<Figure size 432x288 with 1 Axes>"
      ]
     },
     "metadata": {
      "needs_background": "light"
     },
     "output_type": "display_data"
    }
   ],
   "source": [
    "fpr, tpr, thresholds = roc_curve(target_test, proba_test_one)\n",
    "\n",
    "plt.figure()\n",
    "plt.plot(fpr, tpr)\n",
    "plt.xlim([0.0, 1.0])\n",
    "plt.ylim([0.0, 1.0])\n",
    "plt.xlabel('False Positive Rate')\n",
    "plt.ylabel('True Positive Rate')\n",
    "plt.title('ROC-кривая')\n",
    "plt.show()"
   ]
  },
  {
   "cell_type": "markdown",
   "metadata": {},
   "source": [
    "Из графика видно, что по мере роста порога классификации **TPR** и **FPR** увеличиваются: при увеличении порога классификации модель будет чаще относить объект к классу 1, следовательно, увеличится количество TP (верно предсказанных уходов) и FP (ложно предсказанных уходов). \n",
    "\n",
    "При установлении порога классификации на уровне 1 модель будет относить объекты только к классу 1 (т.е. предсказывать только уход).\n",
    "\n",
    "Чтобы понять, насколько хорошо построенная модель будет предсказывать уход клиента, нкжно посчтитать **площадь под ROC-кривой**, т.е. метрику **ROC-AUC**."
   ]
  },
  {
   "cell_type": "code",
   "execution_count": 96,
   "metadata": {},
   "outputs": [
    {
     "name": "stdout",
     "output_type": "stream",
     "text": [
      "ROC-AUC для построенной модели: 0.8646\n"
     ]
    }
   ],
   "source": [
    "auc_roc = roc_auc_score(target_test, proba_test_one)\n",
    "print('ROC-AUC для построенной модели:', round(auc_roc, 4))"
   ]
  },
  {
   "cell_type": "markdown",
   "metadata": {},
   "source": [
    "Чтобы оценить качество построенной модели по метрике **ROC-AUC**, достаточно сравнить значение метрики **ROC-AUC**, рассчитанное для построенной модели, с значением метрики **ROC-AUC**, равное 0,50. Именно такое значение метрики **ROC-AUC** обеспечивает случайный классификатор.\n",
    "\n",
    "Убедимся в этом на практике.\n",
    "\n",
    "Создадим набор данных из случайных вероятностей отнесения клиента к классу 1 в размере, соответствующем размеру тестового набора данных."
   ]
  },
  {
   "cell_type": "code",
   "execution_count": 97,
   "metadata": {},
   "outputs": [],
   "source": [
    "random_predict_proba = pd.Series(random() for i in range(len(target_test)))"
   ]
  },
  {
   "cell_type": "markdown",
   "metadata": {},
   "source": [
    "Рассчитаем значение **ROC-AUC** для случайного классификатора."
   ]
  },
  {
   "cell_type": "code",
   "execution_count": 98,
   "metadata": {},
   "outputs": [
    {
     "name": "stdout",
     "output_type": "stream",
     "text": [
      "ROC-AUC для случайного классификатора: 0.5\n"
     ]
    }
   ],
   "source": [
    "auc_roc = roc_auc_score(target_test, random_predict_proba)\n",
    "print('ROC-AUC для случайного классификатора:', round(auc_roc, 2))"
   ]
  },
  {
   "cell_type": "markdown",
   "metadata": {},
   "source": [
    "Видим, что для случайного классификатора метрика **ROC-AUC** составляет около 0.50. В целом, это кажется логичным и находит своё продолжение в законе больших чисел: чем чаще повторяем эксперимент, тем сильнее частота события (в данном случае - предсказание вероятности отнесения объекта к классу 1) приближается к вероятности её возникновения (при использовании случайного классификатора объект может быть отнесён к классу 1 с вероятностью в 50%).\n",
    "\n",
    "Так как значение метрики **ROC-AUC** для построенной модели выше 0.50 (сложилось на уровне 0.8646), можно говорить о том, что построенная модель обеспечивает лучшее по сравнению со случайным классификатором значение метрик **TPR** и **FPR** и в целом предсказывает уход клиентов достаточно хорошо, так как допускает не слишком много много ошибок первого и второго рода.\n",
    "\n",
    "<a href='#title'>К оглавлению.</a>"
   ]
  },
  {
   "cell_type": "markdown",
   "metadata": {},
   "source": [
    "\n",
    "# Выводы по этапу 3. \n",
    "\n",
    "На данном этапе мы исследовали модели, основанные на различных алгоритмах машинного обучения - логистической регрессии, дерева решений и случайного леса. Для каждой модели мы рассчитывали **F1-меру** и изучали её динамику в зависимости от сбалансированности классов в обучающей выборке.\n",
    "\n",
    "Также была отобрана лучшая по значению **F1-меры** модель, которая была проанализирована более основательно.\n",
    "\n",
    "Отметим некоторые выводы:\n",
    "\n",
    "1. Модель, основанная на алгоритме логистической регрессии:\n",
    "\n",
    "1.1. Значение **F1-меры** для модели, обученной на данных без соблюдения баланса классов: 0.3018, значение метрики **ROC-AUC**: 0.7589.\n",
    "\n",
    "1.2. Значение **F1-меры** для модели с взвешиванием классов, обученной на данных без соблюдения баланса классов: 0.5046, значение метрики **ROC-AUC**: 0.7646.\n",
    "\n",
    "1.3. Значение **F1-меры** для модели, обученной на данных с достижением баланса классов посредством техники upsampling: 0.4992, значение метрики **ROC-AUC**: 0.7678.\n",
    "\n",
    "1.4. Значение **F1-меры** для модели, обученной на данных с достижением баланса классов посредством техники upsampling: 0.5029, значение метрики **ROC-AUC**: 0.7651.\n",
    "\n",
    "2. Модель, основанная на алгоритме дерева решений:\n",
    "\n",
    "2.1. Значение **F1-меры** для модели, обученной на данных без соблюдения баланса классов: 0.5565, значение метрики **ROC-AUC**: 0.8359.\n",
    "\n",
    "2.2. Значение **F1-меры** для модели с взвешиванием классов, обученной на данных без соблюдения баланса классов: 0.5934, значение метрики **ROC-AUC**: 0.8191.\n",
    "\n",
    "2.3. Значение **F1-меры** для модели, обученной на данных с достижением баланса классов посредством техники upsampling: 0.5857, значение метрики **ROC-AUC**: 0.8184.\n",
    "\n",
    "2.4. Значение **F1-меры** для модели, обученной на данных с достижением баланса классов посредством техники upsampling: 0.5903, значение метрики **ROC-AUC**: 0.8191.\n",
    "\n",
    "3. Модель, основанная на алгоритме случайного леса:\n",
    "\n",
    "3.1. Значение **F1-меры** для модели, обученной на данных без соблюдения баланса классов: 0.5147, значение метрики **ROC-AUC**: 0.8649.\n",
    "\n",
    "**3.2. Значение F1-меры** **для модели с взвешиванием классов, обученной на данных без соблюдения баланса классов: 0.6358, значение метрики ROC-AUC: 0.8646**.\n",
    "\n",
    "3.3. Значение **F1-меры** для модели, обученной на данных с достижением баланса классов посредством техники upsampling: 0.6119, значение метрики **ROC-AUC**: 0.8627.\n",
    "\n",
    "3.4. Значение **F1-меры** для модели, обученной на данных с достижением баланса классов посредством техники upsampling: 0.6165, значение метрики **ROC-AUC**: 0.8663.\n",
    "\n",
    "Наилучшее значение **F1-меры** в 0.6358 показала модель, основанная на алгоритме случайного леса, со следующими гиперпараметрами: глубина дерева - 6, количество деревьев - 100. При этом при построении модели классы целевой переменной были взвешены, объектам редкого класса был придан больший вес.\n",
    "\n",
    "Данная модель была дополнительно исследована. Отметим результаты исследования:\n",
    "\n",
    "1. **F1-мера** для построенной модели сложилась на уровне **0.6358**, что **соответствует** значению целевой метрики **не менее 0.59**, установленному условиями проекта. Следовательно, модель достаточно неплохо предсказывает уход клиента.\n",
    "\n",
    "\n",
    "2. Построенная модель **прошла тест на адекватность**: случайная и константная модели обеспечивают худшее значение **F1-меры** (0.2893 и 0.3519 соответственно), чем построенная модель (0.6358).\n",
    "\n",
    "\n",
    "3. Исходя из анализа **матрицы ошибок**, можно заключить, модель предсказывает класс 1 не так хорошо, как класс 0. Это находит своё отражение в том, что модель совершает больше ошибок первого рода (предсказывая уход клиента тогда, когда он в действительно сохраняется), чем ошибок второго рода (предсказывая сохранение клиента, в то время как в действительности клиент уходит).\n",
    "\n",
    "\n",
    "4. Метрика **recall** сложилась на уровне **0.74**. Следовательно, из всех действительно ушедших клиентов, которых модель смогла определить корректно, а также тех клиентов, которые ушли и которых модель определить не смогла, совершив ошибку второго рода (**TP** + **FN**, что составляет 427 клиентов), модель смогла правильно определить только около 74%, что является довольно неплохим результатом.\n",
    "\n",
    "\n",
    "5. Метрика **precision** сложилась на уровне **0.5573**. Следовательно, из всех действительно ушедших клиентов, которых модель смогла определить, а также среди тех клиентов, которые на самом деле не ушли и уход которых модель предсказала, совершив ошибку первого рода (**TP** + **FP**, что составляет 567 клиента), модель смогла правильно определить около 56%. Относительно неплохое значение метрики обусловленно небольшим количеством ошибок первого рода - модель не очень хорошо предсказывает уход клиента, поэтому ложно отметила сохранённых клиентов как ушедших.\n",
    "\n",
    "\n",
    "6. Модель реже ошибается в предсказании ухода клиента (небольшое количество клиентов было отмечено как сохранённые, однако в действительности они ушли, т.е больше ошибок второго рода), чем в предсказании сохранения клиента (большее количество клиентов было отмечено как ушедшие, которые в действительности остались в банке, т.е. больше ошибок первого рода). \n",
    "\n",
    "\n",
    "7. Метрика **TPR** сложилась на уровне 0.74. Следовательно, в 74% случаев построенная модель будет успешно предсказывать объекты с классом 1 (уход клиента), что кажется довольно приятным результатом.\n",
    "\n",
    "\n",
    "8. Метрика **FPR** сложилась на уровне 0.1596. Следовательно, только в 16% случаев построенная модель может ошибаться, предсказывая сохранение клиента. Следовательно, в 84% случаев модель успешно предскажет сохранение клиента.\n",
    "\n",
    "\n",
    "9. Построенная модель обеспечитвает более высокое значение метрики **ROC-AUC**, чем случайный классификатор.\n",
    "\n",
    "\n",
    "10. Так как значение метрики **ROC-AUC** для построенной модели выше 0.50 (сложилось на уровне 0.8646), можно говорить о том, что построенная модель обеспечивает лучшее по сравнению со случайным классификатором значение метрик **TPR** и **FPR** и в целом предсказывает уход клиентов достаточно хорошо, так как допускает не слишком много много ошибок первого и второго рода.\n",
    "\n",
    "<a href='#title'>К оглавлению.</a>"
   ]
  },
  {
   "cell_type": "markdown",
   "metadata": {},
   "source": [
    "# Итоговый вывод по проекту.\n",
    "\n",
    "В рамках проекта требовалось спрогнозировать, уйдёт клиент из банка в ближайшее время или нет. В качестве материала для исследования были предоставлены исторические данные о поведении клиентов и о расторжении ими договоров с банком. \n",
    "\n",
    "Требовалось построить модель с предельно большим значением **F1-меры**: нужно было довести метрику до значения **0.59**.\n",
    "\n",
    "Дополнительно необходимо было измерить **ROC-AUC** и сравнить значение этой метрики со значением **F1-меры**.\n",
    "\n",
    "Работа над проектом проводилась в следующем порядке:\n",
    "\n",
    "1. Импорт необходимых библиотек, чтение набора данных, его первичный анализ. \n",
    "\n",
    "\n",
    "2. Исследование данных и их подготовка к моделированию.\n",
    "\n",
    "\n",
    "3. Моделирование.\n",
    "\n",
    "Отметим выводы, которые удалось получить в ходе выполнения проекта.\n",
    "\n",
    "### Этап 1.\n",
    "\n",
    "На данном этапе мы импортировали необходимые для работы библиотеки, считали исходный набор данных, а также с помощью самописной функции провели его предварительный анализ. \n",
    "\n",
    "По итогу анализа отметим следующее:\n",
    "\n",
    "1. Набор данных включает в себя 13 полей (12 признаков и 1 целевой признак), каждый признак содержит в себе по 10 000 объектов. \n",
    "\n",
    "\n",
    "2. Пропущенные и аномальные значения, а также дубликаты в наборе данных не были выявлены.\n",
    "\n",
    "\n",
    "3. Набор данных содержит 3 категориальных признака и 10 количественных признаков. \n",
    "\n",
    "\n",
    "4. Классы в целевой переменной не сбалансированы: на долю объекта с классом 0 (клиенты, которые не ушли с обслуживания в банке) приходится 79,63% объектов от общего количества объектов в наборе данных, на долю объекта с классом 1 (клиенты, которые ушли с обслуживания в банке) приходится 20,37% объектов соответственно. \n",
    "\n",
    "5. Набор данных содержит 2 поля - **CustomerId** и **Surname**, использование которых при моделировании кажется нецелесообразным.\n",
    "\n",
    "### Этап 2.\n",
    "\n",
    "На данном этапе мы провели исследование данных и их подготовку к моделированию. В рамках этого этапа мы выполнили следующие активности:\n",
    "\n",
    "1. Удаление лишних признаков.\n",
    "\n",
    "\n",
    "2. Преобразование категориальных признаков в дамми-признаки.\n",
    "\n",
    "\n",
    "3. Анализ зависимостей между признаками.\n",
    "\n",
    "\n",
    "4. Разделение набора данных на тренировочную, валидационную и тестовую части.\n",
    "\n",
    "\n",
    "5. Масштабирование количественных признаков.\n",
    "\n",
    "\n",
    "6. Балансировка классов.\n",
    "\n",
    "\n",
    "В рамках данных активностей отметим следующие результаты:\n",
    "\n",
    "1. В ходе предварительного анализа набора данных было установлено, что набор данных содержит 2 поля - **CustomerId** и **Surname**, использование которых при моделировании кажется нецелесообразным. Поля были идентифицированы как информационные и не имеющие ценности для моделирования, которые тем не менее могут исказить результаты работы модели, поэтому они были удалены из набора данных.\n",
    "\n",
    "\n",
    "2. В ходе предварительного анализа набора данных было установлено, что набор данных содержит 3 поля с категориальными признаками: это поля **Surname**, **Geography** и **Gender**. Поле **Surname** было удалено из набора данных, а поля **Geography** и **Gender** были преобразованы в **дамми-признаки**. При этом при преобразовании признаков в дамми-признаки **первое поле было удалено для избежания дамми-ловушки**.\n",
    "\n",
    "\n",
    "3. Были исследованы зависимости между признаками для исключения влияния на модель эффекта мультиколлинеарности. Для этого была рассчитана **матрица корреляций**, которая вкупе с рациональным анализом показала, что **между признаками отсутствует мультиколлинеарность**, поэтому для обучения модели будем использовать все признаки из набора данных.\n",
    "\n",
    "\n",
    "4. Набор данных был разделён на **тренировочную, валидационную и тестовую выборки в соотношении 60% : 20% : 20% соответственно.**\n",
    "\n",
    "\n",
    "5. В ходе предварительного анализа набора данных было установлено, что **количественные признаки в наборе данных несбалансированы**, что может повлиять на результаты работы модели: признаки с большими значениями могут быть восприняты алгоритмами как более важные, хотя признаки в наборе данных являются равнозначными. Поэтому все количественные признаки (кроме целевого признака и признаков, имеющих бинарные значения), были подвергнуты **z-преобразованию (или масштабированию)**, что подразумевает их приведение к значениям со средним, равным 0, и стандартным отклонением, равным 1. \n",
    "\n",
    "\n",
    "6. В ходе предварительного анализа набора данных было установлено, что **классы в целевой переменной не сбалансированы**. Баланс классов был достигнут за счёт применения техник **upsampling** и **downsampling**, а также будет достигнут при обучении модели за счёт передачи параметру **class_weight** аргумента **balanced**. Также для определения влияния баланса классов на результаты работы моделей и определения лучшей техники борьбы с дисбалансом результаты балансировки классов в тренировочной выборке были сохранены в различных переменных, на которых будут обучены модели.\n",
    "\n",
    "### Этап 3.\n",
    "\n",
    "На данном этапе мы исследовали модели, основанные на различных алгоритмах машинного обучения - логистической регрессии, дерева решений и случайного леса. Для каждой модели мы рассчитывали **F1-меру** и изучали её динамику в зависимости от сбалансированности классов в обучающей выборке.\n",
    "\n",
    "Также была отобрана лучшая по значению **F1-меры** модель, которая была проанализирована более основательно.\n",
    "\n",
    "Отметим некоторые выводы:\n",
    "\n",
    "1. Модель, основанная на алгоритме логистической регрессии:\n",
    "\n",
    "1.1. Значение **F1-меры** для модели, обученной на данных без соблюдения баланса классов: 0.3018, значение метрики **ROC-AUC**: 0.7589.\n",
    "\n",
    "1.2. Значение **F1-меры** для модели с взвешиванием классов, обученной на данных без соблюдения баланса классов: 0.5046, значение метрики **ROC-AUC**: 0.7646.\n",
    "\n",
    "1.3. Значение **F1-меры** для модели, обученной на данных с достижением баланса классов посредством техники upsampling: 0.4992, значение метрики **ROC-AUC**: 0.7678.\n",
    "\n",
    "1.4. Значение **F1-меры** для модели, обученной на данных с достижением баланса классов посредством техники upsampling: 0.5029, значение метрики **ROC-AUC**: 0.7651.\n",
    "\n",
    "2. Модель, основанная на алгоритме дерева решений:\n",
    "\n",
    "2.1. Значение **F1-меры** для модели, обученной на данных без соблюдения баланса классов: 0.5565, значение метрики **ROC-AUC**: 0.8359.\n",
    "\n",
    "2.2. Значение **F1-меры** для модели с взвешиванием классов, обученной на данных без соблюдения баланса классов: 0.5934, значение метрики **ROC-AUC**: 0.8191.\n",
    "\n",
    "2.3. Значение **F1-меры** для модели, обученной на данных с достижением баланса классов посредством техники upsampling: 0.5857, значение метрики **ROC-AUC**: 0.8184.\n",
    "\n",
    "2.4. Значение **F1-меры** для модели, обученной на данных с достижением баланса классов посредством техники upsampling: 0.5903, значение метрики **ROC-AUC**: 0.8191.\n",
    "\n",
    "3. Модель, основанная на алгоритме случайного леса:\n",
    "\n",
    "3.1. Значение **F1-меры** для модели, обученной на данных без соблюдения баланса классов: 0.5147, значение метрики **ROC-AUC**: 0.8649.\n",
    "\n",
    "**3.2. Значение F1-меры** **для модели с взвешиванием классов, обученной на данных без соблюдения баланса классов: 0.6358, значение метрики ROC-AUC: 0.8646**.\n",
    "\n",
    "3.3. Значение **F1-меры** для модели, обученной на данных с достижением баланса классов посредством техники upsampling: 0.6119, значение метрики **ROC-AUC**: 0.8627.\n",
    "\n",
    "3.4. Значение **F1-меры** для модели, обученной на данных с достижением баланса классов посредством техники upsampling: 0.6165, значение метрики **ROC-AUC**: 0.8663.\n",
    "\n",
    "Наилучшее значение **F1-меры** в 0.6358 показала модель, основанная на алгоритме случайного леса, со следующими гиперпараметрами: глубина дерева - 6, количество деревьев - 100. При этом при построении модели классы целевой переменной были взвешены, объектам редкого класса был придан больший вес.\n",
    "\n",
    "Данная модель была дополнительно исследована. Отметим результаты исследования:\n",
    "\n",
    "1. **F1-мера** для построенной модели сложилась на уровне **0.6358**, что **соответствует** значению целевой метрики **не менее 0.59**, установленному условиями проекта. Следовательно, модель достаточно неплохо предсказывает уход клиента.\n",
    "\n",
    "\n",
    "2. Построенная модель **прошла тест на адекватность**: случайная и константная модели обеспечивают худшее значение **F1-меры** (0.2893 и 0.3519 соответственно), чем построенная модель (0.6358).\n",
    "\n",
    "\n",
    "3. Исходя из анализа **матрицы ошибок**, можно заключить, модель предсказывает класс 1 не так хорошо, как класс 0. Это находит своё отражение в том, что модель совершает больше ошибок первого рода (предсказывая уход клиента тогда, когда он в действительно сохраняется), чем ошибок второго рода (предсказывая сохранение клиента, в то время как в действительности клиент уходит).\n",
    "\n",
    "\n",
    "4. Метрика **recall** сложилась на уровне **0.74**. Следовательно, из всех действительно ушедших клиентов, которых модель смогла определить корректно, а также тех клиентов, которые ушли и которых модель определить не смогла, совершив ошибку второго рода (**TP** + **FN**, что составляет 427 клиентов), модель смогла правильно определить только около 74%, что является довольно неплохим результатом.\n",
    "\n",
    "\n",
    "5. Метрика **precision** сложилась на уровне **0.5573**. Следовательно, из всех действительно ушедших клиентов, которых модель смогла определить, а также среди тех клиентов, которые на самом деле не ушли и уход которых модель предсказала, совершив ошибку первого рода (**TP** + **FP**, что составляет 567 клиента), модель смогла правильно определить около 56%. Относительно неплохое значение метрики обусловленно небольшим количеством ошибок первого рода - модель не очень хорошо предсказывает уход клиента, поэтому ложно отметила сохранённых клиентов как ушедших.\n",
    "\n",
    "\n",
    "6. Модель реже ошибается в предсказании ухода клиента (небольшое количество клиентов было отмечено как сохранённые, однако в действительности они ушли, т.е больше ошибок второго рода), чем в предсказании сохранения клиента (большее количество клиентов было отмечено как ушедшие, которые в действительности остались в банке, т.е. больше ошибок первого рода). \n",
    "\n",
    "\n",
    "7. Метрика **TPR** сложилась на уровне 0.74. Следовательно, в 74% случаев построенная модель будет успешно предсказывать объекты с классом 1 (уход клиента), что кажется довольно приятным результатом.\n",
    "\n",
    "\n",
    "8. Метрика **FPR** сложилась на уровне 0.1596. Следовательно, только в 16% случаев построенная модель может ошибаться, предсказывая сохранение клиента. Следовательно, в 84% случаев модель успешно предскажет сохранение клиента.\n",
    "\n",
    "\n",
    "9. Построенная модель обеспечитвает более высокое значение метрики **ROC-AUC**, чем случайный классификатор.\n",
    "\n",
    "\n",
    "10. Так как значение метрики **ROC-AUC** для построенной модели выше 0.50 (сложилось на уровне 0.8646), можно говорить о том, что построенная модель обеспечивает лучшее по сравнению со случайным классификатором значение метрик **TPR** и **FPR** и в целом предсказывает уход клиентов достаточно хорошо, так как допускает не слишком много много ошибок первого и второго рода.\n",
    "\n",
    "<a href='#title'>К оглавлению.</a>"
   ]
  }
 ],
 "metadata": {
  "kernelspec": {
   "display_name": "Python 3",
   "language": "python",
   "name": "python3"
  },
  "language_info": {
   "codemirror_mode": {
    "name": "ipython",
    "version": 3
   },
   "file_extension": ".py",
   "mimetype": "text/x-python",
   "name": "python",
   "nbconvert_exporter": "python",
   "pygments_lexer": "ipython3",
   "version": "3.8.3"
  },
  "toc": {
   "base_numbering": 1,
   "nav_menu": {},
   "number_sections": true,
   "sideBar": true,
   "skip_h1_title": true,
   "title_cell": "Table of Contents",
   "title_sidebar": "Contents",
   "toc_cell": false,
   "toc_position": {},
   "toc_section_display": true,
   "toc_window_display": false
  }
 },
 "nbformat": 4,
 "nbformat_minor": 2
}
